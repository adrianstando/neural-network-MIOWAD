{
 "cells": [
  {
   "cell_type": "markdown",
   "id": "e8190f95",
   "metadata": {
    "cell_id": "552350f2-995f-43bc-b500-915611e420b6",
    "deepnote_cell_height": 130,
    "deepnote_cell_type": "markdown"
   },
   "source": [
    "# Praca domowa 11\n",
    "\n",
    "### Cutting stock problem"
   ]
  },
  {
   "cell_type": "code",
   "execution_count": null,
   "id": "a7a4bae4",
   "metadata": {
    "cell_id": "00001-b79a083a-7d3b-425e-b559-5dfe87040754",
    "deepnote_cell_height": 138,
    "deepnote_cell_type": "code"
   },
   "outputs": [],
   "source": [
    "import numpy as np\n",
    "import pandas as pd\n",
    "import matplotlib.pyplot as plt\n",
    "import seaborn as sns\n",
    "import pickle"
   ]
  },
  {
   "cell_type": "code",
   "execution_count": null,
   "id": "18230428",
   "metadata": {
    "cell_id": "00002-40d3e3da-9e82-40d5-a1ac-4a516cde4b9f",
    "deepnote_cell_height": 66,
    "deepnote_cell_type": "code"
   },
   "outputs": [],
   "source": [
    "from GeneticAlgorithms.cutting_stock_problem import *"
   ]
  },
  {
   "cell_type": "markdown",
   "id": "77f294de",
   "metadata": {
    "cell_id": "cb2516b33a2e4967868779eacbee2c85",
    "deepnote_cell_height": 57.633331298828125,
    "deepnote_cell_type": "markdown",
    "tags": []
   },
   "source": [
    "#### $R=800$"
   ]
  },
  {
   "cell_type": "code",
   "execution_count": null,
   "id": "e311cdf2",
   "metadata": {
    "cell_id": "72851ac325f34bdc9fb1829c3bb1ac76",
    "deepnote_cell_height": 81,
    "deepnote_cell_type": "code",
    "deepnote_to_be_reexecuted": false,
    "execution_millis": 31,
    "execution_start": 1654451122595,
    "source_hash": "26256eae",
    "tags": []
   },
   "outputs": [],
   "source": [
    "rectangles800 = rectangles_from_file('./data/cutting/r800.csv')"
   ]
  },
  {
   "cell_type": "code",
   "execution_count": null,
   "id": "a1110100",
   "metadata": {
    "cell_id": "c1e9b8654b6a42ba815538b257c2511f",
    "deepnote_cell_height": 81,
    "deepnote_cell_type": "code",
    "deepnote_to_be_reexecuted": false,
    "execution_millis": 15481,
    "execution_start": 1654451140370,
    "source_hash": "6ebf6e6d",
    "tags": []
   },
   "outputs": [],
   "source": [
    "stripes800 = stripe_generator(rectangles800, 2 * 800)"
   ]
  },
  {
   "cell_type": "code",
   "execution_count": null,
   "id": "6a4826f0",
   "metadata": {
    "cell_id": "6efb3a5ec8064963a4cabb230148fe8d",
    "deepnote_cell_height": 99,
    "deepnote_cell_type": "code",
    "deepnote_to_be_reexecuted": false,
    "execution_millis": 125671,
    "execution_start": 1654451181673,
    "source_hash": "f0536612",
    "tags": []
   },
   "outputs": [],
   "source": [
    "population800 = CirclePopulation(800, stripes800, n=500)\n",
    "population800.generate(time_limit=1/4)"
   ]
  },
  {
   "cell_type": "code",
   "execution_count": null,
   "id": "c51b80b9",
   "metadata": {
    "cell_id": "13fed32172b9427baaa4e18827ff1dce",
    "deepnote_cell_height": 111.19999694824219,
    "deepnote_cell_type": "code",
    "deepnote_to_be_reexecuted": false,
    "execution_millis": 638,
    "execution_start": 1654451308378,
    "source_hash": "ec5ad0e3",
    "tags": []
   },
   "outputs": [
    {
     "name": "stdout",
     "output_type": "stream",
     "text": [
      "Current best solution: 22380.0\n"
     ]
    }
   ],
   "source": [
    "print(f\"Current best solution: {max([p.val_evaluate() for p in population800.population])}\")"
   ]
  },
  {
   "cell_type": "code",
   "execution_count": null,
   "id": "6f156103",
   "metadata": {
    "cell_id": "e93b76de161849c1903bb15c72f0b5ab",
    "deepnote_cell_height": 791,
    "deepnote_cell_type": "code",
    "deepnote_to_be_reexecuted": false,
    "execution_millis": 1477668,
    "execution_start": 1654451308448,
    "source_hash": "15231e67",
    "tags": []
   },
   "outputs": [
    {
     "name": "stdout",
     "output_type": "stream",
     "text": [
      "Epoch: 1/30\n",
      "Best solution function value: 21840.0\n",
      "Epoch: 2/30\n",
      "Best solution function value: 26140.0\n",
      "Epoch: 3/30\n",
      "Best solution function value: 27100.0\n",
      "Epoch: 4/30\n",
      "Best solution function value: 30840.0\n",
      "Epoch: 5/30\n",
      "Best solution function value: 34500.0\n",
      "Epoch: 6/30\n",
      "Best solution function value: 35240.0\n",
      "Epoch: 7/30\n",
      "Best solution function value: 35640.0\n",
      "Epoch: 8/30\n",
      "Best solution function value: 38240.0\n",
      "Epoch: 9/30\n",
      "Best solution function value: 38640.0\n",
      "Epoch: 10/30\n",
      "Best solution function value: 38800.0\n",
      "Epoch: 11/30\n",
      "Best solution function value: 39600.0\n",
      "Epoch: 12/30\n",
      "Best solution function value: 40240.0\n",
      "Epoch: 13/30\n",
      "Best solution function value: 40800.0\n",
      "Epoch: 14/30\n",
      "Best solution function value: 40900.0\n",
      "Epoch: 15/30\n",
      "Best solution function value: 42100.0\n",
      "Epoch: 16/30\n",
      "Best solution function value: 42600.0\n",
      "Epoch: 17/30\n",
      "Best solution function value: 43240.0\n",
      "Epoch: 18/30\n",
      "Best solution function value: 44440.0\n",
      "Epoch: 19/30\n",
      "Best solution function value: 44840.0\n",
      "Epoch: 20/30\n",
      "Best solution function value: 45600.0\n",
      "Epoch: 21/30\n",
      "Best solution function value: 45800.0\n",
      "Epoch: 22/30\n",
      "Best solution function value: 46040.0\n",
      "Epoch: 23/30\n",
      "Best solution function value: 46200.0\n",
      "Epoch: 24/30\n",
      "Best solution function value: 46300.0\n",
      "Epoch: 25/30\n",
      "Best solution function value: 46300.0\n",
      "Epoch: 26/30\n",
      "Best solution function value: 46700.0\n",
      "Epoch: 27/30\n",
      "Best solution function value: 46700.0\n",
      "Epoch: 28/30\n",
      "Best solution function value: 46740.0\n",
      "Epoch: 29/30\n",
      "Best solution function value: 46800.0\n",
      "Epoch: 30/30\n",
      "Best solution function value: 46800.0\n"
     ]
    }
   ],
   "source": [
    "history800 = population800.train(n_epochs=30,\n",
    "                                 crossover_population_ratio=0.8, stripe_ratio_to_cut=0.1,\n",
    "                                 mutation_population_ratio=0.3, rectangles_limit=5, time_limit=1/4,\n",
    "                                 k=7,\n",
    "                                 eval_frequency=1, eval_score_finish=None, history=True\n",
    ")"
   ]
  },
  {
   "cell_type": "code",
   "execution_count": null,
   "id": "f0c781f4",
   "metadata": {
    "cell_id": "1809b9d644f74f2490f353b81738d64b",
    "deepnote_cell_height": 467,
    "deepnote_cell_type": "code",
    "deepnote_output_heights": [
     280
    ],
    "deepnote_to_be_reexecuted": false,
    "execution_millis": 911,
    "execution_start": 1654453397025,
    "source_hash": "3bc1e2df",
    "tags": []
   },
   "outputs": [
    {
     "data": {
      "image/png": "[encoded data removed]",
      "text/plain": [
       "<Figure size 432x288 with 1 Axes>"
      ]
     },
     "metadata": {
      "image/png": {
       "height": 278,
       "width": 401
      },
      "needs_background": "light"
     },
     "output_type": "display_data"
    }
   ],
   "source": [
    "sns.lineplot(x=list(range(len(history800))), y=history800)\n",
    "plt.title('Training progress')\n",
    "plt.xlabel('Epoch number')\n",
    "plt.xticks(list(range(0, len(history800), 2)))\n",
    "plt.ylabel('Best solution value')\n",
    "plt.show()"
   ]
  },
  {
   "cell_type": "code",
   "execution_count": null,
   "id": "e77eafeb",
   "metadata": {
    "cell_id": "d9e2924d86174cc391955746d803ef28",
    "deepnote_cell_height": 618,
    "deepnote_cell_type": "code",
    "deepnote_output_heights": [
     467
    ],
    "deepnote_to_be_reexecuted": false,
    "execution_millis": 1273,
    "execution_start": 1654452788225,
    "source_hash": "7b7ce5b1",
    "tags": []
   },
   "outputs": [
    {
     "data": {
      "image/png": "[encoded data removed]",
      "text/plain": [
       "<Figure size 576x576 with 1 Axes>"
      ]
     },
     "metadata": {
      "image/png": {
       "height": 465,
       "width": 460
      },
      "needs_background": "light"
     },
     "output_type": "display_data"
    }
   ],
   "source": [
    "best800_index = np.argmax([p.val_evaluate() for p in population800.population])\n",
    "population800.population[best800_index].plot()\n",
    "plt.title('Best solution')\n",
    "plt.show()"
   ]
  },
  {
   "cell_type": "code",
   "execution_count": null,
   "id": "a548af0d",
   "metadata": {
    "cell_id": "97411f63363742a78de30605bb15e7bb",
    "deepnote_cell_height": 66,
    "deepnote_cell_type": "code",
    "tags": []
   },
   "outputs": [],
   "source": []
  },
  {
   "cell_type": "markdown",
   "id": "9cf1eacb",
   "metadata": {
    "cell_id": "00015-238ca509-17d8-4699-818b-3efd8f4fd844",
    "deepnote_cell_height": 57.633331298828125,
    "deepnote_cell_type": "markdown"
   },
   "source": [
    "#### $R=1200$"
   ]
  },
  {
   "cell_type": "code",
   "execution_count": null,
   "id": "3ed2a3a4",
   "metadata": {
    "cell_id": "00017-153f7297-0605-4d86-946d-a205cb159920",
    "deepnote_cell_height": 66,
    "deepnote_cell_type": "code"
   },
   "outputs": [],
   "source": [
    "rectangles1200 = rectangles_from_file('./data/cutting/r1200.csv')"
   ]
  },
  {
   "cell_type": "code",
   "execution_count": null,
   "id": "4cd543c6",
   "metadata": {
    "cell_id": "00018-8b07ea53-03b8-48ab-a3fe-033336a756d1",
    "deepnote_cell_height": 66,
    "deepnote_cell_type": "code"
   },
   "outputs": [],
   "source": [
    "stripes1200 = stripe_generator(rectangles1200, 2 * 1200)"
   ]
  },
  {
   "cell_type": "code",
   "execution_count": null,
   "id": "ced0b393",
   "metadata": {
    "cell_id": "00020-031e8182-2cab-435d-a32a-d3fc886439d8",
    "deepnote_cell_height": 118,
    "deepnote_cell_type": "code",
    "deepnote_output_heights": [
     21
    ]
   },
   "outputs": [
    {
     "data": {
      "text/plain": [
       "903218"
      ]
     },
     "execution_count": 26,
     "metadata": {},
     "output_type": "execute_result"
    }
   ],
   "source": [
    "len(stripes1200)"
   ]
  },
  {
   "cell_type": "markdown",
   "id": "f0ed6148",
   "metadata": {
    "cell_id": "00021-9374efd5-8c53-4339-89a9-f97b6d6d55fd",
    "deepnote_cell_height": 111.19999694824219,
    "deepnote_cell_type": "markdown"
   },
   "source": [
    "Algorytm wygenerował ponad 900000 różnych pasków - jest to trochę za dużo ze względu na ograniczenia wydajnościowe.\n",
    "\n",
    "Spróbuję rozwiązać to zadanie szybciej korzystając z pasków o mniejszym maksmalnym wymiarze."
   ]
  },
  {
   "cell_type": "code",
   "execution_count": null,
   "id": "efe4980a",
   "metadata": {
    "cell_id": "00030-88e503c0-a844-45d4-97ae-9f3b6d251429",
    "deepnote_cell_height": 81,
    "deepnote_cell_type": "code",
    "deepnote_to_be_reexecuted": false,
    "execution_millis": 11,
    "execution_start": 1654508340814,
    "source_hash": "124d41ee"
   },
   "outputs": [],
   "source": [
    "rectangles1200 = rectangles_from_file('./data/cutting/r1200.csv')"
   ]
  },
  {
   "cell_type": "code",
   "execution_count": null,
   "id": "1458356f",
   "metadata": {
    "cell_id": "00031-e3583d59-529a-4c34-b1dd-6a5fc171a9e3",
    "deepnote_cell_height": 81,
    "deepnote_cell_type": "code",
    "deepnote_to_be_reexecuted": false,
    "execution_millis": 1411,
    "execution_start": 1654508351656,
    "source_hash": "2d411a08"
   },
   "outputs": [],
   "source": [
    "stripes1200_small = stripe_generator(rectangles1200, 2 * 1200 / 2)"
   ]
  },
  {
   "cell_type": "code",
   "execution_count": null,
   "id": "de8fb5f5",
   "metadata": {
    "cell_id": "00032-8d060078-40ca-43c2-b91d-bffc172b5a3d",
    "deepnote_cell_height": 99,
    "deepnote_cell_type": "code",
    "deepnote_to_be_reexecuted": false,
    "execution_millis": 125105,
    "execution_start": 1654508396219,
    "source_hash": "5953f23c"
   },
   "outputs": [],
   "source": [
    "population1200_small = CirclePopulation(1200, stripes1200_small, n=500)\n",
    "population1200_small.generate(time_limit=1/4)"
   ]
  },
  {
   "cell_type": "code",
   "execution_count": null,
   "id": "d1183bf4",
   "metadata": {
    "cell_id": "00034-90f934c8-b8b7-47fd-ab5d-44d813778e42",
    "deepnote_cell_height": 111.19999694824219,
    "deepnote_cell_type": "code",
    "deepnote_to_be_reexecuted": false,
    "execution_millis": 27,
    "execution_start": 1654508521585,
    "source_hash": "59cf658c"
   },
   "outputs": [
    {
     "name": "stdout",
     "output_type": "stream",
     "text": [
      "Current best solution: 20500.0\n"
     ]
    }
   ],
   "source": [
    "print(f\"Current best solution: {max([p.val_evaluate() for p in population1200_small.population])}\")"
   ]
  },
  {
   "cell_type": "code",
   "execution_count": null,
   "id": "87cda163",
   "metadata": {
    "cell_id": "00035-276a2d62-ca8d-4e63-a45e-4a6dd3bdace3",
    "deepnote_cell_height": 791,
    "deepnote_cell_type": "code",
    "deepnote_to_be_reexecuted": false,
    "execution_millis": 3607873,
    "execution_start": 1654508726911,
    "source_hash": "3877d207"
   },
   "outputs": [
    {
     "name": "stdout",
     "output_type": "stream",
     "text": [
      "Epoch: 2/50\n",
      "Best solution function value: 20440.0\n",
      "Epoch: 4/50\n",
      "Best solution function value: 22140.0\n",
      "Epoch: 6/50\n",
      "Best solution function value: 22300.0\n",
      "Epoch: 8/50\n",
      "Best solution function value: 22880.0\n",
      "Epoch: 10/50\n",
      "Best solution function value: 23180.0\n",
      "Epoch: 12/50\n",
      "Best solution function value: 23900.0\n",
      "Epoch: 14/50\n",
      "Best solution function value: 24140.0\n",
      "Epoch: 16/50\n",
      "Best solution function value: 24720.0\n",
      "Epoch: 18/50\n",
      "Best solution function value: 25640.0\n",
      "Epoch: 20/50\n",
      "Best solution function value: 26280.0\n",
      "Epoch: 22/50\n",
      "Best solution function value: 26660.0\n",
      "Epoch: 24/50\n",
      "Best solution function value: 26820.0\n",
      "Epoch: 26/50\n",
      "Best solution function value: 27020.0\n",
      "Epoch: 28/50\n",
      "Best solution function value: 27100.0\n",
      "Epoch: 30/50\n",
      "Best solution function value: 27180.0\n",
      "Epoch: 32/50\n",
      "Best solution function value: 27220.0\n",
      "Epoch: 34/50\n",
      "Best solution function value: 27220.0\n",
      "Epoch: 36/50\n",
      "Best solution function value: 27260.0\n",
      "Epoch: 38/50\n",
      "Best solution function value: 27420.0\n",
      "Epoch: 40/50\n",
      "Best solution function value: 27500.0\n",
      "Epoch: 42/50\n",
      "Best solution function value: 27540.0\n",
      "Epoch: 44/50\n",
      "Best solution function value: 27580.0\n",
      "Epoch: 46/50\n",
      "Best solution function value: 27580.0\n",
      "Epoch: 48/50\n",
      "Best solution function value: 27620.0\n",
      "Epoch: 50/50\n",
      "Best solution function value: 27620.0\n"
     ]
    }
   ],
   "source": [
    "history1200_small = population1200_small.train(n_epochs=50,\n",
    "                                               crossover_population_ratio=0.8, stripe_ratio_to_cut=0.2,\n",
    "                                               mutation_population_ratio=0.3, rectangles_limit=5, time_limit=1/4,\n",
    "                                               k=8,\n",
    "                                               eval_frequency=2, eval_score_finish=30000, history=True\n",
    ")"
   ]
  },
  {
   "cell_type": "code",
   "execution_count": null,
   "id": "db09d0c1",
   "metadata": {
    "cell_id": "00038-170878fd-8f7d-43d8-9364-5d95939da835",
    "deepnote_cell_height": 171,
    "deepnote_cell_type": "code",
    "deepnote_output_heights": [
     2
    ],
    "deepnote_to_be_reexecuted": false,
    "execution_millis": 720,
    "execution_start": 1654514966651,
    "source_hash": "8ca7c875"
   },
   "outputs": [
    {
     "data": {
      "image/png": "[encoded data removed]",
      "text/plain": [
       "<Figure size 432x288 with 1 Axes>"
      ]
     },
     "metadata": {
      "image/png": {
       "height": 278,
       "width": 401
      },
      "needs_background": "light"
     },
     "output_type": "display_data"
    }
   ],
   "source": [
    "sns.lineplot(x=list(range(0, len(history1200_small) * 2, 2)), y=history1200_small)\n",
    "plt.title('Training progress')\n",
    "plt.xlabel('Epoch number')\n",
    "plt.ylabel('Best solution value')\n",
    "plt.show()"
   ]
  },
  {
   "cell_type": "code",
   "execution_count": null,
   "id": "0ce47fc1",
   "metadata": {
    "cell_id": "00039-123b774f-1093-433f-b6e0-7b01b00fea8e",
    "deepnote_cell_height": 618,
    "deepnote_cell_type": "code",
    "deepnote_output_heights": [
     467
    ],
    "deepnote_to_be_reexecuted": false,
    "execution_millis": 947,
    "execution_start": 1654512334825,
    "source_hash": "5d3c7318"
   },
   "outputs": [
    {
     "data": {
      "image/png": "[encoded data removed]",
      "text/plain": [
       "<Figure size 576x576 with 1 Axes>"
      ]
     },
     "metadata": {
      "image/png": {
       "height": 465,
       "width": 460
      },
      "needs_background": "light"
     },
     "output_type": "display_data"
    }
   ],
   "source": [
    "best1200_small_index = np.argmax([p.val_evaluate() for p in population1200_small.population])\n",
    "population1200_small.population[best1200_small_index].plot()\n",
    "plt.title('Best solution')\n",
    "plt.show()"
   ]
  },
  {
   "cell_type": "markdown",
   "id": "99700d26-8595-41c0-9763-7196b0757549",
   "metadata": {
    "cell_id": "b122756d628d47868a6dedb668fd0df2",
    "deepnote_cell_height": 66,
    "deepnote_cell_type": "code",
    "tags": []
   },
   "source": [
    "Pomimo 50 epok, algorytmowi nie udało się usiągnać oczekiwanego wyniku. Spróbuję pozwolić algorytmowi działać jeszcze przez kolejne epoki, ze zmienionymi parametrami."
   ]
  },
  {
   "cell_type": "code",
   "execution_count": null,
   "id": "e7c978bf",
   "metadata": {
    "cell_id": "00040-b21381c1-274e-4902-91a8-fb14f8d3b563",
    "deepnote_cell_height": 869.2000122070312,
    "deepnote_cell_type": "code",
    "deepnote_to_be_reexecuted": false,
    "execution_millis": 5917461,
    "execution_start": 1654516340372,
    "source_hash": "2e40f0d4"
   },
   "outputs": [
    {
     "name": "stdout",
     "output_type": "stream",
     "text": [
      "Epoch: 2/50\n",
      "Best solution function value: 27700.0\n",
      "Epoch: 4/50\n",
      "Best solution function value: 27740.0\n",
      "Epoch: 6/50\n",
      "Best solution function value: 27820.0\n",
      "Epoch: 8/50\n",
      "Best solution function value: 27960.0\n",
      "Epoch: 10/50\n",
      "Best solution function value: 28000.0\n",
      "Epoch: 12/50\n",
      "Best solution function value: 28540.0\n",
      "Epoch: 14/50\n",
      "Best solution function value: 28820.0\n",
      "Epoch: 16/50\n",
      "Best solution function value: 29000.0\n",
      "Epoch: 18/50\n",
      "Best solution function value: 29160.0\n",
      "Epoch: 20/50\n",
      "Best solution function value: 29200.0\n",
      "Epoch: 22/50\n",
      "Best solution function value: 29200.0\n",
      "Epoch: 24/50\n",
      "Best solution function value: 29240.0\n",
      "Epoch: 26/50\n",
      "Best solution function value: 29480.0\n",
      "Epoch: 28/50\n",
      "Best solution function value: 29520.0\n",
      "Epoch: 30/50\n",
      "Best solution function value: 29520.0\n",
      "Epoch: 32/50\n",
      "Best solution function value: 29520.0\n",
      "Epoch: 34/50\n",
      "Best solution function value: 29520.0\n"
     ]
    },
    {
     "ename": "KeyboardInterrupt",
     "evalue": "",
     "output_type": "error",
     "traceback": [
      "\u001b[0;31m---------------------------------------------------------------------------\u001b[0m",
      "\u001b[0;31mKeyError\u001b[0m                                  Traceback (most recent call last)",
      "\u001b[0;32m/usr/local/lib/python3.7/copy.py\u001b[0m in \u001b[0;36m_deepcopy_tuple\u001b[0;34m(x, memo, deepcopy)\u001b[0m\n\u001b[1;32m    224\u001b[0m     \u001b[0;32mtry\u001b[0m\u001b[0;34m:\u001b[0m\u001b[0;34m\u001b[0m\u001b[0;34m\u001b[0m\u001b[0m\n\u001b[0;32m--> 225\u001b[0;31m         \u001b[0;32mreturn\u001b[0m \u001b[0mmemo\u001b[0m\u001b[0;34m[\u001b[0m\u001b[0mid\u001b[0m\u001b[0;34m(\u001b[0m\u001b[0mx\u001b[0m\u001b[0;34m)\u001b[0m\u001b[0;34m]\u001b[0m\u001b[0;34m\u001b[0m\u001b[0;34m\u001b[0m\u001b[0m\n\u001b[0m\u001b[1;32m    226\u001b[0m     \u001b[0;32mexcept\u001b[0m \u001b[0mKeyError\u001b[0m\u001b[0;34m:\u001b[0m\u001b[0;34m\u001b[0m\u001b[0;34m\u001b[0m\u001b[0m\n",
      "\u001b[0;31mKeyError\u001b[0m: 139899388139952",
      "\nDuring handling of the above exception, another exception occurred:\n",
      "\u001b[0;31mKeyboardInterrupt\u001b[0m                         Traceback (most recent call last)",
      "\u001b[0;32m<ipython-input-21-72d5e4e3aac5>\u001b[0m in \u001b[0;36m<module>\u001b[0;34m\u001b[0m\n\u001b[1;32m      3\u001b[0m                                                  \u001b[0mmutation_population_ratio\u001b[0m\u001b[0;34m=\u001b[0m\u001b[0;36m0.4\u001b[0m\u001b[0;34m,\u001b[0m \u001b[0mrectangles_limit\u001b[0m\u001b[0;34m=\u001b[0m\u001b[0;36m5\u001b[0m\u001b[0;34m,\u001b[0m \u001b[0mtime_limit\u001b[0m\u001b[0;34m=\u001b[0m\u001b[0;36m1\u001b[0m\u001b[0;34m/\u001b[0m\u001b[0;36m3\u001b[0m\u001b[0;34m,\u001b[0m\u001b[0;34m\u001b[0m\u001b[0;34m\u001b[0m\u001b[0m\n\u001b[1;32m      4\u001b[0m                                                  \u001b[0mk\u001b[0m\u001b[0;34m=\u001b[0m\u001b[0;36m8\u001b[0m\u001b[0;34m,\u001b[0m\u001b[0;34m\u001b[0m\u001b[0;34m\u001b[0m\u001b[0m\n\u001b[0;32m----> 5\u001b[0;31m                                                  \u001b[0meval_frequency\u001b[0m\u001b[0;34m=\u001b[0m\u001b[0;36m2\u001b[0m\u001b[0;34m,\u001b[0m \u001b[0meval_score_finish\u001b[0m\u001b[0;34m=\u001b[0m\u001b[0;36m30000\u001b[0m\u001b[0;34m,\u001b[0m \u001b[0mhistory\u001b[0m\u001b[0;34m=\u001b[0m\u001b[0;32mTrue\u001b[0m\u001b[0;34m\u001b[0m\u001b[0;34m\u001b[0m\u001b[0m\n\u001b[0m\u001b[1;32m      6\u001b[0m )\n",
      "\u001b[0;32m/work/GeneticAlgorithms/cutting_stock_problem.py\u001b[0m in \u001b[0;36mtrain\u001b[0;34m(self, n_epochs, crossover_population_ratio, stripe_ratio_to_cut, mutation_population_ratio, rectangles_limit, time_limit, k, eval_frequency, eval_score_finish, history)\u001b[0m\n\u001b[1;32m    422\u001b[0m         \u001b[0;32mfor\u001b[0m \u001b[0mi\u001b[0m \u001b[0;32min\u001b[0m \u001b[0mrange\u001b[0m\u001b[0;34m(\u001b[0m\u001b[0;36m1\u001b[0m\u001b[0;34m,\u001b[0m \u001b[0mn_epochs\u001b[0m \u001b[0;34m+\u001b[0m \u001b[0;36m1\u001b[0m\u001b[0;34m)\u001b[0m\u001b[0;34m:\u001b[0m\u001b[0;34m\u001b[0m\u001b[0;34m\u001b[0m\u001b[0m\n\u001b[1;32m    423\u001b[0m             \u001b[0mself\u001b[0m\u001b[0;34m.\u001b[0m\u001b[0mcrossover\u001b[0m\u001b[0;34m(\u001b[0m\u001b[0mcrossover_population_ratio\u001b[0m\u001b[0;34m,\u001b[0m \u001b[0mstripe_ratio_to_cut\u001b[0m\u001b[0;34m)\u001b[0m\u001b[0;34m\u001b[0m\u001b[0;34m\u001b[0m\u001b[0m\n\u001b[0;32m--> 424\u001b[0;31m             \u001b[0mself\u001b[0m\u001b[0;34m.\u001b[0m\u001b[0mmutation\u001b[0m\u001b[0;34m(\u001b[0m\u001b[0mmutation_population_ratio\u001b[0m\u001b[0;34m,\u001b[0m \u001b[0mrectangles_limit\u001b[0m\u001b[0;34m,\u001b[0m \u001b[0mtime_limit\u001b[0m\u001b[0;34m)\u001b[0m\u001b[0;34m\u001b[0m\u001b[0;34m\u001b[0m\u001b[0m\n\u001b[0m\u001b[1;32m    425\u001b[0m             \u001b[0mself\u001b[0m\u001b[0;34m.\u001b[0m\u001b[0mselection\u001b[0m\u001b[0;34m(\u001b[0m\u001b[0mk\u001b[0m\u001b[0;34m)\u001b[0m\u001b[0;34m\u001b[0m\u001b[0;34m\u001b[0m\u001b[0m\n\u001b[1;32m    426\u001b[0m \u001b[0;34m\u001b[0m\u001b[0m\n",
      "\u001b[0;32m/work/GeneticAlgorithms/cutting_stock_problem.py\u001b[0m in \u001b[0;36mmutation\u001b[0;34m(self, mutation_population_ratio, rectangles_limit, time_limit)\u001b[0m\n\u001b[1;32m    386\u001b[0m         \u001b[0;32mfor\u001b[0m \u001b[0mi\u001b[0m \u001b[0;32min\u001b[0m \u001b[0mrange\u001b[0m\u001b[0;34m(\u001b[0m\u001b[0mlen\u001b[0m\u001b[0;34m(\u001b[0m\u001b[0mindexes_to_mutate\u001b[0m\u001b[0;34m)\u001b[0m\u001b[0;34m)\u001b[0m\u001b[0;34m:\u001b[0m\u001b[0;34m\u001b[0m\u001b[0;34m\u001b[0m\u001b[0m\n\u001b[1;32m    387\u001b[0m             \u001b[0;32mfor\u001b[0m \u001b[0mj\u001b[0m \u001b[0;32min\u001b[0m \u001b[0mrange\u001b[0m\u001b[0;34m(\u001b[0m\u001b[0mlen\u001b[0m\u001b[0;34m(\u001b[0m\u001b[0mself\u001b[0m\u001b[0;34m.\u001b[0m\u001b[0mpopulation\u001b[0m\u001b[0;34m[\u001b[0m\u001b[0mindexes_to_mutate\u001b[0m\u001b[0;34m[\u001b[0m\u001b[0mi\u001b[0m\u001b[0;34m]\u001b[0m\u001b[0;34m]\u001b[0m\u001b[0;34m.\u001b[0m\u001b[0mstripes\u001b[0m\u001b[0;34m)\u001b[0m\u001b[0;34m)\u001b[0m\u001b[0;34m:\u001b[0m\u001b[0;34m\u001b[0m\u001b[0;34m\u001b[0m\u001b[0m\n\u001b[0;32m--> 388\u001b[0;31m                 \u001b[0mself\u001b[0m\u001b[0;34m.\u001b[0m\u001b[0mpopulation\u001b[0m\u001b[0;34m[\u001b[0m\u001b[0mindexes_to_mutate\u001b[0m\u001b[0;34m[\u001b[0m\u001b[0mi\u001b[0m\u001b[0;34m]\u001b[0m\u001b[0;34m]\u001b[0m\u001b[0;34m.\u001b[0m\u001b[0mmove_stripe\u001b[0m\u001b[0;34m(\u001b[0m\u001b[0mnp\u001b[0m\u001b[0;34m.\u001b[0m\u001b[0mrandom\u001b[0m\u001b[0;34m.\u001b[0m\u001b[0mnormal\u001b[0m\u001b[0;34m(\u001b[0m\u001b[0;34m)\u001b[0m\u001b[0;34m,\u001b[0m \u001b[0mnp\u001b[0m\u001b[0;34m.\u001b[0m\u001b[0mrandom\u001b[0m\u001b[0;34m.\u001b[0m\u001b[0mnormal\u001b[0m\u001b[0;34m(\u001b[0m\u001b[0;34m)\u001b[0m\u001b[0;34m,\u001b[0m \u001b[0mj\u001b[0m\u001b[0;34m)\u001b[0m\u001b[0;34m\u001b[0m\u001b[0;34m\u001b[0m\u001b[0m\n\u001b[0m\u001b[1;32m    389\u001b[0m \u001b[0;34m\u001b[0m\u001b[0m\n\u001b[1;32m    390\u001b[0m             \u001b[0mself\u001b[0m\u001b[0;34m.\u001b[0m\u001b[0mpopulation\u001b[0m\u001b[0;34m[\u001b[0m\u001b[0mindexes_to_mutate\u001b[0m\u001b[0;34m[\u001b[0m\u001b[0mi\u001b[0m\u001b[0;34m]\u001b[0m\u001b[0;34m]\u001b[0m\u001b[0;34m.\u001b[0m\u001b[0mfill_with_stripes\u001b[0m\u001b[0;34m(\u001b[0m\u001b[0mself\u001b[0m\u001b[0;34m.\u001b[0m\u001b[0mstripes\u001b[0m\u001b[0;34m,\u001b[0m \u001b[0mrectangles_limit\u001b[0m\u001b[0;34m=\u001b[0m\u001b[0mrectangles_limit\u001b[0m\u001b[0;34m,\u001b[0m \u001b[0mtime_limit\u001b[0m\u001b[0;34m=\u001b[0m\u001b[0mtime_limit\u001b[0m\u001b[0;34m)\u001b[0m\u001b[0;34m\u001b[0m\u001b[0;34m\u001b[0m\u001b[0m\n",
      "\u001b[0;32m/work/GeneticAlgorithms/cutting_stock_problem.py\u001b[0m in \u001b[0;36mmove_stripe\u001b[0;34m(self, x_change, y_change, stripe_ind, force)\u001b[0m\n\u001b[1;32m    155\u001b[0m             \u001b[0;32mreturn\u001b[0m \u001b[0;32mTrue\u001b[0m\u001b[0;34m\u001b[0m\u001b[0;34m\u001b[0m\u001b[0m\n\u001b[1;32m    156\u001b[0m         \u001b[0;32melse\u001b[0m\u001b[0;34m:\u001b[0m\u001b[0;34m\u001b[0m\u001b[0;34m\u001b[0m\u001b[0m\n\u001b[0;32m--> 157\u001b[0;31m             \u001b[0mcircle_copy\u001b[0m \u001b[0;34m=\u001b[0m \u001b[0mcopy\u001b[0m\u001b[0;34m.\u001b[0m\u001b[0mdeepcopy\u001b[0m\u001b[0;34m(\u001b[0m\u001b[0mself\u001b[0m\u001b[0;34m)\u001b[0m\u001b[0;34m\u001b[0m\u001b[0;34m\u001b[0m\u001b[0m\n\u001b[0m\u001b[1;32m    158\u001b[0m             \u001b[0mcircle_copy\u001b[0m\u001b[0;34m.\u001b[0m\u001b[0mstripes\u001b[0m\u001b[0;34m.\u001b[0m\u001b[0mpop\u001b[0m\u001b[0;34m(\u001b[0m\u001b[0mstripe_ind\u001b[0m\u001b[0;34m)\u001b[0m\u001b[0;34m\u001b[0m\u001b[0;34m\u001b[0m\u001b[0m\n\u001b[1;32m    159\u001b[0m             \u001b[0;32mif\u001b[0m \u001b[0mlen\u001b[0m\u001b[0;34m(\u001b[0m\u001b[0;34m[\u001b[0m\u001b[0ms\u001b[0m \u001b[0;32mfor\u001b[0m \u001b[0ms\u001b[0m \u001b[0;32min\u001b[0m \u001b[0mcircle_copy\u001b[0m\u001b[0;34m.\u001b[0m\u001b[0mstripes\u001b[0m \u001b[0;32mif\u001b[0m \u001b[0mnew\u001b[0m\u001b[0;34m.\u001b[0m\u001b[0moverlap\u001b[0m\u001b[0;34m(\u001b[0m\u001b[0ms\u001b[0m\u001b[0;34m)\u001b[0m\u001b[0;34m]\u001b[0m\u001b[0;34m)\u001b[0m \u001b[0;34m==\u001b[0m \u001b[0;36m0\u001b[0m\u001b[0;34m:\u001b[0m\u001b[0;34m\u001b[0m\u001b[0;34m\u001b[0m\u001b[0m\n",
      "\u001b[0;32m/usr/local/lib/python3.7/copy.py\u001b[0m in \u001b[0;36mdeepcopy\u001b[0;34m(x, memo, _nil)\u001b[0m\n\u001b[1;32m    178\u001b[0m                     \u001b[0my\u001b[0m \u001b[0;34m=\u001b[0m \u001b[0mx\u001b[0m\u001b[0;34m\u001b[0m\u001b[0;34m\u001b[0m\u001b[0m\n\u001b[1;32m    179\u001b[0m                 \u001b[0;32melse\u001b[0m\u001b[0;34m:\u001b[0m\u001b[0;34m\u001b[0m\u001b[0;34m\u001b[0m\u001b[0m\n\u001b[0;32m--> 180\u001b[0;31m                     \u001b[0my\u001b[0m \u001b[0;34m=\u001b[0m \u001b[0m_reconstruct\u001b[0m\u001b[0;34m(\u001b[0m\u001b[0mx\u001b[0m\u001b[0;34m,\u001b[0m \u001b[0mmemo\u001b[0m\u001b[0;34m,\u001b[0m \u001b[0;34m*\u001b[0m\u001b[0mrv\u001b[0m\u001b[0;34m)\u001b[0m\u001b[0;34m\u001b[0m\u001b[0;34m\u001b[0m\u001b[0m\n\u001b[0m\u001b[1;32m    181\u001b[0m \u001b[0;34m\u001b[0m\u001b[0m\n\u001b[1;32m    182\u001b[0m     \u001b[0;31m# If is its own copy, don't memoize.\u001b[0m\u001b[0;34m\u001b[0m\u001b[0;34m\u001b[0m\u001b[0;34m\u001b[0m\u001b[0m\n",
      "\u001b[0;32m/usr/local/lib/python3.7/copy.py\u001b[0m in \u001b[0;36m_reconstruct\u001b[0;34m(x, memo, func, args, state, listiter, dictiter, deepcopy)\u001b[0m\n\u001b[1;32m    279\u001b[0m     \u001b[0;32mif\u001b[0m \u001b[0mstate\u001b[0m \u001b[0;32mis\u001b[0m \u001b[0;32mnot\u001b[0m \u001b[0;32mNone\u001b[0m\u001b[0;34m:\u001b[0m\u001b[0;34m\u001b[0m\u001b[0;34m\u001b[0m\u001b[0m\n\u001b[1;32m    280\u001b[0m         \u001b[0;32mif\u001b[0m \u001b[0mdeep\u001b[0m\u001b[0;34m:\u001b[0m\u001b[0;34m\u001b[0m\u001b[0;34m\u001b[0m\u001b[0m\n\u001b[0;32m--> 281\u001b[0;31m             \u001b[0mstate\u001b[0m \u001b[0;34m=\u001b[0m \u001b[0mdeepcopy\u001b[0m\u001b[0;34m(\u001b[0m\u001b[0mstate\u001b[0m\u001b[0;34m,\u001b[0m \u001b[0mmemo\u001b[0m\u001b[0;34m)\u001b[0m\u001b[0;34m\u001b[0m\u001b[0;34m\u001b[0m\u001b[0m\n\u001b[0m\u001b[1;32m    282\u001b[0m         \u001b[0;32mif\u001b[0m \u001b[0mhasattr\u001b[0m\u001b[0;34m(\u001b[0m\u001b[0my\u001b[0m\u001b[0;34m,\u001b[0m \u001b[0;34m'__setstate__'\u001b[0m\u001b[0;34m)\u001b[0m\u001b[0;34m:\u001b[0m\u001b[0;34m\u001b[0m\u001b[0;34m\u001b[0m\u001b[0m\n\u001b[1;32m    283\u001b[0m             \u001b[0my\u001b[0m\u001b[0;34m.\u001b[0m\u001b[0m__setstate__\u001b[0m\u001b[0;34m(\u001b[0m\u001b[0mstate\u001b[0m\u001b[0;34m)\u001b[0m\u001b[0;34m\u001b[0m\u001b[0;34m\u001b[0m\u001b[0m\n",
      "\u001b[0;32m/usr/local/lib/python3.7/copy.py\u001b[0m in \u001b[0;36mdeepcopy\u001b[0;34m(x, memo, _nil)\u001b[0m\n\u001b[1;32m    148\u001b[0m     \u001b[0mcopier\u001b[0m \u001b[0;34m=\u001b[0m \u001b[0m_deepcopy_dispatch\u001b[0m\u001b[0;34m.\u001b[0m\u001b[0mget\u001b[0m\u001b[0;34m(\u001b[0m\u001b[0mcls\u001b[0m\u001b[0;34m)\u001b[0m\u001b[0;34m\u001b[0m\u001b[0;34m\u001b[0m\u001b[0m\n\u001b[1;32m    149\u001b[0m     \u001b[0;32mif\u001b[0m \u001b[0mcopier\u001b[0m\u001b[0;34m:\u001b[0m\u001b[0;34m\u001b[0m\u001b[0;34m\u001b[0m\u001b[0m\n\u001b[0;32m--> 150\u001b[0;31m         \u001b[0my\u001b[0m \u001b[0;34m=\u001b[0m \u001b[0mcopier\u001b[0m\u001b[0;34m(\u001b[0m\u001b[0mx\u001b[0m\u001b[0;34m,\u001b[0m \u001b[0mmemo\u001b[0m\u001b[0;34m)\u001b[0m\u001b[0;34m\u001b[0m\u001b[0;34m\u001b[0m\u001b[0m\n\u001b[0m\u001b[1;32m    151\u001b[0m     \u001b[0;32melse\u001b[0m\u001b[0;34m:\u001b[0m\u001b[0;34m\u001b[0m\u001b[0;34m\u001b[0m\u001b[0m\n\u001b[1;32m    152\u001b[0m         \u001b[0;32mtry\u001b[0m\u001b[0;34m:\u001b[0m\u001b[0;34m\u001b[0m\u001b[0;34m\u001b[0m\u001b[0m\n",
      "\u001b[0;32m/usr/local/lib/python3.7/copy.py\u001b[0m in \u001b[0;36m_deepcopy_dict\u001b[0;34m(x, memo, deepcopy)\u001b[0m\n\u001b[1;32m    239\u001b[0m     \u001b[0mmemo\u001b[0m\u001b[0;34m[\u001b[0m\u001b[0mid\u001b[0m\u001b[0;34m(\u001b[0m\u001b[0mx\u001b[0m\u001b[0;34m)\u001b[0m\u001b[0;34m]\u001b[0m \u001b[0;34m=\u001b[0m \u001b[0my\u001b[0m\u001b[0;34m\u001b[0m\u001b[0;34m\u001b[0m\u001b[0m\n\u001b[1;32m    240\u001b[0m     \u001b[0;32mfor\u001b[0m \u001b[0mkey\u001b[0m\u001b[0;34m,\u001b[0m \u001b[0mvalue\u001b[0m \u001b[0;32min\u001b[0m \u001b[0mx\u001b[0m\u001b[0;34m.\u001b[0m\u001b[0mitems\u001b[0m\u001b[0;34m(\u001b[0m\u001b[0;34m)\u001b[0m\u001b[0;34m:\u001b[0m\u001b[0;34m\u001b[0m\u001b[0;34m\u001b[0m\u001b[0m\n\u001b[0;32m--> 241\u001b[0;31m         \u001b[0my\u001b[0m\u001b[0;34m[\u001b[0m\u001b[0mdeepcopy\u001b[0m\u001b[0;34m(\u001b[0m\u001b[0mkey\u001b[0m\u001b[0;34m,\u001b[0m \u001b[0mmemo\u001b[0m\u001b[0;34m)\u001b[0m\u001b[0;34m]\u001b[0m \u001b[0;34m=\u001b[0m \u001b[0mdeepcopy\u001b[0m\u001b[0;34m(\u001b[0m\u001b[0mvalue\u001b[0m\u001b[0;34m,\u001b[0m \u001b[0mmemo\u001b[0m\u001b[0;34m)\u001b[0m\u001b[0;34m\u001b[0m\u001b[0;34m\u001b[0m\u001b[0m\n\u001b[0m\u001b[1;32m    242\u001b[0m     \u001b[0;32mreturn\u001b[0m \u001b[0my\u001b[0m\u001b[0;34m\u001b[0m\u001b[0;34m\u001b[0m\u001b[0m\n\u001b[1;32m    243\u001b[0m \u001b[0md\u001b[0m\u001b[0;34m[\u001b[0m\u001b[0mdict\u001b[0m\u001b[0;34m]\u001b[0m \u001b[0;34m=\u001b[0m \u001b[0m_deepcopy_dict\u001b[0m\u001b[0;34m\u001b[0m\u001b[0;34m\u001b[0m\u001b[0m\n",
      "\u001b[0;32m/usr/local/lib/python3.7/copy.py\u001b[0m in \u001b[0;36mdeepcopy\u001b[0;34m(x, memo, _nil)\u001b[0m\n\u001b[1;32m    148\u001b[0m     \u001b[0mcopier\u001b[0m \u001b[0;34m=\u001b[0m \u001b[0m_deepcopy_dispatch\u001b[0m\u001b[0;34m.\u001b[0m\u001b[0mget\u001b[0m\u001b[0;34m(\u001b[0m\u001b[0mcls\u001b[0m\u001b[0;34m)\u001b[0m\u001b[0;34m\u001b[0m\u001b[0;34m\u001b[0m\u001b[0m\n\u001b[1;32m    149\u001b[0m     \u001b[0;32mif\u001b[0m \u001b[0mcopier\u001b[0m\u001b[0;34m:\u001b[0m\u001b[0;34m\u001b[0m\u001b[0;34m\u001b[0m\u001b[0m\n\u001b[0;32m--> 150\u001b[0;31m         \u001b[0my\u001b[0m \u001b[0;34m=\u001b[0m \u001b[0mcopier\u001b[0m\u001b[0;34m(\u001b[0m\u001b[0mx\u001b[0m\u001b[0;34m,\u001b[0m \u001b[0mmemo\u001b[0m\u001b[0;34m)\u001b[0m\u001b[0;34m\u001b[0m\u001b[0;34m\u001b[0m\u001b[0m\n\u001b[0m\u001b[1;32m    151\u001b[0m     \u001b[0;32melse\u001b[0m\u001b[0;34m:\u001b[0m\u001b[0;34m\u001b[0m\u001b[0;34m\u001b[0m\u001b[0m\n\u001b[1;32m    152\u001b[0m         \u001b[0;32mtry\u001b[0m\u001b[0;34m:\u001b[0m\u001b[0;34m\u001b[0m\u001b[0;34m\u001b[0m\u001b[0m\n",
      "\u001b[0;32m/usr/local/lib/python3.7/copy.py\u001b[0m in \u001b[0;36m_deepcopy_list\u001b[0;34m(x, memo, deepcopy)\u001b[0m\n\u001b[1;32m    214\u001b[0m     \u001b[0mappend\u001b[0m \u001b[0;34m=\u001b[0m \u001b[0my\u001b[0m\u001b[0;34m.\u001b[0m\u001b[0mappend\u001b[0m\u001b[0;34m\u001b[0m\u001b[0;34m\u001b[0m\u001b[0m\n\u001b[1;32m    215\u001b[0m     \u001b[0;32mfor\u001b[0m \u001b[0ma\u001b[0m \u001b[0;32min\u001b[0m \u001b[0mx\u001b[0m\u001b[0;34m:\u001b[0m\u001b[0;34m\u001b[0m\u001b[0;34m\u001b[0m\u001b[0m\n\u001b[0;32m--> 216\u001b[0;31m         \u001b[0mappend\u001b[0m\u001b[0;34m(\u001b[0m\u001b[0mdeepcopy\u001b[0m\u001b[0;34m(\u001b[0m\u001b[0ma\u001b[0m\u001b[0;34m,\u001b[0m \u001b[0mmemo\u001b[0m\u001b[0;34m)\u001b[0m\u001b[0;34m)\u001b[0m\u001b[0;34m\u001b[0m\u001b[0;34m\u001b[0m\u001b[0m\n\u001b[0m\u001b[1;32m    217\u001b[0m     \u001b[0;32mreturn\u001b[0m \u001b[0my\u001b[0m\u001b[0;34m\u001b[0m\u001b[0;34m\u001b[0m\u001b[0m\n\u001b[1;32m    218\u001b[0m \u001b[0md\u001b[0m\u001b[0;34m[\u001b[0m\u001b[0mlist\u001b[0m\u001b[0;34m]\u001b[0m \u001b[0;34m=\u001b[0m \u001b[0m_deepcopy_list\u001b[0m\u001b[0;34m\u001b[0m\u001b[0;34m\u001b[0m\u001b[0m\n",
      "\u001b[0;32m/usr/local/lib/python3.7/copy.py\u001b[0m in \u001b[0;36mdeepcopy\u001b[0;34m(x, memo, _nil)\u001b[0m\n\u001b[1;32m    178\u001b[0m                     \u001b[0my\u001b[0m \u001b[0;34m=\u001b[0m \u001b[0mx\u001b[0m\u001b[0;34m\u001b[0m\u001b[0;34m\u001b[0m\u001b[0m\n\u001b[1;32m    179\u001b[0m                 \u001b[0;32melse\u001b[0m\u001b[0;34m:\u001b[0m\u001b[0;34m\u001b[0m\u001b[0;34m\u001b[0m\u001b[0m\n\u001b[0;32m--> 180\u001b[0;31m                     \u001b[0my\u001b[0m \u001b[0;34m=\u001b[0m \u001b[0m_reconstruct\u001b[0m\u001b[0;34m(\u001b[0m\u001b[0mx\u001b[0m\u001b[0;34m,\u001b[0m \u001b[0mmemo\u001b[0m\u001b[0;34m,\u001b[0m \u001b[0;34m*\u001b[0m\u001b[0mrv\u001b[0m\u001b[0;34m)\u001b[0m\u001b[0;34m\u001b[0m\u001b[0;34m\u001b[0m\u001b[0m\n\u001b[0m\u001b[1;32m    181\u001b[0m \u001b[0;34m\u001b[0m\u001b[0m\n\u001b[1;32m    182\u001b[0m     \u001b[0;31m# If is its own copy, don't memoize.\u001b[0m\u001b[0;34m\u001b[0m\u001b[0;34m\u001b[0m\u001b[0;34m\u001b[0m\u001b[0m\n",
      "\u001b[0;32m/usr/local/lib/python3.7/copy.py\u001b[0m in \u001b[0;36m_reconstruct\u001b[0;34m(x, memo, func, args, state, listiter, dictiter, deepcopy)\u001b[0m\n\u001b[1;32m    279\u001b[0m     \u001b[0;32mif\u001b[0m \u001b[0mstate\u001b[0m \u001b[0;32mis\u001b[0m \u001b[0;32mnot\u001b[0m \u001b[0;32mNone\u001b[0m\u001b[0;34m:\u001b[0m\u001b[0;34m\u001b[0m\u001b[0;34m\u001b[0m\u001b[0m\n\u001b[1;32m    280\u001b[0m         \u001b[0;32mif\u001b[0m \u001b[0mdeep\u001b[0m\u001b[0;34m:\u001b[0m\u001b[0;34m\u001b[0m\u001b[0;34m\u001b[0m\u001b[0m\n\u001b[0;32m--> 281\u001b[0;31m             \u001b[0mstate\u001b[0m \u001b[0;34m=\u001b[0m \u001b[0mdeepcopy\u001b[0m\u001b[0;34m(\u001b[0m\u001b[0mstate\u001b[0m\u001b[0;34m,\u001b[0m \u001b[0mmemo\u001b[0m\u001b[0;34m)\u001b[0m\u001b[0;34m\u001b[0m\u001b[0;34m\u001b[0m\u001b[0m\n\u001b[0m\u001b[1;32m    282\u001b[0m         \u001b[0;32mif\u001b[0m \u001b[0mhasattr\u001b[0m\u001b[0;34m(\u001b[0m\u001b[0my\u001b[0m\u001b[0;34m,\u001b[0m \u001b[0;34m'__setstate__'\u001b[0m\u001b[0;34m)\u001b[0m\u001b[0;34m:\u001b[0m\u001b[0;34m\u001b[0m\u001b[0;34m\u001b[0m\u001b[0m\n\u001b[1;32m    283\u001b[0m             \u001b[0my\u001b[0m\u001b[0;34m.\u001b[0m\u001b[0m__setstate__\u001b[0m\u001b[0;34m(\u001b[0m\u001b[0mstate\u001b[0m\u001b[0;34m)\u001b[0m\u001b[0;34m\u001b[0m\u001b[0;34m\u001b[0m\u001b[0m\n",
      "\u001b[0;32m/usr/local/lib/python3.7/copy.py\u001b[0m in \u001b[0;36mdeepcopy\u001b[0;34m(x, memo, _nil)\u001b[0m\n\u001b[1;32m    148\u001b[0m     \u001b[0mcopier\u001b[0m \u001b[0;34m=\u001b[0m \u001b[0m_deepcopy_dispatch\u001b[0m\u001b[0;34m.\u001b[0m\u001b[0mget\u001b[0m\u001b[0;34m(\u001b[0m\u001b[0mcls\u001b[0m\u001b[0;34m)\u001b[0m\u001b[0;34m\u001b[0m\u001b[0;34m\u001b[0m\u001b[0m\n\u001b[1;32m    149\u001b[0m     \u001b[0;32mif\u001b[0m \u001b[0mcopier\u001b[0m\u001b[0;34m:\u001b[0m\u001b[0;34m\u001b[0m\u001b[0;34m\u001b[0m\u001b[0m\n\u001b[0;32m--> 150\u001b[0;31m         \u001b[0my\u001b[0m \u001b[0;34m=\u001b[0m \u001b[0mcopier\u001b[0m\u001b[0;34m(\u001b[0m\u001b[0mx\u001b[0m\u001b[0;34m,\u001b[0m \u001b[0mmemo\u001b[0m\u001b[0;34m)\u001b[0m\u001b[0;34m\u001b[0m\u001b[0;34m\u001b[0m\u001b[0m\n\u001b[0m\u001b[1;32m    151\u001b[0m     \u001b[0;32melse\u001b[0m\u001b[0;34m:\u001b[0m\u001b[0;34m\u001b[0m\u001b[0;34m\u001b[0m\u001b[0m\n\u001b[1;32m    152\u001b[0m         \u001b[0;32mtry\u001b[0m\u001b[0;34m:\u001b[0m\u001b[0;34m\u001b[0m\u001b[0;34m\u001b[0m\u001b[0m\n",
      "\u001b[0;32m/usr/local/lib/python3.7/copy.py\u001b[0m in \u001b[0;36m_deepcopy_dict\u001b[0;34m(x, memo, deepcopy)\u001b[0m\n\u001b[1;32m    239\u001b[0m     \u001b[0mmemo\u001b[0m\u001b[0;34m[\u001b[0m\u001b[0mid\u001b[0m\u001b[0;34m(\u001b[0m\u001b[0mx\u001b[0m\u001b[0;34m)\u001b[0m\u001b[0;34m]\u001b[0m \u001b[0;34m=\u001b[0m \u001b[0my\u001b[0m\u001b[0;34m\u001b[0m\u001b[0;34m\u001b[0m\u001b[0m\n\u001b[1;32m    240\u001b[0m     \u001b[0;32mfor\u001b[0m \u001b[0mkey\u001b[0m\u001b[0;34m,\u001b[0m \u001b[0mvalue\u001b[0m \u001b[0;32min\u001b[0m \u001b[0mx\u001b[0m\u001b[0;34m.\u001b[0m\u001b[0mitems\u001b[0m\u001b[0;34m(\u001b[0m\u001b[0;34m)\u001b[0m\u001b[0;34m:\u001b[0m\u001b[0;34m\u001b[0m\u001b[0;34m\u001b[0m\u001b[0m\n\u001b[0;32m--> 241\u001b[0;31m         \u001b[0my\u001b[0m\u001b[0;34m[\u001b[0m\u001b[0mdeepcopy\u001b[0m\u001b[0;34m(\u001b[0m\u001b[0mkey\u001b[0m\u001b[0;34m,\u001b[0m \u001b[0mmemo\u001b[0m\u001b[0;34m)\u001b[0m\u001b[0;34m]\u001b[0m \u001b[0;34m=\u001b[0m \u001b[0mdeepcopy\u001b[0m\u001b[0;34m(\u001b[0m\u001b[0mvalue\u001b[0m\u001b[0;34m,\u001b[0m \u001b[0mmemo\u001b[0m\u001b[0;34m)\u001b[0m\u001b[0;34m\u001b[0m\u001b[0;34m\u001b[0m\u001b[0m\n\u001b[0m\u001b[1;32m    242\u001b[0m     \u001b[0;32mreturn\u001b[0m \u001b[0my\u001b[0m\u001b[0;34m\u001b[0m\u001b[0;34m\u001b[0m\u001b[0m\n\u001b[1;32m    243\u001b[0m \u001b[0md\u001b[0m\u001b[0;34m[\u001b[0m\u001b[0mdict\u001b[0m\u001b[0;34m]\u001b[0m \u001b[0;34m=\u001b[0m \u001b[0m_deepcopy_dict\u001b[0m\u001b[0;34m\u001b[0m\u001b[0;34m\u001b[0m\u001b[0m\n",
      "\u001b[0;32m/usr/local/lib/python3.7/copy.py\u001b[0m in \u001b[0;36mdeepcopy\u001b[0;34m(x, memo, _nil)\u001b[0m\n\u001b[1;32m    148\u001b[0m     \u001b[0mcopier\u001b[0m \u001b[0;34m=\u001b[0m \u001b[0m_deepcopy_dispatch\u001b[0m\u001b[0;34m.\u001b[0m\u001b[0mget\u001b[0m\u001b[0;34m(\u001b[0m\u001b[0mcls\u001b[0m\u001b[0;34m)\u001b[0m\u001b[0;34m\u001b[0m\u001b[0;34m\u001b[0m\u001b[0m\n\u001b[1;32m    149\u001b[0m     \u001b[0;32mif\u001b[0m \u001b[0mcopier\u001b[0m\u001b[0;34m:\u001b[0m\u001b[0;34m\u001b[0m\u001b[0;34m\u001b[0m\u001b[0m\n\u001b[0;32m--> 150\u001b[0;31m         \u001b[0my\u001b[0m \u001b[0;34m=\u001b[0m \u001b[0mcopier\u001b[0m\u001b[0;34m(\u001b[0m\u001b[0mx\u001b[0m\u001b[0;34m,\u001b[0m \u001b[0mmemo\u001b[0m\u001b[0;34m)\u001b[0m\u001b[0;34m\u001b[0m\u001b[0;34m\u001b[0m\u001b[0m\n\u001b[0m\u001b[1;32m    151\u001b[0m     \u001b[0;32melse\u001b[0m\u001b[0;34m:\u001b[0m\u001b[0;34m\u001b[0m\u001b[0;34m\u001b[0m\u001b[0m\n\u001b[1;32m    152\u001b[0m         \u001b[0;32mtry\u001b[0m\u001b[0;34m:\u001b[0m\u001b[0;34m\u001b[0m\u001b[0;34m\u001b[0m\u001b[0m\n",
      "\u001b[0;32m/usr/local/lib/python3.7/copy.py\u001b[0m in \u001b[0;36m_deepcopy_tuple\u001b[0;34m(x, memo, deepcopy)\u001b[0m\n\u001b[1;32m    223\u001b[0m     \u001b[0;31m# check for it, in case the tuple contains recursive mutable structures.\u001b[0m\u001b[0;34m\u001b[0m\u001b[0;34m\u001b[0m\u001b[0;34m\u001b[0m\u001b[0m\n\u001b[1;32m    224\u001b[0m     \u001b[0;32mtry\u001b[0m\u001b[0;34m:\u001b[0m\u001b[0;34m\u001b[0m\u001b[0;34m\u001b[0m\u001b[0m\n\u001b[0;32m--> 225\u001b[0;31m         \u001b[0;32mreturn\u001b[0m \u001b[0mmemo\u001b[0m\u001b[0;34m[\u001b[0m\u001b[0mid\u001b[0m\u001b[0;34m(\u001b[0m\u001b[0mx\u001b[0m\u001b[0;34m)\u001b[0m\u001b[0;34m]\u001b[0m\u001b[0;34m\u001b[0m\u001b[0;34m\u001b[0m\u001b[0m\n\u001b[0m\u001b[1;32m    226\u001b[0m     \u001b[0;32mexcept\u001b[0m \u001b[0mKeyError\u001b[0m\u001b[0;34m:\u001b[0m\u001b[0;34m\u001b[0m\u001b[0;34m\u001b[0m\u001b[0m\n\u001b[1;32m    227\u001b[0m         \u001b[0;32mpass\u001b[0m\u001b[0;34m\u001b[0m\u001b[0;34m\u001b[0m\u001b[0m\n",
      "\u001b[0;31mKeyboardInterrupt\u001b[0m: "
     ]
    }
   ],
   "source": [
    "history1200_small_2 = population1200_small.train(n_epochs=50,\n",
    "                                                 crossover_population_ratio=0.85, stripe_ratio_to_cut=0.35,\n",
    "                                                 mutation_population_ratio=0.4, rectangles_limit=5, time_limit=1/3,\n",
    "                                                 k=8,\n",
    "                                                 eval_frequency=2, eval_score_finish=30000, history=True\n",
    ")"
   ]
  },
  {
   "cell_type": "markdown",
   "id": "65f2e8cd",
   "metadata": {
    "cell_id": "022636ac00cb49ca87def55421d7e2dc",
    "deepnote_cell_height": 52.399993896484375,
    "deepnote_cell_type": "markdown",
    "tags": []
   },
   "source": [
    "Uczenie zatrzymane ze względu na brak postępów - nastąpi kolejna zmiana parametrów."
   ]
  },
  {
   "cell_type": "code",
   "execution_count": null,
   "id": "376498a0",
   "metadata": {
    "cell_id": "6357ee5a4bb049e88a4dc3c3f1e1ca29",
    "deepnote_cell_height": 618,
    "deepnote_cell_type": "code",
    "deepnote_output_heights": [
     467
    ],
    "deepnote_to_be_reexecuted": false,
    "execution_millis": 822,
    "execution_start": 1654522300145,
    "source_hash": "5d3c7318",
    "tags": []
   },
   "outputs": [
    {
     "data": {
      "image/png": "[encoded data removed]",
      "text/plain": [
       "<Figure size 576x576 with 1 Axes>"
      ]
     },
     "metadata": {
      "image/png": {
       "height": 465,
       "width": 460
      },
      "needs_background": "light"
     },
     "output_type": "display_data"
    }
   ],
   "source": [
    "best1200_small_index = np.argmax([p.val_evaluate() for p in population1200_small.population])\n",
    "population1200_small.population[best1200_small_index].plot()\n",
    "plt.title('Best solution')\n",
    "plt.show()"
   ]
  },
  {
   "cell_type": "code",
   "execution_count": null,
   "id": "9564f9b3",
   "metadata": {
    "cell_id": "7b7b295c516b47fe9b5d2bbcc60c38e5",
    "deepnote_cell_height": 375.3999938964844,
    "deepnote_cell_type": "code",
    "deepnote_to_be_reexecuted": false,
    "execution_millis": 1559880,
    "execution_start": 1654522400880,
    "source_hash": "6663dc0c",
    "tags": []
   },
   "outputs": [
    {
     "name": "stdout",
     "output_type": "stream",
     "text": [
      "Epoch: 2/50\n",
      "Best solution function value: 29520.0\n",
      "Epoch: 4/50\n",
      "Best solution function value: 29520.0\n",
      "Epoch: 6/50\n",
      "Best solution function value: 29520.0\n"
     ]
    },
    {
     "ename": "KeyboardInterrupt",
     "evalue": "",
     "output_type": "error",
     "traceback": [
      "\u001b[0;31m---------------------------------------------------------------------------\u001b[0m",
      "\u001b[0;31mKeyboardInterrupt\u001b[0m                         Traceback (most recent call last)",
      "\u001b[0;32m<ipython-input-29-5d1b127c773f>\u001b[0m in \u001b[0;36m<module>\u001b[0;34m\u001b[0m\n\u001b[1;32m      3\u001b[0m                                                  \u001b[0mmutation_population_ratio\u001b[0m\u001b[0;34m=\u001b[0m\u001b[0;36m0.5\u001b[0m\u001b[0;34m,\u001b[0m \u001b[0mrectangles_limit\u001b[0m\u001b[0;34m=\u001b[0m\u001b[0;36m5\u001b[0m\u001b[0;34m,\u001b[0m \u001b[0mtime_limit\u001b[0m\u001b[0;34m=\u001b[0m\u001b[0;36m1\u001b[0m\u001b[0;34m/\u001b[0m\u001b[0;36m3\u001b[0m\u001b[0;34m,\u001b[0m\u001b[0;34m\u001b[0m\u001b[0;34m\u001b[0m\u001b[0m\n\u001b[1;32m      4\u001b[0m                                                  \u001b[0mk\u001b[0m\u001b[0;34m=\u001b[0m\u001b[0;36m8\u001b[0m\u001b[0;34m,\u001b[0m\u001b[0;34m\u001b[0m\u001b[0;34m\u001b[0m\u001b[0m\n\u001b[0;32m----> 5\u001b[0;31m                                                  \u001b[0meval_frequency\u001b[0m\u001b[0;34m=\u001b[0m\u001b[0;36m2\u001b[0m\u001b[0;34m,\u001b[0m \u001b[0meval_score_finish\u001b[0m\u001b[0;34m=\u001b[0m\u001b[0;36m30000\u001b[0m\u001b[0;34m,\u001b[0m \u001b[0mhistory\u001b[0m\u001b[0;34m=\u001b[0m\u001b[0;32mTrue\u001b[0m\u001b[0;34m\u001b[0m\u001b[0;34m\u001b[0m\u001b[0m\n\u001b[0m\u001b[1;32m      6\u001b[0m )\n",
      "\u001b[0;32m/work/GeneticAlgorithms/cutting_stock_problem.py\u001b[0m in \u001b[0;36mtrain\u001b[0;34m(self, n_epochs, crossover_population_ratio, stripe_ratio_to_cut, mutation_population_ratio, rectangles_limit, time_limit, k, eval_frequency, eval_score_finish, history)\u001b[0m\n\u001b[1;32m    422\u001b[0m         \u001b[0;32mfor\u001b[0m \u001b[0mi\u001b[0m \u001b[0;32min\u001b[0m \u001b[0mrange\u001b[0m\u001b[0;34m(\u001b[0m\u001b[0;36m1\u001b[0m\u001b[0;34m,\u001b[0m \u001b[0mn_epochs\u001b[0m \u001b[0;34m+\u001b[0m \u001b[0;36m1\u001b[0m\u001b[0;34m)\u001b[0m\u001b[0;34m:\u001b[0m\u001b[0;34m\u001b[0m\u001b[0;34m\u001b[0m\u001b[0m\n\u001b[1;32m    423\u001b[0m             \u001b[0mself\u001b[0m\u001b[0;34m.\u001b[0m\u001b[0mcrossover\u001b[0m\u001b[0;34m(\u001b[0m\u001b[0mcrossover_population_ratio\u001b[0m\u001b[0;34m,\u001b[0m \u001b[0mstripe_ratio_to_cut\u001b[0m\u001b[0;34m)\u001b[0m\u001b[0;34m\u001b[0m\u001b[0;34m\u001b[0m\u001b[0m\n\u001b[0;32m--> 424\u001b[0;31m             \u001b[0mself\u001b[0m\u001b[0;34m.\u001b[0m\u001b[0mmutation\u001b[0m\u001b[0;34m(\u001b[0m\u001b[0mmutation_population_ratio\u001b[0m\u001b[0;34m,\u001b[0m \u001b[0mrectangles_limit\u001b[0m\u001b[0;34m,\u001b[0m \u001b[0mtime_limit\u001b[0m\u001b[0;34m)\u001b[0m\u001b[0;34m\u001b[0m\u001b[0;34m\u001b[0m\u001b[0m\n\u001b[0m\u001b[1;32m    425\u001b[0m             \u001b[0mself\u001b[0m\u001b[0;34m.\u001b[0m\u001b[0mselection\u001b[0m\u001b[0;34m(\u001b[0m\u001b[0mk\u001b[0m\u001b[0;34m)\u001b[0m\u001b[0;34m\u001b[0m\u001b[0;34m\u001b[0m\u001b[0m\n\u001b[1;32m    426\u001b[0m \u001b[0;34m\u001b[0m\u001b[0m\n",
      "\u001b[0;32m/work/GeneticAlgorithms/cutting_stock_problem.py\u001b[0m in \u001b[0;36mmutation\u001b[0;34m(self, mutation_population_ratio, rectangles_limit, time_limit)\u001b[0m\n\u001b[1;32m    386\u001b[0m         \u001b[0;32mfor\u001b[0m \u001b[0mi\u001b[0m \u001b[0;32min\u001b[0m \u001b[0mrange\u001b[0m\u001b[0;34m(\u001b[0m\u001b[0mlen\u001b[0m\u001b[0;34m(\u001b[0m\u001b[0mindexes_to_mutate\u001b[0m\u001b[0;34m)\u001b[0m\u001b[0;34m)\u001b[0m\u001b[0;34m:\u001b[0m\u001b[0;34m\u001b[0m\u001b[0;34m\u001b[0m\u001b[0m\n\u001b[1;32m    387\u001b[0m             \u001b[0;32mfor\u001b[0m \u001b[0mj\u001b[0m \u001b[0;32min\u001b[0m \u001b[0mrange\u001b[0m\u001b[0;34m(\u001b[0m\u001b[0mlen\u001b[0m\u001b[0;34m(\u001b[0m\u001b[0mself\u001b[0m\u001b[0;34m.\u001b[0m\u001b[0mpopulation\u001b[0m\u001b[0;34m[\u001b[0m\u001b[0mindexes_to_mutate\u001b[0m\u001b[0;34m[\u001b[0m\u001b[0mi\u001b[0m\u001b[0;34m]\u001b[0m\u001b[0;34m]\u001b[0m\u001b[0;34m.\u001b[0m\u001b[0mstripes\u001b[0m\u001b[0;34m)\u001b[0m\u001b[0;34m)\u001b[0m\u001b[0;34m:\u001b[0m\u001b[0;34m\u001b[0m\u001b[0;34m\u001b[0m\u001b[0m\n\u001b[0;32m--> 388\u001b[0;31m                 \u001b[0mself\u001b[0m\u001b[0;34m.\u001b[0m\u001b[0mpopulation\u001b[0m\u001b[0;34m[\u001b[0m\u001b[0mindexes_to_mutate\u001b[0m\u001b[0;34m[\u001b[0m\u001b[0mi\u001b[0m\u001b[0;34m]\u001b[0m\u001b[0;34m]\u001b[0m\u001b[0;34m.\u001b[0m\u001b[0mmove_stripe\u001b[0m\u001b[0;34m(\u001b[0m\u001b[0mnp\u001b[0m\u001b[0;34m.\u001b[0m\u001b[0mrandom\u001b[0m\u001b[0;34m.\u001b[0m\u001b[0mnormal\u001b[0m\u001b[0;34m(\u001b[0m\u001b[0;34m)\u001b[0m\u001b[0;34m,\u001b[0m \u001b[0mnp\u001b[0m\u001b[0;34m.\u001b[0m\u001b[0mrandom\u001b[0m\u001b[0;34m.\u001b[0m\u001b[0mnormal\u001b[0m\u001b[0;34m(\u001b[0m\u001b[0;34m)\u001b[0m\u001b[0;34m,\u001b[0m \u001b[0mj\u001b[0m\u001b[0;34m)\u001b[0m\u001b[0;34m\u001b[0m\u001b[0;34m\u001b[0m\u001b[0m\n\u001b[0m\u001b[1;32m    389\u001b[0m \u001b[0;34m\u001b[0m\u001b[0m\n\u001b[1;32m    390\u001b[0m             \u001b[0mself\u001b[0m\u001b[0;34m.\u001b[0m\u001b[0mpopulation\u001b[0m\u001b[0;34m[\u001b[0m\u001b[0mindexes_to_mutate\u001b[0m\u001b[0;34m[\u001b[0m\u001b[0mi\u001b[0m\u001b[0;34m]\u001b[0m\u001b[0;34m]\u001b[0m\u001b[0;34m.\u001b[0m\u001b[0mfill_with_stripes\u001b[0m\u001b[0;34m(\u001b[0m\u001b[0mself\u001b[0m\u001b[0;34m.\u001b[0m\u001b[0mstripes\u001b[0m\u001b[0;34m,\u001b[0m \u001b[0mrectangles_limit\u001b[0m\u001b[0;34m=\u001b[0m\u001b[0mrectangles_limit\u001b[0m\u001b[0;34m,\u001b[0m \u001b[0mtime_limit\u001b[0m\u001b[0;34m=\u001b[0m\u001b[0mtime_limit\u001b[0m\u001b[0;34m)\u001b[0m\u001b[0;34m\u001b[0m\u001b[0;34m\u001b[0m\u001b[0m\n",
      "\u001b[0;32m/work/GeneticAlgorithms/cutting_stock_problem.py\u001b[0m in \u001b[0;36mmove_stripe\u001b[0;34m(self, x_change, y_change, stripe_ind, force)\u001b[0m\n\u001b[1;32m    155\u001b[0m             \u001b[0;32mreturn\u001b[0m \u001b[0;32mTrue\u001b[0m\u001b[0;34m\u001b[0m\u001b[0;34m\u001b[0m\u001b[0m\n\u001b[1;32m    156\u001b[0m         \u001b[0;32melse\u001b[0m\u001b[0;34m:\u001b[0m\u001b[0;34m\u001b[0m\u001b[0;34m\u001b[0m\u001b[0m\n\u001b[0;32m--> 157\u001b[0;31m             \u001b[0mcircle_copy\u001b[0m \u001b[0;34m=\u001b[0m \u001b[0mcopy\u001b[0m\u001b[0;34m.\u001b[0m\u001b[0mdeepcopy\u001b[0m\u001b[0;34m(\u001b[0m\u001b[0mself\u001b[0m\u001b[0;34m)\u001b[0m\u001b[0;34m\u001b[0m\u001b[0;34m\u001b[0m\u001b[0m\n\u001b[0m\u001b[1;32m    158\u001b[0m             \u001b[0mcircle_copy\u001b[0m\u001b[0;34m.\u001b[0m\u001b[0mstripes\u001b[0m\u001b[0;34m.\u001b[0m\u001b[0mpop\u001b[0m\u001b[0;34m(\u001b[0m\u001b[0mstripe_ind\u001b[0m\u001b[0;34m)\u001b[0m\u001b[0;34m\u001b[0m\u001b[0;34m\u001b[0m\u001b[0m\n\u001b[1;32m    159\u001b[0m             \u001b[0;32mif\u001b[0m \u001b[0mlen\u001b[0m\u001b[0;34m(\u001b[0m\u001b[0;34m[\u001b[0m\u001b[0ms\u001b[0m \u001b[0;32mfor\u001b[0m \u001b[0ms\u001b[0m \u001b[0;32min\u001b[0m \u001b[0mcircle_copy\u001b[0m\u001b[0;34m.\u001b[0m\u001b[0mstripes\u001b[0m \u001b[0;32mif\u001b[0m \u001b[0mnew\u001b[0m\u001b[0;34m.\u001b[0m\u001b[0moverlap\u001b[0m\u001b[0;34m(\u001b[0m\u001b[0ms\u001b[0m\u001b[0;34m)\u001b[0m\u001b[0;34m]\u001b[0m\u001b[0;34m)\u001b[0m \u001b[0;34m==\u001b[0m \u001b[0;36m0\u001b[0m\u001b[0;34m:\u001b[0m\u001b[0;34m\u001b[0m\u001b[0;34m\u001b[0m\u001b[0m\n",
      "\u001b[0;32m/usr/local/lib/python3.7/copy.py\u001b[0m in \u001b[0;36mdeepcopy\u001b[0;34m(x, memo, _nil)\u001b[0m\n\u001b[1;32m    178\u001b[0m                     \u001b[0my\u001b[0m \u001b[0;34m=\u001b[0m \u001b[0mx\u001b[0m\u001b[0;34m\u001b[0m\u001b[0;34m\u001b[0m\u001b[0m\n\u001b[1;32m    179\u001b[0m                 \u001b[0;32melse\u001b[0m\u001b[0;34m:\u001b[0m\u001b[0;34m\u001b[0m\u001b[0;34m\u001b[0m\u001b[0m\n\u001b[0;32m--> 180\u001b[0;31m                     \u001b[0my\u001b[0m \u001b[0;34m=\u001b[0m \u001b[0m_reconstruct\u001b[0m\u001b[0;34m(\u001b[0m\u001b[0mx\u001b[0m\u001b[0;34m,\u001b[0m \u001b[0mmemo\u001b[0m\u001b[0;34m,\u001b[0m \u001b[0;34m*\u001b[0m\u001b[0mrv\u001b[0m\u001b[0;34m)\u001b[0m\u001b[0;34m\u001b[0m\u001b[0;34m\u001b[0m\u001b[0m\n\u001b[0m\u001b[1;32m    181\u001b[0m \u001b[0;34m\u001b[0m\u001b[0m\n\u001b[1;32m    182\u001b[0m     \u001b[0;31m# If is its own copy, don't memoize.\u001b[0m\u001b[0;34m\u001b[0m\u001b[0;34m\u001b[0m\u001b[0;34m\u001b[0m\u001b[0m\n",
      "\u001b[0;32m/usr/local/lib/python3.7/copy.py\u001b[0m in \u001b[0;36m_reconstruct\u001b[0;34m(x, memo, func, args, state, listiter, dictiter, deepcopy)\u001b[0m\n\u001b[1;32m    279\u001b[0m     \u001b[0;32mif\u001b[0m \u001b[0mstate\u001b[0m \u001b[0;32mis\u001b[0m \u001b[0;32mnot\u001b[0m \u001b[0;32mNone\u001b[0m\u001b[0;34m:\u001b[0m\u001b[0;34m\u001b[0m\u001b[0;34m\u001b[0m\u001b[0m\n\u001b[1;32m    280\u001b[0m         \u001b[0;32mif\u001b[0m \u001b[0mdeep\u001b[0m\u001b[0;34m:\u001b[0m\u001b[0;34m\u001b[0m\u001b[0;34m\u001b[0m\u001b[0m\n\u001b[0;32m--> 281\u001b[0;31m             \u001b[0mstate\u001b[0m \u001b[0;34m=\u001b[0m \u001b[0mdeepcopy\u001b[0m\u001b[0;34m(\u001b[0m\u001b[0mstate\u001b[0m\u001b[0;34m,\u001b[0m \u001b[0mmemo\u001b[0m\u001b[0;34m)\u001b[0m\u001b[0;34m\u001b[0m\u001b[0;34m\u001b[0m\u001b[0m\n\u001b[0m\u001b[1;32m    282\u001b[0m         \u001b[0;32mif\u001b[0m \u001b[0mhasattr\u001b[0m\u001b[0;34m(\u001b[0m\u001b[0my\u001b[0m\u001b[0;34m,\u001b[0m \u001b[0;34m'__setstate__'\u001b[0m\u001b[0;34m)\u001b[0m\u001b[0;34m:\u001b[0m\u001b[0;34m\u001b[0m\u001b[0;34m\u001b[0m\u001b[0m\n\u001b[1;32m    283\u001b[0m             \u001b[0my\u001b[0m\u001b[0;34m.\u001b[0m\u001b[0m__setstate__\u001b[0m\u001b[0;34m(\u001b[0m\u001b[0mstate\u001b[0m\u001b[0;34m)\u001b[0m\u001b[0;34m\u001b[0m\u001b[0;34m\u001b[0m\u001b[0m\n",
      "\u001b[0;32m/usr/local/lib/python3.7/copy.py\u001b[0m in \u001b[0;36mdeepcopy\u001b[0;34m(x, memo, _nil)\u001b[0m\n\u001b[1;32m    148\u001b[0m     \u001b[0mcopier\u001b[0m \u001b[0;34m=\u001b[0m \u001b[0m_deepcopy_dispatch\u001b[0m\u001b[0;34m.\u001b[0m\u001b[0mget\u001b[0m\u001b[0;34m(\u001b[0m\u001b[0mcls\u001b[0m\u001b[0;34m)\u001b[0m\u001b[0;34m\u001b[0m\u001b[0;34m\u001b[0m\u001b[0m\n\u001b[1;32m    149\u001b[0m     \u001b[0;32mif\u001b[0m \u001b[0mcopier\u001b[0m\u001b[0;34m:\u001b[0m\u001b[0;34m\u001b[0m\u001b[0;34m\u001b[0m\u001b[0m\n\u001b[0;32m--> 150\u001b[0;31m         \u001b[0my\u001b[0m \u001b[0;34m=\u001b[0m \u001b[0mcopier\u001b[0m\u001b[0;34m(\u001b[0m\u001b[0mx\u001b[0m\u001b[0;34m,\u001b[0m \u001b[0mmemo\u001b[0m\u001b[0;34m)\u001b[0m\u001b[0;34m\u001b[0m\u001b[0;34m\u001b[0m\u001b[0m\n\u001b[0m\u001b[1;32m    151\u001b[0m     \u001b[0;32melse\u001b[0m\u001b[0;34m:\u001b[0m\u001b[0;34m\u001b[0m\u001b[0;34m\u001b[0m\u001b[0m\n\u001b[1;32m    152\u001b[0m         \u001b[0;32mtry\u001b[0m\u001b[0;34m:\u001b[0m\u001b[0;34m\u001b[0m\u001b[0;34m\u001b[0m\u001b[0m\n",
      "\u001b[0;32m/usr/local/lib/python3.7/copy.py\u001b[0m in \u001b[0;36m_deepcopy_dict\u001b[0;34m(x, memo, deepcopy)\u001b[0m\n\u001b[1;32m    239\u001b[0m     \u001b[0mmemo\u001b[0m\u001b[0;34m[\u001b[0m\u001b[0mid\u001b[0m\u001b[0;34m(\u001b[0m\u001b[0mx\u001b[0m\u001b[0;34m)\u001b[0m\u001b[0;34m]\u001b[0m \u001b[0;34m=\u001b[0m \u001b[0my\u001b[0m\u001b[0;34m\u001b[0m\u001b[0;34m\u001b[0m\u001b[0m\n\u001b[1;32m    240\u001b[0m     \u001b[0;32mfor\u001b[0m \u001b[0mkey\u001b[0m\u001b[0;34m,\u001b[0m \u001b[0mvalue\u001b[0m \u001b[0;32min\u001b[0m \u001b[0mx\u001b[0m\u001b[0;34m.\u001b[0m\u001b[0mitems\u001b[0m\u001b[0;34m(\u001b[0m\u001b[0;34m)\u001b[0m\u001b[0;34m:\u001b[0m\u001b[0;34m\u001b[0m\u001b[0;34m\u001b[0m\u001b[0m\n\u001b[0;32m--> 241\u001b[0;31m         \u001b[0my\u001b[0m\u001b[0;34m[\u001b[0m\u001b[0mdeepcopy\u001b[0m\u001b[0;34m(\u001b[0m\u001b[0mkey\u001b[0m\u001b[0;34m,\u001b[0m \u001b[0mmemo\u001b[0m\u001b[0;34m)\u001b[0m\u001b[0;34m]\u001b[0m \u001b[0;34m=\u001b[0m \u001b[0mdeepcopy\u001b[0m\u001b[0;34m(\u001b[0m\u001b[0mvalue\u001b[0m\u001b[0;34m,\u001b[0m \u001b[0mmemo\u001b[0m\u001b[0;34m)\u001b[0m\u001b[0;34m\u001b[0m\u001b[0;34m\u001b[0m\u001b[0m\n\u001b[0m\u001b[1;32m    242\u001b[0m     \u001b[0;32mreturn\u001b[0m \u001b[0my\u001b[0m\u001b[0;34m\u001b[0m\u001b[0;34m\u001b[0m\u001b[0m\n\u001b[1;32m    243\u001b[0m \u001b[0md\u001b[0m\u001b[0;34m[\u001b[0m\u001b[0mdict\u001b[0m\u001b[0;34m]\u001b[0m \u001b[0;34m=\u001b[0m \u001b[0m_deepcopy_dict\u001b[0m\u001b[0;34m\u001b[0m\u001b[0;34m\u001b[0m\u001b[0m\n",
      "\u001b[0;32m/usr/local/lib/python3.7/copy.py\u001b[0m in \u001b[0;36mdeepcopy\u001b[0;34m(x, memo, _nil)\u001b[0m\n\u001b[1;32m    148\u001b[0m     \u001b[0mcopier\u001b[0m \u001b[0;34m=\u001b[0m \u001b[0m_deepcopy_dispatch\u001b[0m\u001b[0;34m.\u001b[0m\u001b[0mget\u001b[0m\u001b[0;34m(\u001b[0m\u001b[0mcls\u001b[0m\u001b[0;34m)\u001b[0m\u001b[0;34m\u001b[0m\u001b[0;34m\u001b[0m\u001b[0m\n\u001b[1;32m    149\u001b[0m     \u001b[0;32mif\u001b[0m \u001b[0mcopier\u001b[0m\u001b[0;34m:\u001b[0m\u001b[0;34m\u001b[0m\u001b[0;34m\u001b[0m\u001b[0m\n\u001b[0;32m--> 150\u001b[0;31m         \u001b[0my\u001b[0m \u001b[0;34m=\u001b[0m \u001b[0mcopier\u001b[0m\u001b[0;34m(\u001b[0m\u001b[0mx\u001b[0m\u001b[0;34m,\u001b[0m \u001b[0mmemo\u001b[0m\u001b[0;34m)\u001b[0m\u001b[0;34m\u001b[0m\u001b[0;34m\u001b[0m\u001b[0m\n\u001b[0m\u001b[1;32m    151\u001b[0m     \u001b[0;32melse\u001b[0m\u001b[0;34m:\u001b[0m\u001b[0;34m\u001b[0m\u001b[0;34m\u001b[0m\u001b[0m\n\u001b[1;32m    152\u001b[0m         \u001b[0;32mtry\u001b[0m\u001b[0;34m:\u001b[0m\u001b[0;34m\u001b[0m\u001b[0;34m\u001b[0m\u001b[0m\n",
      "\u001b[0;32m/usr/local/lib/python3.7/copy.py\u001b[0m in \u001b[0;36m_deepcopy_list\u001b[0;34m(x, memo, deepcopy)\u001b[0m\n\u001b[1;32m    214\u001b[0m     \u001b[0mappend\u001b[0m \u001b[0;34m=\u001b[0m \u001b[0my\u001b[0m\u001b[0;34m.\u001b[0m\u001b[0mappend\u001b[0m\u001b[0;34m\u001b[0m\u001b[0;34m\u001b[0m\u001b[0m\n\u001b[1;32m    215\u001b[0m     \u001b[0;32mfor\u001b[0m \u001b[0ma\u001b[0m \u001b[0;32min\u001b[0m \u001b[0mx\u001b[0m\u001b[0;34m:\u001b[0m\u001b[0;34m\u001b[0m\u001b[0;34m\u001b[0m\u001b[0m\n\u001b[0;32m--> 216\u001b[0;31m         \u001b[0mappend\u001b[0m\u001b[0;34m(\u001b[0m\u001b[0mdeepcopy\u001b[0m\u001b[0;34m(\u001b[0m\u001b[0ma\u001b[0m\u001b[0;34m,\u001b[0m \u001b[0mmemo\u001b[0m\u001b[0;34m)\u001b[0m\u001b[0;34m)\u001b[0m\u001b[0;34m\u001b[0m\u001b[0;34m\u001b[0m\u001b[0m\n\u001b[0m\u001b[1;32m    217\u001b[0m     \u001b[0;32mreturn\u001b[0m \u001b[0my\u001b[0m\u001b[0;34m\u001b[0m\u001b[0;34m\u001b[0m\u001b[0m\n\u001b[1;32m    218\u001b[0m \u001b[0md\u001b[0m\u001b[0;34m[\u001b[0m\u001b[0mlist\u001b[0m\u001b[0;34m]\u001b[0m \u001b[0;34m=\u001b[0m \u001b[0m_deepcopy_list\u001b[0m\u001b[0;34m\u001b[0m\u001b[0;34m\u001b[0m\u001b[0m\n",
      "\u001b[0;32m/usr/local/lib/python3.7/copy.py\u001b[0m in \u001b[0;36mdeepcopy\u001b[0;34m(x, memo, _nil)\u001b[0m\n\u001b[1;32m    178\u001b[0m                     \u001b[0my\u001b[0m \u001b[0;34m=\u001b[0m \u001b[0mx\u001b[0m\u001b[0;34m\u001b[0m\u001b[0;34m\u001b[0m\u001b[0m\n\u001b[1;32m    179\u001b[0m                 \u001b[0;32melse\u001b[0m\u001b[0;34m:\u001b[0m\u001b[0;34m\u001b[0m\u001b[0;34m\u001b[0m\u001b[0m\n\u001b[0;32m--> 180\u001b[0;31m                     \u001b[0my\u001b[0m \u001b[0;34m=\u001b[0m \u001b[0m_reconstruct\u001b[0m\u001b[0;34m(\u001b[0m\u001b[0mx\u001b[0m\u001b[0;34m,\u001b[0m \u001b[0mmemo\u001b[0m\u001b[0;34m,\u001b[0m \u001b[0;34m*\u001b[0m\u001b[0mrv\u001b[0m\u001b[0;34m)\u001b[0m\u001b[0;34m\u001b[0m\u001b[0;34m\u001b[0m\u001b[0m\n\u001b[0m\u001b[1;32m    181\u001b[0m \u001b[0;34m\u001b[0m\u001b[0m\n\u001b[1;32m    182\u001b[0m     \u001b[0;31m# If is its own copy, don't memoize.\u001b[0m\u001b[0;34m\u001b[0m\u001b[0;34m\u001b[0m\u001b[0;34m\u001b[0m\u001b[0m\n",
      "\u001b[0;32m/usr/local/lib/python3.7/copy.py\u001b[0m in \u001b[0;36m_reconstruct\u001b[0;34m(x, memo, func, args, state, listiter, dictiter, deepcopy)\u001b[0m\n\u001b[1;32m    279\u001b[0m     \u001b[0;32mif\u001b[0m \u001b[0mstate\u001b[0m \u001b[0;32mis\u001b[0m \u001b[0;32mnot\u001b[0m \u001b[0;32mNone\u001b[0m\u001b[0;34m:\u001b[0m\u001b[0;34m\u001b[0m\u001b[0;34m\u001b[0m\u001b[0m\n\u001b[1;32m    280\u001b[0m         \u001b[0;32mif\u001b[0m \u001b[0mdeep\u001b[0m\u001b[0;34m:\u001b[0m\u001b[0;34m\u001b[0m\u001b[0;34m\u001b[0m\u001b[0m\n\u001b[0;32m--> 281\u001b[0;31m             \u001b[0mstate\u001b[0m \u001b[0;34m=\u001b[0m \u001b[0mdeepcopy\u001b[0m\u001b[0;34m(\u001b[0m\u001b[0mstate\u001b[0m\u001b[0;34m,\u001b[0m \u001b[0mmemo\u001b[0m\u001b[0;34m)\u001b[0m\u001b[0;34m\u001b[0m\u001b[0;34m\u001b[0m\u001b[0m\n\u001b[0m\u001b[1;32m    282\u001b[0m         \u001b[0;32mif\u001b[0m \u001b[0mhasattr\u001b[0m\u001b[0;34m(\u001b[0m\u001b[0my\u001b[0m\u001b[0;34m,\u001b[0m \u001b[0;34m'__setstate__'\u001b[0m\u001b[0;34m)\u001b[0m\u001b[0;34m:\u001b[0m\u001b[0;34m\u001b[0m\u001b[0;34m\u001b[0m\u001b[0m\n\u001b[1;32m    283\u001b[0m             \u001b[0my\u001b[0m\u001b[0;34m.\u001b[0m\u001b[0m__setstate__\u001b[0m\u001b[0;34m(\u001b[0m\u001b[0mstate\u001b[0m\u001b[0;34m)\u001b[0m\u001b[0;34m\u001b[0m\u001b[0;34m\u001b[0m\u001b[0m\n",
      "\u001b[0;32m/usr/local/lib/python3.7/copy.py\u001b[0m in \u001b[0;36mdeepcopy\u001b[0;34m(x, memo, _nil)\u001b[0m\n\u001b[1;32m    148\u001b[0m     \u001b[0mcopier\u001b[0m \u001b[0;34m=\u001b[0m \u001b[0m_deepcopy_dispatch\u001b[0m\u001b[0;34m.\u001b[0m\u001b[0mget\u001b[0m\u001b[0;34m(\u001b[0m\u001b[0mcls\u001b[0m\u001b[0;34m)\u001b[0m\u001b[0;34m\u001b[0m\u001b[0;34m\u001b[0m\u001b[0m\n\u001b[1;32m    149\u001b[0m     \u001b[0;32mif\u001b[0m \u001b[0mcopier\u001b[0m\u001b[0;34m:\u001b[0m\u001b[0;34m\u001b[0m\u001b[0;34m\u001b[0m\u001b[0m\n\u001b[0;32m--> 150\u001b[0;31m         \u001b[0my\u001b[0m \u001b[0;34m=\u001b[0m \u001b[0mcopier\u001b[0m\u001b[0;34m(\u001b[0m\u001b[0mx\u001b[0m\u001b[0;34m,\u001b[0m \u001b[0mmemo\u001b[0m\u001b[0;34m)\u001b[0m\u001b[0;34m\u001b[0m\u001b[0;34m\u001b[0m\u001b[0m\n\u001b[0m\u001b[1;32m    151\u001b[0m     \u001b[0;32melse\u001b[0m\u001b[0;34m:\u001b[0m\u001b[0;34m\u001b[0m\u001b[0;34m\u001b[0m\u001b[0m\n\u001b[1;32m    152\u001b[0m         \u001b[0;32mtry\u001b[0m\u001b[0;34m:\u001b[0m\u001b[0;34m\u001b[0m\u001b[0;34m\u001b[0m\u001b[0m\n",
      "\u001b[0;32m/usr/local/lib/python3.7/copy.py\u001b[0m in \u001b[0;36m_deepcopy_dict\u001b[0;34m(x, memo, deepcopy)\u001b[0m\n\u001b[1;32m    239\u001b[0m     \u001b[0mmemo\u001b[0m\u001b[0;34m[\u001b[0m\u001b[0mid\u001b[0m\u001b[0;34m(\u001b[0m\u001b[0mx\u001b[0m\u001b[0;34m)\u001b[0m\u001b[0;34m]\u001b[0m \u001b[0;34m=\u001b[0m \u001b[0my\u001b[0m\u001b[0;34m\u001b[0m\u001b[0;34m\u001b[0m\u001b[0m\n\u001b[1;32m    240\u001b[0m     \u001b[0;32mfor\u001b[0m \u001b[0mkey\u001b[0m\u001b[0;34m,\u001b[0m \u001b[0mvalue\u001b[0m \u001b[0;32min\u001b[0m \u001b[0mx\u001b[0m\u001b[0;34m.\u001b[0m\u001b[0mitems\u001b[0m\u001b[0;34m(\u001b[0m\u001b[0;34m)\u001b[0m\u001b[0;34m:\u001b[0m\u001b[0;34m\u001b[0m\u001b[0;34m\u001b[0m\u001b[0m\n\u001b[0;32m--> 241\u001b[0;31m         \u001b[0my\u001b[0m\u001b[0;34m[\u001b[0m\u001b[0mdeepcopy\u001b[0m\u001b[0;34m(\u001b[0m\u001b[0mkey\u001b[0m\u001b[0;34m,\u001b[0m \u001b[0mmemo\u001b[0m\u001b[0;34m)\u001b[0m\u001b[0;34m]\u001b[0m \u001b[0;34m=\u001b[0m \u001b[0mdeepcopy\u001b[0m\u001b[0;34m(\u001b[0m\u001b[0mvalue\u001b[0m\u001b[0;34m,\u001b[0m \u001b[0mmemo\u001b[0m\u001b[0;34m)\u001b[0m\u001b[0;34m\u001b[0m\u001b[0;34m\u001b[0m\u001b[0m\n\u001b[0m\u001b[1;32m    242\u001b[0m     \u001b[0;32mreturn\u001b[0m \u001b[0my\u001b[0m\u001b[0;34m\u001b[0m\u001b[0;34m\u001b[0m\u001b[0m\n\u001b[1;32m    243\u001b[0m \u001b[0md\u001b[0m\u001b[0;34m[\u001b[0m\u001b[0mdict\u001b[0m\u001b[0;34m]\u001b[0m \u001b[0;34m=\u001b[0m \u001b[0m_deepcopy_dict\u001b[0m\u001b[0;34m\u001b[0m\u001b[0;34m\u001b[0m\u001b[0m\n",
      "\u001b[0;32m/usr/local/lib/python3.7/copy.py\u001b[0m in \u001b[0;36mdeepcopy\u001b[0;34m(x, memo, _nil)\u001b[0m\n\u001b[1;32m    178\u001b[0m                     \u001b[0my\u001b[0m \u001b[0;34m=\u001b[0m \u001b[0mx\u001b[0m\u001b[0;34m\u001b[0m\u001b[0;34m\u001b[0m\u001b[0m\n\u001b[1;32m    179\u001b[0m                 \u001b[0;32melse\u001b[0m\u001b[0;34m:\u001b[0m\u001b[0;34m\u001b[0m\u001b[0;34m\u001b[0m\u001b[0m\n\u001b[0;32m--> 180\u001b[0;31m                     \u001b[0my\u001b[0m \u001b[0;34m=\u001b[0m \u001b[0m_reconstruct\u001b[0m\u001b[0;34m(\u001b[0m\u001b[0mx\u001b[0m\u001b[0;34m,\u001b[0m \u001b[0mmemo\u001b[0m\u001b[0;34m,\u001b[0m \u001b[0;34m*\u001b[0m\u001b[0mrv\u001b[0m\u001b[0;34m)\u001b[0m\u001b[0;34m\u001b[0m\u001b[0;34m\u001b[0m\u001b[0m\n\u001b[0m\u001b[1;32m    181\u001b[0m \u001b[0;34m\u001b[0m\u001b[0m\n\u001b[1;32m    182\u001b[0m     \u001b[0;31m# If is its own copy, don't memoize.\u001b[0m\u001b[0;34m\u001b[0m\u001b[0;34m\u001b[0m\u001b[0;34m\u001b[0m\u001b[0m\n",
      "\u001b[0;32m/usr/local/lib/python3.7/copy.py\u001b[0m in \u001b[0;36m_reconstruct\u001b[0;34m(x, memo, func, args, state, listiter, dictiter, deepcopy)\u001b[0m\n\u001b[1;32m    279\u001b[0m     \u001b[0;32mif\u001b[0m \u001b[0mstate\u001b[0m \u001b[0;32mis\u001b[0m \u001b[0;32mnot\u001b[0m \u001b[0;32mNone\u001b[0m\u001b[0;34m:\u001b[0m\u001b[0;34m\u001b[0m\u001b[0;34m\u001b[0m\u001b[0m\n\u001b[1;32m    280\u001b[0m         \u001b[0;32mif\u001b[0m \u001b[0mdeep\u001b[0m\u001b[0;34m:\u001b[0m\u001b[0;34m\u001b[0m\u001b[0;34m\u001b[0m\u001b[0m\n\u001b[0;32m--> 281\u001b[0;31m             \u001b[0mstate\u001b[0m \u001b[0;34m=\u001b[0m \u001b[0mdeepcopy\u001b[0m\u001b[0;34m(\u001b[0m\u001b[0mstate\u001b[0m\u001b[0;34m,\u001b[0m \u001b[0mmemo\u001b[0m\u001b[0;34m)\u001b[0m\u001b[0;34m\u001b[0m\u001b[0;34m\u001b[0m\u001b[0m\n\u001b[0m\u001b[1;32m    282\u001b[0m         \u001b[0;32mif\u001b[0m \u001b[0mhasattr\u001b[0m\u001b[0;34m(\u001b[0m\u001b[0my\u001b[0m\u001b[0;34m,\u001b[0m \u001b[0;34m'__setstate__'\u001b[0m\u001b[0;34m)\u001b[0m\u001b[0;34m:\u001b[0m\u001b[0;34m\u001b[0m\u001b[0;34m\u001b[0m\u001b[0m\n\u001b[1;32m    283\u001b[0m             \u001b[0my\u001b[0m\u001b[0;34m.\u001b[0m\u001b[0m__setstate__\u001b[0m\u001b[0;34m(\u001b[0m\u001b[0mstate\u001b[0m\u001b[0;34m)\u001b[0m\u001b[0;34m\u001b[0m\u001b[0;34m\u001b[0m\u001b[0m\n",
      "\u001b[0;32m/usr/local/lib/python3.7/copy.py\u001b[0m in \u001b[0;36mdeepcopy\u001b[0;34m(x, memo, _nil)\u001b[0m\n\u001b[1;32m    144\u001b[0m         \u001b[0;32mreturn\u001b[0m \u001b[0my\u001b[0m\u001b[0;34m\u001b[0m\u001b[0;34m\u001b[0m\u001b[0m\n\u001b[1;32m    145\u001b[0m \u001b[0;34m\u001b[0m\u001b[0m\n\u001b[0;32m--> 146\u001b[0;31m     \u001b[0mcls\u001b[0m \u001b[0;34m=\u001b[0m \u001b[0mtype\u001b[0m\u001b[0;34m(\u001b[0m\u001b[0mx\u001b[0m\u001b[0;34m)\u001b[0m\u001b[0;34m\u001b[0m\u001b[0;34m\u001b[0m\u001b[0m\n\u001b[0m\u001b[1;32m    147\u001b[0m \u001b[0;34m\u001b[0m\u001b[0m\n\u001b[1;32m    148\u001b[0m     \u001b[0mcopier\u001b[0m \u001b[0;34m=\u001b[0m \u001b[0m_deepcopy_dispatch\u001b[0m\u001b[0;34m.\u001b[0m\u001b[0mget\u001b[0m\u001b[0;34m(\u001b[0m\u001b[0mcls\u001b[0m\u001b[0;34m)\u001b[0m\u001b[0;34m\u001b[0m\u001b[0;34m\u001b[0m\u001b[0m\n",
      "\u001b[0;31mKeyboardInterrupt\u001b[0m: "
     ]
    }
   ],
   "source": [
    "history1200_small_3 = population1200_small.train(n_epochs=50,\n",
    "                                                 crossover_population_ratio=0.9, stripe_ratio_to_cut=0.4,\n",
    "                                                 mutation_population_ratio=0.5, rectangles_limit=5, time_limit=1/3,\n",
    "                                                 k=8,\n",
    "                                                 eval_frequency=2, eval_score_finish=30000, history=True\n",
    ")"
   ]
  },
  {
   "cell_type": "markdown",
   "id": "4361836b-1985-48a7-85e9-20064e3f7226",
   "metadata": {},
   "source": [
    "Uczenie wciąż nie przynosi rezultatów, algorytm zatrzymał się na tym jednym wyniku. Niemniej jednak, uzyskana wartość $29520$ jest bliska oczekiwanemu $30000$."
   ]
  },
  {
   "cell_type": "code",
   "execution_count": null,
   "id": "b5d3406c",
   "metadata": {
    "cell_id": "00042-fe2fd73c-4956-40fa-b3b2-0c6ea3910f69",
    "deepnote_cell_height": 618,
    "deepnote_cell_type": "code",
    "deepnote_output_heights": [
     467
    ],
    "deepnote_to_be_reexecuted": false,
    "execution_millis": 978,
    "execution_start": 1654523978762,
    "source_hash": "5d3c7318"
   },
   "outputs": [
    {
     "data": {
      "image/png": "[encoded data removed]",
      "text/plain": [
       "<Figure size 576x576 with 1 Axes>"
      ]
     },
     "metadata": {
      "image/png": {
       "height": 465,
       "width": 460
      },
      "needs_background": "light"
     },
     "output_type": "display_data"
    }
   ],
   "source": [
    "best1200_small_index = np.argmax([p.val_evaluate() for p in population1200_small.population])\n",
    "population1200_small.population[best1200_small_index].plot()\n",
    "plt.title('Best solution')\n",
    "plt.show()"
   ]
  },
  {
   "cell_type": "code",
   "execution_count": null,
   "id": "0864dadb",
   "metadata": {
    "cell_id": "a40ae1c6f35a49e8b15fcef5e7a9a173",
    "deepnote_cell_height": 66,
    "deepnote_cell_type": "code",
    "tags": []
   },
   "outputs": [],
   "source": []
  },
  {
   "cell_type": "markdown",
   "id": "c1559615",
   "metadata": {
    "cell_id": "22110d11f65843b6a5811509a8807a2d",
    "deepnote_cell_height": 57.633331298828125,
    "deepnote_cell_type": "markdown",
    "tags": []
   },
   "source": [
    "#### $R=1000$"
   ]
  },
  {
   "cell_type": "code",
   "execution_count": null,
   "id": "c36247bc",
   "metadata": {
    "cell_id": "00047-87028c0d-28f8-4dbd-aa00-3b3e9e36eec7",
    "deepnote_cell_height": 81,
    "deepnote_cell_type": "code",
    "deepnote_to_be_reexecuted": false,
    "execution_millis": 9,
    "execution_start": 1654443481905,
    "source_hash": "48507901"
   },
   "outputs": [],
   "source": [
    "rectangles1000 = rectangles_from_file('./data/cutting/r1000.csv')"
   ]
  },
  {
   "cell_type": "code",
   "execution_count": null,
   "id": "883d0ef1",
   "metadata": {
    "cell_id": "00048-ac52b532-edbd-419f-840d-d2821c31f681",
    "deepnote_cell_height": 81,
    "deepnote_cell_type": "code",
    "deepnote_to_be_reexecuted": false,
    "execution_millis": 56531,
    "execution_start": 1654443532524,
    "source_hash": "2accb248"
   },
   "outputs": [],
   "source": [
    "stripes1000 = stripe_generator(rectangles1000, 2 * 1000)"
   ]
  },
  {
   "cell_type": "code",
   "execution_count": null,
   "id": "0b780add",
   "metadata": {
    "cell_id": "00050-8c295343-e0f5-49c2-b610-cad03d41dd0f",
    "deepnote_cell_height": 99,
    "deepnote_cell_type": "code",
    "deepnote_to_be_reexecuted": false,
    "execution_millis": 125135,
    "execution_start": 1654443599933,
    "source_hash": "21697a12"
   },
   "outputs": [],
   "source": [
    "population1000 = CirclePopulation(1000, stripes1000, n=500)\n",
    "population1000.generate(time_limit=1/4)"
   ]
  },
  {
   "cell_type": "code",
   "execution_count": null,
   "id": "612df9ed",
   "metadata": {
    "cell_id": "1a43433fdd384774bd2042498822f886",
    "deepnote_cell_height": 111.19999694824219,
    "deepnote_cell_type": "code",
    "deepnote_to_be_reexecuted": false,
    "execution_millis": 2,
    "execution_start": 1654443729149,
    "source_hash": "bcac64dd",
    "tags": []
   },
   "outputs": [
    {
     "name": "stdout",
     "output_type": "stream",
     "text": [
      "Current best solution: 16220.0\n"
     ]
    }
   ],
   "source": [
    "print(f\"Current best solution: {max([p.val_evaluate() for p in population1000.population])}\")"
   ]
  },
  {
   "cell_type": "code",
   "execution_count": null,
   "id": "59d5887d",
   "metadata": {
    "cell_id": "54085b58386646e9bf3e1a96ffe6a887",
    "deepnote_cell_height": 527.5999755859375,
    "deepnote_cell_type": "code",
    "deepnote_to_be_reexecuted": false,
    "execution_millis": 296066,
    "execution_start": 1654443764103,
    "source_hash": "fc4db4c2",
    "tags": []
   },
   "outputs": [
    {
     "name": "stdout",
     "output_type": "stream",
     "text": [
      "Epoch: 1/50\n",
      "Best solution function value: 15780.0\n",
      "Epoch: 2/50\n",
      "Best solution function value: 15880.0\n",
      "Epoch: 3/50\n",
      "Best solution function value: 16520.0\n",
      "Epoch: 4/50\n",
      "Best solution function value: 16860.0\n",
      "Epoch: 5/50\n",
      "Best solution function value: 16860.0\n",
      "Epoch: 6/50\n",
      "Best solution function value: 17240.0\n",
      "Epoch: 7/50\n",
      "Best solution function value: 17440.0\n",
      "Epoch: 8/50\n",
      "Best solution function value: 17440.0\n",
      "Epoch: 9/50\n",
      "Best solution function value: 18340.0\n"
     ]
    }
   ],
   "source": [
    "history1000 = population1000.train(n_epochs=50,\n",
    "                                   crossover_population_ratio=0.8, stripe_ratio_to_cut=0.1,\n",
    "                                   mutation_population_ratio=0.3, rectangles_limit=5, time_limit=1/4,\n",
    "                                   k=7,\n",
    "                                   eval_frequency=1, eval_score_finish=17500, history=True\n",
    ")"
   ]
  },
  {
   "cell_type": "code",
   "execution_count": null,
   "id": "43e57728",
   "metadata": {
    "cell_id": "7028ec12e02f4c75a9e7b532b6b8b2ae",
    "deepnote_cell_height": 189,
    "deepnote_cell_type": "code",
    "deepnote_output_heights": [
     2
    ],
    "deepnote_to_be_reexecuted": false,
    "execution_millis": 564,
    "execution_start": 1654453520521,
    "source_hash": "8c1122a1",
    "tags": []
   },
   "outputs": [
    {
     "data": {
      "image/png": "[encoded data removed]",
      "text/plain": [
       "<Figure size 432x288 with 1 Axes>"
      ]
     },
     "metadata": {
      "image/png": {
       "height": 278,
       "width": 401
      },
      "needs_background": "light"
     },
     "output_type": "display_data"
    }
   ],
   "source": [
    "sns.lineplot(x=list(range(len(history1000))), y=history1000)\n",
    "plt.title('Training progress')\n",
    "plt.xlabel('Epoch number')\n",
    "plt.xticks(list(range(len(history1000))))\n",
    "plt.ylabel('Best solution value')\n",
    "plt.show()"
   ]
  },
  {
   "cell_type": "code",
   "execution_count": null,
   "id": "1a586167",
   "metadata": {
    "cell_id": "4a22a28a1c5b4160aa69dbc313a09072",
    "deepnote_cell_height": 153,
    "deepnote_cell_type": "code",
    "deepnote_output_heights": [
     2
    ],
    "deepnote_to_be_reexecuted": false,
    "execution_millis": 293,
    "execution_start": 1654444064558,
    "source_hash": "3de85ddd",
    "tags": []
   },
   "outputs": [
    {
     "data": {
      "image/png": "[encoded data removed]",
      "text/plain": [
       "<Figure size 576x576 with 1 Axes>"
      ]
     },
     "metadata": {
      "image/png": {
       "height": 465,
       "width": 460
      },
      "needs_background": "light"
     },
     "output_type": "display_data"
    }
   ],
   "source": [
    "best1000_index = np.argmax([p.val_evaluate() for p in population1000.population])\n",
    "population1000.population[best1000_index].plot()\n",
    "plt.title('Best solution')\n",
    "plt.show()"
   ]
  },
  {
   "cell_type": "markdown",
   "id": "d1e4f052",
   "metadata": {
    "cell_id": "cbbfeb717c4b4cd28427d85d31039a3a",
    "deepnote_cell_height": 52.399993896484375,
    "deepnote_cell_type": "markdown",
    "tags": []
   },
   "source": [
    "Oczekiwany wynik został osiągnięty, jednak zobaczę, o ile jeszcze można polepszyć wynik w kilku następnych epockach."
   ]
  },
  {
   "cell_type": "code",
   "execution_count": null,
   "id": "1bc434f9",
   "metadata": {
    "cell_id": "99035e7e921043b7a3bf5535c21f6fad",
    "deepnote_cell_height": 153,
    "deepnote_cell_type": "code",
    "deepnote_to_be_reexecuted": false,
    "execution_millis": 11468,
    "execution_start": 1654453592667,
    "source_hash": "6277473b",
    "tags": []
   },
   "outputs": [],
   "source": [
    "with open(r\"history1000.pickle\", \"rb\") as f:\n",
    "    history1000 = pickle.load(f)\n",
    "\n",
    "with open(r\"population1000-trained.pickle\", \"rb\") as f:\n",
    "    population1000 = pickle.load(f)"
   ]
  },
  {
   "cell_type": "code",
   "execution_count": null,
   "id": "e5545d5b",
   "metadata": {
    "cell_id": "50d3b4bdf64f42d08092c2637c66820a",
    "deepnote_cell_height": 566,
    "deepnote_cell_type": "code",
    "deepnote_to_be_reexecuted": false,
    "execution_millis": 492049,
    "execution_start": 1654453621196,
    "source_hash": "18071e02",
    "tags": []
   },
   "outputs": [
    {
     "name": "stdout",
     "output_type": "stream",
     "text": [
      "Epoch: 1/10\n",
      "Best solution function value: 18380.0\n",
      "Epoch: 2/10\n",
      "Best solution function value: 19060.0\n",
      "Epoch: 3/10\n",
      "Best solution function value: 19100.0\n",
      "Epoch: 4/10\n",
      "Best solution function value: 19380.0\n",
      "Epoch: 5/10\n",
      "Best solution function value: 19420.0\n",
      "Epoch: 6/10\n",
      "Best solution function value: 19620.0\n",
      "Epoch: 7/10\n",
      "Best solution function value: 19840.0\n",
      "Epoch: 8/10\n",
      "Best solution function value: 19880.0\n",
      "Epoch: 9/10\n",
      "Best solution function value: 19920.0\n",
      "Epoch: 10/10\n",
      "Best solution function value: 19960.0\n"
     ]
    }
   ],
   "source": [
    "history1000_2 = population1000.train(n_epochs=10,\n",
    "                                     crossover_population_ratio=0.8, stripe_ratio_to_cut=0.1,\n",
    "                                     mutation_population_ratio=0.3, rectangles_limit=5, time_limit=1/4,\n",
    "                                     k=7,\n",
    "                                     eval_frequency=1, eval_score_finish=None, history=True\n",
    ")"
   ]
  },
  {
   "cell_type": "code",
   "execution_count": null,
   "id": "3d3394f3",
   "metadata": {
    "cell_id": "40695e775f7e4c15b4e619b8b586d63c",
    "deepnote_cell_height": 136,
    "deepnote_cell_type": "code",
    "deepnote_output_heights": [
     21
    ],
    "deepnote_to_be_reexecuted": false,
    "execution_millis": 40,
    "execution_start": 1654454113309,
    "source_hash": "a6575ff1",
    "tags": []
   },
   "outputs": [
    {
     "data": {
      "text/plain": [
       "18340.0"
      ]
     },
     "execution_count": 51,
     "metadata": {},
     "output_type": "execute_result"
    }
   ],
   "source": [
    "history1000_concat = history1000 + history1000_2\n",
    "history1000_concat.pop(len(history1000) - 1)"
   ]
  },
  {
   "cell_type": "code",
   "execution_count": null,
   "id": "6bd46f4a",
   "metadata": {
    "cell_id": "698f8a99545b4e1c9b96dbbeafa86778",
    "deepnote_cell_height": 189,
    "deepnote_cell_type": "code",
    "deepnote_output_heights": [
     2
    ],
    "deepnote_to_be_reexecuted": false,
    "execution_millis": 919,
    "execution_start": 1654454142846,
    "source_hash": "ad027c8e",
    "tags": []
   },
   "outputs": [
    {
     "data": {
      "image/png": "[encoded data removed]",
      "text/plain": [
       "<Figure size 432x288 with 1 Axes>"
      ]
     },
     "metadata": {
      "image/png": {
       "height": 278,
       "width": 401
      },
      "needs_background": "light"
     },
     "output_type": "display_data"
    }
   ],
   "source": [
    "sns.lineplot(x=list(range(len(history1000_concat))), y=history1000_concat)\n",
    "plt.title('Training progress')\n",
    "plt.xlabel('Epoch number')\n",
    "plt.xticks(list(range(0, len(history1000_concat), 2)))\n",
    "plt.ylabel('Best solution value')\n",
    "plt.show()"
   ]
  },
  {
   "cell_type": "code",
   "execution_count": null,
   "id": "71149dfd",
   "metadata": {
    "cell_id": "d6e6c58273c64a4baf416c665cd8c128",
    "deepnote_cell_height": 153,
    "deepnote_cell_type": "code",
    "deepnote_output_heights": [
     2
    ],
    "deepnote_to_be_reexecuted": false,
    "execution_millis": 1119,
    "execution_start": 1654454114372,
    "source_hash": "9b19fb85",
    "tags": []
   },
   "outputs": [
    {
     "data": {
      "image/png": "[encoded data removed]",
      "text/plain": [
       "<Figure size 576x576 with 1 Axes>"
      ]
     },
     "metadata": {
      "image/png": {
       "height": 465,
       "width": 460
      },
      "needs_background": "light"
     },
     "output_type": "display_data"
    }
   ],
   "source": [
    "best1000_2_index = np.argmax([p.val_evaluate() for p in population1000.population])\n",
    "population1000.population[best1000_2_index].plot()\n",
    "plt.title('Best solution')\n",
    "plt.show()"
   ]
  },
  {
   "cell_type": "code",
   "execution_count": null,
   "id": "dbbb81d6",
   "metadata": {
    "cell_id": "bf80a2ef8ad840cda0c7443196fc2536",
    "deepnote_cell_height": 66,
    "deepnote_cell_type": "code",
    "tags": []
   },
   "outputs": [],
   "source": []
  },
  {
   "cell_type": "markdown",
   "id": "bf9193e6",
   "metadata": {
    "cell_id": "d6d94e8b192d4229b7a205927a8d94a7",
    "deepnote_cell_height": 57.633331298828125,
    "deepnote_cell_type": "markdown",
    "tags": []
   },
   "source": [
    "#### $R=1100$"
   ]
  },
  {
   "cell_type": "code",
   "execution_count": null,
   "id": "2509658e",
   "metadata": {
    "cell_id": "a6f066b3e7b04fe6982cd0b39ab6cc3b",
    "deepnote_cell_height": 81,
    "deepnote_cell_type": "code",
    "deepnote_to_be_reexecuted": false,
    "execution_millis": 40,
    "execution_start": 1654450096596,
    "source_hash": "9bb8f761",
    "tags": []
   },
   "outputs": [],
   "source": [
    "rectangles1100 = rectangles_from_file('./data/cutting/r1100.csv')"
   ]
  },
  {
   "cell_type": "code",
   "execution_count": null,
   "id": "5c21c6eb",
   "metadata": {
    "cell_id": "edcf08d9bf234366b55c2141e1c9b484",
    "deepnote_cell_height": 81,
    "deepnote_cell_type": "code",
    "deepnote_to_be_reexecuted": false,
    "execution_millis": 419440,
    "execution_start": 1654450097740,
    "source_hash": "ebda54c0",
    "tags": []
   },
   "outputs": [],
   "source": [
    "stripes1100 = stripe_generator(rectangles1100, 2 * 1100)"
   ]
  },
  {
   "cell_type": "code",
   "execution_count": null,
   "id": "ab70bcb0",
   "metadata": {
    "cell_id": "34a22d042e13447dbc26ebf6f0ecf991",
    "deepnote_cell_height": 99,
    "deepnote_cell_type": "code",
    "deepnote_to_be_reexecuted": false,
    "execution_millis": 125588,
    "execution_start": 1654450536464,
    "source_hash": "d547492e",
    "tags": []
   },
   "outputs": [],
   "source": [
    "population1100 = CirclePopulation(1100, stripes1100, n=500)\n",
    "population1100.generate(time_limit=1/4)"
   ]
  },
  {
   "cell_type": "code",
   "execution_count": null,
   "id": "be20af39",
   "metadata": {
    "cell_id": "cdff8bdfe63a4010b9ac5cf4805c3959",
    "deepnote_cell_height": 111.19999694824219,
    "deepnote_cell_type": "code",
    "deepnote_to_be_reexecuted": false,
    "execution_millis": 511,
    "execution_start": 1654450682049,
    "source_hash": "a80c0e9c",
    "tags": []
   },
   "outputs": [
    {
     "name": "stdout",
     "output_type": "stream",
     "text": [
      "Current best solution: 22500.0\n"
     ]
    }
   ],
   "source": [
    "print(f\"Current best solution: {max([p.val_evaluate() for p in population1100.population])}\")"
   ]
  },
  {
   "cell_type": "code",
   "execution_count": null,
   "id": "9f327322",
   "metadata": {
    "cell_id": "a8f09e57dc0c49c0a76c9eb8f8376d14",
    "deepnote_cell_height": 297.20001220703125,
    "deepnote_cell_type": "code",
    "deepnote_to_be_reexecuted": false,
    "execution_millis": 121385,
    "execution_start": 1654450765472,
    "source_hash": "a08028f",
    "tags": []
   },
   "outputs": [
    {
     "name": "stdout",
     "output_type": "stream",
     "text": [
      "Epoch: 1/50\n",
      "Best solution function value: 22500.0\n",
      "Epoch: 2/50\n",
      "Best solution function value: 23920.0\n",
      "Epoch: 3/50\n",
      "Best solution function value: 25800.0\n"
     ]
    }
   ],
   "source": [
    "history1100 = population1100.train(n_epochs=50,\n",
    "                                   crossover_population_ratio=0.8, stripe_ratio_to_cut=0.1,\n",
    "                                   mutation_population_ratio=0.3, rectangles_limit=5, time_limit=1/4,\n",
    "                                   k=7,\n",
    "                                   eval_frequency=1, eval_score_finish=25000, history=True\n",
    ")"
   ]
  },
  {
   "cell_type": "code",
   "execution_count": null,
   "id": "ba976250",
   "metadata": {
    "cell_id": "e70dd2a1fdfe4c7e9caa45932a848b0b",
    "deepnote_cell_height": 189,
    "deepnote_cell_type": "code",
    "deepnote_output_heights": [
     2
    ],
    "deepnote_to_be_reexecuted": false,
    "execution_millis": 845,
    "execution_start": 1654451013093,
    "source_hash": "a8b3b730",
    "tags": []
   },
   "outputs": [
    {
     "data": {
      "image/png": "[encoded data removed]",
      "text/plain": [
       "<Figure size 432x288 with 1 Axes>"
      ]
     },
     "metadata": {
      "image/png": {
       "height": 278,
       "width": 401
      },
      "needs_background": "light"
     },
     "output_type": "display_data"
    }
   ],
   "source": [
    "sns.lineplot(x=list(range(len(history1100))), y=history1100)\n",
    "plt.title('Training progress')\n",
    "plt.xlabel('Epoch number')\n",
    "plt.xticks(list(range(len(history1100))))\n",
    "plt.ylabel('Best solution value')\n",
    "plt.show()"
   ]
  },
  {
   "cell_type": "code",
   "execution_count": null,
   "id": "94994c3d",
   "metadata": {
    "cell_id": "3f7b700ae4dc4f1e9cffbcc9a21cac10",
    "deepnote_cell_height": 153,
    "deepnote_cell_type": "code",
    "deepnote_output_heights": [
     2
    ],
    "deepnote_to_be_reexecuted": false,
    "execution_millis": 1067,
    "execution_start": 1654451036376,
    "source_hash": "3202b267",
    "tags": []
   },
   "outputs": [
    {
     "data": {
      "image/png": "[encoded data removed]",
      "text/plain": [
       "<Figure size 576x576 with 1 Axes>"
      ]
     },
     "metadata": {
      "image/png": {
       "height": 465,
       "width": 460
      },
      "needs_background": "light"
     },
     "output_type": "display_data"
    }
   ],
   "source": [
    "best1100_index = np.argmax([p.val_evaluate() for p in population1100.population])\n",
    "population1100.population[best1100_index].plot()\n",
    "plt.title('Best solution')\n",
    "plt.show()"
   ]
  },
  {
   "cell_type": "markdown",
   "id": "3583263d",
   "metadata": {
    "cell_id": "918bf01db49242d385727ee20aa0b309",
    "deepnote_cell_height": 52.399993896484375,
    "deepnote_cell_type": "markdown",
    "tags": []
   },
   "source": [
    "Oczekiwany wynik został osiągnięty, jednak zobaczę, o ile jeszcze można polepszyć wynik w kilku następnych epockach."
   ]
  },
  {
   "cell_type": "code",
   "execution_count": null,
   "id": "bf53ea7f",
   "metadata": {
    "cell_id": "b9c661aa864443a0a14b02e8c6358820",
    "deepnote_cell_height": 566,
    "deepnote_cell_type": "code",
    "deepnote_to_be_reexecuted": false,
    "execution_millis": 435840,
    "execution_start": 1654452789508,
    "source_hash": "41b830a3",
    "tags": []
   },
   "outputs": [
    {
     "name": "stdout",
     "output_type": "stream",
     "text": [
      "Epoch: 1/10\n",
      "Best solution function value: 27020.0\n",
      "Epoch: 2/10\n",
      "Best solution function value: 27600.0\n",
      "Epoch: 3/10\n",
      "Best solution function value: 28200.0\n",
      "Epoch: 4/10\n",
      "Best solution function value: 29800.0\n",
      "Epoch: 5/10\n",
      "Best solution function value: 30400.0\n",
      "Epoch: 6/10\n",
      "Best solution function value: 30900.0\n",
      "Epoch: 7/10\n",
      "Best solution function value: 30900.0\n",
      "Epoch: 8/10\n",
      "Best solution function value: 30900.0\n",
      "Epoch: 9/10\n",
      "Best solution function value: 30900.0\n",
      "Epoch: 10/10\n",
      "Best solution function value: 30900.0\n"
     ]
    }
   ],
   "source": [
    "history1100_2 = population1100.train(n_epochs=10,\n",
    "                                     crossover_population_ratio=0.8, stripe_ratio_to_cut=0.1,\n",
    "                                     mutation_population_ratio=0.3, rectangles_limit=5, time_limit=1/4,\n",
    "                                     k=7,\n",
    "                                     eval_frequency=1, eval_score_finish=None, history=True\n",
    ")"
   ]
  },
  {
   "cell_type": "code",
   "execution_count": null,
   "id": "bfba7db1",
   "metadata": {
    "cell_id": "25dcea1acfaf49b0a77520f8285f9343",
    "deepnote_cell_height": 136,
    "deepnote_cell_type": "code",
    "deepnote_output_heights": [
     21
    ],
    "deepnote_to_be_reexecuted": false,
    "execution_millis": 428,
    "execution_start": 1654453340787,
    "source_hash": "54577a0c",
    "tags": []
   },
   "outputs": [
    {
     "data": {
      "text/plain": [
       "25800.0"
      ]
     },
     "execution_count": 41,
     "metadata": {},
     "output_type": "execute_result"
    }
   ],
   "source": [
    "history1100_concat = history1100 + history1100_2\n",
    "history1100_concat.pop(len(history1100) - 1)"
   ]
  },
  {
   "cell_type": "code",
   "execution_count": null,
   "id": "6f8d80d8",
   "metadata": {
    "cell_id": "7730083af87442ec9115a8fc9e9144b4",
    "deepnote_cell_height": 189,
    "deepnote_cell_type": "code",
    "deepnote_output_heights": [
     2
    ],
    "deepnote_to_be_reexecuted": false,
    "execution_millis": 989,
    "execution_start": 1654453373316,
    "source_hash": "322a69e5",
    "tags": []
   },
   "outputs": [
    {
     "data": {
      "image/png": "[encoded data removed]",
      "text/plain": [
       "<Figure size 432x288 with 1 Axes>"
      ]
     },
     "metadata": {
      "image/png": {
       "height": 278,
       "width": 401
      },
      "needs_background": "light"
     },
     "output_type": "display_data"
    }
   ],
   "source": [
    "sns.lineplot(x=list(range(len(history1100_concat))), y=history1100_concat)\n",
    "plt.title('Training progress')\n",
    "plt.xlabel('Epoch number')\n",
    "plt.xticks(list(range(len(history1100_concat))))\n",
    "plt.ylabel('Best solution value')\n",
    "plt.show()"
   ]
  },
  {
   "cell_type": "code",
   "execution_count": null,
   "id": "09aa7c7f",
   "metadata": {
    "cell_id": "d825a6a7fe144aeb97615bb007065dc7",
    "deepnote_cell_height": 153,
    "deepnote_cell_type": "code",
    "deepnote_output_heights": [
     2
    ],
    "deepnote_to_be_reexecuted": false,
    "execution_millis": 812,
    "execution_start": 1654453226105,
    "source_hash": "71329698",
    "tags": []
   },
   "outputs": [
    {
     "data": {
      "image/png": "[encoded data removed]",
      "text/plain": [
       "<Figure size 576x576 with 1 Axes>"
      ]
     },
     "metadata": {
      "image/png": {
       "height": 465,
       "width": 460
      },
      "needs_background": "light"
     },
     "output_type": "display_data"
    }
   ],
   "source": [
    "best1100_2_index = np.argmax([p.val_evaluate() for p in population1100.population])\n",
    "population1100.population[best1100_2_index].plot()\n",
    "plt.title('Best solution')\n",
    "plt.show()"
   ]
  },
  {
   "cell_type": "code",
   "execution_count": null,
   "id": "800fd943",
   "metadata": {
    "cell_id": "4bb79f1398774fd8901279fa52bfe5ea",
    "deepnote_cell_height": 66,
    "deepnote_cell_type": "code",
    "tags": []
   },
   "outputs": [],
   "source": []
  },
  {
   "cell_type": "markdown",
   "id": "a8250a55",
   "metadata": {
    "cell_id": "cb2516b33a2e4967868779eacbee2c85",
    "deepnote_cell_height": 57.633331298828125,
    "deepnote_cell_type": "markdown",
    "tags": []
   },
   "source": [
    "#### $R=850$"
   ]
  },
  {
   "cell_type": "code",
   "execution_count": null,
   "id": "fa4f8fd8",
   "metadata": {
    "cell_id": "72851ac325f34bdc9fb1829c3bb1ac76",
    "deepnote_cell_height": 81,
    "deepnote_cell_type": "code",
    "deepnote_to_be_reexecuted": false,
    "execution_millis": 4,
    "execution_start": 1654467223548,
    "source_hash": "7f658fb8",
    "tags": []
   },
   "outputs": [],
   "source": [
    "rectangles850 = rectangles_from_file('./data/cutting/r850.csv')"
   ]
  },
  {
   "cell_type": "markdown",
   "id": "3334486e",
   "metadata": {
    "cell_id": "e5913adbbde24863afd0fffb217a6fa1",
    "deepnote_cell_height": 52.399993896484375,
    "deepnote_cell_type": "markdown",
    "tags": []
   },
   "source": [
    "Ze względów wydajnościowych maksymalny rozmiar pasków jest mniejszy."
   ]
  },
  {
   "cell_type": "code",
   "execution_count": null,
   "id": "71d1420a",
   "metadata": {
    "cell_id": "c1e9b8654b6a42ba815538b257c2511f",
    "deepnote_cell_height": 81,
    "deepnote_cell_type": "code",
    "deepnote_to_be_reexecuted": false,
    "execution_millis": 8024,
    "execution_start": 1654467498599,
    "source_hash": "f49284f0",
    "tags": []
   },
   "outputs": [],
   "source": [
    "stripes850 = stripe_generator(rectangles850, 2 * 850 / 4)"
   ]
  },
  {
   "cell_type": "code",
   "execution_count": null,
   "id": "0bf06936",
   "metadata": {
    "cell_id": "6efb3a5ec8064963a4cabb230148fe8d",
    "deepnote_cell_height": 99,
    "deepnote_cell_type": "code",
    "deepnote_to_be_reexecuted": false,
    "execution_millis": 126089,
    "execution_start": 1654467513710,
    "source_hash": "b8e393cf",
    "tags": []
   },
   "outputs": [],
   "source": [
    "population850 = CirclePopulation(850, stripes850, n=500)\n",
    "population850.generate(time_limit=1/4)"
   ]
  },
  {
   "cell_type": "code",
   "execution_count": null,
   "id": "e2ecf47c",
   "metadata": {
    "cell_id": "13fed32172b9427baaa4e18827ff1dce",
    "deepnote_cell_height": 111.19999694824219,
    "deepnote_cell_type": "code",
    "deepnote_to_be_reexecuted": false,
    "execution_millis": 16,
    "execution_start": 1654467661246,
    "source_hash": "7b2f5c8f",
    "tags": []
   },
   "outputs": [
    {
     "name": "stdout",
     "output_type": "stream",
     "text": [
      "Current best solution: 141200.0\n"
     ]
    }
   ],
   "source": [
    "print(f\"Current best solution: {max([p.val_evaluate() for p in population850.population])}\")"
   ]
  },
  {
   "cell_type": "code",
   "execution_count": null,
   "id": "fcc027af",
   "metadata": {
    "cell_id": "b88404e60ad6435d904503c8e7667451",
    "deepnote_cell_height": 153,
    "deepnote_cell_type": "code",
    "deepnote_output_heights": [
     2
    ],
    "deepnote_to_be_reexecuted": false,
    "execution_millis": 1174,
    "execution_start": 1654467692099,
    "source_hash": "9e718ee2",
    "tags": []
   },
   "outputs": [
    {
     "data": {
      "image/png": "[encoded data removed]",
      "text/plain": [
       "<Figure size 576x576 with 1 Axes>"
      ]
     },
     "metadata": {
      "image/png": {
       "height": 465,
       "width": 460
      },
      "needs_background": "light"
     },
     "output_type": "display_data"
    }
   ],
   "source": [
    "best850_index = np.argmax([p.val_evaluate() for p in population850.population])\n",
    "population850.population[best850_index].plot()\n",
    "plt.title('Best solution')\n",
    "plt.show()"
   ]
  },
  {
   "cell_type": "markdown",
   "id": "dece2c4f",
   "metadata": {
    "cell_id": "18506275636d45c4bfeddcf9225ccd5d",
    "deepnote_cell_height": 74.80000305175781,
    "deepnote_cell_type": "markdown",
    "tags": []
   },
   "source": [
    "Ponieważ dla tego zadania nie ma określonych limitów, ustawiam limit na 30 epok i brak limitu wartości funkcji, przy której kończy się trening."
   ]
  },
  {
   "cell_type": "code",
   "execution_count": null,
   "id": "d676fefc",
   "metadata": {
    "cell_id": "e93b76de161849c1903bb15c72f0b5ab",
    "deepnote_cell_height": 791,
    "deepnote_cell_type": "code",
    "deepnote_to_be_reexecuted": false,
    "execution_millis": 4763080,
    "execution_start": 1654467749995,
    "source_hash": "f25868f0",
    "tags": []
   },
   "outputs": [
    {
     "name": "stdout",
     "output_type": "stream",
     "text": [
      "Epoch: 1/30\n",
      "Best solution function value: 138110.0\n",
      "Epoch: 2/30\n",
      "Best solution function value: 149300.0\n",
      "Epoch: 3/30\n",
      "Best solution function value: 149300.0\n",
      "Epoch: 4/30\n",
      "Best solution function value: 164150.0\n",
      "Epoch: 5/30\n",
      "Best solution function value: 166250.0\n",
      "Epoch: 6/30\n",
      "Best solution function value: 168800.0\n",
      "Epoch: 7/30\n",
      "Best solution function value: 176120.0\n",
      "Epoch: 8/30\n",
      "Best solution function value: 178760.0\n",
      "Epoch: 9/30\n",
      "Best solution function value: 180470.0\n",
      "Epoch: 10/30\n",
      "Best solution function value: 181190.0\n",
      "Epoch: 11/30\n",
      "Best solution function value: 181490.0\n",
      "Epoch: 12/30\n",
      "Best solution function value: 183920.0\n",
      "Epoch: 13/30\n",
      "Best solution function value: 185540.0\n",
      "Epoch: 14/30\n",
      "Best solution function value: 186110.0\n",
      "Epoch: 15/30\n",
      "Best solution function value: 187670.0\n",
      "Epoch: 16/30\n",
      "Best solution function value: 190220.0\n",
      "Epoch: 17/30\n",
      "Best solution function value: 193430.0\n",
      "Epoch: 18/30\n",
      "Best solution function value: 194060.0\n",
      "Epoch: 19/30\n",
      "Best solution function value: 194360.0\n",
      "Epoch: 20/30\n",
      "Best solution function value: 195020.0\n",
      "Epoch: 21/30\n",
      "Best solution function value: 196550.0\n",
      "Epoch: 22/30\n",
      "Best solution function value: 197450.0\n",
      "Epoch: 23/30\n",
      "Best solution function value: 199310.0\n",
      "Epoch: 24/30\n",
      "Best solution function value: 200660.0\n",
      "Epoch: 25/30\n",
      "Best solution function value: 201710.0\n",
      "Epoch: 26/30\n",
      "Best solution function value: 202070.0\n",
      "Epoch: 27/30\n",
      "Best solution function value: 202670.0\n",
      "Epoch: 28/30\n",
      "Best solution function value: 203300.0\n",
      "Epoch: 29/30\n",
      "Best solution function value: 204020.0\n",
      "Epoch: 30/30\n",
      "Best solution function value: 204950.0\n"
     ]
    }
   ],
   "source": [
    "history850 = population850.train(n_epochs=30,\n",
    "                                 crossover_population_ratio=0.8, stripe_ratio_to_cut=0.1,\n",
    "                                 mutation_population_ratio=0.3, rectangles_limit=5, time_limit=1/4,\n",
    "                                 k=7,\n",
    "                                 eval_frequency=1, eval_score_finish=None, history=True\n",
    ")"
   ]
  },
  {
   "cell_type": "code",
   "execution_count": null,
   "id": "da271dae",
   "metadata": {
    "cell_id": "1809b9d644f74f2490f353b81738d64b",
    "deepnote_cell_height": 189,
    "deepnote_cell_type": "code",
    "deepnote_output_heights": [
     2
    ],
    "deepnote_to_be_reexecuted": false,
    "execution_millis": 336,
    "execution_start": 1654472512979,
    "source_hash": "247775a1",
    "tags": []
   },
   "outputs": [
    {
     "data": {
      "image/png": "[encoded data removed]",
      "text/plain": [
       "<Figure size 432x288 with 1 Axes>"
      ]
     },
     "metadata": {
      "image/png": {
       "height": 278,
       "width": 407
      },
      "needs_background": "light"
     },
     "output_type": "display_data"
    }
   ],
   "source": [
    "sns.lineplot(x=list(range(len(history850))), y=history850)\n",
    "plt.title('Training progress')\n",
    "plt.xlabel('Epoch number')\n",
    "plt.xticks(list(range(0, len(history850), 2)))\n",
    "plt.ylabel('Best solution value')\n",
    "plt.show()"
   ]
  },
  {
   "cell_type": "code",
   "execution_count": null,
   "id": "d4a18d83",
   "metadata": {
    "cell_id": "d9e2924d86174cc391955746d803ef28",
    "deepnote_cell_height": 153,
    "deepnote_cell_type": "code",
    "deepnote_output_heights": [
     2
    ],
    "deepnote_to_be_reexecuted": false,
    "execution_millis": 1589,
    "execution_start": 1654472513328,
    "source_hash": "9e718ee2",
    "tags": []
   },
   "outputs": [
    {
     "data": {
      "image/png": "[encoded data removed]",
      "text/plain": [
       "<Figure size 576x576 with 1 Axes>"
      ]
     },
     "metadata": {
      "image/png": {
       "height": 465,
       "width": 460
      },
      "needs_background": "light"
     },
     "output_type": "display_data"
    }
   ],
   "source": [
    "best850_index = np.argmax([p.val_evaluate() for p in population850.population])\n",
    "population850.population[best850_index].plot()\n",
    "plt.title('Best solution')\n",
    "plt.show()"
   ]
  },
  {
   "cell_type": "code",
   "execution_count": null,
   "id": "6692f4ed",
   "metadata": {
    "cell_id": "97411f63363742a78de30605bb15e7bb",
    "deepnote_cell_height": 66,
    "deepnote_cell_type": "code",
    "tags": []
   },
   "outputs": [],
   "source": []
  }
 ],
 "metadata": {
  "deepnote": {},
  "deepnote_execution_queue": [],
  "deepnote_notebook_id": "7f11701b-f232-43f6-b2e1-61fada2bb0ae",
  "kernelspec": {
   "display_name": "Python 3 (ipykernel)",
   "language": "python",
   "name": "python3"
  },
  "language_info": {
   "codemirror_mode": {
    "name": "ipython",
    "version": 3
   },
   "file_extension": ".py",
   "mimetype": "text/x-python",
   "name": "python",
   "nbconvert_exporter": "python",
   "pygments_lexer": "ipython3",
   "version": "3.7.11"
  }
 },
 "nbformat": 4,
 "nbformat_minor": 5
}
