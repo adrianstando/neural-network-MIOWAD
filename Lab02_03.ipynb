{
 "cells": [
  {
   "cell_type": "markdown",
   "metadata": {
    "cell_id": "68441ae8-fe45-44cc-91b5-4bce4e330133",
    "deepnote_cell_height": 70,
    "deepnote_cell_type": "markdown",
    "tags": []
   },
   "source": [
    "## Zbiór multimodal-large"
   ]
  },
  {
   "cell_type": "code",
   "execution_count": 60,
   "metadata": {
    "cell_id": "28e82755-9240-4073-91db-799cf415cc2d",
    "deepnote_cell_height": 225,
    "deepnote_cell_type": "code",
    "deepnote_to_be_reexecuted": false,
    "execution_millis": 13,
    "execution_start": 1647530463464,
    "source_hash": "5434ee24",
    "tags": []
   },
   "outputs": [],
   "source": [
    "import pandas as pd\n",
    "import numpy as np\n",
    "import matplotlib.pyplot as plt\n",
    "\n",
    "from NeuralNetwork.NeuralNetwork import Net, mse\n",
    "from NeuralNetwork.Layers import DenseNetLayer\n",
    "from NeuralNetwork.ActivationFunctions import SigmoidFunction, LinearFunction\n",
    "from NeuralNetwork.Initializers import RandomNormalInitializer\n",
    "from NeuralNetwork.Optimizers import SGD, GradientDescentBatch"
   ]
  },
  {
   "cell_type": "code",
   "execution_count": null,
   "metadata": {
    "cell_id": "c568090b-2dd7-40ef-9b21-eb6ca2baf590",
    "deepnote_cell_height": 282,
    "deepnote_cell_type": "code",
    "tags": []
   },
   "outputs": [],
   "source": [
    "df = pd.read_csv(\"./data/regression/multimodal-large-training.csv\")\n",
    "df.head()\n",
    "X = df.x.to_numpy()\n",
    "X = np.transpose(np.array([X]))\n",
    "Y = df.y.to_numpy()\n",
    "Y = np.transpose(np.array([Y]))\n",
    "\n",
    "df1 = pd.read_csv(\"./data/regression/multimodal-large-test.csv\")\n",
    "df1.head()\n",
    "X1 = df1.x.to_numpy()\n",
    "X1 = np.transpose(np.array([X1]))\n",
    "Y1 = df1.y.to_numpy()\n",
    "Y1 = np.transpose(np.array([Y1]))"
   ]
  },
  {
   "cell_type": "code",
   "execution_count": 103,
   "metadata": {
    "cell_id": "b264b648-8c95-44b2-a206-e484c042bbe7",
    "deepnote_cell_height": 431.6000061035156,
    "deepnote_cell_type": "code",
    "deepnote_to_be_reexecuted": false,
    "execution_millis": 1006173,
    "execution_start": 1647537647504,
    "source_hash": "6ae5a387",
    "tags": []
   },
   "outputs": [
    {
     "name": "stdout",
     "output_type": "stream",
     "text": [
      "Epoch: 0, mse train: 5131.097317205889, mse eval: 5176.673155503554\n",
      "Epoch: 10, mse train: 2212.165094328029, mse eval: 2260.6323059691276\n",
      "Epoch: 20, mse train: 1780.0871757235934, mse eval: 1801.6287252303698\n",
      "Epoch: 30, mse train: 1550.2118213004478, mse eval: 1566.8189515544889\n",
      "Epoch: 40, mse train: 1496.1835190566012, mse eval: 1511.4717774590408\n",
      "Epoch: 50, mse train: 1480.4003356530977, mse eval: 1495.6885887042638\n",
      "Epoch: 60, mse train: 1452.018474353806, mse eval: 1477.233288357692\n",
      "Epoch: 70, mse train: 864.653946317667, mse eval: 905.3595894392727\n",
      "Epoch: 80, mse train: 612.9848722458863, mse eval: 642.1097148361595\n",
      "Epoch: 90, mse train: 420.5321879782074, mse eval: 459.2827225047249\n",
      "Training result:\n",
      "    mse train: 366.99959048988063\n",
      "    mse eval: 407.0447984798768\n"
     ]
    }
   ],
   "source": [
    "np.random.seed(0)\n",
    "n1 = Net(optimizer = GradientDescentBatch(learning_rate=0.00001, batch_size=64))\n",
    "n1.add_layer(DenseNetLayer(1, 20, SigmoidFunction(), RandomNormalInitializer()))\n",
    "n1.add_layer(DenseNetLayer(20, 5, SigmoidFunction(), RandomNormalInitializer()))\n",
    "n1.add_layer(DenseNetLayer(5, 1, LinearFunction(), RandomNormalInitializer()))\n",
    "n1.train(X, Y, X1, Y1, 100, 10)"
   ]
  },
  {
   "cell_type": "code",
   "execution_count": 104,
   "metadata": {
    "cell_id": "4420f437-f185-4f3d-b760-de1f9d21e353",
    "deepnote_cell_height": 367.6000061035156,
    "deepnote_cell_type": "code",
    "deepnote_to_be_reexecuted": false,
    "execution_millis": 1344906,
    "execution_start": 1647539557939,
    "source_hash": "39d7ac8",
    "tags": []
   },
   "outputs": [
    {
     "name": "stdout",
     "output_type": "stream",
     "text": [
      "Epoch: 0, mse train: 366.112700811959, mse eval: 406.1528746508397\n",
      "Epoch: 10, mse train: 364.5873249599401, mse eval: 404.3725319538366\n",
      "Epoch: 20, mse train: 365.55270062726566, mse eval: 405.02604034619986\n",
      "Epoch: 30, mse train: 365.1941300019297, mse eval: 404.4594271791191\n",
      "Epoch: 40, mse train: 363.76064993529815, mse eval: 402.8508800715908\n",
      "Epoch: 50, mse train: 361.99074997206685, mse eval: 400.9702691371719\n",
      "Epoch: 60, mse train: 359.70986047145186, mse eval: 398.6846707519817\n",
      "Epoch: 70, mse train: 354.61198728350934, mse eval: 393.7302337460221\n",
      "Epoch: 80, mse train: 342.22841824662913, mse eval: 381.0403463226949\n",
      "Epoch: 90, mse train: 328.15819404234725, mse eval: 365.6410076067416\n",
      "Training result:\n",
      "    mse train: 311.39582435295006\n",
      "    mse eval: 345.52812063819005\n"
     ]
    }
   ],
   "source": [
    "n1.train(X, Y, X1, Y1, 100, 10)"
   ]
  },
  {
   "cell_type": "code",
   "execution_count": 105,
   "metadata": {
    "cell_id": "c1109649-cdbf-4354-a5c6-768b47b1e852",
    "deepnote_cell_height": 341.6000061035156,
    "deepnote_cell_type": "code",
    "deepnote_to_be_reexecuted": false,
    "execution_millis": 1347637,
    "execution_start": 1647541220750,
    "source_hash": "39d7ac8",
    "tags": []
   },
   "outputs": [
    {
     "name": "stdout",
     "output_type": "stream",
     "text": [
      "Epoch: 0, mse train: 309.10576801678974, mse eval: 342.7237566758646\n",
      "Epoch: 10, mse train: 285.7925888753196, mse eval: 313.607821205799\n",
      "Epoch: 20, mse train: 265.1515112282659, mse eval: 286.8747432976136\n",
      "Epoch: 30, mse train: 244.59989942815295, mse eval: 260.9934651118939\n",
      "Epoch: 40, mse train: 222.9920234759293, mse eval: 235.86667992054356\n",
      "Epoch: 50, mse train: 200.89430072444495, mse eval: 212.1251966227569\n",
      "Epoch: 60, mse train: 179.855297960779, mse eval: 190.27748258532367\n",
      "Epoch: 70, mse train: 160.92799846004945, mse eval: 170.29214235911493\n",
      "Epoch: 80, mse train: 144.08510477396985, mse eval: 152.0196472042521\n",
      "Epoch: 90, mse train: 127.69880284900648, mse eval: 135.71502155506954\n",
      "Training result:\n",
      "    mse train: 120.24873541644928\n",
      "    mse eval: 129.7220836239288\n"
     ]
    }
   ],
   "source": [
    "n1.train(X, Y, X1, Y1, 100, 10)"
   ]
  },
  {
   "cell_type": "code",
   "execution_count": 106,
   "metadata": {
    "cell_id": "3d6c6cb8-e17f-4858-a7ac-fba390e67338",
    "deepnote_cell_height": 341.6000061035156,
    "deepnote_cell_type": "code",
    "deepnote_to_be_reexecuted": false,
    "execution_millis": 1325794,
    "execution_start": 1647542568399,
    "source_hash": "39d7ac8",
    "tags": []
   },
   "outputs": [
    {
     "name": "stdout",
     "output_type": "stream",
     "text": [
      "Epoch: 0, mse train: 119.11721077118563, mse eval: 128.50852285347258\n",
      "Epoch: 10, mse train: 106.88070600831045, mse eval: 115.08140106961665\n",
      "Epoch: 20, mse train: 94.55971301212824, mse eval: 101.43019929721318\n",
      "Epoch: 30, mse train: 83.22530741136895, mse eval: 88.85769683179204\n",
      "Epoch: 40, mse train: 73.29410007529185, mse eval: 77.86866162294038\n",
      "Epoch: 50, mse train: 64.95045824375039, mse eval: 68.65396462007384\n",
      "Epoch: 60, mse train: 58.15656259512919, mse eval: 61.134256005763945\n",
      "Epoch: 70, mse train: 52.60013420426098, mse eval: 54.938968872676554\n",
      "Epoch: 80, mse train: 47.840392705684785, mse eval: 49.57845285584312\n",
      "Epoch: 90, mse train: 43.51592125321509, mse eval: 44.66724045500794\n",
      "Training result:\n",
      "    mse train: 39.866931352625144\n",
      "    mse eval: 40.50160625524599\n"
     ]
    }
   ],
   "source": [
    "n1.train(X, Y, X1, Y1, 100, 10)"
   ]
  },
  {
   "cell_type": "code",
   "execution_count": 107,
   "metadata": {
    "cell_id": "0426e56d-56a1-4f69-ba8e-8431128ff155",
    "deepnote_cell_height": 341.6000061035156,
    "deepnote_cell_type": "code",
    "deepnote_to_be_reexecuted": false,
    "execution_millis": 1312809,
    "execution_start": 1647543904649,
    "source_hash": "39d7ac8",
    "tags": []
   },
   "outputs": [
    {
     "name": "stdout",
     "output_type": "stream",
     "text": [
      "Epoch: 0, mse train: 39.47515915542461, mse eval: 40.05341303482493\n",
      "Epoch: 10, mse train: 35.72428311443784, mse eval: 35.753659703224294\n",
      "Epoch: 20, mse train: 32.311103833798214, mse eval: 31.827039821435946\n",
      "Epoch: 30, mse train: 29.26538203507521, mse eval: 28.310493488264996\n",
      "Epoch: 40, mse train: 26.588748867050523, mse eval: 25.208145768543\n",
      "Epoch: 50, mse train: 24.262231603118387, mse eval: 22.500206468876602\n",
      "Epoch: 60, mse train: 22.255856465920534, mse eval: 20.15410195492938\n",
      "Epoch: 70, mse train: 20.53566552073698, mse eval: 18.13253987936321\n",
      "Epoch: 80, mse train: 19.06777561961761, mse eval: 16.398145322071027\n",
      "Epoch: 90, mse train: 17.820451042479842, mse eval: 14.915816936246062\n",
      "Training result:\n",
      "    mse train: 16.862645142656703\n",
      "    mse eval: 13.770845872069446\n"
     ]
    }
   ],
   "source": [
    "n1.train(X, Y, X1, Y1, 100, 10)"
   ]
  },
  {
   "cell_type": "code",
   "execution_count": 110,
   "metadata": {
    "cell_id": "0be043da-f49b-40d4-8e13-1cac5b8523a2",
    "deepnote_cell_height": 135,
    "deepnote_cell_type": "code",
    "deepnote_output_heights": [
     2
    ],
    "deepnote_to_be_reexecuted": false,
    "execution_millis": 2502,
    "execution_start": 1647545219077,
    "source_hash": "4bb2ee46",
    "tags": []
   },
   "outputs": [
    {
     "data": {
      "image/png": "[encoded data removed]",
      "text/plain": [
       "<Figure size 432x288 with 1 Axes>"
      ]
     },
     "metadata": {
      "image/png": {
       "height": 248,
       "width": 383
      },
      "needs_background": "light"
     },
     "output_type": "display_data"
    }
   ],
   "source": [
    "plt.scatter(X, n1.forward(X))\n",
    "plt.scatter(X, Y, color='red')\n",
    "plt.show()"
   ]
  },
  {
   "cell_type": "markdown",
   "metadata": {},
   "source": [
    "### Wizualizacja zbioru testowego i predykcji na zbiorze testowym"
   ]
  },
  {
   "cell_type": "code",
   "execution_count": 111,
   "metadata": {
    "cell_id": "04482e7a-d9dd-4eab-b88d-3b837061948e",
    "deepnote_cell_height": 135,
    "deepnote_cell_type": "code",
    "deepnote_output_heights": [
     2
    ],
    "deepnote_to_be_reexecuted": false,
    "execution_millis": 577,
    "execution_start": 1647545221603,
    "source_hash": "e8a9d94",
    "tags": []
   },
   "outputs": [
    {
     "data": {
      "image/png": "[encoded data removed]",
      "text/plain": [
       "<Figure size 432x288 with 1 Axes>"
      ]
     },
     "metadata": {
      "image/png": {
       "height": 248,
       "width": 383
      },
      "needs_background": "light"
     },
     "output_type": "display_data"
    }
   ],
   "source": [
    "plt.scatter(X1, n1.forward(X1))\n",
    "plt.scatter(X1, Y1, color='red')\n",
    "plt.show()"
   ]
  },
  {
   "cell_type": "code",
   "execution_count": 114,
   "metadata": {
    "cell_id": "c26129e8-7d95-4737-8557-fee2d33529a3",
    "deepnote_cell_height": 111.19999694824219,
    "deepnote_cell_type": "code",
    "deepnote_to_be_reexecuted": false,
    "execution_millis": 542,
    "execution_start": 1647548062327,
    "source_hash": "b3eb8b6f",
    "tags": []
   },
   "outputs": [
    {
     "name": "stdout",
     "output_type": "stream",
     "text": [
      "MSE na zbiorze testowym wynosi: 13.770845872069446\n"
     ]
    }
   ],
   "source": [
    "print(f\"MSE na zbiorze testowym wynosi: {mse(Y1, n1.forward(X1))}\")"
   ]
  },
  {
   "cell_type": "code",
   "execution_count": null,
   "metadata": {
    "cell_id": "a9db5341-c6f9-4b77-8338-d5f55527caa6",
    "deepnote_cell_height": 66,
    "deepnote_cell_type": "code",
    "tags": []
   },
   "outputs": [],
   "source": []
  }
 ],
 "metadata": {
  "deepnote": {
   "is_reactive": false
  },
  "deepnote_execution_queue": [],
  "deepnote_notebook_id": "09c396de-4d73-48da-9caa-bd767914bb60",
  "kernelspec": {
   "display_name": "Python 3 (ipykernel)",
   "language": "python",
   "name": "python3"
  },
  "language_info": {
   "codemirror_mode": {
    "name": "ipython",
    "version": 3
   },
   "file_extension": ".py",
   "mimetype": "text/x-python",
   "name": "python",
   "nbconvert_exporter": "python",
   "pygments_lexer": "ipython3",
   "version": "3.7.11"
  }
 },
 "nbformat": 4,
 "nbformat_minor": 4
}
