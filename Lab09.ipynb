{
 "cells": [
  {
   "cell_type": "markdown",
   "id": "3a17a0b6-6ee8-4394-b632-389ae572a382",
   "metadata": {},
   "source": [
    "# Praca domowa 9"
   ]
  },
  {
   "cell_type": "code",
   "execution_count": 1,
   "id": "e5aacd25-5910-4279-94e5-46eed34d332f",
   "metadata": {},
   "outputs": [],
   "source": [
    "import numpy as np\n",
    "from GeneticAlgorithms.simple_algoritm import *"
   ]
  },
  {
   "cell_type": "markdown",
   "id": "7104c964-6a39-4ec0-bf38-097d3fb7d93b",
   "metadata": {},
   "source": [
    "### Funkcja $f(x, y, z) = x^2 + y^2 + 2z^2$"
   ]
  },
  {
   "cell_type": "code",
   "execution_count": 2,
   "id": "ff14dec7-0f87-49d6-96f6-84262e1e5521",
   "metadata": {},
   "outputs": [],
   "source": [
    "quadratic_func = lambda x: x[0]**2 + x[1]**2 + 2*x[2]**2"
   ]
  },
  {
   "cell_type": "markdown",
   "id": "63276b7a-9733-4389-9df4-910955e3a3cc",
   "metadata": {},
   "source": [
    "Wystartuję algorytm z generowaniem populacji z zakresu $(-1, 1)$ na każdą współrzędną."
   ]
  },
  {
   "cell_type": "code",
   "execution_count": 3,
   "id": "e8ca8044-683d-4d4f-bbd1-03e1cb1a485a",
   "metadata": {},
   "outputs": [],
   "source": [
    "np.random.seed(0)"
   ]
  },
  {
   "cell_type": "code",
   "execution_count": 4,
   "id": "cd012234-5474-4116-8f51-f74a7480f2cd",
   "metadata": {},
   "outputs": [],
   "source": [
    "ga1 = GeneticAlgorithm(vector_dim=3, func=quadratic_func)\n",
    "ga1.generate_population(population_size=100, generator=UniformGenerator(-1, 1))"
   ]
  },
  {
   "cell_type": "code",
   "execution_count": 5,
   "id": "0adb7799-a458-4257-afdd-4e7792d4748f",
   "metadata": {},
   "outputs": [
    {
     "name": "stdout",
     "output_type": "stream",
     "text": [
      "Epoch: 10/100\n",
      "Best solution function value: 0.07567025469984975\n",
      "Epoch: 20/100\n",
      "Best solution function value: 0.05386486520500191\n",
      "Epoch: 30/100\n",
      "Best solution function value: 0.05386486520500191\n",
      "Epoch: 40/100\n",
      "Best solution function value: 0.05386486520500191\n",
      "Epoch: 50/100\n",
      "Best solution function value: 0.05386486520500191\n",
      "Epoch: 60/100\n",
      "Best solution function value: 0.049741111082329315\n",
      "Epoch: 70/100\n",
      "Best solution function value: 0.003463959649879424\n",
      "Epoch: 80/100\n",
      "Best solution function value: 0.003463959649879424\n",
      "Epoch: 90/100\n",
      "Best solution function value: 0.003463959649879424\n",
      "Epoch: 100/100\n",
      "Best solution function value: 0.003463959649879424\n"
     ]
    }
   ],
   "source": [
    "ga1.train(n_epochs=100, eval_frequency=10)"
   ]
  },
  {
   "cell_type": "markdown",
   "id": "62ed8fa1-b6fe-4777-af0e-39909c070a10",
   "metadata": {},
   "source": [
    "Wystartuję teraz populację z odległych miejsc, czyli z zakresu $(30, 40)$ na każdą współrzędną."
   ]
  },
  {
   "cell_type": "code",
   "execution_count": null,
   "id": "2715bbb3-e3fd-4b1e-a058-3adcde972c37",
   "metadata": {},
   "outputs": [],
   "source": [
    "np.random.seed(0)"
   ]
  },
  {
   "cell_type": "code",
   "execution_count": 6,
   "id": "f60f930d-ee1b-490b-9986-5c6954cdfb84",
   "metadata": {},
   "outputs": [],
   "source": [
    "ga2 = GeneticAlgorithm(vector_dim=3, func=quadratic_func)\n",
    "ga2.generate_population(population_size=100, generator=UniformGenerator(30, 40))"
   ]
  },
  {
   "cell_type": "code",
   "execution_count": 7,
   "id": "d8003ec5-705d-4059-a7cf-01686c343ebc",
   "metadata": {},
   "outputs": [
    {
     "name": "stdout",
     "output_type": "stream",
     "text": [
      "Epoch: 10/100\n",
      "Best solution function value: 3197.562111407207\n",
      "Epoch: 20/100\n",
      "Best solution function value: 2018.6538979819022\n",
      "Epoch: 30/100\n",
      "Best solution function value: 1612.542515047493\n",
      "Epoch: 40/100\n",
      "Best solution function value: 1189.7924852570727\n",
      "Epoch: 50/100\n",
      "Best solution function value: 749.4071685207259\n",
      "Epoch: 60/100\n",
      "Best solution function value: 397.8459619697989\n",
      "Epoch: 70/100\n",
      "Best solution function value: 130.96368337398263\n",
      "Epoch: 80/100\n",
      "Best solution function value: 27.124628877437747\n",
      "Epoch: 90/100\n",
      "Best solution function value: 3.3513670164274014\n",
      "Epoch: 100/100\n",
      "Best solution function value: 0.06758933433230212\n"
     ]
    }
   ],
   "source": [
    "ga2.train(n_epochs=100, eval_frequency=10)"
   ]
  },
  {
   "cell_type": "code",
   "execution_count": null,
   "id": "1527c1c4-1aac-4cb5-ae3e-cd187407ea2e",
   "metadata": {},
   "outputs": [],
   "source": []
  },
  {
   "cell_type": "markdown",
   "id": "b0b8f2d2-5c3b-49d3-b8f3-e085f8480b52",
   "metadata": {},
   "source": [
    "### Pięciowymiarowa funkcja Rastrigina \n",
    "\n",
    "Wzór funkcji: $f(\\mathbf {x} )=An+\\sum _{i=1}^{n}\\left[x_{i}^{2}-A\\cos(2\\pi x_{i})\\right]$\n",
    "\n",
    "$A=10$\n",
    "\n",
    "$n$ - liczba wymiarów\n",
    "\n",
    "$x_{i}\\in [-5.12,5.12]$\n",
    "\n",
    "Minimum znajduje się w $\\mathbf{x}=0$, wartość w $\\mathbf{x}=0$ wynosi $f(\\mathbf{0})=0$\n",
    "\n",
    "https://en.wikipedia.org/wiki/Rastrigin_function\n",
    "\n",
    "Ponieważ funkcja jest określona na danym przedziale, jest problem co zrobić, jeśli osobnik znajdzie się poza tym przedziałem. Funkcja Rastrigina pięciowymiarowa jest ograniczona z góry na tym przedziale poprzez: $f(\\mathbf{x}) \\leq 50 + 5 \\cdot (5.12^2 + 10) = 231.072$. Przyjmę zatem, że jeśli dowolna współrzędna znajdzie się poza ograniczeniami, funkcja osiąga wartość $f(\\mathbf{x})=1000$."
   ]
  },
  {
   "cell_type": "code",
   "execution_count": 21,
   "id": "ac9b9c54-7636-4e43-9c62-19e76c3a0f9d",
   "metadata": {},
   "outputs": [],
   "source": [
    "def rastrigin(x_in):\n",
    "    x = np.array(x_in)\n",
    "    if np.any(np.abs(x) > 5.12):\n",
    "        return 1000\n",
    "    else:\n",
    "        return 10*5 + np.sum(np.array(x)**2 - 10*np.cos(2*np.pi*np.array(x)))"
   ]
  },
  {
   "cell_type": "code",
   "execution_count": 30,
   "id": "5adca369-f2ff-4678-9ba5-025570397f8e",
   "metadata": {},
   "outputs": [
    {
     "data": {
      "text/plain": [
       "0.0"
      ]
     },
     "execution_count": 30,
     "metadata": {},
     "output_type": "execute_result"
    }
   ],
   "source": [
    "rastrigin([0, 0, 0, 0, 0])"
   ]
  },
  {
   "cell_type": "markdown",
   "id": "68deca09-8b61-4b7e-b5af-788327475f6a",
   "metadata": {},
   "source": [
    "Zacznę od wygenerowania populacji na przedziale $(-1, 1)$ na każdej współrzędnej."
   ]
  },
  {
   "cell_type": "code",
   "execution_count": 33,
   "id": "fe26681c-e172-46e4-94cb-86543f00bacb",
   "metadata": {},
   "outputs": [],
   "source": [
    "np.random.seed(0)"
   ]
  },
  {
   "cell_type": "code",
   "execution_count": 34,
   "id": "cf631421-6d85-4dad-9291-761119f512cb",
   "metadata": {},
   "outputs": [],
   "source": [
    "ga3 = GeneticAlgorithm(vector_dim=5, func=rastrigin)\n",
    "ga3.generate_population(population_size=1000, generator=UniformGenerator(-1, 1))"
   ]
  },
  {
   "cell_type": "code",
   "execution_count": 35,
   "id": "da4edf85-54c6-44a4-ba61-4763b402fa91",
   "metadata": {},
   "outputs": [
    {
     "name": "stdout",
     "output_type": "stream",
     "text": [
      "Epoch: 20/200\n",
      "Best solution function value: 5.55875062324089\n",
      "Epoch: 40/200\n",
      "Best solution function value: 1.5248103604268621\n",
      "Epoch: 60/200\n",
      "Best solution function value: 1.4708740803228793\n",
      "Epoch: 80/200\n",
      "Best solution function value: 1.4708740803228793\n",
      "Epoch: 100/200\n",
      "Best solution function value: 1.4708740803228793\n",
      "Epoch: 120/200\n",
      "Best solution function value: 1.4708740803228793\n",
      "Epoch: 140/200\n",
      "Best solution function value: 1.4708740803228793\n",
      "Epoch: 160/200\n",
      "Best solution function value: 1.4708093268802074\n",
      "Epoch: 180/200\n",
      "Best solution function value: 1.4705726381590765\n",
      "Epoch: 200/200\n",
      "Best solution function value: 1.4705726381590765\n"
     ]
    }
   ],
   "source": [
    "ga3.train(n_epochs=200, eval_frequency=20)"
   ]
  },
  {
   "cell_type": "markdown",
   "id": "caed1968-5fc9-4b97-96cd-ca9586564b4d",
   "metadata": {},
   "source": [
    "Spróbuję wygenerować populację na przedziale $(-5, 5)$ na każdej współrzędnej."
   ]
  },
  {
   "cell_type": "code",
   "execution_count": 38,
   "id": "9f58087c-9a46-4a3f-8861-3283f761a371",
   "metadata": {},
   "outputs": [],
   "source": [
    "np.random.seed(0)"
   ]
  },
  {
   "cell_type": "code",
   "execution_count": 39,
   "id": "4707eab2-eff3-4c02-a51b-92c34f0f0ed1",
   "metadata": {},
   "outputs": [],
   "source": [
    "ga4 = GeneticAlgorithm(vector_dim=5, func=rastrigin)\n",
    "ga4.generate_population(population_size=1000, generator=UniformGenerator(-5, 5))"
   ]
  },
  {
   "cell_type": "code",
   "execution_count": 40,
   "id": "73b0ba42-7acf-4e5b-b4d7-face4c2aa455",
   "metadata": {},
   "outputs": [
    {
     "name": "stdout",
     "output_type": "stream",
     "text": [
      "Epoch: 20/200\n",
      "Best solution function value: 18.220197569155047\n",
      "Epoch: 40/200\n",
      "Best solution function value: 2.9894348261401475\n",
      "Epoch: 60/200\n",
      "Best solution function value: 2.946749898673076\n",
      "Epoch: 80/200\n",
      "Best solution function value: 2.946749898673076\n",
      "Epoch: 100/200\n",
      "Best solution function value: 2.9445762733854792\n",
      "Epoch: 120/200\n",
      "Best solution function value: 2.9445762733854792\n",
      "Epoch: 140/200\n",
      "Best solution function value: 2.9445762733854792\n",
      "Epoch: 160/200\n",
      "Best solution function value: 2.9445762733854792\n",
      "Epoch: 180/200\n",
      "Best solution function value: 2.9445762733854792\n",
      "Epoch: 200/200\n",
      "Best solution function value: 2.9445762733854792\n"
     ]
    }
   ],
   "source": [
    "ga4.train(n_epochs=200, eval_frequency=20)"
   ]
  },
  {
   "cell_type": "markdown",
   "id": "68477d43-353f-4788-984a-0046b9a53a95",
   "metadata": {},
   "source": [
    "Spróbuję zwiększyć prawdopodobieństwo krzyżowania."
   ]
  },
  {
   "cell_type": "code",
   "execution_count": 41,
   "id": "d45f4b9f-38a9-4011-bafd-89029aa419e4",
   "metadata": {},
   "outputs": [],
   "source": [
    "np.random.seed(0)"
   ]
  },
  {
   "cell_type": "code",
   "execution_count": 42,
   "id": "77a5cf32-f377-490e-96b8-a93648530087",
   "metadata": {},
   "outputs": [],
   "source": [
    "ga5 = GeneticAlgorithm(vector_dim=5, func=rastrigin)\n",
    "ga5.generate_population(population_size=1000, generator=UniformGenerator(-1, 1))"
   ]
  },
  {
   "cell_type": "code",
   "execution_count": 43,
   "id": "8d0621e6-7f8f-421d-9514-f339d33eb728",
   "metadata": {},
   "outputs": [
    {
     "name": "stdout",
     "output_type": "stream",
     "text": [
      "Epoch: 10/100\n",
      "Best solution function value: 11.578521781904307\n",
      "Epoch: 20/100\n",
      "Best solution function value: 5.52020034523931\n",
      "Epoch: 30/100\n",
      "Best solution function value: 1.686961441381328\n",
      "Epoch: 40/100\n",
      "Best solution function value: 1.5033079455111604\n",
      "Epoch: 50/100\n",
      "Best solution function value: 1.5033079455111604\n",
      "Epoch: 60/100\n",
      "Best solution function value: 1.5033079455111604\n",
      "Epoch: 70/100\n",
      "Best solution function value: 1.5033079455111604\n",
      "Epoch: 80/100\n",
      "Best solution function value: 1.5033079455111604\n",
      "Epoch: 90/100\n",
      "Best solution function value: 1.5033079455111604\n",
      "Epoch: 100/100\n",
      "Best solution function value: 1.5033079455111604\n"
     ]
    }
   ],
   "source": [
    "ga5.train(n_epochs=100, eval_frequency=10, crossover_population_ratio=0.9)"
   ]
  },
  {
   "cell_type": "markdown",
   "id": "f3cbce1a-304d-4351-96d4-2fd85c3c1fc3",
   "metadata": {},
   "source": [
    "Spróbuję zwiększyć prawdopodobieństwo mutacji."
   ]
  },
  {
   "cell_type": "code",
   "execution_count": 44,
   "id": "bd6c97a0-e783-40a6-a762-4a313c02e99c",
   "metadata": {},
   "outputs": [],
   "source": [
    "np.random.seed(0)"
   ]
  },
  {
   "cell_type": "code",
   "execution_count": 45,
   "id": "b98216f3-ec19-4c42-b731-cdfeabb5ae79",
   "metadata": {},
   "outputs": [],
   "source": [
    "ga6 = GeneticAlgorithm(vector_dim=5, func=rastrigin)\n",
    "ga6.generate_population(population_size=1000, generator=UniformGenerator(-1, 1))"
   ]
  },
  {
   "cell_type": "code",
   "execution_count": 46,
   "id": "c4148f81-5670-496a-b301-0279436288b6",
   "metadata": {},
   "outputs": [
    {
     "name": "stdout",
     "output_type": "stream",
     "text": [
      "Epoch: 10/100\n",
      "Best solution function value: 10.079962121442279\n",
      "Epoch: 20/100\n",
      "Best solution function value: 5.954615721818087\n",
      "Epoch: 30/100\n",
      "Best solution function value: 5.859747265882589\n",
      "Epoch: 40/100\n",
      "Best solution function value: 5.7157819558138385\n",
      "Epoch: 50/100\n",
      "Best solution function value: 5.712384709264342\n",
      "Epoch: 60/100\n",
      "Best solution function value: 5.712384709264342\n",
      "Epoch: 70/100\n",
      "Best solution function value: 5.542894475149559\n",
      "Epoch: 80/100\n",
      "Best solution function value: 5.412620197322113\n",
      "Epoch: 90/100\n",
      "Best solution function value: 5.0430409511535075\n",
      "Epoch: 100/100\n",
      "Best solution function value: 5.0430409511535075\n"
     ]
    }
   ],
   "source": [
    "ga6.train(n_epochs=100, eval_frequency=10, crossover_population_ratio=0.9, mutation_population_ratio=0.3)"
   ]
  },
  {
   "cell_type": "markdown",
   "id": "64ea076a-ff82-4f33-9fb9-5875c47a00c9",
   "metadata": {},
   "source": [
    "Spojrzę na wynik, gdy prawdopodobieństwo mutacji będzie mniejsze."
   ]
  },
  {
   "cell_type": "code",
   "execution_count": 47,
   "id": "08db4704-e6ce-41a3-9d04-5dc928737f57",
   "metadata": {},
   "outputs": [],
   "source": [
    "np.random.seed(0)"
   ]
  },
  {
   "cell_type": "code",
   "execution_count": 48,
   "id": "ea477422-9264-4f7a-b3cf-fd56b6e7b1e4",
   "metadata": {},
   "outputs": [],
   "source": [
    "ga7 = GeneticAlgorithm(vector_dim=5, func=rastrigin)\n",
    "ga7.generate_population(population_size=1000, generator=UniformGenerator(-1, 1))"
   ]
  },
  {
   "cell_type": "code",
   "execution_count": 49,
   "id": "8b36e5a4-9895-4a8a-90cb-d0b3ce97e185",
   "metadata": {},
   "outputs": [
    {
     "name": "stdout",
     "output_type": "stream",
     "text": [
      "Epoch: 10/100\n",
      "Best solution function value: 5.0430409511535075\n",
      "Epoch: 20/100\n",
      "Best solution function value: 5.0430409511535075\n",
      "Epoch: 30/100\n",
      "Best solution function value: 5.0430409511535075\n",
      "Epoch: 40/100\n",
      "Best solution function value: 5.0430409511535075\n",
      "Epoch: 50/100\n",
      "Best solution function value: 5.0430409511535075\n",
      "Epoch: 60/100\n",
      "Best solution function value: 5.0430409511535075\n",
      "Epoch: 70/100\n",
      "Best solution function value: 5.0430409511535075\n",
      "Epoch: 80/100\n",
      "Best solution function value: 5.0430409511535075\n",
      "Epoch: 90/100\n",
      "Best solution function value: 5.0430409511535075\n",
      "Epoch: 100/100\n",
      "Best solution function value: 5.0430409511535075\n"
     ]
    }
   ],
   "source": [
    "ga6.train(n_epochs=100, eval_frequency=10, crossover_population_ratio=0.9, mutation_population_ratio=0.1)"
   ]
  },
  {
   "cell_type": "markdown",
   "id": "a3ddf3b3-4217-4b79-86a2-bc8b2fcde1ec",
   "metadata": {},
   "source": [
    "Najlepszy wynik do tej pory dawało generowanie z przedziału $(-1,1)$ na domyślnych parametrach.\n",
    "\n",
    "Spróbuję dla tych parametrów zwiększyć liczbę osobników w populacji."
   ]
  },
  {
   "cell_type": "code",
   "execution_count": 1,
   "id": "d2814b5f",
   "metadata": {
    "cell_id": "2bd9ef06e2ff43f78bc192b0f01b7080",
    "deepnote_cell_height": 225,
    "deepnote_cell_type": "code",
    "deepnote_to_be_reexecuted": false,
    "execution_millis": 6,
    "execution_start": 1653579065344,
    "source_hash": "ef477717",
    "tags": []
   },
   "outputs": [],
   "source": [
    "import numpy as np\n",
    "from GeneticAlgorithms.simple_algoritm import *\n",
    "\n",
    "def rastrigin(x_in):\n",
    "    x = np.array(x_in)\n",
    "    if np.any(np.abs(x) > 5.12):\n",
    "        return 1000\n",
    "    else:\n",
    "        return 10*5 + np.sum(np.array(x)**2 - 10*np.cos(2*np.pi*np.array(x)))"
   ]
  },
  {
   "cell_type": "code",
   "execution_count": 2,
   "id": "f83cd7d5",
   "metadata": {
    "cell_id": "00037-e95b5f14-9b62-44e0-b85d-f409bd09bb87",
    "deepnote_cell_height": 81,
    "deepnote_cell_type": "code",
    "deepnote_to_be_reexecuted": false,
    "execution_millis": 0,
    "execution_start": 1653579066757,
    "source_hash": "728f163c",
    "tags": []
   },
   "outputs": [],
   "source": [
    "np.random.seed(0)"
   ]
  },
  {
   "cell_type": "code",
   "execution_count": 3,
   "id": "e686f5f3",
   "metadata": {
    "cell_id": "00038-744be367-71e6-43bf-98bc-76ac391d3661",
    "deepnote_cell_height": 99,
    "deepnote_cell_type": "code",
    "deepnote_to_be_reexecuted": false,
    "execution_millis": 493,
    "execution_start": 1653579067556,
    "source_hash": "3283a7a7"
   },
   "outputs": [],
   "source": [
    "ga3_1 = GeneticAlgorithm(vector_dim=5, func=rastrigin)\n",
    "ga3_1.generate_population(population_size=10000, generator=UniformGenerator(-1, 1))"
   ]
  },
  {
   "cell_type": "code",
   "execution_count": 4,
   "id": "b2cc9418",
   "metadata": {
    "cell_id": "00039-6545908d-4a30-4174-a708-2277906bd584",
    "deepnote_cell_height": 322.3999938964844,
    "deepnote_cell_type": "code",
    "deepnote_to_be_reexecuted": false,
    "execution_millis": 3542184,
    "execution_start": 1653579068198,
    "source_hash": "ba5255b"
   },
   "outputs": [
    {
     "name": "stdout",
     "output_type": "stream",
     "text": [
      "Epoch: 10/100\n",
      "Best solution function value: 2.3503907145575624\n",
      "Epoch: 20/100\n",
      "Best solution function value: 1.0114352433444793\n",
      "Epoch: 30/100\n",
      "Best solution function value: 1.0114352433444793\n",
      "Epoch: 40/100\n",
      "Best solution function value: 1.0113400776766497\n",
      "Epoch: 50/100\n",
      "Best solution function value: 1.0113400776766497\n",
      "Epoch: 60/100\n",
      "Best solution function value: 1.0113400776766497\n",
      "Epoch: 70/100\n",
      "Best solution function value: 1.0113400776766497\n",
      "Epoch: 80/100\n",
      "Best solution function value: 1.0113400728425574\n",
      "Epoch: 90/100\n",
      "Best solution function value: 1.0113400728425574\n",
      "Epoch: 100/100\n",
      "Best solution function value: 1.0113400728425574\n"
     ]
    }
   ],
   "source": [
    "ga3_1.train(n_epochs=100, eval_frequency=10)"
   ]
  },
  {
   "cell_type": "markdown",
   "id": "e163ff1b-cb8d-495a-90f4-c562656bd2eb",
   "metadata": {},
   "source": [
    "Uzyskane rozwiązanie znajduje się bliżej rozwiązania optymalnego, jednak już po 20 iteracjach algorytm nie znalazł lepszego rozwiązania."
   ]
  },
  {
   "cell_type": "code",
   "execution_count": null,
   "id": "1c7605f7-9f19-4304-bd21-5062e328cd44",
   "metadata": {},
   "outputs": [],
   "source": []
  }
 ],
 "metadata": {
  "kernelspec": {
   "display_name": "Python 3 (ipykernel)",
   "language": "python",
   "name": "python3"
  },
  "language_info": {
   "codemirror_mode": {
    "name": "ipython",
    "version": 3
   },
   "file_extension": ".py",
   "mimetype": "text/x-python",
   "name": "python",
   "nbconvert_exporter": "python",
   "pygments_lexer": "ipython3",
   "version": "3.7.11"
  }
 },
 "nbformat": 4,
 "nbformat_minor": 5
}
