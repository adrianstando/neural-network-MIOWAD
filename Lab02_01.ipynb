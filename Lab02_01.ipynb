{
 "cells": [
  {
   "cell_type": "markdown",
   "id": "cb945a14-7763-492e-aaf5-8f9a0b738b10",
   "metadata": {},
   "source": [
    "# Praca domowa 2 - MIOWAD"
   ]
  },
  {
   "cell_type": "code",
   "execution_count": 1,
   "id": "d3201bf8-0d70-45f0-adaa-ac0c1313a137",
   "metadata": {},
   "outputs": [],
   "source": [
    "import pandas as pd\n",
    "import numpy as np\n",
    "import matplotlib.pyplot as plt"
   ]
  },
  {
   "cell_type": "code",
   "execution_count": 2,
   "id": "438d2938-af5e-4a64-b841-b87cfdd0c9da",
   "metadata": {},
   "outputs": [],
   "source": [
    "from NeuralNetwork.NeuralNetwork import Net, mse\n",
    "from NeuralNetwork.Layers import DenseNetLayer\n",
    "from NeuralNetwork.ActivationFunctions import SigmoidFunction, LinearFunction\n",
    "from NeuralNetwork.Initializers import RandomNormalInitializer\n",
    "from NeuralNetwork.Optimizers import SGD"
   ]
  },
  {
   "cell_type": "code",
   "execution_count": 3,
   "id": "4df5da22-a519-4318-aed4-226ed066967e",
   "metadata": {},
   "outputs": [
    {
     "data": {
      "text/html": [
       "<div>\n",
       "<style scoped>\n",
       "    .dataframe tbody tr th:only-of-type {\n",
       "        vertical-align: middle;\n",
       "    }\n",
       "\n",
       "    .dataframe tbody tr th {\n",
       "        vertical-align: top;\n",
       "    }\n",
       "\n",
       "    .dataframe thead th {\n",
       "        text-align: right;\n",
       "    }\n",
       "</style>\n",
       "<table border=\"1\" class=\"dataframe\">\n",
       "  <thead>\n",
       "    <tr style=\"text-align: right;\">\n",
       "      <th></th>\n",
       "      <th>x</th>\n",
       "      <th>y</th>\n",
       "    </tr>\n",
       "  </thead>\n",
       "  <tbody>\n",
       "    <tr>\n",
       "      <th>1</th>\n",
       "      <td>-0.171543</td>\n",
       "      <td>-127.351580</td>\n",
       "    </tr>\n",
       "    <tr>\n",
       "      <th>2</th>\n",
       "      <td>0.025201</td>\n",
       "      <td>-129.942844</td>\n",
       "    </tr>\n",
       "    <tr>\n",
       "      <th>3</th>\n",
       "      <td>-1.368991</td>\n",
       "      <td>38.672367</td>\n",
       "    </tr>\n",
       "    <tr>\n",
       "      <th>4</th>\n",
       "      <td>1.907390</td>\n",
       "      <td>197.432191</td>\n",
       "    </tr>\n",
       "    <tr>\n",
       "      <th>5</th>\n",
       "      <td>0.011129</td>\n",
       "      <td>-129.988852</td>\n",
       "    </tr>\n",
       "  </tbody>\n",
       "</table>\n",
       "</div>"
      ],
      "text/plain": [
       "          x           y\n",
       "1 -0.171543 -127.351580\n",
       "2  0.025201 -129.942844\n",
       "3 -1.368991   38.672367\n",
       "4  1.907390  197.432191\n",
       "5  0.011129 -129.988852"
      ]
     },
     "execution_count": 3,
     "metadata": {},
     "output_type": "execute_result"
    }
   ],
   "source": [
    "df = pd.read_csv(\"./data/regression/square-simple-training.csv\", index_col=0)\n",
    "df.head()"
   ]
  },
  {
   "cell_type": "code",
   "execution_count": 4,
   "id": "c113a2a0-1b90-4928-9dc0-100ee6c93c47",
   "metadata": {},
   "outputs": [],
   "source": [
    "X = df.x.to_numpy()\n",
    "X = np.transpose(np.array([X]))\n",
    "Y = df.y.to_numpy()\n",
    "Y = np.transpose(np.array([Y]))"
   ]
  },
  {
   "cell_type": "code",
   "execution_count": 5,
   "id": "02ebe26a-8e99-439c-94c4-10cbfb897ee9",
   "metadata": {},
   "outputs": [
    {
     "data": {
      "text/html": [
       "<div>\n",
       "<style scoped>\n",
       "    .dataframe tbody tr th:only-of-type {\n",
       "        vertical-align: middle;\n",
       "    }\n",
       "\n",
       "    .dataframe tbody tr th {\n",
       "        vertical-align: top;\n",
       "    }\n",
       "\n",
       "    .dataframe thead th {\n",
       "        text-align: right;\n",
       "    }\n",
       "</style>\n",
       "<table border=\"1\" class=\"dataframe\">\n",
       "  <thead>\n",
       "    <tr style=\"text-align: right;\">\n",
       "      <th></th>\n",
       "      <th>x</th>\n",
       "      <th>y</th>\n",
       "    </tr>\n",
       "  </thead>\n",
       "  <tbody>\n",
       "    <tr>\n",
       "      <th>1</th>\n",
       "      <td>-0.980437</td>\n",
       "      <td>-43.486918</td>\n",
       "    </tr>\n",
       "    <tr>\n",
       "      <th>2</th>\n",
       "      <td>-1.219074</td>\n",
       "      <td>3.752808</td>\n",
       "    </tr>\n",
       "    <tr>\n",
       "      <th>3</th>\n",
       "      <td>0.124243</td>\n",
       "      <td>-128.610721</td>\n",
       "    </tr>\n",
       "    <tr>\n",
       "      <th>4</th>\n",
       "      <td>1.227789</td>\n",
       "      <td>5.671828</td>\n",
       "    </tr>\n",
       "    <tr>\n",
       "      <th>5</th>\n",
       "      <td>1.067348</td>\n",
       "      <td>-27.469169</td>\n",
       "    </tr>\n",
       "  </tbody>\n",
       "</table>\n",
       "</div>"
      ],
      "text/plain": [
       "          x           y\n",
       "1 -0.980437  -43.486918\n",
       "2 -1.219074    3.752808\n",
       "3  0.124243 -128.610721\n",
       "4  1.227789    5.671828\n",
       "5  1.067348  -27.469169"
      ]
     },
     "execution_count": 5,
     "metadata": {},
     "output_type": "execute_result"
    }
   ],
   "source": [
    "df1 = pd.read_csv(\"./data/regression/square-simple-test.csv\", index_col=0)\n",
    "df1.head()"
   ]
  },
  {
   "cell_type": "code",
   "execution_count": 6,
   "id": "e55a1f76-eb75-4f33-96a4-4813fe9d2302",
   "metadata": {},
   "outputs": [],
   "source": [
    "X1 = df1.x.to_numpy()\n",
    "X1 = np.transpose(np.array([X1]))\n",
    "Y1 = df1.y.to_numpy()\n",
    "Y1 = np.transpose(np.array([Y1]))"
   ]
  },
  {
   "cell_type": "markdown",
   "id": "0c8d62bb-4798-4ee7-81cd-1014d858b49d",
   "metadata": {},
   "source": [
    "## Zbiór square-simple"
   ]
  },
  {
   "cell_type": "code",
   "execution_count": 7,
   "id": "6e84498b-d903-4adb-9ba9-37131dc4c1cc",
   "metadata": {},
   "outputs": [],
   "source": [
    "np.random.seed(0)"
   ]
  },
  {
   "cell_type": "code",
   "execution_count": 8,
   "id": "b7cbc9cc-7e43-4fb2-bba8-a271c0d895b1",
   "metadata": {},
   "outputs": [
    {
     "name": "stdout",
     "output_type": "stream",
     "text": [
      "Epoch: 0, mse train: 9873.515301896203, mse eval: 8400.40736004786\n",
      "Epoch: 100, mse train: 260.2762329760073, mse eval: 236.24516921946702\n",
      "Epoch: 200, mse train: 44.53096570817196, mse eval: 50.71178553774319\n",
      "Epoch: 300, mse train: 14.294268149266212, mse eval: 21.698171893480136\n",
      "Epoch: 400, mse train: 8.066770036175242, mse eval: 14.353303007898893\n",
      "Epoch: 500, mse train: 6.45216306918566, mse eval: 11.770340818192892\n",
      "Epoch: 600, mse train: 5.586475288015021, mse eval: 10.294990691913753\n",
      "Epoch: 700, mse train: 4.99715841648662, mse eval: 9.263423900136825\n",
      "Epoch: 800, mse train: 4.609427768025371, mse eval: 8.510110553249634\n",
      "Epoch: 900, mse train: 4.362296054314799, mse eval: 7.939157198036844\n",
      "Epoch: 1000, mse train: 4.194530858175921, mse eval: 7.478959288327855\n",
      "Epoch: 1100, mse train: 4.055098159029548, mse eval: 7.077591263334089\n",
      "Epoch: 1200, mse train: 3.9111092507040586, mse eval: 6.70311341026872\n",
      "Epoch: 1300, mse train: 3.74820848179139, mse eval: 6.340542161684382\n",
      "Epoch: 1400, mse train: 3.5647580060991326, mse eval: 5.98564025163438\n",
      "Epoch: 1500, mse train: 3.365241037297855, mse eval: 5.639211288778132\n",
      "Epoch: 1600, mse train: 3.1559792002936176, mse eval: 5.303698748162653\n",
      "Epoch: 1700, mse train: 2.9431557791436855, mse eval: 4.981697057079042\n",
      "Epoch: 1800, mse train: 2.73215722076719, mse eval: 4.6754674621531045\n",
      "Epoch: 1900, mse train: 2.527453516747124, mse eval: 4.386833366476072\n",
      "Epoch: 2000, mse train: 2.3326096869109723, mse eval: 4.117152545495168\n",
      "Epoch: 2100, mse train: 2.1502759356436583, mse eval: 3.8672647177582764\n",
      "Epoch: 2200, mse train: 1.9821520724745192, mse eval: 3.6374233501211655\n",
      "Epoch: 2300, mse train: 1.8289882605047398, mse eval: 3.4272666196085577\n",
      "Epoch: 2400, mse train: 1.6906780875452998, mse eval: 3.23587238633237\n",
      "Training result:    mse train: 1.5676236215800095     mse eval: 3.0635556792758267\n"
     ]
    }
   ],
   "source": [
    "n = Net(optimizer = SGD(learning_rate=0.0001))\n",
    "n.add_layer(DenseNetLayer(1, 5, SigmoidFunction(), RandomNormalInitializer()))\n",
    "n.add_layer(DenseNetLayer(5, 5, SigmoidFunction(), RandomNormalInitializer()))\n",
    "n.add_layer(DenseNetLayer(5, 1, LinearFunction(), RandomNormalInitializer()))\n",
    "n.train(X, Y, X1, Y1, n_epochs=2500, eval_frequency=100)"
   ]
  },
  {
   "cell_type": "markdown",
   "id": "64d42ca1-7de2-4136-9c21-2cc5a2bb4c8e",
   "metadata": {},
   "source": [
    "### Wizualizacja zbioru testowego i predykcji na zbiorze testowym"
   ]
  },
  {
   "cell_type": "code",
   "execution_count": 9,
   "id": "8a1269ae-5e44-465a-b35a-553c06614c4d",
   "metadata": {},
   "outputs": [
    {
     "data": {
      "image/png": "[encoded data removed]",
      "text/plain": [
       "<Figure size 432x288 with 1 Axes>"
      ]
     },
     "metadata": {
      "needs_background": "light"
     },
     "output_type": "display_data"
    }
   ],
   "source": [
    "plt.scatter(X1, n.forward(X1), alpha = 0.5)\n",
    "plt.scatter(X1, Y1, color='red', alpha = 0.25)\n",
    "plt.show()"
   ]
  },
  {
   "cell_type": "code",
   "execution_count": 10,
   "id": "327310be-aa30-4b94-9729-b6c354e4b0b1",
   "metadata": {},
   "outputs": [
    {
     "name": "stdout",
     "output_type": "stream",
     "text": [
      "MSE na zbiorze testowym wynosi: 3.0635556792758267\n"
     ]
    }
   ],
   "source": [
    "print(f\"MSE na zbiorze testowym wynosi: {mse(Y1, n.forward(X1))}\")"
   ]
  },
  {
   "cell_type": "code",
   "execution_count": null,
   "id": "7091c381-d043-4650-95dc-e0635abd70e0",
   "metadata": {},
   "outputs": [],
   "source": []
  }
 ],
 "metadata": {
  "kernelspec": {
   "display_name": "Python 3 (ipykernel)",
   "language": "python",
   "name": "python3"
  },
  "language_info": {
   "codemirror_mode": {
    "name": "ipython",
    "version": 3
   },
   "file_extension": ".py",
   "mimetype": "text/x-python",
   "name": "python",
   "nbconvert_exporter": "python",
   "pygments_lexer": "ipython3",
   "version": "3.7.11"
  }
 },
 "nbformat": 4,
 "nbformat_minor": 5
}
