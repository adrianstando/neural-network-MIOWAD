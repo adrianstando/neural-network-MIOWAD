{
 "cells": [
  {
   "cell_type": "markdown",
   "id": "2cf319aa-a75d-46cd-a2bd-13e59a4f74ca",
   "metadata": {},
   "source": [
    "### Metoda Xavier inicjowania wag - zbiór square-simple"
   ]
  },
  {
   "cell_type": "code",
   "execution_count": 1,
   "id": "eb11e1a2-7946-4335-9708-881f6e7e46c7",
   "metadata": {},
   "outputs": [],
   "source": [
    "import pandas as pd\n",
    "import numpy as np\n",
    "import matplotlib.pyplot as plt"
   ]
  },
  {
   "cell_type": "code",
   "execution_count": 2,
   "id": "0c941fcc-cd0d-4cf3-96d1-367c40f2471b",
   "metadata": {},
   "outputs": [],
   "source": [
    "from NeuralNetwork.NeuralNetwork import Net, mse\n",
    "from NeuralNetwork.Layers import DenseNetLayer\n",
    "from NeuralNetwork.ActivationFunctions import SigmoidFunction, LinearFunction\n",
    "from NeuralNetwork.Initializers import XavierInitializer\n",
    "from NeuralNetwork.Optimizers import SGD"
   ]
  },
  {
   "cell_type": "code",
   "execution_count": 3,
   "id": "e7f9cabb-bcdd-4f0c-9c52-f0b80a235515",
   "metadata": {},
   "outputs": [],
   "source": [
    "from NeuralNetwork.Initializers import XavierInitializer"
   ]
  },
  {
   "cell_type": "code",
   "execution_count": 4,
   "id": "fb0dc70b-62f2-488b-843d-28b30a4f4168",
   "metadata": {},
   "outputs": [],
   "source": [
    "df = pd.read_csv(\"./data/regression/square-simple-training.csv\", index_col=0)\n",
    "\n",
    "X = df.x.to_numpy()\n",
    "X = np.transpose(np.array([X]))\n",
    "Y = df.y.to_numpy()\n",
    "Y = np.transpose(np.array([Y]))\n",
    "\n",
    "df1 = pd.read_csv(\"./data/regression/square-simple-test.csv\", index_col=0)\n",
    "\n",
    "X1 = df1.x.to_numpy()\n",
    "X1 = np.transpose(np.array([X1]))\n",
    "Y1 = df1.y.to_numpy()\n",
    "Y1 = np.transpose(np.array([Y1]))"
   ]
  },
  {
   "cell_type": "code",
   "execution_count": 5,
   "id": "0c16397a-119a-4014-923e-bbb41eeb354c",
   "metadata": {},
   "outputs": [],
   "source": [
    "np.random.seed(0)"
   ]
  },
  {
   "cell_type": "code",
   "execution_count": 6,
   "id": "8b411c27-1d5c-4871-b83c-dbb4de7c0c67",
   "metadata": {},
   "outputs": [
    {
     "name": "stdout",
     "output_type": "stream",
     "text": [
      "Epoch: 0, mse train: 10033.937334234655, mse eval: 8603.76926738219\n",
      "Epoch: 100, mse train: 3737.8967171042223, mse eval: 2690.159089404986\n",
      "Epoch: 200, mse train: 2408.447255060134, mse eval: 1847.71731780186\n",
      "Epoch: 300, mse train: 208.4313535029018, mse eval: 116.73212303534815\n",
      "Epoch: 400, mse train: 78.31901736839198, mse eval: 52.284877758207266\n",
      "Epoch: 500, mse train: 37.03138222169463, mse eval: 31.131757437472114\n",
      "Epoch: 600, mse train: 19.86754216653673, mse eval: 20.784648705094774\n",
      "Epoch: 700, mse train: 11.772575546160983, mse eval: 15.23792077480138\n",
      "Epoch: 800, mse train: 7.508095578481467, mse eval: 12.164018591096967\n",
      "Epoch: 900, mse train: 4.974036858959858, mse eval: 10.193827887376637\n",
      "Training result:\n",
      "    mse train: 3.5426726111448357\n",
      "    mse eval: 8.838681372230244\n"
     ]
    }
   ],
   "source": [
    "n = Net(optimizer = SGD(learning_rate=0.0001))\n",
    "n.add_layer(DenseNetLayer(1, 5, SigmoidFunction(), XavierInitializer(1, 5)))\n",
    "n.add_layer(DenseNetLayer(5, 5, SigmoidFunction(), XavierInitializer(5, 5)))\n",
    "n.add_layer(DenseNetLayer(5, 1, LinearFunction(), XavierInitializer(5, 1)))\n",
    "n.train(X, Y, X1, Y1, n_epochs=1000, eval_frequency=100)"
   ]
  },
  {
   "cell_type": "code",
   "execution_count": null,
   "id": "b46f19bb-9a7b-45f5-82a2-a9eea9dfaf9d",
   "metadata": {},
   "outputs": [],
   "source": []
  }
 ],
 "metadata": {
  "kernelspec": {
   "display_name": "Python 3 (ipykernel)",
   "language": "python",
   "name": "python3"
  },
  "language_info": {
   "codemirror_mode": {
    "name": "ipython",
    "version": 3
   },
   "file_extension": ".py",
   "mimetype": "text/x-python",
   "name": "python",
   "nbconvert_exporter": "python",
   "pygments_lexer": "ipython3",
   "version": "3.7.11"
  }
 },
 "nbformat": 4,
 "nbformat_minor": 5
}
