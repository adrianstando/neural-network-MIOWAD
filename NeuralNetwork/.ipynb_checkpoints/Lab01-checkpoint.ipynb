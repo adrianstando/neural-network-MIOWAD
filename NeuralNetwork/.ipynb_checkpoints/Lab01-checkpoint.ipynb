{
 "cells": [
  {
   "cell_type": "markdown",
   "id": "ab2269ec-83bd-4e7d-a8f0-6639dc9e7493",
   "metadata": {},
   "source": [
    "# Praca domowa 1 - MIO"
   ]
  },
  {
   "cell_type": "code",
   "execution_count": 1,
   "id": "e5cae559-c9a9-4e66-b87c-691360629ed0",
   "metadata": {},
   "outputs": [],
   "source": [
    "import pandas as pd\n",
    "import numpy as np\n",
    "import matplotlib.pyplot as plt"
   ]
  },
  {
   "cell_type": "code",
   "execution_count": 2,
   "id": "47949d21-660c-4cb1-a55b-136008145621",
   "metadata": {},
   "outputs": [
    {
     "ename": "ImportError",
     "evalue": "attempted relative import with no known parent package",
     "output_type": "error",
     "traceback": [
      "\u001b[0;31m---------------------------------------------------------------------------\u001b[0m",
      "\u001b[0;31mImportError\u001b[0m                               Traceback (most recent call last)",
      "\u001b[0;32m/tmp/ipykernel_77278/429227476.py\u001b[0m in \u001b[0;36m<module>\u001b[0;34m\u001b[0m\n\u001b[0;32m----> 1\u001b[0;31m \u001b[0;32mfrom\u001b[0m \u001b[0;34m...\u001b[0m\u001b[0mNeuralNetwork\u001b[0m \u001b[0;32mimport\u001b[0m \u001b[0mDenseNetLayer\u001b[0m\u001b[0;34m,\u001b[0m \u001b[0mNet\u001b[0m\u001b[0;34m,\u001b[0m \u001b[0msigmoid_function\u001b[0m\u001b[0;34m,\u001b[0m \u001b[0mlinear_function\u001b[0m\u001b[0;34m,\u001b[0m \u001b[0mmse\u001b[0m\u001b[0;34m\u001b[0m\u001b[0;34m\u001b[0m\u001b[0m\n\u001b[0m",
      "\u001b[0;31mImportError\u001b[0m: attempted relative import with no known parent package"
     ]
    }
   ],
   "source": [
    "from ...NeuralNetwork import DenseNetLayer, Net, sigmoid_function, linear_function, mse"
   ]
  },
  {
   "cell_type": "markdown",
   "id": "b248b312-35d8-4a64-8731-5bcc8a0f77be",
   "metadata": {},
   "source": [
    "## Zbiór square-simple"
   ]
  },
  {
   "cell_type": "code",
   "execution_count": 3,
   "id": "94b28d02-855b-42eb-881e-283da20ef633",
   "metadata": {},
   "outputs": [
    {
     "data": {
      "text/html": [
       "<div>\n",
       "<style scoped>\n",
       "    .dataframe tbody tr th:only-of-type {\n",
       "        vertical-align: middle;\n",
       "    }\n",
       "\n",
       "    .dataframe tbody tr th {\n",
       "        vertical-align: top;\n",
       "    }\n",
       "\n",
       "    .dataframe thead th {\n",
       "        text-align: right;\n",
       "    }\n",
       "</style>\n",
       "<table border=\"1\" class=\"dataframe\">\n",
       "  <thead>\n",
       "    <tr style=\"text-align: right;\">\n",
       "      <th></th>\n",
       "      <th>x</th>\n",
       "      <th>y</th>\n",
       "    </tr>\n",
       "  </thead>\n",
       "  <tbody>\n",
       "    <tr>\n",
       "      <th>1</th>\n",
       "      <td>-0.171543</td>\n",
       "      <td>-127.351580</td>\n",
       "    </tr>\n",
       "    <tr>\n",
       "      <th>2</th>\n",
       "      <td>0.025201</td>\n",
       "      <td>-129.942844</td>\n",
       "    </tr>\n",
       "    <tr>\n",
       "      <th>3</th>\n",
       "      <td>-1.368991</td>\n",
       "      <td>38.672367</td>\n",
       "    </tr>\n",
       "    <tr>\n",
       "      <th>4</th>\n",
       "      <td>1.907390</td>\n",
       "      <td>197.432191</td>\n",
       "    </tr>\n",
       "    <tr>\n",
       "      <th>5</th>\n",
       "      <td>0.011129</td>\n",
       "      <td>-129.988852</td>\n",
       "    </tr>\n",
       "  </tbody>\n",
       "</table>\n",
       "</div>"
      ],
      "text/plain": [
       "          x           y\n",
       "1 -0.171543 -127.351580\n",
       "2  0.025201 -129.942844\n",
       "3 -1.368991   38.672367\n",
       "4  1.907390  197.432191\n",
       "5  0.011129 -129.988852"
      ]
     },
     "execution_count": 3,
     "metadata": {},
     "output_type": "execute_result"
    }
   ],
   "source": [
    "df = pd.read_csv(\"../dane/regression/square-simple-training.csv\", index_col=0)\n",
    "df.head()"
   ]
  },
  {
   "cell_type": "code",
   "execution_count": 4,
   "id": "7acbc236-d0ae-47c9-88af-325394a49287",
   "metadata": {},
   "outputs": [
    {
     "data": {
      "image/png": "[encoded data removed]",
      "text/plain": [
       "<Figure size 432x288 with 1 Axes>"
      ]
     },
     "metadata": {
      "needs_background": "light"
     },
     "output_type": "display_data"
    }
   ],
   "source": [
    "df.plot(x='x', y='y', kind='scatter')\n",
    "plt.show()"
   ]
  },
  {
   "cell_type": "code",
   "execution_count": 5,
   "id": "38bc3cb0-a3fb-4ee9-ac9f-29ab11f9ad7a",
   "metadata": {},
   "outputs": [],
   "source": [
    "X = df.x.to_numpy()\n",
    "X = np.transpose(np.array([X]))\n",
    "\n",
    "Y = df.y.to_numpy()\n",
    "Y = np.transpose(np.array([Y]))"
   ]
  },
  {
   "cell_type": "markdown",
   "id": "8ec1f8e6-7aed-4a44-b481-e6f6e93e2964",
   "metadata": {},
   "source": [
    "#### Sieć neuronowa - jedna warstwa ukrywa, 5 neuronów"
   ]
  },
  {
   "cell_type": "code",
   "execution_count": 6,
   "id": "e0b8ea31-f611-4f97-9461-4239bdc13b1b",
   "metadata": {},
   "outputs": [],
   "source": [
    "zad1_net1 = Net()\n",
    "zad1_net1.add_layer(\n",
    "    DenseNetLayer(input_size=1, number_of_neurons=5, activation_function=sigmoid_function)\n",
    ")\n",
    "zad1_net1.add_layer(\n",
    "    DenseNetLayer(input_size=5, number_of_neurons=1, activation_function=linear_function)\n",
    ")"
   ]
  },
  {
   "cell_type": "code",
   "execution_count": 7,
   "id": "6e362658-fa9a-4bc3-a1e9-e117e9ac6b30",
   "metadata": {},
   "outputs": [],
   "source": [
    "zad1_net1.set_weights(\n",
    "    [\n",
    "        np.array([[-0.97, -0.97, -0.97, -0.97, 0.97]]),\n",
    "        np.array([[500], [500], [500], [500], [2000]]),\n",
    "    ]\n",
    ")\n",
    "zad1_net1.set_biases([np.array([-2.88, -2.88, -2.88, -2.88, -2.88]), np.array([-340])])"
   ]
  },
  {
   "cell_type": "code",
   "execution_count": 8,
   "id": "1406f0ae-19ca-451c-af22-f319348b7b4e",
   "metadata": {},
   "outputs": [
    {
     "name": "stdout",
     "output_type": "stream",
     "text": [
      "MSE dla zbioru treningowego square-simple wynosi: 4.663805965298349\n"
     ]
    }
   ],
   "source": [
    "print(f\"MSE dla zbioru treningowego square-simple wynosi: {mse(Y, zad1_net1.out(X))}\")"
   ]
  },
  {
   "cell_type": "code",
   "execution_count": 9,
   "id": "ebea576e-c524-4e3c-9479-eec96a133a38",
   "metadata": {},
   "outputs": [
    {
     "data": {
      "image/png": "[encoded data removed]",
      "text/plain": [
       "<Figure size 432x288 with 1 Axes>"
      ]
     },
     "metadata": {
      "needs_background": "light"
     },
     "output_type": "display_data"
    }
   ],
   "source": [
    "tmp = pd.DataFrame({'x': df.x, 'y':np.transpose(zad1_net1.out(X))[0]})\n",
    "ax = tmp.plot(x='x', y='y', kind='scatter', color='red')\n",
    "df.plot(x='x', y='y', kind='scatter', ax=ax, marker = '+')\n",
    "plt.show()"
   ]
  },
  {
   "cell_type": "markdown",
   "id": "471c8a4c-36ef-4fca-9849-e7a1f858fb28",
   "metadata": {},
   "source": [
    "#### Wynik dla zbioru testowego"
   ]
  },
  {
   "cell_type": "code",
   "execution_count": 10,
   "id": "c5ae1740-872a-4033-b300-52e387dc1f1c",
   "metadata": {},
   "outputs": [
    {
     "data": {
      "image/png": "[encoded data removed]",
      "text/plain": [
       "<Figure size 432x288 with 1 Axes>"
      ]
     },
     "metadata": {
      "needs_background": "light"
     },
     "output_type": "display_data"
    }
   ],
   "source": [
    "df = pd.read_csv(\"../dane/regression/square-simple-test.csv\", index_col=0)\n",
    "df.plot(x='x', y='y', kind='scatter')\n",
    "plt.show()"
   ]
  },
  {
   "cell_type": "code",
   "execution_count": 11,
   "id": "5decc222-a5d7-4e59-87ad-4eff8f2d29eb",
   "metadata": {},
   "outputs": [],
   "source": [
    "X = df.x.to_numpy()\n",
    "X = np.transpose(np.array([X]))\n",
    "\n",
    "Y = df.y.to_numpy()\n",
    "Y = np.transpose(np.array([Y]))"
   ]
  },
  {
   "cell_type": "code",
   "execution_count": 12,
   "id": "75d21c92-309b-4cd4-8d55-4acb455e729b",
   "metadata": {},
   "outputs": [
    {
     "name": "stdout",
     "output_type": "stream",
     "text": [
      "MSE dla zbioru testowego square-simple wynosi: 3.663122320094175\n"
     ]
    }
   ],
   "source": [
    "print(f\"MSE dla zbioru testowego square-simple wynosi: {mse(Y, zad1_net1.out(X))}\")"
   ]
  },
  {
   "cell_type": "code",
   "execution_count": 13,
   "id": "fe187652-31cd-4672-bc35-d2707bbdebfd",
   "metadata": {},
   "outputs": [
    {
     "data": {
      "image/png": "[encoded data removed]",
      "text/plain": [
       "<Figure size 432x288 with 1 Axes>"
      ]
     },
     "metadata": {
      "needs_background": "light"
     },
     "output_type": "display_data"
    }
   ],
   "source": [
    "tmp = pd.DataFrame({'x': df.x, 'y':np.transpose(zad1_net1.out(X))[0]})\n",
    "ax = tmp.plot(x='x', y='y', kind='scatter', color='red')\n",
    "df.plot(x='x', y='y', kind='scatter', ax=ax, marker = '+')\n",
    "plt.show()"
   ]
  },
  {
   "cell_type": "markdown",
   "id": "451dee43-17d0-4d9c-95fb-85341776db8e",
   "metadata": {},
   "source": [
    "## Zbiór steps-large"
   ]
  },
  {
   "cell_type": "code",
   "execution_count": 14,
   "id": "b17b53ed-4350-4255-bf40-3ba8b90a58e8",
   "metadata": {},
   "outputs": [
    {
     "data": {
      "text/html": [
       "<div>\n",
       "<style scoped>\n",
       "    .dataframe tbody tr th:only-of-type {\n",
       "        vertical-align: middle;\n",
       "    }\n",
       "\n",
       "    .dataframe tbody tr th {\n",
       "        vertical-align: top;\n",
       "    }\n",
       "\n",
       "    .dataframe thead th {\n",
       "        text-align: right;\n",
       "    }\n",
       "</style>\n",
       "<table border=\"1\" class=\"dataframe\">\n",
       "  <thead>\n",
       "    <tr style=\"text-align: right;\">\n",
       "      <th></th>\n",
       "      <th>x</th>\n",
       "      <th>y</th>\n",
       "    </tr>\n",
       "  </thead>\n",
       "  <tbody>\n",
       "    <tr>\n",
       "      <th>1</th>\n",
       "      <td>-1.481354</td>\n",
       "      <td>-80</td>\n",
       "    </tr>\n",
       "    <tr>\n",
       "      <th>2</th>\n",
       "      <td>1.033264</td>\n",
       "      <td>80</td>\n",
       "    </tr>\n",
       "    <tr>\n",
       "      <th>3</th>\n",
       "      <td>-0.076403</td>\n",
       "      <td>0</td>\n",
       "    </tr>\n",
       "    <tr>\n",
       "      <th>4</th>\n",
       "      <td>-1.419785</td>\n",
       "      <td>-80</td>\n",
       "    </tr>\n",
       "    <tr>\n",
       "      <th>5</th>\n",
       "      <td>-0.108398</td>\n",
       "      <td>0</td>\n",
       "    </tr>\n",
       "  </tbody>\n",
       "</table>\n",
       "</div>"
      ],
      "text/plain": [
       "          x   y\n",
       "1 -1.481354 -80\n",
       "2  1.033264  80\n",
       "3 -0.076403   0\n",
       "4 -1.419785 -80\n",
       "5 -0.108398   0"
      ]
     },
     "execution_count": 14,
     "metadata": {},
     "output_type": "execute_result"
    }
   ],
   "source": [
    "df = pd.read_csv(\"../dane/regression/steps-large-training.csv\", index_col=0)\n",
    "df.head()"
   ]
  },
  {
   "cell_type": "code",
   "execution_count": 15,
   "id": "cdbe0a29-b37f-4ea4-a7ec-e6b7303a2857",
   "metadata": {},
   "outputs": [
    {
     "data": {
      "image/png": "[encoded data removed]",
      "text/plain": [
       "<Figure size 432x288 with 1 Axes>"
      ]
     },
     "metadata": {
      "needs_background": "light"
     },
     "output_type": "display_data"
    }
   ],
   "source": [
    "df.plot(x='x', y='y', kind='scatter')\n",
    "plt.show()"
   ]
  },
  {
   "cell_type": "code",
   "execution_count": 16,
   "id": "12558e30-fc80-41e5-97a1-3f7857ce2fab",
   "metadata": {},
   "outputs": [],
   "source": [
    "X = df.x.to_numpy()\n",
    "X = np.transpose(np.array([X], dtype=np.float128))\n",
    "\n",
    "Y = df.y.to_numpy()\n",
    "Y = np.transpose(np.array([Y], dtype=np.float128))"
   ]
  },
  {
   "cell_type": "markdown",
   "id": "71685487-b5a0-4e58-a014-6a17ad0bec8d",
   "metadata": {},
   "source": [
    "#### Sieć neuronowa - jedna warstwa ukrywa, 5 neuronów"
   ]
  },
  {
   "cell_type": "code",
   "execution_count": 17,
   "id": "6538ec1f-2878-4e13-873d-fa2955e4f286",
   "metadata": {},
   "outputs": [],
   "source": [
    "zad2_net1 = Net()\n",
    "zad2_net1.add_layer(\n",
    "    DenseNetLayer(input_size=1, number_of_neurons=5, activation_function=sigmoid_function)\n",
    ")\n",
    "zad2_net1.add_layer(\n",
    "    DenseNetLayer(input_size=5, number_of_neurons=1, activation_function=linear_function)\n",
    ")"
   ]
  },
  {
   "cell_type": "code",
   "execution_count": 18,
   "id": "a2a69b59-8605-41df-8df7-3115b0e3a8d4",
   "metadata": {},
   "outputs": [],
   "source": [
    "zad2_net1.set_weights(\n",
    "    [\n",
    "        np.array([[500, 500, 500, 0, 0]]),\n",
    "        np.array([[80], [80], [80], [0], [0]]),\n",
    "    ]\n",
    ")\n",
    "zad2_net1.set_biases([np.array([-250, -750, 250, 0, 0]), np.array([-80])])"
   ]
  },
  {
   "cell_type": "code",
   "execution_count": 19,
   "id": "4ca0b599-f995-4e8c-b63e-0cb9330fa0db",
   "metadata": {},
   "outputs": [
    {
     "name": "stdout",
     "output_type": "stream",
     "text": [
      "MSE dla zbioru treningowego steps-large wynosi: 4.190735668232932\n"
     ]
    }
   ],
   "source": [
    "print(f\"MSE dla zbioru treningowego steps-large wynosi: {mse(Y, zad2_net1.out(X))}\")"
   ]
  },
  {
   "cell_type": "code",
   "execution_count": 20,
   "id": "36f82f94-31fb-4538-a838-481f6e4e5a2e",
   "metadata": {},
   "outputs": [
    {
     "data": {
      "image/png": "[encoded data removed]",
      "text/plain": [
       "<Figure size 432x288 with 1 Axes>"
      ]
     },
     "metadata": {
      "needs_background": "light"
     },
     "output_type": "display_data"
    }
   ],
   "source": [
    "tmp = pd.DataFrame({'x': df.x, 'y':np.transpose(zad2_net1.out(X))[0]})\n",
    "ax = tmp.plot(x='x', y='y', kind='scatter', color='red')\n",
    "df.plot(x='x', y='y', kind='scatter', ax=ax, marker = '+')\n",
    "plt.show()"
   ]
  },
  {
   "cell_type": "markdown",
   "id": "d4529761-2dfa-443b-832f-17cfc9182142",
   "metadata": {},
   "source": [
    "#### Wynik dla zbioru testowego"
   ]
  },
  {
   "cell_type": "code",
   "execution_count": 21,
   "id": "b864ce52-a58b-4b0e-8e91-2351f4b7611e",
   "metadata": {},
   "outputs": [
    {
     "data": {
      "image/png": "[encoded data removed]",
      "text/plain": [
       "<Figure size 432x288 with 1 Axes>"
      ]
     },
     "metadata": {
      "needs_background": "light"
     },
     "output_type": "display_data"
    }
   ],
   "source": [
    "df = pd.read_csv(\"../dane/regression/steps-large-test.csv\", index_col=0)\n",
    "df.plot(x='x', y='y', kind='scatter')\n",
    "plt.show()"
   ]
  },
  {
   "cell_type": "code",
   "execution_count": 22,
   "id": "c41f6e88-516a-4fd3-a478-fdd39c899525",
   "metadata": {},
   "outputs": [],
   "source": [
    "X = df.x.to_numpy()\n",
    "X = np.transpose(np.array([X], dtype=np.float128))\n",
    "\n",
    "Y = df.y.to_numpy()\n",
    "Y = np.transpose(np.array([Y], dtype=np.float128))"
   ]
  },
  {
   "cell_type": "code",
   "execution_count": 23,
   "id": "8c779f6f-5c6a-4667-a336-fe111216be8b",
   "metadata": {},
   "outputs": [
    {
     "name": "stdout",
     "output_type": "stream",
     "text": [
      "MSE dla zbioru testowego steps-large wynosi: 4.6552495516519485\n"
     ]
    }
   ],
   "source": [
    "print(f\"MSE dla zbioru testowego steps-large wynosi: {mse(Y, zad2_net1.out(X))}\")"
   ]
  },
  {
   "cell_type": "code",
   "execution_count": 24,
   "id": "655da320-b07f-418b-a2f2-b2901ec29d42",
   "metadata": {},
   "outputs": [
    {
     "data": {
      "image/png": "[encoded data removed]",
      "text/plain": [
       "<Figure size 432x288 with 1 Axes>"
      ]
     },
     "metadata": {
      "needs_background": "light"
     },
     "output_type": "display_data"
    }
   ],
   "source": [
    "tmp = pd.DataFrame({'x': df.x, 'y':np.transpose(zad2_net1.out(X))[0]})\n",
    "ax = tmp.plot(x='x', y='y', kind='scatter', color='red')\n",
    "df.plot(x='x', y='y', kind='scatter', ax=ax, marker = '+')\n",
    "plt.show()"
   ]
  },
  {
   "cell_type": "code",
   "execution_count": null,
   "id": "04263a17-8d00-4729-9c92-b039e4346926",
   "metadata": {},
   "outputs": [],
   "source": []
  }
 ],
 "metadata": {
  "kernelspec": {
   "display_name": "Python 3 (ipykernel)",
   "language": "python",
   "name": "python3"
  },
  "language_info": {
   "codemirror_mode": {
    "name": "ipython",
    "version": 3
   },
   "file_extension": ".py",
   "mimetype": "text/x-python",
   "name": "python",
   "nbconvert_exporter": "python",
   "pygments_lexer": "ipython3",
   "version": "3.7.11"
  }
 },
 "nbformat": 4,
 "nbformat_minor": 5
}
