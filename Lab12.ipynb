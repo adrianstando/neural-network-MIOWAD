{
 "cells": [
  {
   "cell_type": "markdown",
   "id": "1f9c4f07",
   "metadata": {
    "cell_id": "73d7fe71-0278-4940-bd22-796507cdbf81",
    "deepnote_cell_height": 130,
    "deepnote_cell_type": "markdown"
   },
   "source": [
    "# Praca domowa 12\n",
    "\n",
    "### Optymalizacja wag sieci algorytmem genetycznym"
   ]
  },
  {
   "cell_type": "code",
   "execution_count": null,
   "id": "4db22ddf",
   "metadata": {
    "cell_id": "00001-d3ec3a72-be95-401a-9a9f-c154bca9d950",
    "deepnote_cell_height": 117,
    "deepnote_cell_type": "code",
    "deepnote_to_be_reexecuted": false,
    "execution_millis": 2979,
    "execution_start": 1654867946221,
    "source_hash": "8ca6a091"
   },
   "outputs": [],
   "source": [
    "import pandas as pd\n",
    "import numpy as np\n",
    "import matplotlib.pyplot as plt"
   ]
  },
  {
   "cell_type": "code",
   "execution_count": null,
   "id": "f19cd70e",
   "metadata": {
    "cell_id": "00002-ced99bad-a0a0-4927-ad5d-1d4252d5ae28",
    "deepnote_cell_height": 81,
    "deepnote_cell_type": "code",
    "deepnote_to_be_reexecuted": false,
    "execution_millis": 30,
    "execution_start": 1654867949215,
    "source_hash": "6d4c40f8"
   },
   "outputs": [],
   "source": [
    "from GeneticAlgorithms.neural_network_training import *"
   ]
  },
  {
   "cell_type": "code",
   "execution_count": null,
   "id": "2f9152ba",
   "metadata": {
    "cell_id": "8f908b159e034daab36c6d1a22f747e4",
    "deepnote_cell_height": 135,
    "deepnote_cell_type": "code",
    "deepnote_to_be_reexecuted": false,
    "execution_millis": 5,
    "execution_start": 1654867949250,
    "source_hash": "5e901bd2",
    "tags": []
   },
   "outputs": [],
   "source": [
    "from NeuralNetwork.NeuralNetwork import Net, mse\n",
    "from NeuralNetwork.Layers import DenseNetLayer\n",
    "from NeuralNetwork.ActivationFunctions import SigmoidFunction, LinearFunction, ReLU, SoftmaxAsLastLayerWithCrossEntropy\n",
    "from NeuralNetwork.Initializers import RandomNormalInitializer"
   ]
  },
  {
   "cell_type": "code",
   "execution_count": null,
   "id": "d247e4f0",
   "metadata": {
    "cell_id": "f95481ffe7fb41bb8bba71736ccef4f6",
    "deepnote_cell_height": 99,
    "deepnote_cell_type": "code",
    "deepnote_to_be_reexecuted": false,
    "execution_millis": 1807,
    "execution_start": 1654867949263,
    "source_hash": "8938052f",
    "tags": []
   },
   "outputs": [],
   "source": [
    "from sklearn.model_selection import train_test_split\n",
    "import copy"
   ]
  },
  {
   "cell_type": "markdown",
   "id": "468d4e49",
   "metadata": {
    "cell_id": "00003-3cf285c7-969b-4179-b98f-f67dd473cf07",
    "deepnote_cell_height": 62,
    "deepnote_cell_type": "markdown"
   },
   "source": [
    "### Zbiór multimodal-large"
   ]
  },
  {
   "cell_type": "code",
   "execution_count": null,
   "id": "b18f76c8",
   "metadata": {
    "cell_id": "00004-d18beb92-edc7-425b-904d-9e467682cf43",
    "deepnote_cell_height": 297,
    "deepnote_cell_type": "code",
    "deepnote_to_be_reexecuted": false,
    "execution_millis": 42,
    "execution_start": 1654867955463,
    "source_hash": "1ed0c4cd"
   },
   "outputs": [],
   "source": [
    "df = pd.read_csv(\"./data/regression/multimodal-large-training.csv\")\n",
    "df.head()\n",
    "X = df.x.to_numpy()\n",
    "X_train = np.transpose(np.array([X]))\n",
    "Y = df.y.to_numpy()\n",
    "y_train = np.transpose(np.array([Y]))\n",
    "\n",
    "df1 = pd.read_csv(\"./data/regression/multimodal-large-test.csv\")\n",
    "df1.head()\n",
    "X1 = df1.x.to_numpy()\n",
    "X_test = np.transpose(np.array([X1]))\n",
    "Y1 = df1.y.to_numpy()\n",
    "y_test = np.transpose(np.array([Y1]))"
   ]
  },
  {
   "cell_type": "markdown",
   "id": "92514fbd",
   "metadata": {
    "cell_id": "3fe2b0e693644fa09d842b97d0ac8194",
    "deepnote_cell_height": 52.399993896484375,
    "deepnote_cell_type": "markdown",
    "tags": []
   },
   "source": [
    "Z powodów wydajnościowych będę trenował tylko na podzbiorze danych treningowych."
   ]
  },
  {
   "cell_type": "code",
   "execution_count": null,
   "id": "fb99f144",
   "metadata": {
    "cell_id": "9785bb5373e1411cb397c21379da7ff4",
    "deepnote_cell_height": 81,
    "deepnote_cell_type": "code",
    "deepnote_to_be_reexecuted": false,
    "execution_millis": 27,
    "execution_start": 1654789663918,
    "source_hash": "c29e626b",
    "tags": []
   },
   "outputs": [],
   "source": [
    "X_train, _, y_train, _ = train_test_split(X, Y, train_size=0.2)"
   ]
  },
  {
   "cell_type": "code",
   "execution_count": null,
   "id": "9ce3c6d7",
   "metadata": {
    "cell_id": "33f7f2c9771144e3b4da204e9260aaa3",
    "deepnote_cell_height": 99,
    "deepnote_cell_type": "code",
    "deepnote_to_be_reexecuted": false,
    "execution_millis": 18,
    "execution_start": 1654789685178,
    "source_hash": "d557a097",
    "tags": []
   },
   "outputs": [],
   "source": [
    "X_train = np.transpose(np.array([X_train]))\n",
    "y_train = np.transpose(np.array([y_train]))"
   ]
  },
  {
   "cell_type": "code",
   "execution_count": null,
   "id": "3bbb271b",
   "metadata": {
    "cell_id": "70f9b760d8be4012877e3dc74a53c3d8",
    "deepnote_cell_height": 365,
    "deepnote_cell_type": "code",
    "deepnote_output_heights": [
     250
    ],
    "deepnote_to_be_reexecuted": false,
    "execution_millis": 1417,
    "execution_start": 1654789701473,
    "source_hash": "6da99205",
    "tags": []
   },
   "outputs": [
    {
     "data": {
      "image/png": "[encoded data removed]",
      "text/plain": [
       "<Figure size 432x288 with 1 Axes>"
      ]
     },
     "metadata": {
      "image/png": {
       "height": 248,
       "width": 383
      },
      "needs_background": "light"
     },
     "output_type": "display_data"
    }
   ],
   "source": [
    "plt.scatter(X_train, y_train)\n",
    "plt.show()"
   ]
  },
  {
   "cell_type": "code",
   "execution_count": null,
   "id": "1f36b5a0",
   "metadata": {
    "cell_id": "b72ce8e3671a4914a569a1252b3a2a92",
    "deepnote_cell_height": 171,
    "deepnote_cell_type": "code",
    "deepnote_to_be_reexecuted": false,
    "execution_millis": 4,
    "execution_start": 1654867999294,
    "source_hash": "f6250cdf",
    "tags": []
   },
   "outputs": [],
   "source": [
    "def network_generator_multimodal():\n",
    "    net = Net()\n",
    "    net.add_layer(DenseNetLayer(1, 20, ReLU(), RandomNormalInitializer(0, 0.1)))\n",
    "    net.add_layer(DenseNetLayer(20, 10, ReLU(), RandomNormalInitializer(0, 0.1)))\n",
    "    net.add_layer(DenseNetLayer(10, 1, LinearFunction(), RandomNormalInitializer(0, 0.1)))\n",
    "    return net"
   ]
  },
  {
   "cell_type": "code",
   "execution_count": null,
   "id": "f62bc4f1",
   "metadata": {
    "cell_id": "00005-785f3606-ca37-4541-839d-b39c3ad3f0f7",
    "deepnote_cell_height": 99,
    "deepnote_cell_type": "code",
    "deepnote_to_be_reexecuted": false,
    "execution_millis": 24,
    "execution_start": 1654791966869,
    "source_hash": "e70c1a84"
   },
   "outputs": [],
   "source": [
    "population_ml = NeuralNetworkPopulation(n = 200)\n",
    "population_ml.generate_population(network_generator_multimodal)"
   ]
  },
  {
   "cell_type": "code",
   "execution_count": null,
   "id": "bdbdea9e",
   "metadata": {
    "cell_id": "00006-5d6f49c7-f16c-4e0a-9555-966107252f81",
    "deepnote_cell_height": 118,
    "deepnote_cell_type": "code",
    "deepnote_output_heights": [
     21
    ],
    "deepnote_to_be_reexecuted": false,
    "execution_millis": 87199,
    "execution_start": 1654791966906,
    "source_hash": "56f055c8"
   },
   "outputs": [
    {
     "data": {
      "text/plain": [
       "5329.871949043212"
      ]
     },
     "execution_count": 124,
     "metadata": {},
     "output_type": "execute_result"
    }
   ],
   "source": [
    "population_ml.evaluate(X_train, y_train)"
   ]
  },
  {
   "cell_type": "code",
   "execution_count": null,
   "id": "0e4f0350",
   "metadata": {
    "cell_id": "00007-aa252217-46cc-478e-abab-5a3e11b3a509",
    "deepnote_cell_height": 701,
    "deepnote_cell_type": "code",
    "deepnote_to_be_reexecuted": false,
    "execution_millis": 6199586,
    "execution_start": 1654792054115,
    "source_hash": "a6d1a266"
   },
   "outputs": [
    {
     "name": "stdout",
     "output_type": "stream",
     "text": [
      "Epoch: 2/50\n",
      "Best solution function value: 5319.130821728017\n",
      "Epoch: 4/50\n",
      "Best solution function value: 5308.916546004064\n",
      "Epoch: 6/50\n",
      "Best solution function value: 5300.4063426726125\n",
      "Epoch: 8/50\n",
      "Best solution function value: 5279.356040684793\n",
      "Epoch: 10/50\n",
      "Best solution function value: 5249.480006352134\n",
      "Epoch: 12/50\n",
      "Best solution function value: 5240.077932014016\n",
      "Epoch: 14/50\n",
      "Best solution function value: 5229.610706703454\n",
      "Epoch: 16/50\n",
      "Best solution function value: 5159.542171306827\n",
      "Epoch: 18/50\n",
      "Best solution function value: 5108.01290164456\n",
      "Epoch: 20/50\n",
      "Best solution function value: 5029.667023278797\n",
      "Epoch: 22/50\n",
      "Best solution function value: 4897.367603407919\n",
      "Epoch: 24/50\n",
      "Best solution function value: 4805.253704199133\n",
      "Epoch: 26/50\n",
      "Best solution function value: 4756.321299091305\n",
      "Epoch: 28/50\n",
      "Best solution function value: 4688.496557403207\n",
      "Epoch: 30/50\n",
      "Best solution function value: 4636.99008472503\n",
      "Epoch: 32/50\n",
      "Best solution function value: 4584.435823751263\n",
      "Epoch: 34/50\n",
      "Best solution function value: 4519.328626568744\n",
      "Epoch: 36/50\n",
      "Best solution function value: 4445.548108274778\n",
      "Epoch: 38/50\n",
      "Best solution function value: 4347.082996861402\n",
      "Epoch: 40/50\n",
      "Best solution function value: 4279.003763958364\n",
      "Epoch: 42/50\n",
      "Best solution function value: 4240.877498589598\n",
      "Epoch: 44/50\n",
      "Best solution function value: 4213.088753657105\n",
      "Epoch: 46/50\n",
      "Best solution function value: 4206.225883861376\n",
      "Epoch: 48/50\n",
      "Best solution function value: 4077.9052227849456\n",
      "Epoch: 50/50\n",
      "Best solution function value: 4039.627797388492\n"
     ]
    }
   ],
   "source": [
    "history_multi = population_ml.train(X_train, y_train, 50, 2, mutation_sigma = 0.1, mutation_sigma_learning_rate=1, mutation_population_ratio=0.3, crossover_population_ratio=0.6)"
   ]
  },
  {
   "cell_type": "code",
   "execution_count": null,
   "id": "4c52886a",
   "metadata": {
    "cell_id": "4da15358f82141b89c3fda3dbbeaf7f1",
    "deepnote_cell_height": 701,
    "deepnote_cell_type": "code",
    "deepnote_to_be_reexecuted": false,
    "execution_millis": 4960219,
    "execution_start": 1654798543180,
    "source_hash": "105c18dd",
    "tags": []
   },
   "outputs": [
    {
     "name": "stdout",
     "output_type": "stream",
     "text": [
      "Epoch: 2/50\n",
      "Best solution function value: 3988.1887438470108\n",
      "Epoch: 4/50\n",
      "Best solution function value: 3907.3530327837752\n",
      "Epoch: 6/50\n",
      "Best solution function value: 3809.512492470293\n",
      "Epoch: 8/50\n",
      "Best solution function value: 3775.8863864062855\n",
      "Epoch: 10/50\n",
      "Best solution function value: 3672.21438478011\n",
      "Epoch: 12/50\n",
      "Best solution function value: 3649.911519431854\n",
      "Epoch: 14/50\n",
      "Best solution function value: 3579.361282298123\n",
      "Epoch: 16/50\n",
      "Best solution function value: 3532.296859413355\n",
      "Epoch: 18/50\n",
      "Best solution function value: 3490.078295608108\n",
      "Epoch: 20/50\n",
      "Best solution function value: 3475.5361453198902\n",
      "Epoch: 22/50\n",
      "Best solution function value: 3460.0213305256993\n",
      "Epoch: 24/50\n",
      "Best solution function value: 3453.760049901743\n",
      "Epoch: 26/50\n",
      "Best solution function value: 3407.610381959441\n",
      "Epoch: 28/50\n",
      "Best solution function value: 3395.9144217310068\n",
      "Epoch: 30/50\n",
      "Best solution function value: 3371.402382530602\n",
      "Epoch: 32/50\n",
      "Best solution function value: 3355.244519051779\n",
      "Epoch: 34/50\n",
      "Best solution function value: 3348.3699180520725\n",
      "Epoch: 36/50\n",
      "Best solution function value: 3325.9236357270993\n",
      "Epoch: 38/50\n",
      "Best solution function value: 3307.843265151297\n",
      "Epoch: 40/50\n",
      "Best solution function value: 3304.253062261823\n",
      "Epoch: 42/50\n",
      "Best solution function value: 3287.043219382303\n",
      "Epoch: 44/50\n",
      "Best solution function value: 3282.3544797555837\n",
      "Epoch: 46/50\n",
      "Best solution function value: 3269.0410931732767\n",
      "Epoch: 48/50\n",
      "Best solution function value: 3268.931473576436\n",
      "Epoch: 50/50\n",
      "Best solution function value: 3250.5641081479107\n"
     ]
    }
   ],
   "source": [
    "history_multi_2 = population_ml.train(X_train, y_train, 50, 2, mutation_sigma = 0.1, mutation_sigma_learning_rate=1, mutation_population_ratio=0.3, crossover_population_ratio=0.6)"
   ]
  },
  {
   "cell_type": "code",
   "execution_count": null,
   "id": "b425c661",
   "metadata": {
    "cell_id": "326e372525e2478793a177e83d467bd9",
    "deepnote_cell_height": 701,
    "deepnote_cell_type": "code",
    "deepnote_to_be_reexecuted": false,
    "execution_millis": 11501966,
    "execution_start": 1654803528479,
    "source_hash": "329f6854",
    "tags": []
   },
   "outputs": [
    {
     "name": "stdout",
     "output_type": "stream",
     "text": [
      "Epoch: 2/100\n",
      "Best solution function value: 3234.1249268347638\n",
      "Epoch: 4/100\n",
      "Best solution function value: 3223.967025483539\n",
      "Epoch: 6/100\n",
      "Best solution function value: 3221.8719402265083\n",
      "Epoch: 8/100\n",
      "Best solution function value: 3192.8055384848863\n",
      "Epoch: 10/100\n",
      "Best solution function value: 3176.265481663904\n",
      "Epoch: 12/100\n",
      "Best solution function value: 3145.0711572670907\n",
      "Epoch: 14/100\n",
      "Best solution function value: 3121.78520982433\n",
      "Epoch: 16/100\n",
      "Best solution function value: 3084.1285275101773\n",
      "Epoch: 18/100\n",
      "Best solution function value: 3066.989801765695\n",
      "Epoch: 20/100\n",
      "Best solution function value: 3026.517256251187\n",
      "Epoch: 22/100\n",
      "Best solution function value: 2980.474641150965\n",
      "Epoch: 24/100\n",
      "Best solution function value: 2973.235824799266\n",
      "Epoch: 26/100\n",
      "Best solution function value: 2962.0631980400453\n",
      "Epoch: 28/100\n",
      "Best solution function value: 2924.886881704396\n",
      "Epoch: 30/100\n",
      "Best solution function value: 2881.6644821707937\n",
      "Epoch: 32/100\n",
      "Best solution function value: 2855.2243600875463\n",
      "Epoch: 34/100\n",
      "Best solution function value: 2832.777036183271\n",
      "Epoch: 36/100\n",
      "Best solution function value: 2809.7236926127757\n",
      "Epoch: 38/100\n",
      "Best solution function value: 2793.74158578292\n",
      "Epoch: 40/100\n",
      "Best solution function value: 2793.876574936375\n",
      "Epoch: 42/100\n",
      "Best solution function value: 2781.378070381091\n",
      "Epoch: 44/100\n",
      "Best solution function value: 2733.628671776992\n",
      "Epoch: 46/100\n",
      "Best solution function value: 2712.9173986126593\n",
      "Epoch: 48/100\n",
      "Best solution function value: 2692.000604160554\n",
      "Epoch: 50/100\n",
      "Best solution function value: 2675.79662499416\n",
      "Epoch: 52/100\n",
      "Best solution function value: 2645.8310028415676\n",
      "Epoch: 54/100\n",
      "Best solution function value: 2644.4981360714764\n",
      "Epoch: 56/100\n",
      "Best solution function value: 2638.918361457347\n",
      "Epoch: 58/100\n",
      "Best solution function value: 2617.852994451741\n",
      "Epoch: 60/100\n",
      "Best solution function value: 2598.4398832012457\n",
      "Epoch: 62/100\n",
      "Best solution function value: 2580.8925818392663\n",
      "Epoch: 64/100\n",
      "Best solution function value: 2571.0494038960983\n",
      "Epoch: 66/100\n",
      "Best solution function value: 2567.0765644197604\n",
      "Epoch: 68/100\n",
      "Best solution function value: 2556.088189612772\n",
      "Epoch: 70/100\n",
      "Best solution function value: 2556.088189612772\n",
      "Epoch: 72/100\n",
      "Best solution function value: 2554.4097364630197\n",
      "Epoch: 74/100\n",
      "Best solution function value: 2538.0800491684336\n",
      "Epoch: 76/100\n",
      "Best solution function value: 2535.3634440073165\n",
      "Epoch: 78/100\n",
      "Best solution function value: 2523.821755517484\n",
      "Epoch: 80/100\n",
      "Best solution function value: 2503.9893396260404\n",
      "Epoch: 82/100\n",
      "Best solution function value: 2484.2428348386807\n",
      "Epoch: 84/100\n",
      "Best solution function value: 2478.0712382753172\n",
      "Epoch: 86/100\n",
      "Best solution function value: 2471.7075477146714\n",
      "Epoch: 88/100\n",
      "Best solution function value: 2438.3785061794306\n",
      "Epoch: 90/100\n",
      "Best solution function value: 2432.037697968794\n",
      "Epoch: 92/100\n",
      "Best solution function value: 2404.6645748616256\n",
      "Epoch: 94/100\n",
      "Best solution function value: 2382.947982350907\n",
      "Epoch: 96/100\n",
      "Best solution function value: 2375.5536568874604\n",
      "Epoch: 98/100\n",
      "Best solution function value: 2362.780225150426\n",
      "Epoch: 100/100\n",
      "Best solution function value: 2338.968730736898\n"
     ]
    }
   ],
   "source": [
    "history_multi_3 = population_ml.train(X_train, y_train, 100, 2, mutation_sigma = 0.1, mutation_sigma_learning_rate=1, mutation_population_ratio=0.3, crossover_population_ratio=0.6)"
   ]
  },
  {
   "cell_type": "code",
   "execution_count": null,
   "id": "f508e797",
   "metadata": {
    "cell_id": "a48fbb6b04a344418ea2d51a56d2e1bf",
    "deepnote_cell_height": 701,
    "deepnote_cell_type": "code",
    "deepnote_to_be_reexecuted": false,
    "execution_millis": 9766642,
    "execution_start": 1654840492710,
    "source_hash": "4e96cc77",
    "tags": []
   },
   "outputs": [
    {
     "name": "stdout",
     "output_type": "stream",
     "text": [
      "Epoch: 2/100\n",
      "Best solution function value: 2308.442883738881\n",
      "Epoch: 4/100\n",
      "Best solution function value: 2300.558624211829\n",
      "Epoch: 6/100\n",
      "Best solution function value: 2299.778338704285\n",
      "Epoch: 8/100\n",
      "Best solution function value: 2298.258310953836\n",
      "Epoch: 10/100\n",
      "Best solution function value: 2261.9858195096567\n",
      "Epoch: 12/100\n",
      "Best solution function value: 2245.7620159066905\n",
      "Epoch: 14/100\n",
      "Best solution function value: 2215.577778822962\n",
      "Epoch: 16/100\n",
      "Best solution function value: 2214.02092860413\n",
      "Epoch: 18/100\n",
      "Best solution function value: 2214.02092860413\n",
      "Epoch: 20/100\n",
      "Best solution function value: 2214.02092860413\n",
      "Epoch: 22/100\n",
      "Best solution function value: 2207.7112421162137\n",
      "Epoch: 24/100\n",
      "Best solution function value: 2198.419759239821\n",
      "Epoch: 26/100\n",
      "Best solution function value: 2190.9998599996075\n",
      "Epoch: 28/100\n",
      "Best solution function value: 2186.034529674558\n",
      "Epoch: 30/100\n",
      "Best solution function value: 2163.903561446855\n",
      "Epoch: 32/100\n",
      "Best solution function value: 2133.8117420415724\n",
      "Epoch: 34/100\n",
      "Best solution function value: 2116.096883835126\n",
      "Epoch: 36/100\n",
      "Best solution function value: 2112.3088206682864\n",
      "Epoch: 38/100\n",
      "Best solution function value: 2106.152772654567\n",
      "Epoch: 40/100\n",
      "Best solution function value: 2070.615054949419\n",
      "Epoch: 42/100\n",
      "Best solution function value: 2094.1596264769023\n",
      "Epoch: 44/100\n",
      "Best solution function value: 2089.636373055224\n",
      "Epoch: 46/100\n",
      "Best solution function value: 2069.95003458816\n",
      "Epoch: 48/100\n",
      "Best solution function value: 2050.734024077294\n",
      "Epoch: 50/100\n",
      "Best solution function value: 2041.8071710657682\n",
      "Epoch: 52/100\n",
      "Best solution function value: 2041.4330679594907\n",
      "Epoch: 54/100\n",
      "Best solution function value: 2040.405491452885\n",
      "Epoch: 56/100\n",
      "Best solution function value: 2034.8741746706912\n",
      "Epoch: 58/100\n",
      "Best solution function value: 2034.8741746706912\n",
      "Epoch: 60/100\n",
      "Best solution function value: 2029.221177507261\n",
      "Epoch: 62/100\n",
      "Best solution function value: 2031.8161917547718\n",
      "Epoch: 64/100\n",
      "Best solution function value: 2031.8161917547718\n",
      "Epoch: 66/100\n",
      "Best solution function value: 2027.7462850663048\n",
      "Epoch: 68/100\n",
      "Best solution function value: 2015.8986202449842\n",
      "Epoch: 70/100\n",
      "Best solution function value: 1985.2381449155325\n",
      "Epoch: 72/100\n",
      "Best solution function value: 1970.4749030507173\n",
      "Epoch: 74/100\n",
      "Best solution function value: 1941.8448822697649\n",
      "Epoch: 76/100\n",
      "Best solution function value: 1937.8768204809908\n",
      "Epoch: 78/100\n",
      "Best solution function value: 1919.9699781397692\n",
      "Epoch: 80/100\n",
      "Best solution function value: 1919.9699781397692\n",
      "Epoch: 82/100\n",
      "Best solution function value: 1904.4111335775794\n",
      "Epoch: 84/100\n",
      "Best solution function value: 1874.7292202750712\n",
      "Epoch: 86/100\n",
      "Best solution function value: 1874.7292202750712\n",
      "Epoch: 88/100\n",
      "Best solution function value: 1858.7085101941238\n",
      "Epoch: 90/100\n",
      "Best solution function value: 1856.9477261824532\n",
      "Epoch: 92/100\n",
      "Best solution function value: 1850.1608375770552\n",
      "Epoch: 94/100\n",
      "Best solution function value: 1848.9243252406543\n",
      "Epoch: 96/100\n",
      "Best solution function value: 1838.8631912072533\n",
      "Epoch: 98/100\n",
      "Best solution function value: 1835.174451153269\n",
      "Epoch: 100/100\n",
      "Best solution function value: 1835.174451153269\n"
     ]
    }
   ],
   "source": [
    "history_multi_4 = population_ml.train(X_train, y_train, 100, 2, mutation_sigma = 0.1, mutation_sigma_learning_rate=1, mutation_population_ratio=0.3, crossover_population_ratio=0.6)"
   ]
  },
  {
   "cell_type": "code",
   "execution_count": null,
   "id": "0f028ea2",
   "metadata": {
    "cell_id": "337ab340014344b8aad3c1c12ba9c80c",
    "deepnote_cell_height": 135,
    "deepnote_cell_type": "code",
    "deepnote_output_heights": [
     2
    ],
    "deepnote_to_be_reexecuted": false,
    "execution_millis": 231,
    "execution_start": 1654855050872,
    "source_hash": "ef3a68af",
    "tags": []
   },
   "outputs": [
    {
     "data": {
      "image/png": "[encoded data removed]",
      "text/plain": [
       "<Figure size 432x288 with 1 Axes>"
      ]
     },
     "metadata": {
      "image/png": {
       "height": 248,
       "width": 383
      },
      "needs_background": "light"
     },
     "output_type": "display_data"
    }
   ],
   "source": [
    "plt.scatter(X_train[0:500], y_train[0:500])\n",
    "plt.scatter(X_train[0:500], population_ml.population[0].forward(X_train[0:500]))\n",
    "plt.show()"
   ]
  },
  {
   "cell_type": "code",
   "execution_count": null,
   "id": "fcb2f09f",
   "metadata": {
    "cell_id": "6522cd838da048dc8dc41da7a9b7149d",
    "deepnote_cell_height": 66,
    "deepnote_cell_type": "code",
    "tags": []
   },
   "outputs": [],
   "source": []
  },
  {
   "cell_type": "markdown",
   "id": "296799fc",
   "metadata": {
    "cell_id": "31be29bb604b4e7686a4ef3c8e67d064",
    "deepnote_cell_height": 74.80000305175781,
    "deepnote_cell_type": "markdown",
    "tags": []
   },
   "source": [
    "Ze względów wydajnościowych (poprzednio 50 epok zajmwało około godzinę na Deepnote'cie) wezmę dalej połowę obecnego zbioru treningowego."
   ]
  },
  {
   "cell_type": "code",
   "execution_count": null,
   "id": "9d14fd9e",
   "metadata": {
    "cell_id": "1ee17607ac3743ed828261add8373480",
    "deepnote_cell_height": 81,
    "deepnote_cell_type": "code",
    "deepnote_to_be_reexecuted": false,
    "execution_millis": 0,
    "execution_start": 1654867983761,
    "source_hash": "3be28029",
    "tags": []
   },
   "outputs": [],
   "source": [
    "X_train, y_train = X_train[0:500], y_train[0:500]"
   ]
  },
  {
   "cell_type": "code",
   "execution_count": null,
   "id": "a9679e4a",
   "metadata": {
    "cell_id": "e968d552d1774e09bab93b955d48fd35",
    "deepnote_cell_height": 701,
    "deepnote_cell_type": "code",
    "deepnote_to_be_reexecuted": false,
    "execution_millis": 870552,
    "execution_start": 1654855125510,
    "source_hash": "380e5a7b",
    "tags": []
   },
   "outputs": [
    {
     "name": "stdout",
     "output_type": "stream",
     "text": [
      "Epoch: 2/100\n",
      "Best solution function value: 1704.9623956935386\n",
      "Epoch: 4/100\n",
      "Best solution function value: 1691.8488469638382\n",
      "Epoch: 6/100\n",
      "Best solution function value: 1690.0040362840193\n",
      "Epoch: 8/100\n",
      "Best solution function value: 1659.0360645742567\n",
      "Epoch: 10/100\n",
      "Best solution function value: 1649.7657707336205\n",
      "Epoch: 12/100\n",
      "Best solution function value: 1649.7657707336205\n",
      "Epoch: 14/100\n",
      "Best solution function value: 1643.2133625780657\n",
      "Epoch: 16/100\n",
      "Best solution function value: 1603.0188518211814\n",
      "Epoch: 18/100\n",
      "Best solution function value: 1568.6339008413372\n",
      "Epoch: 20/100\n",
      "Best solution function value: 1560.561435903779\n",
      "Epoch: 22/100\n",
      "Best solution function value: 1559.8406036227946\n",
      "Epoch: 24/100\n",
      "Best solution function value: 1555.0680574503076\n",
      "Epoch: 26/100\n",
      "Best solution function value: 1544.5863819385934\n",
      "Epoch: 28/100\n",
      "Best solution function value: 1544.5863819385934\n",
      "Epoch: 30/100\n",
      "Best solution function value: 1540.0236725815143\n",
      "Epoch: 32/100\n",
      "Best solution function value: 1540.0750810452519\n",
      "Epoch: 34/100\n",
      "Best solution function value: 1533.5928345235893\n",
      "Epoch: 36/100\n",
      "Best solution function value: 1522.6600274508726\n",
      "Epoch: 38/100\n",
      "Best solution function value: 1502.6261672472026\n",
      "Epoch: 40/100\n",
      "Best solution function value: 1502.6261672472026\n",
      "Epoch: 42/100\n",
      "Best solution function value: 1502.6261672472026\n",
      "Epoch: 44/100\n",
      "Best solution function value: 1497.3586079538725\n",
      "Epoch: 46/100\n",
      "Best solution function value: 1487.6381094752949\n",
      "Epoch: 48/100\n",
      "Best solution function value: 1481.8151494750846\n",
      "Epoch: 50/100\n",
      "Best solution function value: 1481.8151494750846\n",
      "Epoch: 52/100\n",
      "Best solution function value: 1477.251336940064\n",
      "Epoch: 54/100\n",
      "Best solution function value: 1471.7262097626785\n",
      "Epoch: 56/100\n",
      "Best solution function value: 1470.1592565039293\n",
      "Epoch: 58/100\n",
      "Best solution function value: 1455.6892547301948\n",
      "Epoch: 60/100\n",
      "Best solution function value: 1453.6741847025144\n",
      "Epoch: 62/100\n",
      "Best solution function value: 1447.6867990551636\n",
      "Epoch: 64/100\n",
      "Best solution function value: 1438.0874037294554\n",
      "Epoch: 66/100\n",
      "Best solution function value: 1430.392131269942\n",
      "Epoch: 68/100\n",
      "Best solution function value: 1425.727650720568\n",
      "Epoch: 70/100\n",
      "Best solution function value: 1413.206756525834\n",
      "Epoch: 72/100\n",
      "Best solution function value: 1413.206756525834\n",
      "Epoch: 74/100\n",
      "Best solution function value: 1411.0693123732842\n",
      "Epoch: 76/100\n",
      "Best solution function value: 1409.1736596204862\n",
      "Epoch: 78/100\n",
      "Best solution function value: 1404.6620934180307\n",
      "Epoch: 80/100\n",
      "Best solution function value: 1404.4298836708779\n",
      "Epoch: 82/100\n",
      "Best solution function value: 1404.6620934180307\n",
      "Epoch: 84/100\n",
      "Best solution function value: 1402.0406434328947\n",
      "Epoch: 86/100\n",
      "Best solution function value: 1399.0303364419724\n",
      "Epoch: 88/100\n",
      "Best solution function value: 1390.0405388883446\n",
      "Epoch: 90/100\n",
      "Best solution function value: 1389.8461706027238\n",
      "Epoch: 92/100\n",
      "Best solution function value: 1383.6479896592657\n",
      "Epoch: 94/100\n",
      "Best solution function value: 1374.6842028910578\n",
      "Epoch: 96/100\n",
      "Best solution function value: 1383.6479896592657\n",
      "Epoch: 98/100\n",
      "Best solution function value: 1383.6479896592657\n",
      "Epoch: 100/100\n",
      "Best solution function value: 1374.7325681437067\n"
     ]
    }
   ],
   "source": [
    "history_multi_5 = population_ml.train(X_train, y_train, 100, 2, mutation_sigma = 0.1, mutation_sigma_learning_rate=1, mutation_population_ratio=0.3, crossover_population_ratio=0.6)"
   ]
  },
  {
   "cell_type": "code",
   "execution_count": null,
   "id": "31ab3cb6",
   "metadata": {
    "cell_id": "79ebbae048c74410ab4ddf040205c6fc",
    "deepnote_cell_height": 701,
    "deepnote_cell_type": "code",
    "deepnote_to_be_reexecuted": false,
    "execution_millis": 5890253,
    "execution_start": 1654856144470,
    "source_hash": "fbd8e10a",
    "tags": []
   },
   "outputs": [
    {
     "name": "stdout",
     "output_type": "stream",
     "text": [
      "Epoch: 2/300\n",
      "Best solution function value: 1365.474102894975\n",
      "Epoch: 4/300\n",
      "Best solution function value: 1364.9084405809754\n",
      "Epoch: 6/300\n",
      "Best solution function value: 1363.1878553793872\n",
      "Epoch: 8/300\n",
      "Best solution function value: 1360.7881279097223\n",
      "Epoch: 10/300\n",
      "Best solution function value: 1356.9978603848997\n",
      "Epoch: 12/300\n",
      "Best solution function value: 1356.9978603848997\n",
      "Epoch: 14/300\n",
      "Best solution function value: 1356.9978603848997\n",
      "Epoch: 16/300\n",
      "Best solution function value: 1347.3195712728314\n",
      "Epoch: 18/300\n",
      "Best solution function value: 1340.7219311946826\n",
      "Epoch: 20/300\n",
      "Best solution function value: 1335.7294362858977\n",
      "Epoch: 22/300\n",
      "Best solution function value: 1303.5713636566786\n",
      "Epoch: 24/300\n",
      "Best solution function value: 1303.5713636566786\n",
      "Epoch: 26/300\n",
      "Best solution function value: 1295.767203021652\n",
      "Epoch: 28/300\n",
      "Best solution function value: 1295.767203021652\n",
      "Epoch: 30/300\n",
      "Best solution function value: 1295.767203021652\n",
      "Epoch: 32/300\n",
      "Best solution function value: 1295.5717722736222\n",
      "Epoch: 34/300\n",
      "Best solution function value: 1269.8582434460711\n",
      "Epoch: 36/300\n",
      "Best solution function value: 1263.5346684817737\n",
      "Epoch: 38/300\n",
      "Best solution function value: 1263.5346684817737\n",
      "Epoch: 40/300\n",
      "Best solution function value: 1261.4678660714426\n",
      "Epoch: 42/300\n",
      "Best solution function value: 1263.5346684817737\n",
      "Epoch: 44/300\n",
      "Best solution function value: 1253.9318232053024\n",
      "Epoch: 46/300\n",
      "Best solution function value: 1253.1598772736306\n",
      "Epoch: 48/300\n",
      "Best solution function value: 1253.1098835015673\n",
      "Epoch: 50/300\n",
      "Best solution function value: 1253.1098835015673\n",
      "Epoch: 52/300\n",
      "Best solution function value: 1244.2072376262374\n",
      "Epoch: 54/300\n",
      "Best solution function value: 1239.985155428344\n",
      "Epoch: 56/300\n",
      "Best solution function value: 1230.434036016752\n",
      "Epoch: 58/300\n",
      "Best solution function value: 1230.333685460851\n",
      "Epoch: 60/300\n",
      "Best solution function value: 1228.6704538269614\n",
      "Epoch: 62/300\n",
      "Best solution function value: 1211.7756751769698\n",
      "Epoch: 64/300\n",
      "Best solution function value: 1227.339829317758\n",
      "Epoch: 66/300\n",
      "Best solution function value: 1223.3191244835002\n",
      "Epoch: 68/300\n",
      "Best solution function value: 1223.3191244835002\n",
      "Epoch: 70/300\n",
      "Best solution function value: 1221.868709339024\n",
      "Epoch: 72/300\n",
      "Best solution function value: 1212.1390237463893\n",
      "Epoch: 74/300\n",
      "Best solution function value: 1206.9220663876258\n",
      "Epoch: 76/300\n",
      "Best solution function value: 1206.9220663876258\n",
      "Epoch: 78/300\n",
      "Best solution function value: 1206.9220663876258\n",
      "Epoch: 80/300\n",
      "Best solution function value: 1205.168433915514\n",
      "Epoch: 82/300\n",
      "Best solution function value: 1206.9220663876258\n",
      "Epoch: 84/300\n",
      "Best solution function value: 1202.7138394543458\n",
      "Epoch: 86/300\n",
      "Best solution function value: 1200.060833745712\n",
      "Epoch: 88/300\n",
      "Best solution function value: 1200.060833745712\n",
      "Epoch: 90/300\n",
      "Best solution function value: 1199.2033170079808\n",
      "Epoch: 92/300\n",
      "Best solution function value: 1197.4465558476575\n",
      "Epoch: 94/300\n",
      "Best solution function value: 1196.7397556595495\n",
      "Epoch: 96/300\n",
      "Best solution function value: 1190.298639379691\n",
      "Epoch: 98/300\n",
      "Best solution function value: 1188.8023514570202\n",
      "Epoch: 100/300\n",
      "Best solution function value: 1188.653787450335\n",
      "Epoch: 102/300\n",
      "Best solution function value: 1181.0658533709811\n",
      "Epoch: 104/300\n",
      "Best solution function value: 1181.0658533709811\n",
      "Epoch: 106/300\n",
      "Best solution function value: 1171.8873499076735\n",
      "Epoch: 108/300\n",
      "Best solution function value: 1171.8873499076735\n",
      "Epoch: 110/300\n",
      "Best solution function value: 1166.534807791716\n",
      "Epoch: 112/300\n",
      "Best solution function value: 1166.534807791716\n",
      "Epoch: 114/300\n",
      "Best solution function value: 1157.2533419171089\n",
      "Epoch: 116/300\n",
      "Best solution function value: 1157.2533419171089\n",
      "Epoch: 118/300\n",
      "Best solution function value: 1148.5495486765033\n",
      "Epoch: 120/300\n",
      "Best solution function value: 1148.5495486765033\n",
      "Epoch: 122/300\n",
      "Best solution function value: 1137.8045754403076\n",
      "Epoch: 124/300\n",
      "Best solution function value: 1125.19861616019\n",
      "Epoch: 126/300\n",
      "Best solution function value: 1122.5494941348172\n",
      "Epoch: 128/300\n",
      "Best solution function value: 1108.2183477816504\n",
      "Epoch: 130/300\n",
      "Best solution function value: 1097.5929156390644\n",
      "Epoch: 132/300\n",
      "Best solution function value: 1086.0907083127029\n",
      "Epoch: 134/300\n",
      "Best solution function value: 1066.1631751013654\n",
      "Epoch: 136/300\n",
      "Best solution function value: 1067.4810268372316\n",
      "Epoch: 138/300\n",
      "Best solution function value: 1059.9756405117434\n",
      "Epoch: 140/300\n",
      "Best solution function value: 1059.9756405117434\n",
      "Epoch: 142/300\n",
      "Best solution function value: 1059.9756405117434\n",
      "Epoch: 144/300\n",
      "Best solution function value: 1059.9756405117434\n",
      "Epoch: 146/300\n",
      "Best solution function value: 1051.253119635135\n",
      "Epoch: 148/300\n",
      "Best solution function value: 1050.5652335004331\n",
      "Epoch: 150/300\n",
      "Best solution function value: 1044.1531537847789\n",
      "Epoch: 152/300\n",
      "Best solution function value: 1044.1531537847789\n",
      "Epoch: 154/300\n",
      "Best solution function value: 1044.1531537847789\n",
      "Epoch: 156/300\n",
      "Best solution function value: 1034.112478933701\n",
      "Epoch: 158/300\n",
      "Best solution function value: 1029.3125690686902\n",
      "Epoch: 160/300\n",
      "Best solution function value: 999.0732068707326\n",
      "Epoch: 162/300\n",
      "Best solution function value: 994.5864555831421\n",
      "Epoch: 164/300\n",
      "Best solution function value: 994.5864555831421\n",
      "Epoch: 166/300\n",
      "Best solution function value: 994.5864555831421\n",
      "Epoch: 168/300\n",
      "Best solution function value: 994.5864555831421\n",
      "Epoch: 170/300\n",
      "Best solution function value: 994.5864555831421\n",
      "Epoch: 172/300\n",
      "Best solution function value: 989.1688274571602\n",
      "Epoch: 174/300\n",
      "Best solution function value: 989.1688274571602\n",
      "Epoch: 176/300\n",
      "Best solution function value: 989.1688274571602\n",
      "Epoch: 178/300\n",
      "Best solution function value: 989.1688274571602\n",
      "Epoch: 180/300\n",
      "Best solution function value: 989.1688274571602\n",
      "Epoch: 182/300\n",
      "Best solution function value: 989.1688274571602\n",
      "Epoch: 184/300\n",
      "Best solution function value: 989.1688274571602\n",
      "Epoch: 186/300\n",
      "Best solution function value: 984.2582715858131\n",
      "Epoch: 188/300\n",
      "Best solution function value: 984.2582715858131\n",
      "Epoch: 190/300\n",
      "Best solution function value: 981.4963790063032\n",
      "Epoch: 192/300\n",
      "Best solution function value: 981.4963790063032\n",
      "Epoch: 194/300\n",
      "Best solution function value: 981.4963790063032\n",
      "Epoch: 196/300\n",
      "Best solution function value: 981.4963790063032\n",
      "Epoch: 198/300\n",
      "Best solution function value: 977.3800756057917\n",
      "Epoch: 200/300\n",
      "Best solution function value: 976.2873437139687\n",
      "Epoch: 202/300\n",
      "Best solution function value: 976.2873437139687\n",
      "Epoch: 204/300\n",
      "Best solution function value: 972.6339132206233\n",
      "Epoch: 206/300\n",
      "Best solution function value: 972.6339132206233\n",
      "Epoch: 208/300\n",
      "Best solution function value: 972.6339132206233\n",
      "Epoch: 210/300\n",
      "Best solution function value: 972.6339132206233\n",
      "Epoch: 212/300\n",
      "Best solution function value: 970.713165355777\n",
      "Epoch: 214/300\n",
      "Best solution function value: 960.5157661231686\n",
      "Epoch: 216/300\n",
      "Best solution function value: 960.5157661231686\n",
      "Epoch: 218/300\n",
      "Best solution function value: 953.699653206653\n",
      "Epoch: 220/300\n",
      "Best solution function value: 958.0045612337912\n",
      "Epoch: 222/300\n",
      "Best solution function value: 955.32406515739\n",
      "Epoch: 224/300\n",
      "Best solution function value: 957.7147285941767\n",
      "Epoch: 226/300\n",
      "Best solution function value: 954.5020970592674\n",
      "Epoch: 228/300\n",
      "Best solution function value: 952.5093896017019\n",
      "Epoch: 230/300\n",
      "Best solution function value: 951.8395711029964\n",
      "Epoch: 232/300\n",
      "Best solution function value: 951.8395711029964\n",
      "Epoch: 234/300\n",
      "Best solution function value: 951.8395711029964\n",
      "Epoch: 236/300\n",
      "Best solution function value: 951.8395711029964\n",
      "Epoch: 238/300\n",
      "Best solution function value: 945.1676829166877\n",
      "Epoch: 240/300\n",
      "Best solution function value: 945.1676829166877\n",
      "Epoch: 242/300\n",
      "Best solution function value: 945.1676829166877\n",
      "Epoch: 244/300\n",
      "Best solution function value: 945.1676829166877\n",
      "Epoch: 246/300\n",
      "Best solution function value: 945.1676829166877\n",
      "Epoch: 248/300\n",
      "Best solution function value: 945.1676829166877\n",
      "Epoch: 250/300\n",
      "Best solution function value: 939.6220065742395\n",
      "Epoch: 252/300\n",
      "Best solution function value: 939.6220065742395\n",
      "Epoch: 254/300\n",
      "Best solution function value: 939.6220065742395\n",
      "Epoch: 256/300\n",
      "Best solution function value: 939.6220065742395\n",
      "Epoch: 258/300\n",
      "Best solution function value: 933.8193997317742\n",
      "Epoch: 260/300\n",
      "Best solution function value: 933.8165085889965\n",
      "Epoch: 262/300\n",
      "Best solution function value: 933.8165085889965\n",
      "Epoch: 264/300\n",
      "Best solution function value: 933.8165085889965\n",
      "Epoch: 266/300\n",
      "Best solution function value: 930.8082771611677\n",
      "Epoch: 268/300\n",
      "Best solution function value: 933.8165085889965\n",
      "Epoch: 270/300\n",
      "Best solution function value: 933.8165085889965\n",
      "Epoch: 272/300\n",
      "Best solution function value: 933.8165085889965\n",
      "Epoch: 274/300\n",
      "Best solution function value: 928.3850307392364\n",
      "Epoch: 276/300\n",
      "Best solution function value: 928.3850307392364\n",
      "Epoch: 278/300\n",
      "Best solution function value: 928.3850307392364\n",
      "Epoch: 280/300\n",
      "Best solution function value: 928.3850307392364\n",
      "Epoch: 282/300\n",
      "Best solution function value: 928.3850307392364\n",
      "Epoch: 284/300\n",
      "Best solution function value: 928.3850307392364\n",
      "Epoch: 286/300\n",
      "Best solution function value: 928.3850307392364\n",
      "Epoch: 288/300\n",
      "Best solution function value: 928.3850307392364\n",
      "Epoch: 290/300\n",
      "Best solution function value: 928.3850307392364\n",
      "Epoch: 292/300\n",
      "Best solution function value: 926.2818287828806\n",
      "Epoch: 294/300\n",
      "Best solution function value: 925.3365267131306\n",
      "Epoch: 296/300\n",
      "Best solution function value: 925.3365267131306\n",
      "Epoch: 298/300\n",
      "Best solution function value: 917.8610807191014\n",
      "Epoch: 300/300\n",
      "Best solution function value: 917.8610807191014\n"
     ]
    }
   ],
   "source": [
    "history_multi_6 = population_ml.train(X_train, y_train, 300, 2, mutation_sigma = 0.1, mutation_sigma_learning_rate=1, mutation_population_ratio=0.3, crossover_population_ratio=0.6)"
   ]
  },
  {
   "cell_type": "code",
   "execution_count": null,
   "id": "e74def41",
   "metadata": {
    "cell_id": "17759f410fa34caf8b38fb6b3e46b234",
    "deepnote_cell_height": 81,
    "deepnote_cell_type": "code",
    "deepnote_to_be_reexecuted": false,
    "execution_millis": 10593,
    "execution_start": 1654868011371,
    "source_hash": "9b796b35",
    "tags": []
   },
   "outputs": [],
   "source": [
    "ranking_multi = [population_ml.func(y_train, population_ml.population[i].forward(X_train)) for i in range(len(population_ml.population))]"
   ]
  },
  {
   "cell_type": "code",
   "execution_count": null,
   "id": "0b22d925",
   "metadata": {
    "cell_id": "013d0929fb834163bed5ed756e652fbb",
    "deepnote_cell_height": 81,
    "deepnote_cell_type": "code",
    "deepnote_to_be_reexecuted": false,
    "execution_millis": 1,
    "execution_start": 1654868047018,
    "source_hash": "7f4acc",
    "tags": []
   },
   "outputs": [],
   "source": [
    "best_net_multi = copy.deepcopy(population_ml.population[np.argmin(ranking_multi)])"
   ]
  },
  {
   "cell_type": "code",
   "execution_count": null,
   "id": "f31a865f",
   "metadata": {
    "cell_id": "e13a85cea8b74cf89b24c3a6d03dc3d8",
    "deepnote_cell_height": 202.39999389648438,
    "deepnote_cell_type": "code",
    "deepnote_to_be_reexecuted": false,
    "execution_millis": 616,
    "execution_start": 1654868104937,
    "source_hash": "bc97286a",
    "tags": []
   },
   "outputs": [
    {
     "name": "stdout",
     "output_type": "stream",
     "text": [
      "MSE dla zbioru treningowego wynosi: 917.8610807191014\n",
      "MSE dla zbioru testowego wynosi: 1054.9476489079686\n"
     ]
    }
   ],
   "source": [
    "mse_ml_tr = mse(y_train, best_net_multi.forward(X_train))\n",
    "print(f\"MSE dla zbioru treningowego wynosi: {mse_ml_tr}\")\n",
    "\n",
    "mse_ml_te = mse(y_test, best_net_multi.forward(X_test))\n",
    "print(f\"MSE dla zbioru testowego wynosi: {mse_ml_te}\")"
   ]
  },
  {
   "cell_type": "code",
   "execution_count": null,
   "id": "a65d96f2",
   "metadata": {
    "cell_id": "84d2f90deef04487911afd5a727b1dcb",
    "deepnote_cell_height": 117,
    "deepnote_cell_type": "code",
    "deepnote_to_be_reexecuted": false,
    "execution_millis": 4230,
    "execution_start": 1654887282669,
    "source_hash": "7a2e662d",
    "tags": []
   },
   "outputs": [],
   "source": [
    "import pickle\n",
    "import matplotlib.pyplot as plt\n",
    "import seaborn as sns"
   ]
  },
  {
   "cell_type": "code",
   "execution_count": null,
   "id": "c0b9235e",
   "metadata": {
    "cell_id": "a7c8fb653e2946a98c195954c9e7ae65",
    "deepnote_cell_height": 467,
    "deepnote_cell_type": "code",
    "deepnote_output_heights": [
     280,
     254
    ],
    "deepnote_to_be_reexecuted": false,
    "execution_millis": 262,
    "execution_start": 1654888472452,
    "source_hash": "5a7d537b",
    "tags": []
   },
   "outputs": [
    {
     "data": {
      "image/png": "[encoded data removed]",
      "text/plain": [
       "<Figure size 432x288 with 1 Axes>"
      ]
     },
     "metadata": {
      "image/png": {
       "height": 278,
       "width": 395
      },
      "needs_background": "light"
     },
     "output_type": "display_data"
    }
   ],
   "source": [
    "plt.plot(list(range(0, 700, 2)), h1 + h2 + h3 + h4 + h5 + h6)\n",
    "plt.title('Training progress')\n",
    "plt.xlabel('Epoch')\n",
    "plt.xticks(list(range(0, 701, 70)))\n",
    "plt.ylabel('Cross-entropy')\n",
    "plt.show()"
   ]
  },
  {
   "cell_type": "code",
   "execution_count": null,
   "id": "76193e27",
   "metadata": {
    "cell_id": "0817c68b005147418045f62e75cc7dda",
    "deepnote_cell_height": 66,
    "deepnote_cell_type": "code",
    "owner_user_id": "b35f7aed-083b-451d-bc1e-f761acec33d1",
    "tags": []
   },
   "outputs": [],
   "source": []
  },
  {
   "cell_type": "markdown",
   "id": "b683e07b",
   "metadata": {
    "cell_id": "156c0b4455c149ca99a4508d1e25a80d",
    "deepnote_cell_height": 62,
    "deepnote_cell_type": "markdown",
    "tags": []
   },
   "source": [
    "### Zbiór danych iris"
   ]
  },
  {
   "cell_type": "code",
   "execution_count": null,
   "id": "370cdcac",
   "metadata": {
    "cell_id": "ad2ac5267bb349f8a0eb2e55883062a4",
    "deepnote_cell_height": 303.20001220703125,
    "deepnote_cell_type": "code",
    "deepnote_to_be_reexecuted": false,
    "execution_millis": 1029,
    "execution_start": 1654788351847,
    "source_hash": "473fb74d",
    "tags": []
   },
   "outputs": [
    {
     "name": "stdout",
     "output_type": "stream",
     "text": [
      "--2022-06-09 15:25:52--  https://archive.ics.uci.edu/ml/machine-learning-databases/iris/iris.data\n",
      "Resolving archive.ics.uci.edu (archive.ics.uci.edu)... 128.195.10.252\n",
      "Connecting to archive.ics.uci.edu (archive.ics.uci.edu)|128.195.10.252|:443... connected.\n",
      "HTTP request sent, awaiting response... 200 OK\n",
      "Length: 4551 (4.4K) [application/x-httpd-php]\n",
      "Saving to: ‘iris.data’\n",
      "\n",
      "iris.data           100%[===================>]   4.44K  --.-KB/s    in 0s      \n",
      "\n",
      "2022-06-09 15:25:52 (104 MB/s) - ‘iris.data’ saved [4551/4551]\n",
      "\n"
     ]
    }
   ],
   "source": [
    "! wget https://archive.ics.uci.edu/ml/machine-learning-databases/iris/iris.data"
   ]
  },
  {
   "cell_type": "code",
   "execution_count": null,
   "id": "a7a3eb31",
   "metadata": {
    "cell_id": "78760ee0190346599ae4aba233a82aee",
    "deepnote_cell_height": 171,
    "deepnote_cell_type": "code",
    "deepnote_to_be_reexecuted": false,
    "execution_millis": 93,
    "execution_start": 1654788615785,
    "source_hash": "9d34e597",
    "tags": []
   },
   "outputs": [],
   "source": [
    "df = pd.read_csv('iris.data', header=None)\n",
    "df.columns = ['sepal length', 'sepal width', 'petal length', 'petal width', 'class']\n",
    "df = df.dropna()\n",
    "\n",
    "X = df.drop(['class'], axis=1).to_numpy()\n",
    "Y = pd.get_dummies(df['class']).to_numpy()"
   ]
  },
  {
   "cell_type": "code",
   "execution_count": null,
   "id": "3a3e6733",
   "metadata": {
    "cell_id": "d98a53bf45684af2a2be5ba5ed0f8aec",
    "deepnote_cell_height": 81,
    "deepnote_cell_type": "code",
    "deepnote_to_be_reexecuted": false,
    "execution_millis": 6,
    "execution_start": 1654788617559,
    "source_hash": "45d1bf0",
    "tags": []
   },
   "outputs": [],
   "source": [
    "X_train, X_test, y_train, y_test = train_test_split(X, Y, test_size=0.2)"
   ]
  },
  {
   "cell_type": "code",
   "execution_count": null,
   "id": "46747667",
   "metadata": {
    "cell_id": "c19191a4d89f4b448a1cdc1c43782142",
    "deepnote_cell_height": 171,
    "deepnote_cell_type": "code",
    "deepnote_to_be_reexecuted": false,
    "execution_millis": 13,
    "execution_start": 1654788622243,
    "source_hash": "1d7ed058",
    "tags": []
   },
   "outputs": [],
   "source": [
    "def network_generator_iris():\n",
    "    net = Net(loss='cross-entropy')\n",
    "    net.add_layer(DenseNetLayer(4, 20, ReLU(), RandomNormalInitializer()))\n",
    "    net.add_layer(DenseNetLayer(20, 5, ReLU(), RandomNormalInitializer()))\n",
    "    net.add_layer(DenseNetLayer(5, 3, SoftmaxAsLastLayerWithCrossEntropy(), RandomNormalInitializer()))\n",
    "    return net"
   ]
  },
  {
   "cell_type": "code",
   "execution_count": null,
   "id": "bd2b3193",
   "metadata": {
    "cell_id": "76be4109039a42b98a5792e16235a1b2",
    "deepnote_cell_height": 99,
    "deepnote_cell_type": "code",
    "deepnote_to_be_reexecuted": false,
    "execution_millis": 1292,
    "execution_start": 1654788650661,
    "source_hash": "5f83f4b4",
    "tags": []
   },
   "outputs": [],
   "source": [
    "population_iris = NeuralNetworkPopulation(n = 200)\n",
    "population_iris.generate_population(network_generator_iris)"
   ]
  },
  {
   "cell_type": "code",
   "execution_count": null,
   "id": "0358994d",
   "metadata": {
    "cell_id": "d8bcc140f93f45f6894e9b3900a7b5a6",
    "deepnote_cell_height": 118,
    "deepnote_cell_type": "code",
    "deepnote_output_heights": [
     21
    ],
    "deepnote_to_be_reexecuted": false,
    "execution_millis": 8017,
    "execution_start": 1654788655569,
    "source_hash": "939958e8",
    "tags": []
   },
   "outputs": [
    {
     "data": {
      "text/plain": [
       "0.12179060957507255"
      ]
     },
     "execution_count": 51,
     "metadata": {},
     "output_type": "execute_result"
    }
   ],
   "source": [
    "population_iris.evaluate(X_train, y_train)"
   ]
  },
  {
   "cell_type": "code",
   "execution_count": null,
   "id": "4df63ffe",
   "metadata": {
    "cell_id": "b27afcb987db498c9da9f11fc6d84268",
    "deepnote_cell_height": 701,
    "deepnote_cell_type": "code",
    "deepnote_to_be_reexecuted": false,
    "execution_millis": 135403,
    "execution_start": 1654788668225,
    "source_hash": "8858927f",
    "tags": []
   },
   "outputs": [
    {
     "name": "stdout",
     "output_type": "stream",
     "text": [
      "Epoch: 1/20\n",
      "Best solution function value: 0.16075897151930205\n",
      "Epoch: 2/20\n",
      "Best solution function value: 0.1441046376356734\n",
      "Epoch: 3/20\n",
      "Best solution function value: 0.11564617061947062\n",
      "Epoch: 4/20\n",
      "Best solution function value: 0.11564617061947062\n",
      "Epoch: 5/20\n",
      "Best solution function value: 0.1136318623472919\n",
      "Epoch: 6/20\n",
      "Best solution function value: 0.07408097651441768\n",
      "Epoch: 7/20\n",
      "Best solution function value: 0.08133565957476811\n",
      "Epoch: 8/20\n",
      "Best solution function value: 0.08133565957476811\n",
      "Epoch: 9/20\n",
      "Best solution function value: 0.05344439429377478\n",
      "Epoch: 10/20\n",
      "Best solution function value: 0.06522328264925573\n",
      "Epoch: 11/20\n",
      "Best solution function value: 0.05686432663071275\n",
      "Epoch: 12/20\n",
      "Best solution function value: 0.05475744934990892\n",
      "Epoch: 13/20\n",
      "Best solution function value: 0.040126613081481584\n",
      "Epoch: 14/20\n",
      "Best solution function value: 0.038099972081241065\n",
      "Epoch: 15/20\n",
      "Best solution function value: 0.030615304697357185\n",
      "Epoch: 16/20\n",
      "Best solution function value: 0.030261273923690633\n",
      "Epoch: 17/20\n",
      "Best solution function value: 0.028678768101688783\n",
      "Epoch: 18/20\n",
      "Best solution function value: 0.027442379809322483\n",
      "Epoch: 19/20\n",
      "Best solution function value: 0.026569408176944476\n",
      "Epoch: 20/20\n",
      "Best solution function value: 0.025615026516204002\n"
     ]
    }
   ],
   "source": [
    "history_iris = population_iris.train(X_train, y_train, 20, 1, mutation_sigma = 0.1, mutation_population_ratio=0.3, crossover_population_ratio=0.6, return_history=True)"
   ]
  },
  {
   "cell_type": "code",
   "execution_count": null,
   "id": "8bd0b6cf",
   "metadata": {
    "cell_id": "4e6d6b38c6c0441b84156aec1f09141b",
    "deepnote_cell_height": 467,
    "deepnote_cell_type": "code",
    "deepnote_output_heights": [
     280
    ],
    "deepnote_to_be_reexecuted": false,
    "execution_millis": 572,
    "execution_start": 1654788999853,
    "source_hash": "c7ad0eba",
    "tags": []
   },
   "outputs": [
    {
     "data": {
      "image/png": "[encoded data removed]",
      "text/plain": [
       "<Figure size 432x288 with 1 Axes>"
      ]
     },
     "metadata": {
      "image/png": {
       "height": 278,
       "width": 392
      },
      "needs_background": "light"
     },
     "output_type": "display_data"
    }
   ],
   "source": [
    "plt.plot(list(range(0, 21)), history_iris)\n",
    "plt.title('Training progress')\n",
    "plt.xlabel('Epoch')\n",
    "plt.xticks(list(range(0, 21, 2)))\n",
    "plt.ylabel('Cross-entropy')\n",
    "plt.show()"
   ]
  },
  {
   "cell_type": "code",
   "execution_count": null,
   "id": "5106e1b6-d60c-4fe1-88f0-f801a69a3989",
   "metadata": {},
   "outputs": [],
   "source": []
  },
  {
   "cell_type": "code",
   "execution_count": null,
   "id": "22419007",
   "metadata": {
    "cell_id": "489f4c33d87348988a5d017fb81c451a",
    "deepnote_cell_height": 81,
    "deepnote_cell_type": "code",
    "deepnote_to_be_reexecuted": false,
    "execution_millis": 5359,
    "execution_start": 1654789012486,
    "source_hash": "ff9c97fb",
    "tags": []
   },
   "outputs": [],
   "source": [
    "ranking_iris = [population_iris.func(y_train, population_iris.population[i].forward(X_train)) for i in range(len(population_iris.population))]"
   ]
  },
  {
   "cell_type": "code",
   "execution_count": null,
   "id": "98ca0f47",
   "metadata": {
    "cell_id": "ab900131eab94e79aa24d07dbb287743",
    "deepnote_cell_height": 81,
    "deepnote_cell_type": "code",
    "deepnote_to_be_reexecuted": false,
    "execution_millis": 24,
    "execution_start": 1654789017861,
    "source_hash": "60a3a65e",
    "tags": []
   },
   "outputs": [],
   "source": [
    "best_net_iris = copy.deepcopy(population_iris.population[np.argmin(ranking_iris)])"
   ]
  },
  {
   "cell_type": "code",
   "execution_count": null,
   "id": "f382a2d7",
   "metadata": {
    "cell_id": "1fa66a00285040f1b0b5aca997821915",
    "deepnote_cell_height": 273.20001220703125,
    "deepnote_cell_type": "code",
    "deepnote_to_be_reexecuted": false,
    "execution_millis": 53,
    "execution_start": 1654789022258,
    "source_hash": "5f155531",
    "tags": []
   },
   "outputs": [
    {
     "name": "stdout",
     "output_type": "stream",
     "text": [
      "F1-score-macro dla zbioru treningowego wynosi: 0.9656135826348593\n"
     ]
    }
   ],
   "source": [
    "from NeuralNetwork.NeuralNetwork import f1_score_macro\n",
    "\n",
    "def output_to_class(x):\n",
    "    t = x.argmax()\n",
    "    out = np.zeros_like(x)\n",
    "    out[t] = 1\n",
    "    return out\n",
    "\n",
    "f1_iris_tr = f1_score_macro(y_train, np.apply_along_axis(output_to_class, 1, best_net_iris.forward(X_train)))\n",
    "print(f\"F1-score-macro dla zbioru treningowego wynosi: {f1_iris_tr}\")"
   ]
  },
  {
   "cell_type": "code",
   "execution_count": null,
   "id": "d74f7053",
   "metadata": {
    "cell_id": "e123ea397ada40529dfc94fe2ba662be",
    "deepnote_cell_height": 165.1999969482422,
    "deepnote_cell_type": "code",
    "deepnote_to_be_reexecuted": false,
    "execution_millis": 76,
    "execution_start": 1654789181149,
    "source_hash": "c0759682",
    "tags": []
   },
   "outputs": [
    {
     "name": "stdout",
     "output_type": "stream",
     "text": [
      "Accuracy dla zbioru treningowego wynosi: 0.9666666666666667\n"
     ]
    }
   ],
   "source": [
    "from sklearn.metrics import accuracy_score\n",
    "\n",
    "acc_iris_tr = accuracy_score(np.apply_along_axis(np.argmax, 1, y_train), np.apply_along_axis(np.argmax, 1, best_net_iris.forward(X_train)))\n",
    "print(f\"Accuracy dla zbioru treningowego wynosi: {acc_iris_tr}\")"
   ]
  },
  {
   "cell_type": "code",
   "execution_count": null,
   "id": "81ab3669",
   "metadata": {
    "cell_id": "1e78efa02fcb47f192d94396d4dfb44c",
    "deepnote_cell_height": 202.39999389648438,
    "deepnote_cell_type": "code",
    "deepnote_to_be_reexecuted": false,
    "execution_millis": 75,
    "execution_start": 1654789220583,
    "source_hash": "c1ab6ce6",
    "tags": []
   },
   "outputs": [
    {
     "name": "stdout",
     "output_type": "stream",
     "text": [
      "F1-score-macro dla zbioru testowego wynosi: 0.8958333333333334\n",
      "Accuracy dla zbioru treningowego wynosi: 0.9333333333333333\n"
     ]
    }
   ],
   "source": [
    "f1_iris_test = f1_score_macro(y_test, np.apply_along_axis(output_to_class, 1, best_net_iris.forward(X_test)))\n",
    "print(f\"F1-score-macro dla zbioru testowego wynosi: {f1_iris_test}\")\n",
    "\n",
    "acc_iris_test = accuracy_score(np.apply_along_axis(np.argmax, 1, y_test), np.apply_along_axis(np.argmax, 1, best_net_iris.forward(X_test)))\n",
    "print(f\"Accuracy dla zbioru treningowego wynosi: {acc_iris_test}\")"
   ]
  },
  {
   "cell_type": "code",
   "execution_count": null,
   "id": "3c0e95e9",
   "metadata": {
    "cell_id": "048482ab278c4cd697bfe7ab523cd2bd",
    "deepnote_cell_height": 66,
    "deepnote_cell_type": "code",
    "tags": []
   },
   "outputs": [],
   "source": []
  },
  {
   "cell_type": "markdown",
   "id": "0127aaa0",
   "metadata": {
    "cell_id": "c0203ef8fd1e43859dff2a3376fbbdc0",
    "deepnote_cell_height": 62,
    "deepnote_cell_type": "markdown",
    "tags": []
   },
   "source": [
    "### Zbiór danych auto-mpg"
   ]
  },
  {
   "cell_type": "code",
   "execution_count": null,
   "id": "f3de4863",
   "metadata": {
    "cell_id": "66fb2d7572814ab28c3411a867285855",
    "deepnote_cell_height": 303.20001220703125,
    "deepnote_cell_type": "code",
    "deepnote_to_be_reexecuted": false,
    "execution_millis": 854,
    "execution_start": 1654783947742,
    "source_hash": "c10200b3",
    "tags": []
   },
   "outputs": [
    {
     "name": "stdout",
     "output_type": "stream",
     "text": [
      "--2022-06-09 14:12:28--  http://archive.ics.uci.edu/ml/machine-learning-databases/auto-mpg/auto-mpg.data\n",
      "Resolving archive.ics.uci.edu (archive.ics.uci.edu)... 128.195.10.252\n",
      "Connecting to archive.ics.uci.edu (archive.ics.uci.edu)|128.195.10.252|:80... connected.\n",
      "HTTP request sent, awaiting response... 200 OK\n",
      "Length: 30286 (30K) [application/x-httpd-php]\n",
      "Saving to: ‘auto-mpg.data.1’\n",
      "\n",
      "auto-mpg.data.1     100%[===================>]  29.58K  --.-KB/s    in 0.07s   \n",
      "\n",
      "2022-06-09 14:12:28 (434 KB/s) - ‘auto-mpg.data.1’ saved [30286/30286]\n",
      "\n"
     ]
    }
   ],
   "source": [
    "! wget http://archive.ics.uci.edu/ml/machine-learning-databases/auto-mpg/auto-mpg.data"
   ]
  },
  {
   "cell_type": "code",
   "execution_count": null,
   "id": "913c6daf",
   "metadata": {
    "cell_id": "5cb39d2c37f14f1fa3e9a0ae945b81e8",
    "deepnote_cell_height": 99,
    "deepnote_cell_type": "code",
    "deepnote_to_be_reexecuted": false,
    "execution_millis": 49,
    "execution_start": 1654783992081,
    "source_hash": "4b4acb32",
    "tags": []
   },
   "outputs": [],
   "source": [
    "data = pd.read_csv(\"auto-mpg.csv\")\n",
    "data = data.dropna()"
   ]
  },
  {
   "cell_type": "code",
   "execution_count": null,
   "id": "4a116f51",
   "metadata": {
    "cell_id": "84dc27be760d4bd2beb9548df54e784d",
    "deepnote_cell_height": 117,
    "deepnote_cell_type": "code",
    "deepnote_to_be_reexecuted": false,
    "execution_millis": 10,
    "execution_start": 1654783993155,
    "source_hash": "78fd99b6",
    "tags": []
   },
   "outputs": [],
   "source": [
    "X = data.drop(['mpg'], axis=1).to_numpy()\n",
    "Y = data.mpg.to_numpy()\n",
    "Y = Y.reshape(-1,1)"
   ]
  },
  {
   "cell_type": "code",
   "execution_count": null,
   "id": "5bf1ae4b",
   "metadata": {
    "cell_id": "d139277301ba41b48800185b7f100702",
    "deepnote_cell_height": 81,
    "deepnote_cell_type": "code",
    "deepnote_to_be_reexecuted": false,
    "execution_millis": 47,
    "execution_start": 1654784077129,
    "source_hash": "45d1bf0",
    "tags": []
   },
   "outputs": [],
   "source": [
    "X_train, X_test, y_train, y_test = train_test_split(X, Y, test_size=0.2)"
   ]
  },
  {
   "cell_type": "code",
   "execution_count": null,
   "id": "4f130432",
   "metadata": {
    "cell_id": "ffbf7b0ece3a472dbdee5fb41cb5f3be",
    "deepnote_cell_height": 171,
    "deepnote_cell_type": "code",
    "deepnote_to_be_reexecuted": false,
    "execution_millis": 16,
    "execution_start": 1654784086253,
    "source_hash": "ecddea93",
    "tags": []
   },
   "outputs": [],
   "source": [
    "def network_generator_auto_mpg():\n",
    "    net = Net()\n",
    "    net.add_layer(DenseNetLayer(6, 20, ReLU(), RandomNormalInitializer(0, 0.1)))\n",
    "    net.add_layer(DenseNetLayer(20, 10, ReLU(), RandomNormalInitializer(0, 0.1)))\n",
    "    net.add_layer(DenseNetLayer(10, 1, LinearFunction(), RandomNormalInitializer(0, 0.1)))\n",
    "    return net"
   ]
  },
  {
   "cell_type": "code",
   "execution_count": null,
   "id": "98dba3be",
   "metadata": {
    "cell_id": "cbd2185da5594a1099edaa8a4849e599",
    "deepnote_cell_height": 99,
    "deepnote_cell_type": "code",
    "deepnote_to_be_reexecuted": false,
    "execution_millis": 575,
    "execution_start": 1654784521166,
    "source_hash": "c307a36c",
    "tags": []
   },
   "outputs": [],
   "source": [
    "population_mpg = NeuralNetworkPopulation(n = 1000)\n",
    "population_mpg.generate_population(network_generator_auto_mpg)"
   ]
  },
  {
   "cell_type": "code",
   "execution_count": null,
   "id": "65159c27",
   "metadata": {
    "cell_id": "7a4f75237b2441568f1a9e10786a2887",
    "deepnote_cell_height": 118,
    "deepnote_cell_type": "code",
    "deepnote_output_heights": [
     21
    ],
    "deepnote_to_be_reexecuted": false,
    "execution_millis": 57625,
    "execution_start": 1654784524379,
    "source_hash": "1fb1846d",
    "tags": []
   },
   "outputs": [
    {
     "data": {
      "text/plain": [
       "163.25338923514528"
      ]
     },
     "execution_count": 14,
     "metadata": {},
     "output_type": "execute_result"
    }
   ],
   "source": [
    "population_mpg.evaluate(X_train, y_train)"
   ]
  },
  {
   "cell_type": "code",
   "execution_count": null,
   "id": "6ddd34f9",
   "metadata": {
    "cell_id": "91e67fd526a74ecb9e65fc55285dec49",
    "deepnote_cell_height": 476,
    "deepnote_cell_type": "code",
    "deepnote_to_be_reexecuted": false,
    "execution_millis": 3000237,
    "execution_start": 1654784582002,
    "source_hash": "14fc92f0",
    "tags": []
   },
   "outputs": [
    {
     "name": "stdout",
     "output_type": "stream",
     "text": [
      "Epoch: 5/50\n",
      "Best solution function value: 79.7681273848833\n",
      "Epoch: 10/50\n",
      "Best solution function value: 60.52906243586786\n",
      "Epoch: 15/50\n",
      "Best solution function value: 57.53396286484202\n",
      "Epoch: 20/50\n",
      "Best solution function value: 53.825054436409545\n",
      "Epoch: 25/50\n",
      "Best solution function value: 51.155308106068546\n",
      "Epoch: 30/50\n",
      "Best solution function value: 49.069929549238026\n",
      "Epoch: 35/50\n",
      "Best solution function value: 48.8059934577917\n",
      "Epoch: 40/50\n",
      "Best solution function value: 48.28332904504585\n",
      "Epoch: 45/50\n",
      "Best solution function value: 47.86576683362902\n",
      "Epoch: 50/50\n",
      "Best solution function value: 47.46354805574269\n"
     ]
    }
   ],
   "source": [
    "history_mpg = population_mpg.train(X_train, y_train, 50, 5, mutation_sigma = 0.1, mutation_population_ratio=0.3, crossover_population_ratio=0.6, return_history=True)"
   ]
  },
  {
   "cell_type": "code",
   "execution_count": null,
   "id": "08dcf8e5",
   "metadata": {
    "cell_id": "c4d39dbe4ebb4e6e8e0d153833add05b",
    "deepnote_cell_height": 66,
    "deepnote_cell_type": "code",
    "tags": []
   },
   "outputs": [],
   "source": []
  },
  {
   "cell_type": "code",
   "execution_count": null,
   "id": "edc1c4a7",
   "metadata": {
    "cell_id": "3a99037e7d5b42bb9443694bd5e9dfc1",
    "deepnote_cell_height": 449,
    "deepnote_cell_type": "code",
    "deepnote_output_heights": [
     280
    ],
    "deepnote_to_be_reexecuted": false,
    "execution_millis": 653,
    "execution_start": 1654788320356,
    "source_hash": "ab94a8aa",
    "tags": []
   },
   "outputs": [
    {
     "data": {
      "image/png": "[encoded data removed]",
      "text/plain": [
       "<Figure size 432x288 with 1 Axes>"
      ]
     },
     "metadata": {
      "image/png": {
       "height": 278,
       "width": 389
      },
      "needs_background": "light"
     },
     "output_type": "display_data"
    }
   ],
   "source": [
    "plt.plot(list(range(0, 51, 5)), history_mpg)\n",
    "plt.title('Training progress')\n",
    "plt.xlabel('Epoch')\n",
    "plt.ylabel('MSE')\n",
    "plt.show()"
   ]
  },
  {
   "cell_type": "code",
   "execution_count": null,
   "id": "386a035d",
   "metadata": {
    "cell_id": "b59738990be040709df20565a2a97e7e",
    "deepnote_cell_height": 66,
    "deepnote_cell_type": "code",
    "tags": []
   },
   "outputs": [],
   "source": []
  },
  {
   "cell_type": "code",
   "execution_count": null,
   "id": "d1b07e18",
   "metadata": {
    "cell_id": "6c2f8d918fae4986916076638fc20219",
    "deepnote_cell_height": 81,
    "deepnote_cell_type": "code",
    "deepnote_to_be_reexecuted": false,
    "execution_millis": 54978,
    "execution_start": 1654787624607,
    "source_hash": "8c2584b3",
    "tags": []
   },
   "outputs": [],
   "source": [
    "ranking_mpg = [population_mpg.func(y_train, population_mpg.population[i].forward(X_train)) for i in range(len(population_mpg.population))]"
   ]
  },
  {
   "cell_type": "code",
   "execution_count": null,
   "id": "d4097a80",
   "metadata": {
    "cell_id": "b4b42f09c42b40fc8db9849c9f1e26b9",
    "deepnote_cell_height": 81,
    "deepnote_cell_type": "code",
    "deepnote_to_be_reexecuted": false,
    "execution_millis": 0,
    "execution_start": 1654787679586,
    "source_hash": "6c765c34",
    "tags": []
   },
   "outputs": [],
   "source": [
    "best_net_mpg = copy.deepcopy(population_mpg.population[np.argmin(ranking_mpg)])"
   ]
  },
  {
   "cell_type": "code",
   "execution_count": null,
   "id": "aaf7fe2a",
   "metadata": {
    "cell_id": "34772be2a7c5453ba4037962de0f38dd",
    "deepnote_cell_height": 202.39999389648438,
    "deepnote_cell_type": "code",
    "deepnote_to_be_reexecuted": false,
    "execution_millis": 741,
    "execution_start": 1654787679586,
    "source_hash": "54a08d9c",
    "tags": []
   },
   "outputs": [
    {
     "name": "stdout",
     "output_type": "stream",
     "text": [
      "MSE dla zbioru treningowego wynosi: 47.46354805574269\n",
      "MSE dla zbioru testowego wynosi: 27.250001791703106\n"
     ]
    }
   ],
   "source": [
    "mse_mpg_tr = mse(y_train, best_net_mpg.forward(X_train))\n",
    "print(f\"MSE dla zbioru treningowego wynosi: {mse_mpg_tr}\")\n",
    "\n",
    "mse_mpg_te = mse(y_test, best_net_mpg.forward(X_test))\n",
    "print(f\"MSE dla zbioru testowego wynosi: {mse_mpg_te}\")"
   ]
  },
  {
   "cell_type": "code",
   "execution_count": null,
   "id": "7d36db00",
   "metadata": {
    "cell_id": "18fc3b65fd624312bfa79ac6a74c9855",
    "deepnote_cell_height": 66,
    "deepnote_cell_type": "code",
    "tags": []
   },
   "outputs": [],
   "source": []
  },
  {
   "cell_type": "code",
   "execution_count": null,
   "id": "b82a8617-fbff-46d2-969e-5604e1a9de83",
   "metadata": {},
   "outputs": [],
   "source": []
  }
 ],
 "metadata": {
  "deepnote": {},
  "deepnote_execution_queue": [],
  "deepnote_notebook_id": "c483b76b-da77-44ca-b147-9be2abc80212",
  "kernelspec": {
   "display_name": "Python 3 (ipykernel)",
   "language": "python",
   "name": "python3"
  },
  "language_info": {
   "codemirror_mode": {
    "name": "ipython",
    "version": 3
   },
   "file_extension": ".py",
   "mimetype": "text/x-python",
   "name": "python",
   "nbconvert_exporter": "python",
   "pygments_lexer": "ipython3",
   "version": "3.7.11"
  }
 },
 "nbformat": 4,
 "nbformat_minor": 5
}
