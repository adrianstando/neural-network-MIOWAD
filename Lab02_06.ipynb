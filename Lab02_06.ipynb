{
 "cells": [
  {
   "cell_type": "markdown",
   "metadata": {
    "cell_id": "cb858769-b9b7-479d-914e-a2a167f5de73",
    "deepnote_cell_height": 62,
    "deepnote_cell_type": "markdown",
    "tags": []
   },
   "source": [
    "### Trenowanie z batchami - zbiór square-simple"
   ]
  },
  {
   "cell_type": "code",
   "execution_count": 3,
   "metadata": {
    "cell_id": "7dff8272-e8ca-4d4a-b245-4ddb6987a7c8",
    "deepnote_cell_height": 117,
    "deepnote_cell_type": "code",
    "deepnote_to_be_reexecuted": false,
    "execution_millis": 2380,
    "execution_start": 1647109514800,
    "source_hash": "8ca6a091",
    "tags": []
   },
   "outputs": [],
   "source": [
    "import pandas as pd\n",
    "import numpy as np\n",
    "import matplotlib.pyplot as plt"
   ]
  },
  {
   "cell_type": "code",
   "execution_count": 4,
   "metadata": {
    "cell_id": "31919184-fb40-4292-b6c4-c9a3814cfa92",
    "deepnote_cell_height": 153,
    "deepnote_cell_type": "code",
    "deepnote_to_be_reexecuted": false,
    "execution_millis": 50,
    "execution_start": 1647109526270,
    "source_hash": "b55bc41a",
    "tags": []
   },
   "outputs": [],
   "source": [
    "from NeuralNetwork.NeuralNetwork import Net, mse\n",
    "from NeuralNetwork.Layers import DenseNetLayer\n",
    "from NeuralNetwork.ActivationFunctions import SigmoidFunction, LinearFunction\n",
    "from NeuralNetwork.Initializers import RandomNormalInitializer\n",
    "from NeuralNetwork.Optimizers import SGD"
   ]
  },
  {
   "cell_type": "code",
   "execution_count": 5,
   "metadata": {
    "cell_id": "74864bb0-df33-470d-92fc-dffbaac3f62c",
    "deepnote_cell_height": 81,
    "deepnote_cell_type": "code",
    "deepnote_to_be_reexecuted": false,
    "execution_millis": 1,
    "execution_start": 1647109547568,
    "source_hash": "a341b767",
    "tags": []
   },
   "outputs": [],
   "source": [
    "from NeuralNetwork.Optimizers import GradientDescentBatch"
   ]
  },
  {
   "cell_type": "code",
   "execution_count": 6,
   "metadata": {
    "cell_id": "a5955d32-07d8-45c9-ade0-07f32a81790d",
    "deepnote_cell_height": 297,
    "deepnote_cell_type": "code",
    "deepnote_to_be_reexecuted": false,
    "execution_millis": 1,
    "execution_start": 1647109666324,
    "source_hash": "9b9611a5",
    "tags": []
   },
   "outputs": [],
   "source": [
    "df = pd.read_csv(\"./data/regression/square-simple-training.csv\", index_col=0)\n",
    "\n",
    "X = df.x.to_numpy()\n",
    "X = np.transpose(np.array([X]))\n",
    "Y = df.y.to_numpy()\n",
    "Y = np.transpose(np.array([Y]))\n",
    "\n",
    "df1 = pd.read_csv(\"./data/regression/square-simple-test.csv\", index_col=0)\n",
    "\n",
    "X1 = df1.x.to_numpy()\n",
    "X1 = np.transpose(np.array([X1]))\n",
    "Y1 = df1.y.to_numpy()\n",
    "Y1 = np.transpose(np.array([Y1]))"
   ]
  },
  {
   "cell_type": "code",
   "execution_count": 14,
   "metadata": {
    "cell_id": "f9cdd55e-49d7-4042-be31-fa061067a2b2",
    "deepnote_cell_height": 189,
    "deepnote_cell_type": "code",
    "deepnote_to_be_reexecuted": false,
    "execution_millis": 13,
    "execution_start": 1647110240935,
    "source_hash": "189c5f53",
    "tags": []
   },
   "outputs": [],
   "source": [
    "def create_net(batch_size):\n",
    "    np.random.seed(0)\n",
    "    n = Net(optimizer = GradientDescentBatch(learning_rate=0.0001, batch_size=batch_size))\n",
    "    n.add_layer(DenseNetLayer(1, 5, SigmoidFunction(), RandomNormalInitializer()))\n",
    "    n.add_layer(DenseNetLayer(5, 5, SigmoidFunction(), RandomNormalInitializer()))\n",
    "    n.add_layer(DenseNetLayer(5, 1, LinearFunction(), RandomNormalInitializer()))\n",
    "    return n"
   ]
  },
  {
   "cell_type": "code",
   "execution_count": 17,
   "metadata": {
    "cell_id": "dbf73d57-2a05-4778-b2b0-3529396843e4",
    "deepnote_cell_height": 279,
    "deepnote_cell_type": "code",
    "deepnote_to_be_reexecuted": false,
    "execution_millis": 1,
    "execution_start": 1647110466276,
    "source_hash": "b374b543",
    "tags": []
   },
   "outputs": [],
   "source": [
    "def train_until_mse_threshold(net, thresh):\n",
    "    k = 0\n",
    "    while k < 5000:\n",
    "        net.optimizer.step(X, Y,\n",
    "                            [layer.weights for layer in net.layers],\n",
    "                            [layer.biases for layer in net.layers],\n",
    "                            net.backward_step)\n",
    "        mse_test = mse(Y1, net.forward(X1))\n",
    "        if mse_test <= thresh:\n",
    "            return k\n",
    "        else:\n",
    "            k += 1"
   ]
  },
  {
   "cell_type": "code",
   "execution_count": 23,
   "metadata": {
    "cell_id": "ffa22b28-a99e-4ead-8e21-91a72561d778",
    "deepnote_cell_height": 171,
    "deepnote_cell_type": "code",
    "deepnote_to_be_reexecuted": false,
    "execution_millis": 1184380,
    "execution_start": 1647111138040,
    "source_hash": "36b10d2a",
    "tags": []
   },
   "outputs": [],
   "source": [
    "mse_thresh = 50\n",
    "batch_sizes = [1, 2, 4, 8, 12, 16, 20, 24, 28, 32, 36, 40, 44, 48, 50]\n",
    "number_of_epochs = [\n",
    "    train_until_mse_threshold(\n",
    "        create_net(size), mse_thresh) for size in batch_sizes\n",
    "]"
   ]
  },
  {
   "cell_type": "code",
   "execution_count": 25,
   "metadata": {
    "cell_id": "c82f0fe0-f6da-4c0a-acee-886b93d29061",
    "deepnote_cell_height": 449,
    "deepnote_cell_type": "code",
    "deepnote_output_heights": [
     280
    ],
    "deepnote_to_be_reexecuted": false,
    "execution_millis": 261,
    "execution_start": 1647112403447,
    "source_hash": "25cd5c9e",
    "tags": []
   },
   "outputs": [
    {
     "data": {
      "image/png": "[encoded data removed]",
      "text/plain": [
       "<Figure size 432x288 with 1 Axes>"
      ]
     },
     "metadata": {
      "image/png": {
       "height": 278,
       "width": 401
      },
      "needs_background": "light"
     },
     "output_type": "display_data"
    }
   ],
   "source": [
    "plt.scatter(batch_sizes, number_of_epochs)\n",
    "plt.title(f\"Number of train epochs vs batch size to achive mse < {mse_thresh}\")\n",
    "plt.xlabel(\"Batch size\")\n",
    "plt.ylabel(\"Number of epochs\")\n",
    "plt.show()"
   ]
  },
  {
   "cell_type": "code",
   "execution_count": 26,
   "metadata": {
    "cell_id": "59ad0623-5aca-4ebe-8701-dbff2b803804",
    "deepnote_cell_height": 66,
    "deepnote_cell_type": "code",
    "deepnote_to_be_reexecuted": false,
    "execution_millis": 0,
    "execution_start": 1647112484748,
    "source_hash": "88388890",
    "tags": []
   },
   "outputs": [],
   "source": [
    "# Jak widać na wykresie powyżej, sieć uczyła się szybciej dla batchów o mniejszym rozmiarze"
   ]
  },
  {
   "cell_type": "code",
   "execution_count": null,
   "metadata": {
    "cell_id": "eaad4f17-1f3a-4f91-bc73-51e0655eb056",
    "deepnote_cell_height": 66,
    "deepnote_cell_type": "code",
    "tags": []
   },
   "outputs": [],
   "source": []
  }
 ],
 "metadata": {
  "deepnote": {
   "is_reactive": false
  },
  "deepnote_execution_queue": [],
  "deepnote_notebook_id": "b972b946-a1bd-4029-93a2-d12c0d4bc0e8",
  "kernelspec": {
   "display_name": "Python 3 (ipykernel)",
   "language": "python",
   "name": "python3"
  },
  "language_info": {
   "codemirror_mode": {
    "name": "ipython",
    "version": 3
   },
   "file_extension": ".py",
   "mimetype": "text/x-python",
   "name": "python",
   "nbconvert_exporter": "python",
   "pygments_lexer": "ipython3",
   "version": "3.7.11"
  }
 },
 "nbformat": 4,
 "nbformat_minor": 4
}
