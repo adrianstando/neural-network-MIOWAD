{
 "cells": [
  {
   "cell_type": "markdown",
   "id": "9a6b413f-2b9d-4c6e-bd05-4ebcc5f8a72c",
   "metadata": {},
   "source": [
    "# Praca domowa 3 - MIOWAD"
   ]
  },
  {
   "cell_type": "code",
   "execution_count": 1,
   "id": "0b53b545-0041-4222-b929-196186ffbb6a",
   "metadata": {},
   "outputs": [],
   "source": [
    "import pandas as pd\n",
    "import numpy as np\n",
    "import matplotlib.pyplot as plt"
   ]
  },
  {
   "cell_type": "code",
   "execution_count": 2,
   "id": "2661f831-30e0-4573-918f-42fc94b43193",
   "metadata": {},
   "outputs": [],
   "source": [
    "from NeuralNetwork.NeuralNetwork import Net, mse\n",
    "from NeuralNetwork.Layers import DenseNetLayer\n",
    "from NeuralNetwork.ActivationFunctions import SigmoidFunction, LinearFunction\n",
    "from NeuralNetwork.Initializers import RandomNormalInitializer\n",
    "from NeuralNetwork.Optimizers import SGD_Momentum, SGD_RMSProp, SGD"
   ]
  },
  {
   "cell_type": "markdown",
   "id": "d0cad26f-0d70-4778-8978-7c4e6c924e09",
   "metadata": {},
   "source": [
    "## Zbiór square - large"
   ]
  },
  {
   "cell_type": "code",
   "execution_count": 3,
   "id": "915462ce-5453-4176-87e9-0a2fb2976fed",
   "metadata": {},
   "outputs": [
    {
     "data": {
      "text/html": [
       "<div>\n",
       "<style scoped>\n",
       "    .dataframe tbody tr th:only-of-type {\n",
       "        vertical-align: middle;\n",
       "    }\n",
       "\n",
       "    .dataframe tbody tr th {\n",
       "        vertical-align: top;\n",
       "    }\n",
       "\n",
       "    .dataframe thead th {\n",
       "        text-align: right;\n",
       "    }\n",
       "</style>\n",
       "<table border=\"1\" class=\"dataframe\">\n",
       "  <thead>\n",
       "    <tr style=\"text-align: right;\">\n",
       "      <th></th>\n",
       "      <th>x</th>\n",
       "      <th>y</th>\n",
       "    </tr>\n",
       "  </thead>\n",
       "  <tbody>\n",
       "    <tr>\n",
       "      <th>1</th>\n",
       "      <td>-1.263271</td>\n",
       "      <td>13.626856</td>\n",
       "    </tr>\n",
       "    <tr>\n",
       "      <th>2</th>\n",
       "      <td>0.465033</td>\n",
       "      <td>-110.537001</td>\n",
       "    </tr>\n",
       "    <tr>\n",
       "      <th>3</th>\n",
       "      <td>-1.252473</td>\n",
       "      <td>11.182059</td>\n",
       "    </tr>\n",
       "    <tr>\n",
       "      <th>4</th>\n",
       "      <td>-0.760128</td>\n",
       "      <td>-77.998459</td>\n",
       "    </tr>\n",
       "    <tr>\n",
       "      <th>5</th>\n",
       "      <td>0.423671</td>\n",
       "      <td>-113.845225</td>\n",
       "    </tr>\n",
       "  </tbody>\n",
       "</table>\n",
       "</div>"
      ],
      "text/plain": [
       "          x           y\n",
       "1 -1.263271   13.626856\n",
       "2  0.465033 -110.537001\n",
       "3 -1.252473   11.182059\n",
       "4 -0.760128  -77.998459\n",
       "5  0.423671 -113.845225"
      ]
     },
     "execution_count": 3,
     "metadata": {},
     "output_type": "execute_result"
    }
   ],
   "source": [
    "df = pd.read_csv(\"./data/regression/square-large-training.csv\", index_col=0)\n",
    "df.head()"
   ]
  },
  {
   "cell_type": "code",
   "execution_count": 4,
   "id": "d9b39cc6-b1ae-4e21-b163-f2b631fd4732",
   "metadata": {},
   "outputs": [],
   "source": [
    "X = df.x.to_numpy()\n",
    "X = np.transpose(np.array([X]))\n",
    "Y = df.y.to_numpy()\n",
    "Y = np.transpose(np.array([Y]))"
   ]
  },
  {
   "cell_type": "code",
   "execution_count": 5,
   "id": "4a2e2dfd-075d-4013-8979-836679319e3f",
   "metadata": {},
   "outputs": [
    {
     "data": {
      "text/html": [
       "<div>\n",
       "<style scoped>\n",
       "    .dataframe tbody tr th:only-of-type {\n",
       "        vertical-align: middle;\n",
       "    }\n",
       "\n",
       "    .dataframe tbody tr th {\n",
       "        vertical-align: top;\n",
       "    }\n",
       "\n",
       "    .dataframe thead th {\n",
       "        text-align: right;\n",
       "    }\n",
       "</style>\n",
       "<table border=\"1\" class=\"dataframe\">\n",
       "  <thead>\n",
       "    <tr style=\"text-align: right;\">\n",
       "      <th></th>\n",
       "      <th>x</th>\n",
       "      <th>y</th>\n",
       "    </tr>\n",
       "  </thead>\n",
       "  <tbody>\n",
       "    <tr>\n",
       "      <th>1</th>\n",
       "      <td>1.366456</td>\n",
       "      <td>38.048149</td>\n",
       "    </tr>\n",
       "    <tr>\n",
       "      <th>2</th>\n",
       "      <td>-0.390025</td>\n",
       "      <td>-116.309280</td>\n",
       "    </tr>\n",
       "    <tr>\n",
       "      <th>3</th>\n",
       "      <td>1.090418</td>\n",
       "      <td>-22.988883</td>\n",
       "    </tr>\n",
       "    <tr>\n",
       "      <th>4</th>\n",
       "      <td>1.805831</td>\n",
       "      <td>163.492435</td>\n",
       "    </tr>\n",
       "    <tr>\n",
       "      <th>5</th>\n",
       "      <td>-0.938124</td>\n",
       "      <td>-50.793090</td>\n",
       "    </tr>\n",
       "  </tbody>\n",
       "</table>\n",
       "</div>"
      ],
      "text/plain": [
       "          x           y\n",
       "1  1.366456   38.048149\n",
       "2 -0.390025 -116.309280\n",
       "3  1.090418  -22.988883\n",
       "4  1.805831  163.492435\n",
       "5 -0.938124  -50.793090"
      ]
     },
     "execution_count": 5,
     "metadata": {},
     "output_type": "execute_result"
    }
   ],
   "source": [
    "df1 = pd.read_csv(\"./data/regression/square-large-test.csv\", index_col=0)\n",
    "df1.head()"
   ]
  },
  {
   "cell_type": "code",
   "execution_count": 6,
   "id": "82eb15e3-a57f-4683-8b15-89bcc4adb919",
   "metadata": {},
   "outputs": [],
   "source": [
    "X1 = df1.x.to_numpy()\n",
    "X1 = np.transpose(np.array([X1]))\n",
    "Y1 = df1.y.to_numpy()\n",
    "Y1 = np.transpose(np.array([Y1]))"
   ]
  },
  {
   "cell_type": "markdown",
   "id": "71019302-ce6a-4aec-a94c-c34bddffe74c",
   "metadata": {},
   "source": [
    "Trenowanie sieci z algorytmem SGD"
   ]
  },
  {
   "cell_type": "code",
   "execution_count": 7,
   "id": "9a89021e-9cc5-4705-8dee-631e3703879d",
   "metadata": {},
   "outputs": [
    {
     "name": "stdout",
     "output_type": "stream",
     "text": [
      "Epoch: 0, mse train: 9542.744703430897, mse eval: 10651.261208093529\n",
      "Epoch: 50, mse train: 1703.7953064086955, mse eval: 3375.9709492354164\n",
      "Epoch: 100, mse train: 277.19214914288443, mse eval: 1264.9744103797354\n",
      "Epoch: 150, mse train: 108.40497204122806, mse eval: 928.3721397077384\n",
      "Epoch: 200, mse train: 59.526121076201925, mse eval: 717.1217454247477\n",
      "Epoch: 250, mse train: 36.74032167345811, mse eval: 573.6293432202423\n",
      "Epoch: 300, mse train: 24.10671892615205, mse eval: 467.1146693704551\n",
      "Epoch: 350, mse train: 16.542245748108677, mse eval: 388.33775536013593\n",
      "Epoch: 400, mse train: 11.859740657440948, mse eval: 331.635944288532\n",
      "Epoch: 450, mse train: 8.945337639952202, mse eval: 291.6793331977462\n",
      "Training result:\n",
      "    mse train: 7.14736102753325\n",
      "    mse eval: 264.2766713211414\n"
     ]
    }
   ],
   "source": [
    "np.random.seed(0)\n",
    "n = Net(optimizer = SGD(learning_rate=0.00001))\n",
    "n.add_layer(DenseNetLayer(1, 5, SigmoidFunction(), RandomNormalInitializer()))\n",
    "n.add_layer(DenseNetLayer(5, 5, SigmoidFunction(), RandomNormalInitializer()))\n",
    "n.add_layer(DenseNetLayer(5, 1, LinearFunction(), RandomNormalInitializer()))\n",
    "n.train(X, Y, X1, Y1, n_epochs=500, eval_frequency=50)"
   ]
  },
  {
   "cell_type": "markdown",
   "id": "2bda4cc2-f741-4c50-a92d-9fc89e8b3b3b",
   "metadata": {},
   "source": [
    "Trenowanie sieci z algorytmem SGD z momentem"
   ]
  },
  {
   "cell_type": "code",
   "execution_count": 9,
   "id": "1ed3acfa-f53f-4e37-8d96-2afa0486ad86",
   "metadata": {},
   "outputs": [
    {
     "name": "stdout",
     "output_type": "stream",
     "text": [
      "Epoch: 0, mse train: 9306.674896978599, mse eval: 10528.735898264022\n",
      "Epoch: 50, mse train: 36.24874265262894, mse eval: 572.567438580964\n",
      "Epoch: 100, mse train: 7.458276338595715, mse eval: 269.6023909650793\n",
      "Epoch: 150, mse train: 4.0127557357378585, mse eval: 205.18253012186392\n",
      "Epoch: 200, mse train: 2.930268586234175, mse eval: 191.94183955573192\n",
      "Epoch: 250, mse train: 2.3462840603813797, mse eval: 190.18766433358584\n",
      "Epoch: 300, mse train: 1.9708313689000387, mse eval: 191.09051675566872\n",
      "Epoch: 350, mse train: 1.7051567181548575, mse eval: 192.19618128199647\n",
      "Epoch: 400, mse train: 1.5053097544251066, mse eval: 192.87491474711686\n",
      "Epoch: 450, mse train: 1.3485969450702537, mse eval: 193.05249213392594\n",
      "Training result:\n",
      "    mse train: 1.2242995557471203\n",
      "    mse eval: 192.80958890037493\n"
     ]
    }
   ],
   "source": [
    "np.random.seed(0)\n",
    "n1 = Net(optimizer = SGD_Momentum(learning_rate=0.00001, momentum=0.8))\n",
    "n1.add_layer(DenseNetLayer(1, 5, SigmoidFunction(), RandomNormalInitializer()))\n",
    "n1.add_layer(DenseNetLayer(5, 5, SigmoidFunction(), RandomNormalInitializer()))\n",
    "n1.add_layer(DenseNetLayer(5, 1, LinearFunction(), RandomNormalInitializer()))\n",
    "n1.train(X, Y, X1, Y1, n_epochs=500, eval_frequency=50)"
   ]
  },
  {
   "cell_type": "code",
   "execution_count": 12,
   "id": "43320644-a79b-48b6-afdb-be69055a16ca",
   "metadata": {},
   "outputs": [
    {
     "name": "stdout",
     "output_type": "stream",
     "text": [
      "Epoch: 0, mse train: 1.2220050684044652, mse eval: 192.80096485762476\n",
      "Epoch: 50, mse train: 1.1174403348109163, mse eval: 192.21308980073437\n",
      "Epoch: 100, mse train: 1.0295432053824694, mse eval: 191.3698004018311\n",
      "Epoch: 150, mse train: 0.9545917893483774, mse eval: 190.33546758231665\n",
      "Training result:\n",
      "    mse train: 0.8911127855302556\n",
      "    mse eval: 189.18469675149387\n"
     ]
    }
   ],
   "source": [
    "n1.train(X, Y, X1, Y1, n_epochs=200, eval_frequency=50)"
   ]
  },
  {
   "cell_type": "markdown",
   "id": "a8775e5a-d84c-4226-a35c-aeb09297ff79",
   "metadata": {},
   "source": [
    "Wizualizacja predykcji na zbiorze treningowym"
   ]
  },
  {
   "cell_type": "code",
   "execution_count": 14,
   "id": "e1874861-e4d7-4d38-8255-0717f15f4e45",
   "metadata": {},
   "outputs": [
    {
     "data": {
      "image/png": "[encoded data removed]",
      "text/plain": [
       "<Figure size 432x288 with 1 Axes>"
      ]
     },
     "metadata": {
      "needs_background": "light"
     },
     "output_type": "display_data"
    }
   ],
   "source": [
    "plt.scatter(X, n1.forward(X), alpha = 0.5)\n",
    "plt.scatter(X, Y, color='red', alpha = 0.25)\n",
    "plt.show()"
   ]
  },
  {
   "cell_type": "markdown",
   "id": "53d9fd36-ba46-4988-ac96-83edd59152f9",
   "metadata": {},
   "source": [
    "Wizualizacja predykcji na zbiorze testowym"
   ]
  },
  {
   "cell_type": "code",
   "execution_count": 13,
   "id": "01075ef0-744f-4319-a4aa-549af98385fc",
   "metadata": {},
   "outputs": [
    {
     "data": {
      "image/png": "[encoded data removed]",
      "text/plain": [
       "<Figure size 432x288 with 1 Axes>"
      ]
     },
     "metadata": {
      "needs_background": "light"
     },
     "output_type": "display_data"
    }
   ],
   "source": [
    "plt.scatter(X1, n1.forward(X1), alpha = 0.5)\n",
    "plt.scatter(X1, Y1, color='red', alpha = 0.25)\n",
    "plt.show()"
   ]
  },
  {
   "cell_type": "code",
   "execution_count": null,
   "id": "761df41e-ec8a-4ae7-8f29-2da3b94ad8b9",
   "metadata": {},
   "outputs": [],
   "source": []
  },
  {
   "cell_type": "markdown",
   "id": "66a8538b-21cd-4608-8267-43240e65ba2a",
   "metadata": {},
   "source": [
    "Jak widać na powyższych wykresach, sieć nauczyła się bardzo dobrze na zbiorze treningowym, osiągając na nim MSE poniżej $1$. \n",
    "\n",
    "Wynik na zbiorze testowym okazał się gorszy - około $190$.\n",
    "\n",
    "Widać również, że sieć trenowana na algorytmie z momentem (takie same wartości learning rate dla trenowania z momentem i bez) osiągała lepsze wyniki w tej samej liczbie epok - zwykły SGD uzyskał po 500 epokach wynik $7.15$ na zbiorze treningowym, podczas gdy SGD z momentem $1.22$."
   ]
  },
  {
   "cell_type": "code",
   "execution_count": null,
   "id": "a2c6e754-060b-44c1-b182-2c95c48ff507",
   "metadata": {},
   "outputs": [],
   "source": []
  },
  {
   "cell_type": "markdown",
   "id": "3f0340c8-f75c-48b5-b0f5-a80d9f22c553",
   "metadata": {},
   "source": [
    "Trenowanie sieci z algorytmem SGD z RMSProp"
   ]
  },
  {
   "cell_type": "code",
   "execution_count": 8,
   "id": "f29414e9-c37a-499f-a3d8-70907c4bcfbd",
   "metadata": {},
   "outputs": [
    {
     "name": "stdout",
     "output_type": "stream",
     "text": [
      "Epoch: 0, mse train: 9573.341321165726, mse eval: 10664.947806919101\n",
      "Epoch: 50, mse train: 8769.126088922596, mse eval: 9992.121379403043\n",
      "Epoch: 100, mse train: 8063.709083252913, mse eval: 9319.392496354269\n",
      "Epoch: 150, mse train: 6654.586670945258, mse eval: 8023.4048556949165\n",
      "Epoch: 200, mse train: 5539.818865961488, mse eval: 6758.501874765363\n",
      "Epoch: 250, mse train: 3868.4400940473834, mse eval: 5141.4751658840905\n",
      "Epoch: 300, mse train: 2945.2950225105474, mse eval: 4293.133809858735\n",
      "Epoch: 350, mse train: 2202.5194679927336, mse eval: 3667.8732136647063\n",
      "Epoch: 400, mse train: 1596.8594805043163, mse eval: 3129.4071575205166\n",
      "Epoch: 450, mse train: 1090.1031719840225, mse eval: 2616.2028609431195\n",
      "Training result:\n",
      "    mse train: 690.6118686383055\n",
      "    mse eval: 2049.056938777953\n"
     ]
    }
   ],
   "source": [
    "np.random.seed(0)\n",
    "n1_1 = Net(optimizer = SGD_RMSProp(learning_rate=0.0001, beta=0.9))\n",
    "n1_1.add_layer(DenseNetLayer(1, 5, SigmoidFunction(), RandomNormalInitializer()))\n",
    "n1_1.add_layer(DenseNetLayer(5, 5, SigmoidFunction(), RandomNormalInitializer()))\n",
    "n1_1.add_layer(DenseNetLayer(5, 1, LinearFunction(), RandomNormalInitializer()))\n",
    "n1_1.train(X, Y, X1, Y1, n_epochs=500, eval_frequency=50)"
   ]
  },
  {
   "cell_type": "code",
   "execution_count": 9,
   "id": "e975bb62-b0a5-485d-9c83-3e0aa8600854",
   "metadata": {},
   "outputs": [
    {
     "name": "stdout",
     "output_type": "stream",
     "text": [
      "Epoch: 0, mse train: 683.5468771173723, mse eval: 2054.2141464941387\n",
      "Epoch: 50, mse train: 395.8414980173985, mse eval: 1620.4018742064584\n",
      "Epoch: 100, mse train: 218.37372525043367, mse eval: 1325.250582085566\n",
      "Epoch: 150, mse train: 114.29438026364124, mse eval: 1058.1464267950012\n",
      "Epoch: 200, mse train: 67.05333575873198, mse eval: 548.5180006509535\n",
      "Epoch: 250, mse train: 42.08037883758955, mse eval: 492.7474931548667\n",
      "Epoch: 300, mse train: 21.539970261388138, mse eval: 913.9331812534288\n",
      "Epoch: 350, mse train: 5.634739200389917, mse eval: 776.8085453052616\n",
      "Epoch: 400, mse train: 7.316608120265116, mse eval: 775.3558709167585\n",
      "Epoch: 450, mse train: 5.58139987775122, mse eval: 771.9122811992992\n",
      "Training result:\n",
      "    mse train: 4.714677172831969\n",
      "    mse eval: 658.9481700706482\n"
     ]
    }
   ],
   "source": [
    "n1_1.train(X, Y, X1, Y1, n_epochs=500, eval_frequency=50)"
   ]
  },
  {
   "cell_type": "markdown",
   "id": "10ec40f8-7b28-448b-83bf-e5f2975e871c",
   "metadata": {},
   "source": [
    "Wizualizacja predykcji na zbiorze testowym"
   ]
  },
  {
   "cell_type": "code",
   "execution_count": 10,
   "id": "528cff36-ea8c-4a86-9203-ae37d6e0f24f",
   "metadata": {},
   "outputs": [
    {
     "data": {
      "image/png": "[encoded data removed]",
      "text/plain": [
       "<Figure size 432x288 with 1 Axes>"
      ]
     },
     "metadata": {
      "needs_background": "light"
     },
     "output_type": "display_data"
    }
   ],
   "source": [
    "plt.scatter(X1, n1_1.forward(X1), alpha = 0.5)\n",
    "plt.scatter(X1, Y1, color='red', alpha = 0.25)\n",
    "plt.show()"
   ]
  },
  {
   "cell_type": "markdown",
   "id": "edb46bf5-f02a-4ca2-8cee-259399d421d9",
   "metadata": {},
   "source": [
    "Jak widać powyżej, trenowanie z RMSProp wcale nie przyspiesza procesu uczenia. \n",
    "\n",
    "Z learning rate o wartości takiej, jak poprzednie dwie sieci ($0.00001$), algorytm nie zbiegał. \n",
    "\n",
    "Z learning rate większym o rząd wielkości ($0.0001$) algorytm zbiega, ale znacznie wolniej w porównaniu z dwoma poprzednimi algorytmami.\n",
    "\n",
    "Algorytm SGD \"bez dodatków\" po 500 epokach miał wyniki: \n",
    "\n",
    "    mse train: 7.15\n",
    "    \n",
    "    mse test: 264.28\n",
    "\n",
    "Natomiast SGD z RMSProp po 500 epokach: \n",
    "\n",
    "    mse train: 690.612\n",
    "    \n",
    "    mse eval: 2049.06"
   ]
  },
  {
   "cell_type": "code",
   "execution_count": null,
   "id": "140e64d7-03a9-4f69-9799-2ddef5021d6f",
   "metadata": {},
   "outputs": [],
   "source": []
  },
  {
   "cell_type": "markdown",
   "id": "abd063f1-8912-481e-b095-f71360a39890",
   "metadata": {},
   "source": [
    "## Zbiór steps - large"
   ]
  },
  {
   "cell_type": "code",
   "execution_count": 3,
   "id": "a30e27a7-2917-4cbe-9ed0-c390ceeba6c2",
   "metadata": {},
   "outputs": [],
   "source": [
    "df = pd.read_csv(\"./data/regression/steps-large-training.csv\", index_col=0)\n",
    "X = df.x.to_numpy()\n",
    "X = np.transpose(np.array([X]))\n",
    "Y = df.y.to_numpy()\n",
    "Y = np.transpose(np.array([Y]))\n",
    "\n",
    "df1 = pd.read_csv(\"./data/regression/steps-large-test.csv\", index_col=0)\n",
    "X1 = df1.x.to_numpy()\n",
    "X1 = np.transpose(np.array([X1]))\n",
    "Y1 = df1.y.to_numpy()\n",
    "Y1 = np.transpose(np.array([Y1]))"
   ]
  },
  {
   "cell_type": "markdown",
   "id": "0151f1fa-2a4b-4868-a3a1-f07abab09ece",
   "metadata": {},
   "source": [
    "Trenowanie sieci z algorytmem SGD z momentem"
   ]
  },
  {
   "cell_type": "code",
   "execution_count": 21,
   "id": "3b30f917-9d00-4393-a267-7e9e85e6ba5c",
   "metadata": {},
   "outputs": [
    {
     "name": "stdout",
     "output_type": "stream",
     "text": [
      "Epoch: 0, mse train: 695.0466720952493, mse eval: 707.5043384582335\n",
      "Epoch: 50, mse train: 46.497758603422845, mse eval: 44.598667768597906\n",
      "Epoch: 100, mse train: 35.04075386685931, mse eval: 29.672468918617124\n",
      "Epoch: 150, mse train: 30.49431469737647, mse eval: 24.56362152624623\n",
      "Epoch: 200, mse train: 27.61472940802823, mse eval: 20.88218255354116\n",
      "Epoch: 250, mse train: 25.65609595076043, mse eval: 17.959601949393562\n",
      "Epoch: 300, mse train: 24.192228543467873, mse eval: 15.604470707306252\n",
      "Epoch: 350, mse train: 22.996652457650832, mse eval: 13.878983159569053\n",
      "Epoch: 400, mse train: 21.723042524625296, mse eval: 12.637344285377054\n",
      "Epoch: 450, mse train: 20.092039900713566, mse eval: 11.611850838414426\n",
      "Training result:\n",
      "    mse train: 18.21398039972285\n",
      "    mse eval: 10.723193914464542\n"
     ]
    }
   ],
   "source": [
    "np.random.seed(0)\n",
    "n3 = Net(optimizer = SGD_Momentum(learning_rate=0.00001, momentum=0.8))\n",
    "n3.add_layer(DenseNetLayer(1, 5, SigmoidFunction(), RandomNormalInitializer()))\n",
    "n3.add_layer(DenseNetLayer(5, 5, SigmoidFunction(), RandomNormalInitializer()))\n",
    "n3.add_layer(DenseNetLayer(5, 1, LinearFunction(), RandomNormalInitializer()))\n",
    "n3.train(X, Y, X1, Y1, n_epochs=500, eval_frequency=50)"
   ]
  },
  {
   "cell_type": "code",
   "execution_count": 24,
   "id": "4e00d317-1181-4026-8184-3227fc465ae2",
   "metadata": {},
   "outputs": [
    {
     "name": "stdout",
     "output_type": "stream",
     "text": [
      "Epoch: 0, mse train: 18.174750738407543, mse eval: 10.706518925747016\n",
      "Epoch: 50, mse train: 16.316664233361667, mse eval: 9.975764660462946\n",
      "Epoch: 100, mse train: 14.819113326564647, mse eval: 9.438132763967642\n",
      "Epoch: 150, mse train: 13.68003969473457, mse eval: 9.045572122489931\n",
      "Epoch: 200, mse train: 12.861771179965618, mse eval: 8.783222738536272\n",
      "Epoch: 250, mse train: 12.32834320547918, mse eval: 8.64876181029556\n",
      "Epoch: 300, mse train: 12.004283122441219, mse eval: 8.616091442573072\n",
      "Epoch: 350, mse train: 11.805680658576229, mse eval: 8.640213213152197\n",
      "Training result:\n",
      "    mse train: 11.685654707864627\n",
      "    mse eval: 8.686726654684598\n"
     ]
    }
   ],
   "source": [
    "n3.train(X, Y, X1, Y1, n_epochs=400, eval_frequency=50)"
   ]
  },
  {
   "cell_type": "code",
   "execution_count": 34,
   "id": "4658e648-0f34-40a0-82da-f3460d5d5161",
   "metadata": {},
   "outputs": [
    {
     "name": "stdout",
     "output_type": "stream",
     "text": [
      "Epoch: 0, mse train: 11.52348687967906, mse eval: 8.790425459010054\n",
      "Epoch: 50, mse train: 11.50021948037734, mse eval: 8.782336389238644\n",
      "Epoch: 100, mse train: 11.478085948098128, mse eval: 8.746201925525423\n",
      "Epoch: 150, mse train: 11.459180180023468, mse eval: 8.687873319962183\n",
      "Epoch: 200, mse train: 11.446692971178784, mse eval: 8.614474074638414\n",
      "Epoch: 250, mse train: 11.442461716834185, mse eval: 8.535464487905697\n",
      "Epoch: 300, mse train: 11.449581532306507, mse eval: 8.459329268139863\n",
      "Epoch: 350, mse train: 11.472893739846828, mse eval: 8.393582821620077\n",
      "Training result:\n",
      "    mse train: 11.508599530138037\n",
      "    mse eval: 8.341019096440029\n"
     ]
    }
   ],
   "source": [
    "n3.train(X, Y, X1, Y1, n_epochs=400, eval_frequency=50)"
   ]
  },
  {
   "cell_type": "markdown",
   "id": "6b340b13-3ac3-4ac6-956f-f9449df0ad0c",
   "metadata": {},
   "source": [
    "Dalszy trening doprowadził do **pogorszenia wyników sieci**:"
   ]
  },
  {
   "cell_type": "code",
   "execution_count": 27,
   "id": "cabb34e6-f6d6-4c72-9afe-2ebf10d469c0",
   "metadata": {},
   "outputs": [
    {
     "name": "stdout",
     "output_type": "stream",
     "text": [
      "Epoch: 0, mse train: 11.683755414657236, mse eval: 8.687753276589895\n",
      "Epoch: 50, mse train: 11.608675200426278, mse eval: 8.737372653895925\n",
      "Epoch: 100, mse train: 11.560779723566522, mse eval: 8.77533595901979\n",
      "Epoch: 150, mse train: 11.52780964609799, mse eval: 8.792553599752264\n"
     ]
    },
    {
     "ename": "KeyboardInterrupt",
     "evalue": "",
     "output_type": "error",
     "traceback": [
      "\u001b[0;31m---------------------------------------------------------------------------\u001b[0m",
      "\u001b[0;31mKeyboardInterrupt\u001b[0m                         Traceback (most recent call last)",
      "\u001b[0;32m/tmp/ipykernel_37010/269155479.py\u001b[0m in \u001b[0;36m<module>\u001b[0;34m\u001b[0m\n\u001b[0;32m----> 1\u001b[0;31m \u001b[0mn3\u001b[0m\u001b[0;34m.\u001b[0m\u001b[0mtrain\u001b[0m\u001b[0;34m(\u001b[0m\u001b[0mX\u001b[0m\u001b[0;34m,\u001b[0m \u001b[0mY\u001b[0m\u001b[0;34m,\u001b[0m \u001b[0mX1\u001b[0m\u001b[0;34m,\u001b[0m \u001b[0mY1\u001b[0m\u001b[0;34m,\u001b[0m \u001b[0mn_epochs\u001b[0m\u001b[0;34m=\u001b[0m\u001b[0;36m1000\u001b[0m\u001b[0;34m,\u001b[0m \u001b[0meval_frequency\u001b[0m\u001b[0;34m=\u001b[0m\u001b[0;36m50\u001b[0m\u001b[0;34m)\u001b[0m\u001b[0;34m\u001b[0m\u001b[0;34m\u001b[0m\u001b[0m\n\u001b[0m",
      "\u001b[0;32m~/studia/MIO/repozytorium/neural-network-MIOWAD/NeuralNetwork/NeuralNetwork.py\u001b[0m in \u001b[0;36mtrain\u001b[0;34m(self, X, Y, X_eval, Y_eval, n_epochs, eval_frequency)\u001b[0m\n\u001b[1;32m     74\u001b[0m                                 \u001b[0;34m[\u001b[0m\u001b[0mlayer\u001b[0m\u001b[0;34m.\u001b[0m\u001b[0mweights\u001b[0m \u001b[0;32mfor\u001b[0m \u001b[0mlayer\u001b[0m \u001b[0;32min\u001b[0m \u001b[0mself\u001b[0m\u001b[0;34m.\u001b[0m\u001b[0mlayers\u001b[0m\u001b[0;34m]\u001b[0m\u001b[0;34m,\u001b[0m\u001b[0;34m\u001b[0m\u001b[0;34m\u001b[0m\u001b[0m\n\u001b[1;32m     75\u001b[0m                                 \u001b[0;34m[\u001b[0m\u001b[0mlayer\u001b[0m\u001b[0;34m.\u001b[0m\u001b[0mbiases\u001b[0m \u001b[0;32mfor\u001b[0m \u001b[0mlayer\u001b[0m \u001b[0;32min\u001b[0m \u001b[0mself\u001b[0m\u001b[0;34m.\u001b[0m\u001b[0mlayers\u001b[0m\u001b[0;34m]\u001b[0m\u001b[0;34m,\u001b[0m\u001b[0;34m\u001b[0m\u001b[0;34m\u001b[0m\u001b[0m\n\u001b[0;32m---> 76\u001b[0;31m                                 self.backward_step)\n\u001b[0m\u001b[1;32m     77\u001b[0m             \u001b[0;32mif\u001b[0m \u001b[0mi\u001b[0m \u001b[0;34m%\u001b[0m \u001b[0meval_frequency\u001b[0m \u001b[0;34m==\u001b[0m \u001b[0;36m0\u001b[0m\u001b[0;34m:\u001b[0m\u001b[0;34m\u001b[0m\u001b[0;34m\u001b[0m\u001b[0m\n\u001b[1;32m     78\u001b[0m                 \u001b[0mprint\u001b[0m\u001b[0;34m(\u001b[0m\u001b[0;34mf\"Epoch: {i}, mse train: {mse(Y, self.forward(X))}, mse eval: {mse(Y_eval, self.forward(X_eval))}\"\u001b[0m\u001b[0;34m)\u001b[0m\u001b[0;34m\u001b[0m\u001b[0;34m\u001b[0m\u001b[0m\n",
      "\u001b[0;32m~/studia/MIO/repozytorium/neural-network-MIOWAD/NeuralNetwork/Optimizers.py\u001b[0m in \u001b[0;36mstep\u001b[0;34m(self, X, Y, weights, biases, backward_func)\u001b[0m\n\u001b[1;32m    198\u001b[0m \u001b[0;34m\u001b[0m\u001b[0m\n\u001b[1;32m    199\u001b[0m         \u001b[0;32mfor\u001b[0m \u001b[0mx\u001b[0m\u001b[0;34m,\u001b[0m \u001b[0my\u001b[0m \u001b[0;32min\u001b[0m \u001b[0mzip\u001b[0m\u001b[0;34m(\u001b[0m\u001b[0mX\u001b[0m\u001b[0;34m,\u001b[0m \u001b[0mY\u001b[0m\u001b[0;34m)\u001b[0m\u001b[0;34m:\u001b[0m\u001b[0;34m\u001b[0m\u001b[0;34m\u001b[0m\u001b[0m\n\u001b[0;32m--> 200\u001b[0;31m             \u001b[0mbackward\u001b[0m \u001b[0;34m=\u001b[0m \u001b[0mbackward_func\u001b[0m\u001b[0;34m(\u001b[0m\u001b[0mx\u001b[0m\u001b[0;34m,\u001b[0m \u001b[0my\u001b[0m\u001b[0;34m)\u001b[0m\u001b[0;34m\u001b[0m\u001b[0;34m\u001b[0m\u001b[0m\n\u001b[0m\u001b[1;32m    201\u001b[0m             change_weights, change_biases = changes(\n\u001b[1;32m    202\u001b[0m                 \u001b[0mweight_grads\u001b[0m\u001b[0;34m=\u001b[0m\u001b[0mbackward\u001b[0m\u001b[0;34m[\u001b[0m\u001b[0;36m0\u001b[0m\u001b[0;34m]\u001b[0m\u001b[0;34m,\u001b[0m\u001b[0;34m\u001b[0m\u001b[0;34m\u001b[0m\u001b[0m\n",
      "\u001b[0;32m~/studia/MIO/repozytorium/neural-network-MIOWAD/NeuralNetwork/NeuralNetwork.py\u001b[0m in \u001b[0;36mbackward_step\u001b[0;34m(self, vector_in, y_true)\u001b[0m\n\u001b[1;32m     26\u001b[0m             \u001b[0mw\u001b[0m \u001b[0;34m=\u001b[0m \u001b[0mlayer\u001b[0m\u001b[0;34m.\u001b[0m\u001b[0mweighted_input\u001b[0m\u001b[0;34m(\u001b[0m\u001b[0minp\u001b[0m\u001b[0;34m)\u001b[0m\u001b[0;34m\u001b[0m\u001b[0;34m\u001b[0m\u001b[0m\n\u001b[1;32m     27\u001b[0m             \u001b[0mweighted_inputs\u001b[0m\u001b[0;34m.\u001b[0m\u001b[0mappend\u001b[0m\u001b[0;34m(\u001b[0m\u001b[0mw\u001b[0m\u001b[0;34m)\u001b[0m\u001b[0;34m\u001b[0m\u001b[0;34m\u001b[0m\u001b[0m\n\u001b[0;32m---> 28\u001b[0;31m             \u001b[0minp\u001b[0m \u001b[0;34m=\u001b[0m \u001b[0mlayer\u001b[0m\u001b[0;34m.\u001b[0m\u001b[0mactivation_function\u001b[0m\u001b[0;34m(\u001b[0m\u001b[0mw\u001b[0m\u001b[0;34m)\u001b[0m\u001b[0;34m\u001b[0m\u001b[0;34m\u001b[0m\u001b[0m\n\u001b[0m\u001b[1;32m     29\u001b[0m         \u001b[0;31m# error <- e\u001b[0m\u001b[0;34m\u001b[0m\u001b[0;34m\u001b[0m\u001b[0;34m\u001b[0m\u001b[0m\n\u001b[1;32m     30\u001b[0m         \u001b[0merror\u001b[0m \u001b[0;34m=\u001b[0m \u001b[0;34m[\u001b[0m\u001b[0;34m]\u001b[0m\u001b[0;34m\u001b[0m\u001b[0;34m\u001b[0m\u001b[0m\n",
      "\u001b[0;32m~/studia/MIO/repozytorium/neural-network-MIOWAD/NeuralNetwork/Utils.py\u001b[0m in \u001b[0;36m<lambda>\u001b[0;34m(x)\u001b[0m\n\u001b[1;32m      4\u001b[0m \u001b[0;32mdef\u001b[0m \u001b[0mgenerate_vectorized_function\u001b[0m\u001b[0;34m(\u001b[0m\u001b[0mfunc\u001b[0m\u001b[0;34m)\u001b[0m\u001b[0;34m:\u001b[0m\u001b[0;34m\u001b[0m\u001b[0;34m\u001b[0m\u001b[0m\n\u001b[1;32m      5\u001b[0m     \u001b[0mf\u001b[0m \u001b[0;34m=\u001b[0m \u001b[0mnp\u001b[0m\u001b[0;34m.\u001b[0m\u001b[0mvectorize\u001b[0m\u001b[0;34m(\u001b[0m\u001b[0mfunc\u001b[0m\u001b[0;34m)\u001b[0m\u001b[0;34m\u001b[0m\u001b[0;34m\u001b[0m\u001b[0m\n\u001b[0;32m----> 6\u001b[0;31m     \u001b[0;32mreturn\u001b[0m \u001b[0;32mlambda\u001b[0m \u001b[0mx\u001b[0m\u001b[0;34m:\u001b[0m \u001b[0mf\u001b[0m\u001b[0;34m(\u001b[0m\u001b[0mx\u001b[0m\u001b[0;34m)\u001b[0m\u001b[0;34m\u001b[0m\u001b[0;34m\u001b[0m\u001b[0m\n\u001b[0m",
      "\u001b[0;32m~/anaconda3/lib/python3.7/site-packages/numpy/lib/function_base.py\u001b[0m in \u001b[0;36m__call__\u001b[0;34m(self, *args, **kwargs)\u001b[0m\n\u001b[1;32m   2111\u001b[0m             \u001b[0mvargs\u001b[0m\u001b[0;34m.\u001b[0m\u001b[0mextend\u001b[0m\u001b[0;34m(\u001b[0m\u001b[0;34m[\u001b[0m\u001b[0mkwargs\u001b[0m\u001b[0;34m[\u001b[0m\u001b[0m_n\u001b[0m\u001b[0;34m]\u001b[0m \u001b[0;32mfor\u001b[0m \u001b[0m_n\u001b[0m \u001b[0;32min\u001b[0m \u001b[0mnames\u001b[0m\u001b[0;34m]\u001b[0m\u001b[0;34m)\u001b[0m\u001b[0;34m\u001b[0m\u001b[0;34m\u001b[0m\u001b[0m\n\u001b[1;32m   2112\u001b[0m \u001b[0;34m\u001b[0m\u001b[0m\n\u001b[0;32m-> 2113\u001b[0;31m         \u001b[0;32mreturn\u001b[0m \u001b[0mself\u001b[0m\u001b[0;34m.\u001b[0m\u001b[0m_vectorize_call\u001b[0m\u001b[0;34m(\u001b[0m\u001b[0mfunc\u001b[0m\u001b[0;34m=\u001b[0m\u001b[0mfunc\u001b[0m\u001b[0;34m,\u001b[0m \u001b[0margs\u001b[0m\u001b[0;34m=\u001b[0m\u001b[0mvargs\u001b[0m\u001b[0;34m)\u001b[0m\u001b[0;34m\u001b[0m\u001b[0;34m\u001b[0m\u001b[0m\n\u001b[0m\u001b[1;32m   2114\u001b[0m \u001b[0;34m\u001b[0m\u001b[0m\n\u001b[1;32m   2115\u001b[0m     \u001b[0;32mdef\u001b[0m \u001b[0m_get_ufunc_and_otypes\u001b[0m\u001b[0;34m(\u001b[0m\u001b[0mself\u001b[0m\u001b[0;34m,\u001b[0m \u001b[0mfunc\u001b[0m\u001b[0;34m,\u001b[0m \u001b[0margs\u001b[0m\u001b[0;34m)\u001b[0m\u001b[0;34m:\u001b[0m\u001b[0;34m\u001b[0m\u001b[0;34m\u001b[0m\u001b[0m\n",
      "\u001b[0;32m~/anaconda3/lib/python3.7/site-packages/numpy/lib/function_base.py\u001b[0m in \u001b[0;36m_vectorize_call\u001b[0;34m(self, func, args)\u001b[0m\n\u001b[1;32m   2189\u001b[0m             \u001b[0mres\u001b[0m \u001b[0;34m=\u001b[0m \u001b[0mfunc\u001b[0m\u001b[0;34m(\u001b[0m\u001b[0;34m)\u001b[0m\u001b[0;34m\u001b[0m\u001b[0;34m\u001b[0m\u001b[0m\n\u001b[1;32m   2190\u001b[0m         \u001b[0;32melse\u001b[0m\u001b[0;34m:\u001b[0m\u001b[0;34m\u001b[0m\u001b[0;34m\u001b[0m\u001b[0m\n\u001b[0;32m-> 2191\u001b[0;31m             \u001b[0mufunc\u001b[0m\u001b[0;34m,\u001b[0m \u001b[0motypes\u001b[0m \u001b[0;34m=\u001b[0m \u001b[0mself\u001b[0m\u001b[0;34m.\u001b[0m\u001b[0m_get_ufunc_and_otypes\u001b[0m\u001b[0;34m(\u001b[0m\u001b[0mfunc\u001b[0m\u001b[0;34m=\u001b[0m\u001b[0mfunc\u001b[0m\u001b[0;34m,\u001b[0m \u001b[0margs\u001b[0m\u001b[0;34m=\u001b[0m\u001b[0margs\u001b[0m\u001b[0;34m)\u001b[0m\u001b[0;34m\u001b[0m\u001b[0;34m\u001b[0m\u001b[0m\n\u001b[0m\u001b[1;32m   2192\u001b[0m \u001b[0;34m\u001b[0m\u001b[0m\n\u001b[1;32m   2193\u001b[0m             \u001b[0;31m# Convert args to object arrays first\u001b[0m\u001b[0;34m\u001b[0m\u001b[0;34m\u001b[0m\u001b[0;34m\u001b[0m\u001b[0m\n",
      "\u001b[0;32m~/anaconda3/lib/python3.7/site-packages/numpy/lib/function_base.py\u001b[0m in \u001b[0;36m_get_ufunc_and_otypes\u001b[0;34m(self, func, args)\u001b[0m\n\u001b[1;32m   2173\u001b[0m \u001b[0;34m\u001b[0m\u001b[0m\n\u001b[1;32m   2174\u001b[0m             otypes = ''.join([asarray(outputs[_k]).dtype.char\n\u001b[0;32m-> 2175\u001b[0;31m                               for _k in range(nout)])\n\u001b[0m\u001b[1;32m   2176\u001b[0m \u001b[0;34m\u001b[0m\u001b[0m\n\u001b[1;32m   2177\u001b[0m             \u001b[0;31m# Performance note: profiling indicates that creating the ufunc is\u001b[0m\u001b[0;34m\u001b[0m\u001b[0;34m\u001b[0m\u001b[0;34m\u001b[0m\u001b[0m\n",
      "\u001b[0;32m~/anaconda3/lib/python3.7/site-packages/numpy/lib/function_base.py\u001b[0m in \u001b[0;36m<listcomp>\u001b[0;34m(.0)\u001b[0m\n\u001b[1;32m   2173\u001b[0m \u001b[0;34m\u001b[0m\u001b[0m\n\u001b[1;32m   2174\u001b[0m             otypes = ''.join([asarray(outputs[_k]).dtype.char\n\u001b[0;32m-> 2175\u001b[0;31m                               for _k in range(nout)])\n\u001b[0m\u001b[1;32m   2176\u001b[0m \u001b[0;34m\u001b[0m\u001b[0m\n\u001b[1;32m   2177\u001b[0m             \u001b[0;31m# Performance note: profiling indicates that creating the ufunc is\u001b[0m\u001b[0;34m\u001b[0m\u001b[0;34m\u001b[0m\u001b[0;34m\u001b[0m\u001b[0m\n",
      "\u001b[0;32m~/anaconda3/lib/python3.7/site-packages/numpy/core/_asarray.py\u001b[0m in \u001b[0;36masarray\u001b[0;34m(a, dtype, order, like)\u001b[0m\n\u001b[1;32m    100\u001b[0m         \u001b[0;32mreturn\u001b[0m \u001b[0m_asarray_with_like\u001b[0m\u001b[0;34m(\u001b[0m\u001b[0ma\u001b[0m\u001b[0;34m,\u001b[0m \u001b[0mdtype\u001b[0m\u001b[0;34m=\u001b[0m\u001b[0mdtype\u001b[0m\u001b[0;34m,\u001b[0m \u001b[0morder\u001b[0m\u001b[0;34m=\u001b[0m\u001b[0morder\u001b[0m\u001b[0;34m,\u001b[0m \u001b[0mlike\u001b[0m\u001b[0;34m=\u001b[0m\u001b[0mlike\u001b[0m\u001b[0;34m)\u001b[0m\u001b[0;34m\u001b[0m\u001b[0;34m\u001b[0m\u001b[0m\n\u001b[1;32m    101\u001b[0m \u001b[0;34m\u001b[0m\u001b[0m\n\u001b[0;32m--> 102\u001b[0;31m     \u001b[0;32mreturn\u001b[0m \u001b[0marray\u001b[0m\u001b[0;34m(\u001b[0m\u001b[0ma\u001b[0m\u001b[0;34m,\u001b[0m \u001b[0mdtype\u001b[0m\u001b[0;34m,\u001b[0m \u001b[0mcopy\u001b[0m\u001b[0;34m=\u001b[0m\u001b[0;32mFalse\u001b[0m\u001b[0;34m,\u001b[0m \u001b[0morder\u001b[0m\u001b[0;34m=\u001b[0m\u001b[0morder\u001b[0m\u001b[0;34m)\u001b[0m\u001b[0;34m\u001b[0m\u001b[0;34m\u001b[0m\u001b[0m\n\u001b[0m\u001b[1;32m    103\u001b[0m \u001b[0;34m\u001b[0m\u001b[0m\n\u001b[1;32m    104\u001b[0m \u001b[0;34m\u001b[0m\u001b[0m\n",
      "\u001b[0;31mKeyboardInterrupt\u001b[0m: "
     ]
    }
   ],
   "source": [
    "n3.train(X, Y, X1, Y1, n_epochs=1000, eval_frequency=50)"
   ]
  },
  {
   "cell_type": "code",
   "execution_count": null,
   "id": "3c7de557-6ca3-48de-b176-d4db399ae350",
   "metadata": {},
   "outputs": [],
   "source": []
  },
  {
   "cell_type": "markdown",
   "id": "f0652b1d-2e2c-4ff3-b9da-0efbdbee1f6a",
   "metadata": {},
   "source": [
    "Niestety, podczas treningu błąd zaczął rosnąć na zbiorze testowym, **dlatego trening został zatrzymany**.\n",
    "\n",
    "MSE na zbiorze testowym osiągnęło najmniejszą wartość $8.34$."
   ]
  },
  {
   "cell_type": "markdown",
   "id": "ec403427-e778-4233-aae4-e3ea854fc00a",
   "metadata": {},
   "source": [
    "Wizualizacja predykcji na zbiorze treningowym"
   ]
  },
  {
   "cell_type": "code",
   "execution_count": 35,
   "id": "c4412a1e-de75-4337-849a-7d24fcd1bac7",
   "metadata": {},
   "outputs": [
    {
     "data": {
      "image/png": "[encoded data removed]",
      "text/plain": [
       "<Figure size 432x288 with 1 Axes>"
      ]
     },
     "metadata": {
      "needs_background": "light"
     },
     "output_type": "display_data"
    }
   ],
   "source": [
    "plt.scatter(X, n3.forward(X), alpha = 0.5)\n",
    "plt.scatter(X, Y, color='red', alpha = 0.25)\n",
    "plt.show()"
   ]
  },
  {
   "cell_type": "markdown",
   "id": "33f82529-2ff1-4ed9-aabb-4be6435d0e01",
   "metadata": {},
   "source": [
    "Wizualizacja predykcji na zbiorze testowym"
   ]
  },
  {
   "cell_type": "code",
   "execution_count": 36,
   "id": "a142ef03-2013-452e-9439-28fd02199d67",
   "metadata": {},
   "outputs": [
    {
     "data": {
      "image/png": "[encoded data removed]",
      "text/plain": [
       "<Figure size 432x288 with 1 Axes>"
      ]
     },
     "metadata": {
      "needs_background": "light"
     },
     "output_type": "display_data"
    }
   ],
   "source": [
    "plt.scatter(X1, n3.forward(X1), alpha = 0.5)\n",
    "plt.scatter(X1, Y1, color='red', alpha = 0.25)\n",
    "plt.show()"
   ]
  },
  {
   "cell_type": "code",
   "execution_count": null,
   "id": "237a3fbf-80ce-40e9-b6a2-9364271bc238",
   "metadata": {},
   "outputs": [],
   "source": []
  },
  {
   "cell_type": "markdown",
   "id": "901cc034-5533-460b-9e33-9bdc432f3f23",
   "metadata": {},
   "source": [
    "## Zbiór multimodal-large"
   ]
  },
  {
   "cell_type": "code",
   "execution_count": 37,
   "id": "09f1fa86-78f5-4d1f-bf71-9ab3a587a30e",
   "metadata": {},
   "outputs": [],
   "source": [
    "df = pd.read_csv(\"./data/regression/multimodal-large-training.csv\")\n",
    "df.head()\n",
    "X = df.x.to_numpy()\n",
    "X = np.transpose(np.array([X]))\n",
    "Y = df.y.to_numpy()\n",
    "Y = np.transpose(np.array([Y]))\n",
    "\n",
    "df1 = pd.read_csv(\"./data/regression/multimodal-large-test.csv\")\n",
    "df1.head()\n",
    "X1 = df1.x.to_numpy()\n",
    "X1 = np.transpose(np.array([X1]))\n",
    "Y1 = df1.y.to_numpy()\n",
    "Y1 = np.transpose(np.array([Y1]))"
   ]
  },
  {
   "cell_type": "code",
   "execution_count": 40,
   "id": "dc79bcec-fcf0-4b49-8bfe-4b140c6cc116",
   "metadata": {},
   "outputs": [],
   "source": [
    "from NeuralNetwork.Optimizers import GradientDescentBatch_Momentum"
   ]
  },
  {
   "cell_type": "code",
   "execution_count": 45,
   "id": "9f85ab17-b548-498a-9c4c-377e4e760089",
   "metadata": {},
   "outputs": [
    {
     "name": "stdout",
     "output_type": "stream",
     "text": [
      "Epoch: 0, mse train: 5042.275301625854, mse eval: 5085.344586813099\n",
      "Epoch: 10, mse train: 1963.3051976901475, mse eval: 1997.6308178994666\n",
      "Epoch: 20, mse train: 1563.931465575498, mse eval: 1580.6180396848517\n",
      "Epoch: 30, mse train: 1491.921174570595, mse eval: 1506.861405181171\n",
      "Epoch: 40, mse train: 1463.8604943574844, mse eval: 1484.9489156916961\n",
      "Epoch: 50, mse train: 744.4363866448837, mse eval: 778.8677370345621\n",
      "Epoch: 60, mse train: 551.2051052289004, mse eval: 579.6530652817972\n",
      "Epoch: 70, mse train: 366.990207779404, mse eval: 406.8913727344333\n",
      "Epoch: 80, mse train: 365.1925024685698, mse eval: 404.7743351993205\n",
      "Epoch: 90, mse train: 365.3679947354791, mse eval: 404.6985538813618\n",
      "Training result:\n",
      "    mse train: 364.25627386336333\n",
      "    mse eval: 403.5611132260545\n"
     ]
    }
   ],
   "source": [
    "np.random.seed(0)\n",
    "n_ml = Net(optimizer = GradientDescentBatch_Momentum(learning_rate=0.00001, batch_size=64, momentum = 0.3))\n",
    "n_ml.add_layer(DenseNetLayer(1, 20, SigmoidFunction(), RandomNormalInitializer()))\n",
    "n_ml.add_layer(DenseNetLayer(20, 5, SigmoidFunction(), RandomNormalInitializer()))\n",
    "n_ml.add_layer(DenseNetLayer(5, 1, LinearFunction(), RandomNormalInitializer()))\n",
    "n_ml.train(X, Y, X1, Y1, 100, 10)"
   ]
  },
  {
   "cell_type": "code",
   "execution_count": 46,
   "id": "57855add-2321-486d-a3d7-168a99695d91",
   "metadata": {},
   "outputs": [
    {
     "name": "stdout",
     "output_type": "stream",
     "text": [
      "Epoch: 0, mse train: 364.1068049138317, mse eval: 403.40602364172713\n",
      "Epoch: 10, mse train: 362.26257551503164, mse eval: 401.4089550202034\n",
      "Epoch: 20, mse train: 359.7067602802695, mse eval: 398.7445542920049\n",
      "Epoch: 30, mse train: 352.1672991100268, mse eval: 391.3171738361877\n",
      "Epoch: 40, mse train: 332.90529526190005, mse eval: 370.8828002612079\n",
      "Epoch: 50, mse train: 313.3182367538876, mse eval: 346.9320331131589\n",
      "Epoch: 60, mse train: 285.28525575296294, mse eval: 310.83876141062467\n",
      "Epoch: 70, mse train: 255.29547937617963, mse eval: 273.88708099853756\n",
      "Epoch: 80, mse train: 228.0717503719998, mse eval: 242.0519844935719\n",
      "Epoch: 90, mse train: 203.33994641196097, mse eval: 215.24132755081328\n",
      "Training result:\n",
      "    mse train: 179.0144021440677\n",
      "    mse eval: 189.53110324278697\n"
     ]
    }
   ],
   "source": [
    "n_ml.train(X, Y, X1, Y1, 100, 10)"
   ]
  },
  {
   "cell_type": "code",
   "execution_count": 47,
   "id": "fe163eae-a7f5-4554-9eb4-3695f205d0ca",
   "metadata": {},
   "outputs": [
    {
     "name": "stdout",
     "output_type": "stream",
     "text": [
      "Epoch: 0, mse train: 175.8078571152519, mse eval: 186.16527319694123\n",
      "Epoch: 10, mse train: 135.3364533136084, mse eval: 146.8684012133046\n",
      "Epoch: 20, mse train: 115.08058925429494, mse eval: 125.50977781431965\n",
      "Epoch: 30, mse train: 96.87913901954617, mse eval: 105.27031193714855\n",
      "Epoch: 40, mse train: 81.13950752636087, mse eval: 87.44065397935478\n",
      "Epoch: 50, mse train: 67.7599068672611, mse eval: 72.3446746318111\n",
      "Epoch: 60, mse train: 57.061702464238785, mse eval: 60.42965171156834\n",
      "Epoch: 70, mse train: 49.43463020441803, mse eval: 51.990241824081174\n",
      "Epoch: 80, mse train: 44.51915457642596, mse eval: 46.48690482732138\n",
      "Epoch: 90, mse train: 41.28743279832143, mse eval: 42.73895459166443\n",
      "Training result:\n",
      "    mse train: 38.89500918506432\n",
      "    mse eval: 39.8693355286383\n"
     ]
    }
   ],
   "source": [
    "n_ml.train(X, Y, X1, Y1, 100, 10)"
   ]
  },
  {
   "cell_type": "code",
   "execution_count": 48,
   "id": "ba43a826-838e-4463-90b9-3d1f4a1ef1bf",
   "metadata": {},
   "outputs": [
    {
     "name": "stdout",
     "output_type": "stream",
     "text": [
      "Epoch: 0, mse train: 38.63255728287775, mse eval: 39.551887841397026\n",
      "Epoch: 10, mse train: 35.936228673616405, mse eval: 36.287870452961954\n",
      "Epoch: 20, mse train: 33.09671269951774, mse eval: 32.865924351490136\n",
      "Epoch: 30, mse train: 30.14814248731993, mse eval: 29.339143452905883\n",
      "Epoch: 40, mse train: 27.129377498364974, mse eval: 25.75749406817802\n",
      "Epoch: 50, mse train: 24.156289808675762, mse eval: 22.25178086453991\n",
      "Epoch: 60, mse train: 21.42829964124431, mse eval: 19.04273830715356\n",
      "Epoch: 70, mse train: 19.121273119280282, mse eval: 16.32383058829751\n",
      "Epoch: 80, mse train: 17.29938130148702, mse eval: 14.16427310123697\n",
      "Epoch: 90, mse train: 15.924506022614672, mse eval: 12.519745478227698\n",
      "Training result:\n",
      "    mse train: 14.999202493965152\n",
      "    mse eval: 11.40053640871358\n"
     ]
    }
   ],
   "source": [
    "n_ml.train(X, Y, X1, Y1, 100, 10)"
   ]
  },
  {
   "cell_type": "code",
   "execution_count": 49,
   "id": "9f2987c2-e5b0-416a-9d30-7cf692315065",
   "metadata": {},
   "outputs": [
    {
     "name": "stdout",
     "output_type": "stream",
     "text": [
      "Epoch: 0, mse train: 14.911575634694586, mse eval: 11.293810805954386\n",
      "Epoch: 10, mse train: 14.171856092534398, mse eval: 10.385877693574377\n",
      "Epoch: 20, mse train: 13.632594064763799, mse eval: 9.71308731627999\n",
      "Epoch: 30, mse train: 13.241411224671518, mse eval: 9.215373495149723\n",
      "Epoch: 40, mse train: 12.964285023732284, mse eval: 8.853332066055968\n",
      "Epoch: 50, mse train: 12.781957722107872, mse eval: 8.604211682658173\n",
      "Epoch: 60, mse train: 12.68655238969057, mse eval: 8.458035562406975\n",
      "Epoch: 70, mse train: 12.678423302144923, mse eval: 8.413956710623111\n",
      "Epoch: 80, mse train: 12.762350809191, mse eval: 8.475934940748058\n",
      "Epoch: 90, mse train: 12.942105058500859, mse eval: 8.646723628369887\n",
      "Training result:\n",
      "    mse train: 13.18271759894634\n",
      "    mse eval: 8.88891832503963\n"
     ]
    }
   ],
   "source": [
    "n_ml.train(X, Y, X1, Y1, 100, 10)"
   ]
  },
  {
   "cell_type": "markdown",
   "id": "c6b5da50-8a79-4ccc-bbe5-c2d9f719c5b4",
   "metadata": {},
   "source": [
    "Jak widać powyżej, MSE na zbiorze testowym osiągnęło wartość około $8.89$."
   ]
  },
  {
   "cell_type": "markdown",
   "id": "76d256d8-087a-429d-8759-0ab9ec8659b8",
   "metadata": {},
   "source": [
    "Wizualizacja predykcji na zbiorze treningowym"
   ]
  },
  {
   "cell_type": "code",
   "execution_count": 50,
   "id": "6d79139f-f307-4ad5-b759-f8cb3c5f500c",
   "metadata": {},
   "outputs": [
    {
     "data": {
      "image/png": "[encoded data removed]",
      "text/plain": [
       "<Figure size 432x288 with 1 Axes>"
      ]
     },
     "metadata": {
      "needs_background": "light"
     },
     "output_type": "display_data"
    }
   ],
   "source": [
    "plt.scatter(X, n_ml.forward(X), alpha = 0.5)\n",
    "plt.scatter(X, Y, color='red', alpha = 0.25)\n",
    "plt.show()"
   ]
  },
  {
   "cell_type": "markdown",
   "id": "76046ffe-ee18-4724-9b4c-01b882a375ef",
   "metadata": {},
   "source": [
    "Wizualizacja predykcji na zbiorze testowym"
   ]
  },
  {
   "cell_type": "code",
   "execution_count": 51,
   "id": "9ad78473-74cd-4de1-945d-615c0f27847f",
   "metadata": {},
   "outputs": [
    {
     "data": {
      "image/png": "[encoded data removed]",
      "text/plain": [
       "<Figure size 432x288 with 1 Axes>"
      ]
     },
     "metadata": {
      "needs_background": "light"
     },
     "output_type": "display_data"
    }
   ],
   "source": [
    "plt.scatter(X1, n_ml.forward(X1), alpha = 0.5)\n",
    "plt.scatter(X1, Y1, color='red', alpha = 0.25)\n",
    "plt.show()"
   ]
  },
  {
   "cell_type": "code",
   "execution_count": null,
   "id": "ddccc346-44f4-4cee-9ea0-a7960d24a5d5",
   "metadata": {},
   "outputs": [],
   "source": []
  },
  {
   "cell_type": "code",
   "execution_count": null,
   "id": "36e56fcc-4507-4a65-a499-2ae87bcdbbbd",
   "metadata": {},
   "outputs": [],
   "source": []
  }
 ],
 "metadata": {
  "kernelspec": {
   "display_name": "Python 3 (ipykernel)",
   "language": "python",
   "name": "python3"
  },
  "language_info": {
   "codemirror_mode": {
    "name": "ipython",
    "version": 3
   },
   "file_extension": ".py",
   "mimetype": "text/x-python",
   "name": "python",
   "nbconvert_exporter": "python",
   "pygments_lexer": "ipython3",
   "version": "3.7.11"
  }
 },
 "nbformat": 4,
 "nbformat_minor": 5
}
