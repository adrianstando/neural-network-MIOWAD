{
 "cells": [
  {
   "cell_type": "markdown",
   "id": "cb945a14-7763-492e-aaf5-8f9a0b738b10",
   "metadata": {},
   "source": [
    "# Praca domowa 2 - MIOWAD"
   ]
  },
  {
   "cell_type": "code",
   "execution_count": 1,
   "id": "d3201bf8-0d70-45f0-adaa-ac0c1313a137",
   "metadata": {},
   "outputs": [],
   "source": [
    "import pandas as pd\n",
    "import numpy as np\n",
    "import matplotlib.pyplot as plt"
   ]
  },
  {
   "cell_type": "code",
   "execution_count": 2,
   "id": "438d2938-af5e-4a64-b841-b87cfdd0c9da",
   "metadata": {},
   "outputs": [],
   "source": [
    "from NeuralNetwork.NeuralNetwork import Net, mse\n",
    "from NeuralNetwork.Layers import DenseNetLayer\n",
    "from NeuralNetwork.ActivationFunctions import SigmoidFunction, LinearFunction\n",
    "from NeuralNetwork.Initializers import RandomNormalInitializer\n",
    "from NeuralNetwork.Optimizers import SGD"
   ]
  },
  {
   "cell_type": "markdown",
   "id": "0c8d62bb-4798-4ee7-81cd-1014d858b49d",
   "metadata": {},
   "source": [
    "## Zbiór square-simple"
   ]
  },
  {
   "cell_type": "code",
   "execution_count": 3,
   "id": "4df5da22-a519-4318-aed4-226ed066967e",
   "metadata": {},
   "outputs": [
    {
     "data": {
      "text/html": [
       "<div>\n",
       "<style scoped>\n",
       "    .dataframe tbody tr th:only-of-type {\n",
       "        vertical-align: middle;\n",
       "    }\n",
       "\n",
       "    .dataframe tbody tr th {\n",
       "        vertical-align: top;\n",
       "    }\n",
       "\n",
       "    .dataframe thead th {\n",
       "        text-align: right;\n",
       "    }\n",
       "</style>\n",
       "<table border=\"1\" class=\"dataframe\">\n",
       "  <thead>\n",
       "    <tr style=\"text-align: right;\">\n",
       "      <th></th>\n",
       "      <th>x</th>\n",
       "      <th>y</th>\n",
       "    </tr>\n",
       "  </thead>\n",
       "  <tbody>\n",
       "    <tr>\n",
       "      <th>1</th>\n",
       "      <td>-0.171543</td>\n",
       "      <td>-127.351580</td>\n",
       "    </tr>\n",
       "    <tr>\n",
       "      <th>2</th>\n",
       "      <td>0.025201</td>\n",
       "      <td>-129.942844</td>\n",
       "    </tr>\n",
       "    <tr>\n",
       "      <th>3</th>\n",
       "      <td>-1.368991</td>\n",
       "      <td>38.672367</td>\n",
       "    </tr>\n",
       "    <tr>\n",
       "      <th>4</th>\n",
       "      <td>1.907390</td>\n",
       "      <td>197.432191</td>\n",
       "    </tr>\n",
       "    <tr>\n",
       "      <th>5</th>\n",
       "      <td>0.011129</td>\n",
       "      <td>-129.988852</td>\n",
       "    </tr>\n",
       "  </tbody>\n",
       "</table>\n",
       "</div>"
      ],
      "text/plain": [
       "          x           y\n",
       "1 -0.171543 -127.351580\n",
       "2  0.025201 -129.942844\n",
       "3 -1.368991   38.672367\n",
       "4  1.907390  197.432191\n",
       "5  0.011129 -129.988852"
      ]
     },
     "execution_count": 3,
     "metadata": {},
     "output_type": "execute_result"
    }
   ],
   "source": [
    "df = pd.read_csv(\"./data/regression/square-simple-training.csv\", index_col=0)\n",
    "df.head()"
   ]
  },
  {
   "cell_type": "code",
   "execution_count": 4,
   "id": "c113a2a0-1b90-4928-9dc0-100ee6c93c47",
   "metadata": {},
   "outputs": [],
   "source": [
    "X = df.x.to_numpy()\n",
    "X = np.transpose(np.array([X]))\n",
    "Y = df.y.to_numpy()\n",
    "Y = np.transpose(np.array([Y]))"
   ]
  },
  {
   "cell_type": "code",
   "execution_count": 5,
   "id": "02ebe26a-8e99-439c-94c4-10cbfb897ee9",
   "metadata": {},
   "outputs": [
    {
     "data": {
      "text/html": [
       "<div>\n",
       "<style scoped>\n",
       "    .dataframe tbody tr th:only-of-type {\n",
       "        vertical-align: middle;\n",
       "    }\n",
       "\n",
       "    .dataframe tbody tr th {\n",
       "        vertical-align: top;\n",
       "    }\n",
       "\n",
       "    .dataframe thead th {\n",
       "        text-align: right;\n",
       "    }\n",
       "</style>\n",
       "<table border=\"1\" class=\"dataframe\">\n",
       "  <thead>\n",
       "    <tr style=\"text-align: right;\">\n",
       "      <th></th>\n",
       "      <th>x</th>\n",
       "      <th>y</th>\n",
       "    </tr>\n",
       "  </thead>\n",
       "  <tbody>\n",
       "    <tr>\n",
       "      <th>1</th>\n",
       "      <td>-0.980437</td>\n",
       "      <td>-43.486918</td>\n",
       "    </tr>\n",
       "    <tr>\n",
       "      <th>2</th>\n",
       "      <td>-1.219074</td>\n",
       "      <td>3.752808</td>\n",
       "    </tr>\n",
       "    <tr>\n",
       "      <th>3</th>\n",
       "      <td>0.124243</td>\n",
       "      <td>-128.610721</td>\n",
       "    </tr>\n",
       "    <tr>\n",
       "      <th>4</th>\n",
       "      <td>1.227789</td>\n",
       "      <td>5.671828</td>\n",
       "    </tr>\n",
       "    <tr>\n",
       "      <th>5</th>\n",
       "      <td>1.067348</td>\n",
       "      <td>-27.469169</td>\n",
       "    </tr>\n",
       "  </tbody>\n",
       "</table>\n",
       "</div>"
      ],
      "text/plain": [
       "          x           y\n",
       "1 -0.980437  -43.486918\n",
       "2 -1.219074    3.752808\n",
       "3  0.124243 -128.610721\n",
       "4  1.227789    5.671828\n",
       "5  1.067348  -27.469169"
      ]
     },
     "execution_count": 5,
     "metadata": {},
     "output_type": "execute_result"
    }
   ],
   "source": [
    "df1 = pd.read_csv(\"./data/regression/square-simple-test.csv\", index_col=0)\n",
    "df1.head()"
   ]
  },
  {
   "cell_type": "code",
   "execution_count": 6,
   "id": "e55a1f76-eb75-4f33-96a4-4813fe9d2302",
   "metadata": {},
   "outputs": [],
   "source": [
    "X1 = df1.x.to_numpy()\n",
    "X1 = np.transpose(np.array([X1]))\n",
    "Y1 = df1.y.to_numpy()\n",
    "Y1 = np.transpose(np.array([Y1]))"
   ]
  },
  {
   "cell_type": "code",
   "execution_count": 7,
   "id": "6e84498b-d903-4adb-9ba9-37131dc4c1cc",
   "metadata": {},
   "outputs": [],
   "source": [
    "np.random.seed(0)"
   ]
  },
  {
   "cell_type": "code",
   "execution_count": 8,
   "id": "b7cbc9cc-7e43-4fb2-bba8-a271c0d895b1",
   "metadata": {},
   "outputs": [
    {
     "name": "stdout",
     "output_type": "stream",
     "text": [
      "Epoch: 0, mse train: 9873.515301896203, mse eval: 8400.40736004786\n",
      "Epoch: 100, mse train: 260.2762329760073, mse eval: 236.24516921946702\n",
      "Epoch: 200, mse train: 44.53096570817196, mse eval: 50.71178553774319\n",
      "Epoch: 300, mse train: 14.294268149266212, mse eval: 21.698171893480136\n",
      "Epoch: 400, mse train: 8.066770036175242, mse eval: 14.353303007898893\n",
      "Epoch: 500, mse train: 6.45216306918566, mse eval: 11.770340818192892\n",
      "Epoch: 600, mse train: 5.586475288015021, mse eval: 10.294990691913753\n",
      "Epoch: 700, mse train: 4.99715841648662, mse eval: 9.263423900136825\n",
      "Epoch: 800, mse train: 4.609427768025371, mse eval: 8.510110553249634\n",
      "Epoch: 900, mse train: 4.362296054314799, mse eval: 7.939157198036844\n",
      "Epoch: 1000, mse train: 4.194530858175921, mse eval: 7.478959288327855\n",
      "Epoch: 1100, mse train: 4.055098159029548, mse eval: 7.077591263334089\n",
      "Epoch: 1200, mse train: 3.9111092507040586, mse eval: 6.70311341026872\n",
      "Epoch: 1300, mse train: 3.74820848179139, mse eval: 6.340542161684382\n",
      "Epoch: 1400, mse train: 3.5647580060991326, mse eval: 5.98564025163438\n",
      "Epoch: 1500, mse train: 3.365241037297855, mse eval: 5.639211288778132\n",
      "Epoch: 1600, mse train: 3.1559792002936176, mse eval: 5.303698748162653\n",
      "Epoch: 1700, mse train: 2.9431557791436855, mse eval: 4.981697057079042\n",
      "Epoch: 1800, mse train: 2.73215722076719, mse eval: 4.6754674621531045\n",
      "Epoch: 1900, mse train: 2.527453516747124, mse eval: 4.386833366476072\n",
      "Epoch: 2000, mse train: 2.3326096869109723, mse eval: 4.117152545495168\n",
      "Epoch: 2100, mse train: 2.1502759356436583, mse eval: 3.8672647177582764\n",
      "Epoch: 2200, mse train: 1.9821520724745192, mse eval: 3.6374233501211655\n",
      "Epoch: 2300, mse train: 1.8289882605047398, mse eval: 3.4272666196085577\n",
      "Epoch: 2400, mse train: 1.6906780875452998, mse eval: 3.23587238633237\n",
      "Training result:    mse train: 1.5676236215800095     mse eval: 3.0635556792758267\n"
     ]
    }
   ],
   "source": [
    "n = Net(optimizer = SGD(learning_rate=0.0001))\n",
    "n.add_layer(DenseNetLayer(1, 5, SigmoidFunction(), RandomNormalInitializer()))\n",
    "n.add_layer(DenseNetLayer(5, 5, SigmoidFunction(), RandomNormalInitializer()))\n",
    "n.add_layer(DenseNetLayer(5, 1, LinearFunction(), RandomNormalInitializer()))\n",
    "n.train(X, Y, X1, Y1, n_epochs=2500, eval_frequency=100)"
   ]
  },
  {
   "cell_type": "markdown",
   "id": "64d42ca1-7de2-4136-9c21-2cc5a2bb4c8e",
   "metadata": {},
   "source": [
    "### Wizualizacja zbioru testowego i predykcji na zbiorze testowym"
   ]
  },
  {
   "cell_type": "code",
   "execution_count": 9,
   "id": "8a1269ae-5e44-465a-b35a-553c06614c4d",
   "metadata": {},
   "outputs": [
    {
     "data": {
      "image/png": "[encoded data removed]",
      "text/plain": [
       "<Figure size 432x288 with 1 Axes>"
      ]
     },
     "metadata": {
      "needs_background": "light"
     },
     "output_type": "display_data"
    }
   ],
   "source": [
    "plt.scatter(X1, n.forward(X1), alpha = 0.5)\n",
    "plt.scatter(X1, Y1, color='red', alpha = 0.25)\n",
    "plt.show()"
   ]
  },
  {
   "cell_type": "code",
   "execution_count": 10,
   "id": "327310be-aa30-4b94-9729-b6c354e4b0b1",
   "metadata": {},
   "outputs": [
    {
     "name": "stdout",
     "output_type": "stream",
     "text": [
      "MSE na zbiorze testowym wynosi: 3.0635556792758267\n"
     ]
    }
   ],
   "source": [
    "print(f\"MSE na zbiorze testowym wynosi: {mse(Y1, n.forward(X1))}\")"
   ]
  },
  {
   "cell_type": "code",
   "execution_count": null,
   "id": "7091c381-d043-4650-95dc-e0635abd70e0",
   "metadata": {},
   "outputs": [],
   "source": []
  },
  {
   "cell_type": "markdown",
   "id": "eead1736-2411-4dbc-8b4f-eafb06590a06",
   "metadata": {},
   "source": [
    "## Zbiór steps-small"
   ]
  },
  {
   "cell_type": "code",
   "execution_count": 1,
   "id": "e6495ece-19a7-4d82-945d-48f792fc53c3",
   "metadata": {},
   "outputs": [],
   "source": [
    "import pandas as pd\n",
    "import numpy as np\n",
    "import matplotlib.pyplot as plt"
   ]
  },
  {
   "cell_type": "code",
   "execution_count": 2,
   "id": "ce863bfb-fcdd-4f2c-a2a0-3d70a4326ea5",
   "metadata": {},
   "outputs": [],
   "source": [
    "from NeuralNetwork.NeuralNetwork import Net, mse\n",
    "from NeuralNetwork.Layers import DenseNetLayer\n",
    "from NeuralNetwork.ActivationFunctions import SigmoidFunction, LinearFunction\n",
    "from NeuralNetwork.Initializers import RandomNormalInitializer\n",
    "from NeuralNetwork.Optimizers import SGD"
   ]
  },
  {
   "cell_type": "code",
   "execution_count": 3,
   "id": "5de4466c-1a80-412d-bc36-92e9e5c53a56",
   "metadata": {},
   "outputs": [],
   "source": [
    "df = pd.read_csv(\"./data/regression/steps-small-training.csv\", index_col=0)\n",
    "X = df.x.to_numpy()\n",
    "X = np.transpose(np.array([X]))\n",
    "Y = df.y.to_numpy()\n",
    "Y = np.transpose(np.array([Y]))\n",
    "\n",
    "df1 = pd.read_csv(\"./data/regression/steps-small-test.csv\", index_col=0)\n",
    "X1 = df1.x.to_numpy()\n",
    "X1 = np.transpose(np.array([X1]))\n",
    "Y1 = df1.y.to_numpy()\n",
    "Y1 = np.transpose(np.array([Y1]))"
   ]
  },
  {
   "cell_type": "code",
   "execution_count": 4,
   "id": "c2762763-7118-44da-855e-2832d8827c6d",
   "metadata": {},
   "outputs": [],
   "source": [
    "np.random.seed(0)"
   ]
  },
  {
   "cell_type": "code",
   "execution_count": 5,
   "id": "6ee2cd0d-e0e0-4c3b-a16b-c10bf3d9ca73",
   "metadata": {},
   "outputs": [
    {
     "name": "stdout",
     "output_type": "stream",
     "text": [
      "Epoch: 0, mse train: 6703.2079401452165, mse eval: 8139.181210797073\n",
      "Epoch: 100, mse train: 610.2738798429514, mse eval: 763.777852058983\n",
      "Epoch: 200, mse train: 390.19069488106123, mse eval: 487.57742779718967\n",
      "Epoch: 300, mse train: 302.89857412730265, mse eval: 375.7814118210764\n",
      "Epoch: 400, mse train: 214.9587251896597, mse eval: 278.732054832763\n",
      "Epoch: 500, mse train: 159.44902534274638, mse eval: 228.40032507766384\n",
      "Epoch: 600, mse train: 125.73793886598125, mse eval: 201.08190034732795\n",
      "Epoch: 700, mse train: 102.69938227573422, mse eval: 182.15940639999732\n",
      "Epoch: 800, mse train: 85.27921500304683, mse eval: 167.19666209337657\n",
      "Epoch: 900, mse train: 71.65096720026239, mse eval: 155.53904573632374\n",
      "Epoch: 1000, mse train: 60.77371535162736, mse eval: 146.4943715428948\n",
      "Epoch: 1100, mse train: 51.842588779189526, mse eval: 139.24956549701847\n",
      "Epoch: 1200, mse train: 44.397429507365, mse eval: 133.32446702422274\n",
      "Epoch: 1300, mse train: 38.22183871845647, mse eval: 128.54626249382562\n",
      "Epoch: 1400, mse train: 33.151748772238335, mse eval: 124.79823175744042\n",
      "Epoch: 1500, mse train: 29.005359798590458, mse eval: 121.90962631386432\n",
      "Epoch: 1600, mse train: 25.60092766407735, mse eval: 119.68392754967397\n",
      "Epoch: 1700, mse train: 22.782779149809254, mse eval: 117.94671533420953\n",
      "Epoch: 1800, mse train: 20.428830944172024, mse eval: 116.56534967259898\n",
      "Epoch: 1900, mse train: 18.445825079240095, mse eval: 115.44627066134677\n",
      "Epoch: 2000, mse train: 16.762026003637736, mse eval: 114.5249133050505\n",
      "Epoch: 2100, mse train: 15.321448230632766, mse eval: 113.75628094595574\n",
      "Epoch: 2200, mse train: 14.0799251183535, mse eval: 113.10821099253519\n",
      "Epoch: 2300, mse train: 13.002382896103047, mse eval: 112.55700770465893\n",
      "Epoch: 2400, mse train: 12.060829820128802, mse eval: 112.08469684600948\n",
      "Epoch: 2500, mse train: 11.232814010595362, mse eval: 111.67730228759038\n",
      "Epoch: 2600, mse train: 10.500227715374859, mse eval: 111.32374566072596\n",
      "Epoch: 2700, mse train: 9.848380652085234, mse eval: 111.01512068819258\n",
      "Epoch: 2800, mse train: 9.26528262470078, mse eval: 110.74419359744874\n",
      "Epoch: 2900, mse train: 8.741087328324614, mse eval: 110.5050435359179\n",
      "Epoch: 3000, mse train: 8.267659636622891, mse eval: 110.29279389956278\n",
      "Epoch: 3100, mse train: 7.8382375248859795, mse eval: 110.10340617345523\n",
      "Epoch: 3200, mse train: 7.447166771178729, mse eval: 109.93351902220961\n",
      "Epoch: 3300, mse train: 7.089691853519656, mse eval: 109.78032136114362\n",
      "Epoch: 3400, mse train: 6.761790398068938, mse eval: 109.64145152359424\n",
      "Epoch: 3500, mse train: 6.460041489943881, mse eval: 109.51491672318559\n",
      "Epoch: 3600, mse train: 6.181520400804363, mse eval: 109.39902841658171\n",
      "Epoch: 3700, mse train: 5.923713999548229, mse eval: 109.29235018714313\n",
      "Epoch: 3800, mse train: 5.684452423015988, mse eval: 109.19365553097475\n",
      "Epoch: 3900, mse train: 5.461853586893859, mse eval: 109.10189350663445\n",
      "Epoch: 4000, mse train: 5.254277884882133, mse eval: 109.01616065570475\n",
      "Epoch: 4100, mse train: 5.060291012190998, mse eval: 108.93567794516598\n",
      "Epoch: 4200, mse train: 4.878633300378891, mse eval: 108.85977174862644\n",
      "Epoch: 4300, mse train: 4.708194297304467, mse eval: 108.78785808979805\n",
      "Epoch: 4400, mse train: 4.547991593486554, mse eval: 108.71942953246602\n",
      "Epoch: 4500, mse train: 4.397153103373131, mse eval: 108.65404422647487\n",
      "Epoch: 4600, mse train: 4.254902171184803, mse eval: 108.59131671763201\n",
      "Epoch: 4700, mse train: 4.120544996923598, mse eval: 108.53091020692005\n",
      "Epoch: 4800, mse train: 3.993459976964073, mse eval: 108.4725300050888\n",
      "Epoch: 4900, mse train: 3.8730886315771538, mse eval: 108.41591797744178\n",
      "Training result:\n",
      "    mse train: 3.7600402483362747\n",
      "    mse eval: 108.36139155435876\n"
     ]
    }
   ],
   "source": [
    "n = Net(optimizer = SGD(learning_rate=0.0001))\n",
    "n.add_layer(DenseNetLayer(1, 5, SigmoidFunction(), RandomNormalInitializer()))\n",
    "n.add_layer(DenseNetLayer(5, 5, SigmoidFunction(), RandomNormalInitializer()))\n",
    "n.add_layer(DenseNetLayer(5, 1, LinearFunction(), RandomNormalInitializer()))\n",
    "n.train(X, Y, X1, Y1, 5000, 100)"
   ]
  },
  {
   "cell_type": "code",
   "execution_count": 6,
   "id": "0a942c42-afed-47d9-9572-c19c7b5f08a8",
   "metadata": {},
   "outputs": [
    {
     "data": {
      "image/png": "[encoded data removed]",
      "text/plain": [
       "<Figure size 432x288 with 1 Axes>"
      ]
     },
     "metadata": {
      "needs_background": "light"
     },
     "output_type": "display_data"
    }
   ],
   "source": [
    "plt.scatter(X, n.forward(X))\n",
    "plt.scatter(X, Y, color='red')\n",
    "plt.show()"
   ]
  },
  {
   "cell_type": "markdown",
   "id": "ef3fc1ff-481c-49bc-9e2d-f48a2486e077",
   "metadata": {},
   "source": [
    "### Wizualizacja zbioru testowego i predykcji na zbiorze testowym"
   ]
  },
  {
   "cell_type": "code",
   "execution_count": 7,
   "id": "7316dd7d-025d-4162-ae1f-120ca482aea5",
   "metadata": {},
   "outputs": [
    {
     "data": {
      "image/png": "[encoded data removed]",
      "text/plain": [
       "<Figure size 432x288 with 1 Axes>"
      ]
     },
     "metadata": {
      "needs_background": "light"
     },
     "output_type": "display_data"
    }
   ],
   "source": [
    "plt.scatter(X1, n.forward(X1))\n",
    "plt.scatter(X1, Y1, color='red')\n",
    "plt.show()"
   ]
  },
  {
   "cell_type": "code",
   "execution_count": 8,
   "id": "037377a2-c84e-4224-bdd4-fa5393dbf977",
   "metadata": {},
   "outputs": [
    {
     "name": "stdout",
     "output_type": "stream",
     "text": [
      "MSE na zbiorze treningowym wynosi: 3.7600402483362747\n"
     ]
    }
   ],
   "source": [
    "print(f\"MSE na zbiorze treningowym wynosi: {mse(Y, n.forward(X))}\")"
   ]
  },
  {
   "cell_type": "code",
   "execution_count": 9,
   "id": "0b3abd47-83f9-4cd4-8ecd-ef0a9edd584f",
   "metadata": {},
   "outputs": [
    {
     "name": "stdout",
     "output_type": "stream",
     "text": [
      "MSE na zbiorze testowym wynosi: 108.36139155435876\n"
     ]
    }
   ],
   "source": [
    "print(f\"MSE na zbiorze testowym wynosi: {mse(Y1, n.forward(X1))}\")"
   ]
  },
  {
   "cell_type": "markdown",
   "id": "417c4aa3-fe76-4189-983c-5fbffdd04c95",
   "metadata": {},
   "source": [
    "Sieć powyżej nie mogła się nauczyć, aby MSE na zbiorze testowym spadło do poziomu 4.\n",
    "\n",
    "Wynika to z tego, że w zbiorze testowym znajdują się punkty, które znajdują się pomiędzy punktami w zbiorze treningowym, które są na różnych poziomach. Nic zatem dziwnego, że te punkty dostają predykcję pomiędzy skokami.\n",
    "\n",
    "Jednakże, jeśli do zbioru treningowego dodamy dwa punkty:\n",
    "\n",
    "`\"51\",-0.432491056621075,0`\n",
    "\n",
    "`\"52\",0.551153895677999,80`\n",
    "\n",
    "to sytuacja wygląda jak poniżej, czyli sieć się bardzo dobrze dopasowuje, a mse na zbiorze testowym osiąga wartość poniżej 4."
   ]
  },
  {
   "cell_type": "markdown",
   "id": "6a625b36-3ec9-479f-9b6e-1037c4249407",
   "metadata": {},
   "source": [
    "#### Steps-small z dwoma dodanymi punktami do zbioru treningowego"
   ]
  },
  {
   "cell_type": "code",
   "execution_count": 1,
   "id": "ff765297-a46a-4d20-b779-eac18895d7d4",
   "metadata": {},
   "outputs": [],
   "source": [
    "import pandas as pd\n",
    "import numpy as np\n",
    "import matplotlib.pyplot as plt"
   ]
  },
  {
   "cell_type": "code",
   "execution_count": 2,
   "id": "79522efc-eea8-4a69-93bc-bfc2dfb44770",
   "metadata": {},
   "outputs": [],
   "source": [
    "from NeuralNetwork.NeuralNetwork import Net, mse\n",
    "from NeuralNetwork.Layers import DenseNetLayer\n",
    "from NeuralNetwork.ActivationFunctions import SigmoidFunction, LinearFunction\n",
    "from NeuralNetwork.Initializers import RandomNormalInitializer\n",
    "from NeuralNetwork.Optimizers import SGD"
   ]
  },
  {
   "cell_type": "code",
   "execution_count": 3,
   "id": "0f46b3a0-86a4-4505-98b5-c78de04d2da4",
   "metadata": {},
   "outputs": [],
   "source": [
    "df = pd.read_csv(\"./data/regression/steps-small-training-modified.csv\", index_col=0)\n",
    "X = df.x.to_numpy()\n",
    "X = np.transpose(np.array([X]))\n",
    "Y = df.y.to_numpy()\n",
    "Y = np.transpose(np.array([Y]))\n",
    "\n",
    "df1 = pd.read_csv(\"./data/regression/steps-small-test.csv\", index_col=0)\n",
    "X1 = df1.x.to_numpy()\n",
    "X1 = np.transpose(np.array([X1]))\n",
    "Y1 = df1.y.to_numpy()\n",
    "Y1 = np.transpose(np.array([Y1]))"
   ]
  },
  {
   "cell_type": "code",
   "execution_count": 11,
   "id": "d111871b-6362-4303-920b-103d6c169b2a",
   "metadata": {},
   "outputs": [],
   "source": [
    "np.random.seed(0)"
   ]
  },
  {
   "cell_type": "code",
   "execution_count": 12,
   "id": "9525f92a-d73a-441d-8150-e50a24c65de3",
   "metadata": {},
   "outputs": [
    {
     "name": "stdout",
     "output_type": "stream",
     "text": [
      "Epoch: 0, mse train: 6571.34983308913, mse eval: 8135.074075003786\n",
      "Epoch: 100, mse train: 678.4826247193382, mse eval: 748.5597632447054\n",
      "Epoch: 200, mse train: 472.07539821768154, mse eval: 461.6419418379031\n",
      "Epoch: 300, mse train: 381.58817670193423, mse eval: 342.6101254037623\n",
      "Epoch: 400, mse train: 298.1762002178451, mse eval: 233.35440945863536\n",
      "Epoch: 500, mse train: 244.4285694765929, mse eval: 172.96757581709724\n",
      "Epoch: 600, mse train: 210.20243702752302, mse eval: 138.1818521909641\n",
      "Epoch: 700, mse train: 184.9546616646248, mse eval: 113.54131050464107\n",
      "Epoch: 800, mse train: 164.55977894204165, mse eval: 94.06019167262326\n",
      "Epoch: 900, mse train: 147.50926196135939, mse eval: 78.5093646517517\n",
      "Epoch: 1000, mse train: 132.7899914405284, mse eval: 66.06052042397856\n",
      "Epoch: 1100, mse train: 119.72522527493949, mse eval: 55.926211792237844\n",
      "Epoch: 1200, mse train: 108.0339552700332, mse eval: 47.57723612000662\n",
      "Epoch: 1300, mse train: 97.64228124925327, mse eval: 40.737138797338886\n",
      "Epoch: 1400, mse train: 88.47615667300138, mse eval: 35.2014566583842\n",
      "Epoch: 1500, mse train: 80.40174093848911, mse eval: 30.743314751297426\n",
      "Epoch: 1600, mse train: 73.25805504620156, mse eval: 27.131242476113233\n",
      "Epoch: 1700, mse train: 66.89235069759523, mse eval: 24.167142962962107\n",
      "Epoch: 1800, mse train: 61.170875550870775, mse eval: 21.700154632402185\n",
      "Epoch: 1900, mse train: 55.97670881038151, mse eval: 19.621505892863834\n",
      "Epoch: 2000, mse train: 51.20658428324771, mse eval: 17.85385452444742\n",
      "Epoch: 2100, mse train: 46.76985289896247, mse eval: 16.34178200100333\n",
      "Epoch: 2200, mse train: 42.58957271348907, mse eval: 15.044942678363505\n",
      "Epoch: 2300, mse train: 38.60680139450073, mse eval: 13.933448486986904\n",
      "Epoch: 2400, mse train: 34.79076527985323, mse eval: 12.98446368461422\n",
      "Epoch: 2500, mse train: 31.15524113943919, mse eval: 12.178695219907281\n",
      "Epoch: 2600, mse train: 27.768096115253723, mse eval: 11.496060769593539\n",
      "Epoch: 2700, mse train: 24.725637992106538, mse eval: 10.912715890617738\n",
      "Epoch: 2800, mse train: 22.093571154597246, mse eval: 10.403419065864533\n",
      "Epoch: 2900, mse train: 19.87248074840013, mse eval: 9.947286881620466\n",
      "Epoch: 3000, mse train: 18.014688714986615, mse eval: 9.530495375169574\n",
      "Epoch: 3100, mse train: 16.45671509047928, mse eval: 9.144937842552137\n",
      "Epoch: 3200, mse train: 15.139078052284553, mse eval: 8.785874240778337\n",
      "Epoch: 3300, mse train: 14.012843720143865, mse eval: 8.450278319049382\n",
      "Epoch: 3400, mse train: 13.039779396827619, mse eval: 8.13596625735559\n",
      "Epoch: 3500, mse train: 12.19051329252509, mse eval: 7.841185822638351\n",
      "Epoch: 3600, mse train: 11.442491750701892, mse eval: 7.564428220009921\n",
      "Epoch: 3700, mse train: 10.778269512683847, mse eval: 7.304341606688144\n",
      "Epoch: 3800, mse train: 10.18420649517477, mse eval: 7.059690855758894\n",
      "Epoch: 3900, mse train: 9.649508921208325, mse eval: 6.829338268693359\n",
      "Epoch: 4000, mse train: 9.165531262688157, mse eval: 6.612233441108999\n",
      "Epoch: 4100, mse train: 8.725267424987718, mse eval: 6.4074068178460815\n",
      "Epoch: 4200, mse train: 8.322977241574073, mse eval: 6.213964533529617\n",
      "Epoch: 4300, mse train: 7.953909588015657, mse eval: 6.031083590431184\n",
      "Epoch: 4400, mse train: 7.614094853776313, mse eval: 5.858007079265736\n",
      "Epoch: 4500, mse train: 7.300187630019095, mse eval: 5.694039414489144\n",
      "Epoch: 4600, mse train: 7.009346123335785, mse eval: 5.538541644833964\n",
      "Epoch: 4700, mse train: 6.739138718366328, mse eval: 5.39092691450463\n",
      "Epoch: 4800, mse train: 6.487470827678328, mse eval: 5.250656137721585\n",
      "Epoch: 4900, mse train: 6.25252706319315, mse eval: 5.117233929442509\n",
      "Training result:\n",
      "    mse train: 6.03485286465342\n",
      "    mse eval: 4.991444866098952\n"
     ]
    }
   ],
   "source": [
    "n = Net(optimizer = SGD(learning_rate=0.0001))\n",
    "n.add_layer(DenseNetLayer(1, 5, SigmoidFunction(), RandomNormalInitializer()))\n",
    "n.add_layer(DenseNetLayer(5, 5, SigmoidFunction(), RandomNormalInitializer()))\n",
    "n.add_layer(DenseNetLayer(5, 1, LinearFunction(), RandomNormalInitializer()))\n",
    "n.train(X, Y, X1, Y1, 5000, 100)"
   ]
  },
  {
   "cell_type": "code",
   "execution_count": 13,
   "id": "fcde96c6-26a9-4fbd-a425-de743f5f52ab",
   "metadata": {},
   "outputs": [
    {
     "name": "stdout",
     "output_type": "stream",
     "text": [
      "Epoch: 0, mse train: 6.032725098179369, mse eval: 4.9902048162495936\n",
      "Epoch: 100, mse train: 5.826678537263533, mse eval: 4.869149736205397\n",
      "Training result:\n",
      "    mse train: 5.635043513227185\n",
      "    mse eval: 4.754811024357673\n"
     ]
    }
   ],
   "source": [
    "n.train(X, Y, X1, Y1, 200, 100)"
   ]
  },
  {
   "cell_type": "code",
   "execution_count": 14,
   "id": "dde64dbd-f50e-42dd-a3fe-e18df7d5f5b5",
   "metadata": {},
   "outputs": [
    {
     "name": "stdout",
     "output_type": "stream",
     "text": [
      "Epoch: 0, mse train: 5.633166792520269, mse eval: 4.753682825343627\n",
      "Epoch: 100, mse train: 5.451110456965295, mse eval: 4.643448480847067\n",
      "Epoch: 200, mse train: 5.279551027825093, mse eval: 4.5381186861644105\n",
      "Epoch: 300, mse train: 5.11763409876451, mse eval: 4.4373905806075955\n",
      "Epoch: 400, mse train: 4.964595339270966, mse eval: 4.340984254743574\n",
      "Epoch: 500, mse train: 4.819748729176822, mse eval: 4.248640752713824\n",
      "Epoch: 600, mse train: 4.6824766300005525, mse eval: 4.160120263082443\n",
      "Epoch: 700, mse train: 4.55222136180063, mse eval: 4.075200480732452\n",
      "Epoch: 800, mse train: 4.4284780213541195, mse eval: 3.99367512345743\n",
      "Epoch: 900, mse train: 4.310788329619895, mse eval: 3.9153525881669067\n",
      "Training result:\n",
      "    mse train: 4.199829242300895\n",
      "    mse eval: 3.840793293377812\n"
     ]
    }
   ],
   "source": [
    "n.train(X, Y, X1, Y1, 1000, 100)"
   ]
  },
  {
   "cell_type": "code",
   "execution_count": 15,
   "id": "1658059d-d287-48a8-9fff-7de2d4fe927c",
   "metadata": {},
   "outputs": [
    {
     "data": {
      "image/png": "[encoded data removed]",
      "text/plain": [
       "<Figure size 432x288 with 1 Axes>"
      ]
     },
     "metadata": {
      "needs_background": "light"
     },
     "output_type": "display_data"
    }
   ],
   "source": [
    "plt.scatter(X, n.forward(X))\n",
    "plt.scatter(X, Y, color='red')\n",
    "plt.show()"
   ]
  },
  {
   "cell_type": "markdown",
   "id": "80b512c5-45a9-4671-9652-628615de7ffc",
   "metadata": {},
   "source": [
    "### Wizualizacja zbioru testowego i predykcji na zbiorze testowym"
   ]
  },
  {
   "cell_type": "code",
   "execution_count": 16,
   "id": "ad8d662d-4f9e-44f8-ae1e-3f6beb3ece88",
   "metadata": {},
   "outputs": [
    {
     "data": {
      "image/png": "[encoded data removed]",
      "text/plain": [
       "<Figure size 432x288 with 1 Axes>"
      ]
     },
     "metadata": {
      "needs_background": "light"
     },
     "output_type": "display_data"
    }
   ],
   "source": [
    "plt.scatter(X1, n.forward(X1))\n",
    "plt.scatter(X1, Y1, color='red')\n",
    "plt.show()"
   ]
  },
  {
   "cell_type": "code",
   "execution_count": 17,
   "id": "a05ebffc-8cd2-4e37-ab88-5838efd73953",
   "metadata": {},
   "outputs": [
    {
     "name": "stdout",
     "output_type": "stream",
     "text": [
      "MSE na zbiorze testowym wynosi: 3.840793293377812\n"
     ]
    }
   ],
   "source": [
    "print(f\"MSE na zbiorze testowym wynosi: {mse(Y1, n.forward(X1))}\")"
   ]
  },
  {
   "cell_type": "code",
   "execution_count": null,
   "id": "944a9b3f-6cb6-476d-a3d8-7c274f854bb8",
   "metadata": {},
   "outputs": [],
   "source": []
  },
  {
   "cell_type": "markdown",
   "id": "3ecab4f0",
   "metadata": {
    "cell_id": "68441ae8-fe45-44cc-91b5-4bce4e330133",
    "deepnote_cell_height": 70,
    "deepnote_cell_type": "markdown",
    "tags": []
   },
   "source": [
    "## Zbiór multimodal-large"
   ]
  },
  {
   "cell_type": "code",
   "execution_count": 60,
   "id": "d4ca17e4",
   "metadata": {
    "cell_id": "28e82755-9240-4073-91db-799cf415cc2d",
    "deepnote_cell_height": 225,
    "deepnote_cell_type": "code",
    "deepnote_to_be_reexecuted": false,
    "execution_millis": 13,
    "execution_start": 1647530463464,
    "source_hash": "5434ee24",
    "tags": []
   },
   "outputs": [],
   "source": [
    "import pandas as pd\n",
    "import numpy as np\n",
    "import matplotlib.pyplot as plt\n",
    "\n",
    "from NeuralNetwork.NeuralNetwork import Net, mse\n",
    "from NeuralNetwork.Layers import DenseNetLayer\n",
    "from NeuralNetwork.ActivationFunctions import SigmoidFunction, LinearFunction\n",
    "from NeuralNetwork.Initializers import RandomNormalInitializer\n",
    "from NeuralNetwork.Optimizers import SGD, GradientDescentBatch"
   ]
  },
  {
   "cell_type": "code",
   "execution_count": null,
   "id": "d9d6d745",
   "metadata": {
    "cell_id": "c568090b-2dd7-40ef-9b21-eb6ca2baf590",
    "deepnote_cell_height": 282,
    "deepnote_cell_type": "code",
    "tags": []
   },
   "outputs": [],
   "source": [
    "df = pd.read_csv(\"./data/regression/multimodal-large-training.csv\")\n",
    "df.head()\n",
    "X = df.x.to_numpy()\n",
    "X = np.transpose(np.array([X]))\n",
    "Y = df.y.to_numpy()\n",
    "Y = np.transpose(np.array([Y]))\n",
    "\n",
    "df1 = pd.read_csv(\"./data/regression/multimodal-large-test.csv\")\n",
    "df1.head()\n",
    "X1 = df1.x.to_numpy()\n",
    "X1 = np.transpose(np.array([X1]))\n",
    "Y1 = df1.y.to_numpy()\n",
    "Y1 = np.transpose(np.array([Y1]))"
   ]
  },
  {
   "cell_type": "code",
   "execution_count": 103,
   "id": "c768b6b6",
   "metadata": {
    "cell_id": "b264b648-8c95-44b2-a206-e484c042bbe7",
    "deepnote_cell_height": 431.6000061035156,
    "deepnote_cell_type": "code",
    "deepnote_to_be_reexecuted": false,
    "execution_millis": 1006173,
    "execution_start": 1647537647504,
    "source_hash": "6ae5a387",
    "tags": []
   },
   "outputs": [
    {
     "name": "stdout",
     "output_type": "stream",
     "text": [
      "Epoch: 0, mse train: 5131.097317205889, mse eval: 5176.673155503554\n",
      "Epoch: 10, mse train: 2212.165094328029, mse eval: 2260.6323059691276\n",
      "Epoch: 20, mse train: 1780.0871757235934, mse eval: 1801.6287252303698\n",
      "Epoch: 30, mse train: 1550.2118213004478, mse eval: 1566.8189515544889\n",
      "Epoch: 40, mse train: 1496.1835190566012, mse eval: 1511.4717774590408\n",
      "Epoch: 50, mse train: 1480.4003356530977, mse eval: 1495.6885887042638\n",
      "Epoch: 60, mse train: 1452.018474353806, mse eval: 1477.233288357692\n",
      "Epoch: 70, mse train: 864.653946317667, mse eval: 905.3595894392727\n",
      "Epoch: 80, mse train: 612.9848722458863, mse eval: 642.1097148361595\n",
      "Epoch: 90, mse train: 420.5321879782074, mse eval: 459.2827225047249\n",
      "Training result:\n",
      "    mse train: 366.99959048988063\n",
      "    mse eval: 407.0447984798768\n"
     ]
    }
   ],
   "source": [
    "np.random.seed(0)\n",
    "n1 = Net(optimizer = GradientDescentBatch(learning_rate=0.00001, batch_size=64))\n",
    "n1.add_layer(DenseNetLayer(1, 20, SigmoidFunction(), RandomNormalInitializer()))\n",
    "n1.add_layer(DenseNetLayer(20, 5, SigmoidFunction(), RandomNormalInitializer()))\n",
    "n1.add_layer(DenseNetLayer(5, 1, LinearFunction(), RandomNormalInitializer()))\n",
    "n1.train(X, Y, X1, Y1, 100, 10)"
   ]
  },
  {
   "cell_type": "code",
   "execution_count": 104,
   "id": "0a9c0677",
   "metadata": {
    "cell_id": "4420f437-f185-4f3d-b760-de1f9d21e353",
    "deepnote_cell_height": 367.6000061035156,
    "deepnote_cell_type": "code",
    "deepnote_to_be_reexecuted": false,
    "execution_millis": 1344906,
    "execution_start": 1647539557939,
    "source_hash": "39d7ac8",
    "tags": []
   },
   "outputs": [
    {
     "name": "stdout",
     "output_type": "stream",
     "text": [
      "Epoch: 0, mse train: 366.112700811959, mse eval: 406.1528746508397\n",
      "Epoch: 10, mse train: 364.5873249599401, mse eval: 404.3725319538366\n",
      "Epoch: 20, mse train: 365.55270062726566, mse eval: 405.02604034619986\n",
      "Epoch: 30, mse train: 365.1941300019297, mse eval: 404.4594271791191\n",
      "Epoch: 40, mse train: 363.76064993529815, mse eval: 402.8508800715908\n",
      "Epoch: 50, mse train: 361.99074997206685, mse eval: 400.9702691371719\n",
      "Epoch: 60, mse train: 359.70986047145186, mse eval: 398.6846707519817\n",
      "Epoch: 70, mse train: 354.61198728350934, mse eval: 393.7302337460221\n",
      "Epoch: 80, mse train: 342.22841824662913, mse eval: 381.0403463226949\n",
      "Epoch: 90, mse train: 328.15819404234725, mse eval: 365.6410076067416\n",
      "Training result:\n",
      "    mse train: 311.39582435295006\n",
      "    mse eval: 345.52812063819005\n"
     ]
    }
   ],
   "source": [
    "n1.train(X, Y, X1, Y1, 100, 10)"
   ]
  },
  {
   "cell_type": "code",
   "execution_count": 105,
   "id": "81612fc5",
   "metadata": {
    "cell_id": "c1109649-cdbf-4354-a5c6-768b47b1e852",
    "deepnote_cell_height": 341.6000061035156,
    "deepnote_cell_type": "code",
    "deepnote_to_be_reexecuted": false,
    "execution_millis": 1347637,
    "execution_start": 1647541220750,
    "source_hash": "39d7ac8",
    "tags": []
   },
   "outputs": [
    {
     "name": "stdout",
     "output_type": "stream",
     "text": [
      "Epoch: 0, mse train: 309.10576801678974, mse eval: 342.7237566758646\n",
      "Epoch: 10, mse train: 285.7925888753196, mse eval: 313.607821205799\n",
      "Epoch: 20, mse train: 265.1515112282659, mse eval: 286.8747432976136\n",
      "Epoch: 30, mse train: 244.59989942815295, mse eval: 260.9934651118939\n",
      "Epoch: 40, mse train: 222.9920234759293, mse eval: 235.86667992054356\n",
      "Epoch: 50, mse train: 200.89430072444495, mse eval: 212.1251966227569\n",
      "Epoch: 60, mse train: 179.855297960779, mse eval: 190.27748258532367\n",
      "Epoch: 70, mse train: 160.92799846004945, mse eval: 170.29214235911493\n",
      "Epoch: 80, mse train: 144.08510477396985, mse eval: 152.0196472042521\n",
      "Epoch: 90, mse train: 127.69880284900648, mse eval: 135.71502155506954\n",
      "Training result:\n",
      "    mse train: 120.24873541644928\n",
      "    mse eval: 129.7220836239288\n"
     ]
    }
   ],
   "source": [
    "n1.train(X, Y, X1, Y1, 100, 10)"
   ]
  },
  {
   "cell_type": "code",
   "execution_count": 106,
   "id": "f807026e",
   "metadata": {
    "cell_id": "3d6c6cb8-e17f-4858-a7ac-fba390e67338",
    "deepnote_cell_height": 341.6000061035156,
    "deepnote_cell_type": "code",
    "deepnote_to_be_reexecuted": false,
    "execution_millis": 1325794,
    "execution_start": 1647542568399,
    "source_hash": "39d7ac8",
    "tags": []
   },
   "outputs": [
    {
     "name": "stdout",
     "output_type": "stream",
     "text": [
      "Epoch: 0, mse train: 119.11721077118563, mse eval: 128.50852285347258\n",
      "Epoch: 10, mse train: 106.88070600831045, mse eval: 115.08140106961665\n",
      "Epoch: 20, mse train: 94.55971301212824, mse eval: 101.43019929721318\n",
      "Epoch: 30, mse train: 83.22530741136895, mse eval: 88.85769683179204\n",
      "Epoch: 40, mse train: 73.29410007529185, mse eval: 77.86866162294038\n",
      "Epoch: 50, mse train: 64.95045824375039, mse eval: 68.65396462007384\n",
      "Epoch: 60, mse train: 58.15656259512919, mse eval: 61.134256005763945\n",
      "Epoch: 70, mse train: 52.60013420426098, mse eval: 54.938968872676554\n",
      "Epoch: 80, mse train: 47.840392705684785, mse eval: 49.57845285584312\n",
      "Epoch: 90, mse train: 43.51592125321509, mse eval: 44.66724045500794\n",
      "Training result:\n",
      "    mse train: 39.866931352625144\n",
      "    mse eval: 40.50160625524599\n"
     ]
    }
   ],
   "source": [
    "n1.train(X, Y, X1, Y1, 100, 10)"
   ]
  },
  {
   "cell_type": "code",
   "execution_count": 107,
   "id": "e1421616",
   "metadata": {
    "cell_id": "0426e56d-56a1-4f69-ba8e-8431128ff155",
    "deepnote_cell_height": 341.6000061035156,
    "deepnote_cell_type": "code",
    "deepnote_to_be_reexecuted": false,
    "execution_millis": 1312809,
    "execution_start": 1647543904649,
    "source_hash": "39d7ac8",
    "tags": []
   },
   "outputs": [
    {
     "name": "stdout",
     "output_type": "stream",
     "text": [
      "Epoch: 0, mse train: 39.47515915542461, mse eval: 40.05341303482493\n",
      "Epoch: 10, mse train: 35.72428311443784, mse eval: 35.753659703224294\n",
      "Epoch: 20, mse train: 32.311103833798214, mse eval: 31.827039821435946\n",
      "Epoch: 30, mse train: 29.26538203507521, mse eval: 28.310493488264996\n",
      "Epoch: 40, mse train: 26.588748867050523, mse eval: 25.208145768543\n",
      "Epoch: 50, mse train: 24.262231603118387, mse eval: 22.500206468876602\n",
      "Epoch: 60, mse train: 22.255856465920534, mse eval: 20.15410195492938\n",
      "Epoch: 70, mse train: 20.53566552073698, mse eval: 18.13253987936321\n",
      "Epoch: 80, mse train: 19.06777561961761, mse eval: 16.398145322071027\n",
      "Epoch: 90, mse train: 17.820451042479842, mse eval: 14.915816936246062\n",
      "Training result:\n",
      "    mse train: 16.862645142656703\n",
      "    mse eval: 13.770845872069446\n"
     ]
    }
   ],
   "source": [
    "n1.train(X, Y, X1, Y1, 100, 10)"
   ]
  },
  {
   "cell_type": "code",
   "execution_count": 110,
   "id": "3dafdf0f",
   "metadata": {
    "cell_id": "0be043da-f49b-40d4-8e13-1cac5b8523a2",
    "deepnote_cell_height": 135,
    "deepnote_cell_type": "code",
    "deepnote_output_heights": [
     2
    ],
    "deepnote_to_be_reexecuted": false,
    "execution_millis": 2502,
    "execution_start": 1647545219077,
    "source_hash": "4bb2ee46",
    "tags": []
   },
   "outputs": [
    {
     "data": {
      "image/png": "[encoded data removed]",
      "text/plain": [
       "<Figure size 432x288 with 1 Axes>"
      ]
     },
     "metadata": {
      "image/png": {
       "height": 248,
       "width": 383
      },
      "needs_background": "light"
     },
     "output_type": "display_data"
    }
   ],
   "source": [
    "plt.scatter(X, n1.forward(X))\n",
    "plt.scatter(X, Y, color='red')\n",
    "plt.show()"
   ]
  },
  {
   "cell_type": "markdown",
   "id": "a47ac23f",
   "metadata": {},
   "source": [
    "### Wizualizacja zbioru testowego i predykcji na zbiorze testowym"
   ]
  },
  {
   "cell_type": "code",
   "execution_count": 111,
   "id": "1346ce0e",
   "metadata": {
    "cell_id": "04482e7a-d9dd-4eab-b88d-3b837061948e",
    "deepnote_cell_height": 135,
    "deepnote_cell_type": "code",
    "deepnote_output_heights": [
     2
    ],
    "deepnote_to_be_reexecuted": false,
    "execution_millis": 577,
    "execution_start": 1647545221603,
    "source_hash": "e8a9d94",
    "tags": []
   },
   "outputs": [
    {
     "data": {
      "image/png": "[encoded data removed]",
      "text/plain": [
       "<Figure size 432x288 with 1 Axes>"
      ]
     },
     "metadata": {
      "image/png": {
       "height": 248,
       "width": 383
      },
      "needs_background": "light"
     },
     "output_type": "display_data"
    }
   ],
   "source": [
    "plt.scatter(X1, n1.forward(X1))\n",
    "plt.scatter(X1, Y1, color='red')\n",
    "plt.show()"
   ]
  },
  {
   "cell_type": "code",
   "execution_count": 114,
   "id": "e6f00d93",
   "metadata": {
    "cell_id": "c26129e8-7d95-4737-8557-fee2d33529a3",
    "deepnote_cell_height": 111.19999694824219,
    "deepnote_cell_type": "code",
    "deepnote_to_be_reexecuted": false,
    "execution_millis": 542,
    "execution_start": 1647548062327,
    "source_hash": "b3eb8b6f",
    "tags": []
   },
   "outputs": [
    {
     "name": "stdout",
     "output_type": "stream",
     "text": [
      "MSE na zbiorze testowym wynosi: 13.770845872069446\n"
     ]
    }
   ],
   "source": [
    "print(f\"MSE na zbiorze testowym wynosi: {mse(Y1, n1.forward(X1))}\")"
   ]
  },
  {
   "cell_type": "code",
   "execution_count": null,
   "id": "948c1420",
   "metadata": {
    "cell_id": "a9db5341-c6f9-4b77-8338-d5f55527caa6",
    "deepnote_cell_height": 66,
    "deepnote_cell_type": "code",
    "tags": []
   },
   "outputs": [],
   "source": []
  },
  {
   "cell_type": "markdown",
   "id": "055e7ae5-5683-49ff-be8f-dbc1ea1bff9c",
   "metadata": {},
   "source": [
    "## Wizualizacja zmiany wartości wag w kolejnych iteracjach"
   ]
  },
  {
   "cell_type": "markdown",
   "id": "55e6bc66-f503-4f84-a43c-f93b7b353b90",
   "metadata": {},
   "source": [
    "### Zbiór square-simple"
   ]
  },
  {
   "cell_type": "code",
   "execution_count": 1,
   "id": "d08346c8-a319-4cc3-aec0-77e8abcc5930",
   "metadata": {},
   "outputs": [],
   "source": [
    "import pandas as pd\n",
    "import numpy as np\n",
    "import matplotlib.pyplot as plt"
   ]
  },
  {
   "cell_type": "code",
   "execution_count": 2,
   "id": "9d921157-fb8d-4d03-b146-4d6945ea8f97",
   "metadata": {},
   "outputs": [],
   "source": [
    "from NeuralNetwork.NeuralNetwork import Net, mse\n",
    "from NeuralNetwork.Layers import DenseNetLayer\n",
    "from NeuralNetwork.ActivationFunctions import SigmoidFunction, LinearFunction\n",
    "from NeuralNetwork.Initializers import RandomNormalInitializer\n",
    "from NeuralNetwork.Optimizers import SGD"
   ]
  },
  {
   "cell_type": "code",
   "execution_count": 3,
   "id": "d932d42e-3307-4e65-b109-2dc4ba17606b",
   "metadata": {},
   "outputs": [],
   "source": [
    "df = pd.read_csv(\"./data/regression/square-simple-training.csv\", index_col=0)\n",
    "\n",
    "X = df.x.to_numpy()\n",
    "X = np.transpose(np.array([X]))\n",
    "Y = df.y.to_numpy()\n",
    "Y = np.transpose(np.array([Y]))\n",
    "\n",
    "df1 = pd.read_csv(\"./data/regression/square-simple-test.csv\", index_col=0)\n",
    "\n",
    "X1 = df1.x.to_numpy()\n",
    "X1 = np.transpose(np.array([X1]))\n",
    "Y1 = df1.y.to_numpy()\n",
    "Y1 = np.transpose(np.array([Y1]))"
   ]
  },
  {
   "cell_type": "code",
   "execution_count": 4,
   "id": "42375cdc-ca08-4a6f-b165-3427ec8ef314",
   "metadata": {},
   "outputs": [],
   "source": [
    "np.random.seed(0)"
   ]
  },
  {
   "cell_type": "markdown",
   "id": "016ce69c-c8c8-4f44-ab6d-2eeb3078bf18",
   "metadata": {},
   "source": [
    "Na wykresach przedstawiona jest wartość normy Frobeniusa wag i biasów dla każdej z warstw w kolejnych epokach"
   ]
  },
  {
   "cell_type": "code",
   "execution_count": 5,
   "id": "88778d44-3d8e-459d-93c5-e00e900e014f",
   "metadata": {},
   "outputs": [
    {
     "name": "stdout",
     "output_type": "stream",
     "text": [
      "Training result:\n",
      "    mse train: 4.195996669743907\n",
      "    mse eval: 7.483200282629786\n"
     ]
    },
    {
     "data": {
      "image/png": "[encoded data removed]",
      "text/plain": [
       "<Figure size 432x288 with 1 Axes>"
      ]
     },
     "metadata": {
      "needs_background": "light"
     },
     "output_type": "display_data"
    },
    {
     "data": {
      "image/png": "[encoded data removed]",
      "text/plain": [
       "<Figure size 432x288 with 1 Axes>"
      ]
     },
     "metadata": {
      "needs_background": "light"
     },
     "output_type": "display_data"
    },
    {
     "data": {
      "image/png": "[encoded data removed]",
      "text/plain": [
       "<Figure size 432x288 with 1 Axes>"
      ]
     },
     "metadata": {
      "needs_background": "light"
     },
     "output_type": "display_data"
    },
    {
     "data": {
      "image/png": "[encoded data removed]",
      "text/plain": [
       "<Figure size 432x288 with 1 Axes>"
      ]
     },
     "metadata": {
      "needs_background": "light"
     },
     "output_type": "display_data"
    },
    {
     "data": {
      "image/png": "[encoded data removed]",
      "text/plain": [
       "<Figure size 432x288 with 1 Axes>"
      ]
     },
     "metadata": {
      "needs_background": "light"
     },
     "output_type": "display_data"
    },
    {
     "data": {
      "image/png": "[encoded data removed]",
      "text/plain": [
       "<Figure size 432x288 with 1 Axes>"
      ]
     },
     "metadata": {
      "needs_background": "light"
     },
     "output_type": "display_data"
    },
    {
     "data": {
      "image/png": "[encoded data removed]",
      "text/plain": [
       "<Figure size 432x288 with 1 Axes>"
      ]
     },
     "metadata": {
      "needs_background": "light"
     },
     "output_type": "display_data"
    }
   ],
   "source": [
    "n = Net(optimizer = SGD(learning_rate=0.0001))\n",
    "n.add_layer(DenseNetLayer(1, 5, SigmoidFunction(), RandomNormalInitializer()))\n",
    "n.add_layer(DenseNetLayer(5, 5, SigmoidFunction(), RandomNormalInitializer()))\n",
    "n.add_layer(DenseNetLayer(5, 1, LinearFunction(), RandomNormalInitializer()))\n",
    "n.train_and_visualize(X, Y, X1, Y1, n_epochs=1000, eval_frequency=1)"
   ]
  },
  {
   "cell_type": "code",
   "execution_count": null,
   "id": "9b745b49-f8b2-4efe-b1df-3f3b91f6cef5",
   "metadata": {},
   "outputs": [],
   "source": []
  },
  {
   "cell_type": "markdown",
   "id": "918b3de8-8308-46ed-9541-da855eea8207",
   "metadata": {},
   "source": [
    "### Zbiór square-simple - nieudany trening"
   ]
  },
  {
   "cell_type": "code",
   "execution_count": 1,
   "id": "60fef150-a0c4-4d74-880d-14c1d8d5e764",
   "metadata": {},
   "outputs": [],
   "source": [
    "import pandas as pd\n",
    "import numpy as np\n",
    "import matplotlib.pyplot as plt"
   ]
  },
  {
   "cell_type": "code",
   "execution_count": 2,
   "id": "d698e5b0-ebec-41ae-9d72-e609a2ca06b5",
   "metadata": {},
   "outputs": [],
   "source": [
    "from NeuralNetwork.NeuralNetwork import Net, mse\n",
    "from NeuralNetwork.Layers import DenseNetLayer\n",
    "from NeuralNetwork.ActivationFunctions import SigmoidFunction, LinearFunction\n",
    "from NeuralNetwork.Initializers import RandomNormalInitializer\n",
    "from NeuralNetwork.Optimizers import SGD"
   ]
  },
  {
   "cell_type": "code",
   "execution_count": 3,
   "id": "f544c31f-bdbd-4218-8957-1de0a68f32de",
   "metadata": {},
   "outputs": [],
   "source": [
    "df = pd.read_csv(\"./data/regression/square-simple-training.csv\", index_col=0)\n",
    "\n",
    "X = df.x.to_numpy()\n",
    "X = np.transpose(np.array([X]))\n",
    "Y = df.y.to_numpy()\n",
    "Y = np.transpose(np.array([Y]))\n",
    "\n",
    "df1 = pd.read_csv(\"./data/regression/square-simple-test.csv\", index_col=0)\n",
    "\n",
    "X1 = df1.x.to_numpy()\n",
    "X1 = np.transpose(np.array([X1]))\n",
    "Y1 = df1.y.to_numpy()\n",
    "Y1 = np.transpose(np.array([Y1]))"
   ]
  },
  {
   "cell_type": "code",
   "execution_count": 29,
   "id": "9a2c702a-964f-4ffa-87be-6747cb10a39e",
   "metadata": {},
   "outputs": [],
   "source": [
    "np.random.seed(0)"
   ]
  },
  {
   "cell_type": "code",
   "execution_count": 30,
   "id": "b3f59481-f4f7-4557-9713-178d67b379d2",
   "metadata": {},
   "outputs": [
    {
     "name": "stdout",
     "output_type": "stream",
     "text": [
      "Training result:\n",
      "    mse train: 9309.88573624652\n",
      "    mse eval: 7618.593128410928\n"
     ]
    },
    {
     "data": {
      "image/png": "[encoded data removed]",
      "text/plain": [
       "<Figure size 432x288 with 1 Axes>"
      ]
     },
     "metadata": {
      "needs_background": "light"
     },
     "output_type": "display_data"
    },
    {
     "data": {
      "image/png": "[encoded data removed]",
      "text/plain": [
       "<Figure size 432x288 with 1 Axes>"
      ]
     },
     "metadata": {
      "needs_background": "light"
     },
     "output_type": "display_data"
    },
    {
     "data": {
      "image/png": "[encoded data removed]",
      "text/plain": [
       "<Figure size 432x288 with 1 Axes>"
      ]
     },
     "metadata": {
      "needs_background": "light"
     },
     "output_type": "display_data"
    },
    {
     "data": {
      "image/png": "[encoded data removed]",
      "text/plain": [
       "<Figure size 432x288 with 1 Axes>"
      ]
     },
     "metadata": {
      "needs_background": "light"
     },
     "output_type": "display_data"
    },
    {
     "data": {
      "image/png": "[encoded data removed]",
      "text/plain": [
       "<Figure size 432x288 with 1 Axes>"
      ]
     },
     "metadata": {
      "needs_background": "light"
     },
     "output_type": "display_data"
    },
    {
     "data": {
      "image/png": "[encoded data removed]",
      "text/plain": [
       "<Figure size 432x288 with 1 Axes>"
      ]
     },
     "metadata": {
      "needs_background": "light"
     },
     "output_type": "display_data"
    },
    {
     "data": {
      "image/png": "[encoded data removed]",
      "text/plain": [
       "<Figure size 432x288 with 1 Axes>"
      ]
     },
     "metadata": {
      "needs_background": "light"
     },
     "output_type": "display_data"
    }
   ],
   "source": [
    "n = Net(optimizer = SGD(learning_rate=0.005))\n",
    "n.add_layer(DenseNetLayer(1, 5, SigmoidFunction(), RandomNormalInitializer()))\n",
    "n.add_layer(DenseNetLayer(5, 5, SigmoidFunction(), RandomNormalInitializer()))\n",
    "n.add_layer(DenseNetLayer(5, 1, LinearFunction(), RandomNormalInitializer()))\n",
    "n.train_and_visualize(X, Y, X1, Y1, n_epochs=1000, eval_frequency=1)"
   ]
  },
  {
   "cell_type": "markdown",
   "id": "c732c902-5ef5-455a-9ad2-15d5807dec6d",
   "metadata": {},
   "source": [
    "Najprawdopodobniej przyczyną niepowodzenia treningu jest zbyt duża wartość learning rate\n",
    "\n",
    "Wykresy norm wag i biasów są mocno \"poszarpane\", co oznacza, że następowały znaczne i gwałtowne zmiany w ich wartościach\n",
    "\n",
    "W rezultacie, algorytm mógł \"zgubić\" optymalne wagi za sobą wykonując zbyt duże skoki\n",
    "\n",
    "Dodatkowo, w pewnym momencie wagi praktycznie przestają się zmieniać (oprócz biasu warstwy drugiej) i w efekcie mse również się nie zmienia"
   ]
  },
  {
   "cell_type": "code",
   "execution_count": null,
   "id": "b6526a38-66a8-4e48-bfe3-7eb959f3ccc7",
   "metadata": {},
   "outputs": [],
   "source": []
  },
  {
   "cell_type": "markdown",
   "id": "3e9d80a4",
   "metadata": {
    "cell_id": "cb858769-b9b7-479d-914e-a2a167f5de73",
    "deepnote_cell_height": 62,
    "deepnote_cell_type": "markdown",
    "tags": []
   },
   "source": [
    "### Trenowanie z batchami - zbiór square-simple"
   ]
  },
  {
   "cell_type": "code",
   "execution_count": 3,
   "id": "a63752c5",
   "metadata": {
    "cell_id": "7dff8272-e8ca-4d4a-b245-4ddb6987a7c8",
    "deepnote_cell_height": 117,
    "deepnote_cell_type": "code",
    "deepnote_to_be_reexecuted": false,
    "execution_millis": 2380,
    "execution_start": 1647109514800,
    "source_hash": "8ca6a091",
    "tags": []
   },
   "outputs": [],
   "source": [
    "import pandas as pd\n",
    "import numpy as np\n",
    "import matplotlib.pyplot as plt"
   ]
  },
  {
   "cell_type": "code",
   "execution_count": 4,
   "id": "992f715f",
   "metadata": {
    "cell_id": "31919184-fb40-4292-b6c4-c9a3814cfa92",
    "deepnote_cell_height": 153,
    "deepnote_cell_type": "code",
    "deepnote_to_be_reexecuted": false,
    "execution_millis": 50,
    "execution_start": 1647109526270,
    "source_hash": "b55bc41a",
    "tags": []
   },
   "outputs": [],
   "source": [
    "from NeuralNetwork.NeuralNetwork import Net, mse\n",
    "from NeuralNetwork.Layers import DenseNetLayer\n",
    "from NeuralNetwork.ActivationFunctions import SigmoidFunction, LinearFunction\n",
    "from NeuralNetwork.Initializers import RandomNormalInitializer\n",
    "from NeuralNetwork.Optimizers import SGD"
   ]
  },
  {
   "cell_type": "code",
   "execution_count": 5,
   "id": "df7cafbb",
   "metadata": {
    "cell_id": "74864bb0-df33-470d-92fc-dffbaac3f62c",
    "deepnote_cell_height": 81,
    "deepnote_cell_type": "code",
    "deepnote_to_be_reexecuted": false,
    "execution_millis": 1,
    "execution_start": 1647109547568,
    "source_hash": "a341b767",
    "tags": []
   },
   "outputs": [],
   "source": [
    "from NeuralNetwork.Optimizers import GradientDescentBatch"
   ]
  },
  {
   "cell_type": "code",
   "execution_count": 6,
   "id": "59a00d0e",
   "metadata": {
    "cell_id": "a5955d32-07d8-45c9-ade0-07f32a81790d",
    "deepnote_cell_height": 297,
    "deepnote_cell_type": "code",
    "deepnote_to_be_reexecuted": false,
    "execution_millis": 1,
    "execution_start": 1647109666324,
    "source_hash": "9b9611a5",
    "tags": []
   },
   "outputs": [],
   "source": [
    "df = pd.read_csv(\"./data/regression/square-simple-training.csv\", index_col=0)\n",
    "\n",
    "X = df.x.to_numpy()\n",
    "X = np.transpose(np.array([X]))\n",
    "Y = df.y.to_numpy()\n",
    "Y = np.transpose(np.array([Y]))\n",
    "\n",
    "df1 = pd.read_csv(\"./data/regression/square-simple-test.csv\", index_col=0)\n",
    "\n",
    "X1 = df1.x.to_numpy()\n",
    "X1 = np.transpose(np.array([X1]))\n",
    "Y1 = df1.y.to_numpy()\n",
    "Y1 = np.transpose(np.array([Y1]))"
   ]
  },
  {
   "cell_type": "code",
   "execution_count": 14,
   "id": "4ebf2744",
   "metadata": {
    "cell_id": "f9cdd55e-49d7-4042-be31-fa061067a2b2",
    "deepnote_cell_height": 189,
    "deepnote_cell_type": "code",
    "deepnote_to_be_reexecuted": false,
    "execution_millis": 13,
    "execution_start": 1647110240935,
    "source_hash": "189c5f53",
    "tags": []
   },
   "outputs": [],
   "source": [
    "def create_net(batch_size):\n",
    "    np.random.seed(0)\n",
    "    n = Net(optimizer = GradientDescentBatch(learning_rate=0.0001, batch_size=batch_size))\n",
    "    n.add_layer(DenseNetLayer(1, 5, SigmoidFunction(), RandomNormalInitializer()))\n",
    "    n.add_layer(DenseNetLayer(5, 5, SigmoidFunction(), RandomNormalInitializer()))\n",
    "    n.add_layer(DenseNetLayer(5, 1, LinearFunction(), RandomNormalInitializer()))\n",
    "    return n"
   ]
  },
  {
   "cell_type": "code",
   "execution_count": 17,
   "id": "dfb75aa5",
   "metadata": {
    "cell_id": "dbf73d57-2a05-4778-b2b0-3529396843e4",
    "deepnote_cell_height": 279,
    "deepnote_cell_type": "code",
    "deepnote_to_be_reexecuted": false,
    "execution_millis": 1,
    "execution_start": 1647110466276,
    "source_hash": "b374b543",
    "tags": []
   },
   "outputs": [],
   "source": [
    "def train_until_mse_threshold(net, thresh):\n",
    "    k = 0\n",
    "    while k < 5000:\n",
    "        net.optimizer.step(X, Y,\n",
    "                            [layer.weights for layer in net.layers],\n",
    "                            [layer.biases for layer in net.layers],\n",
    "                            net.backward_step)\n",
    "        mse_test = mse(Y1, net.forward(X1))\n",
    "        if mse_test <= thresh:\n",
    "            return k\n",
    "        else:\n",
    "            k += 1"
   ]
  },
  {
   "cell_type": "code",
   "execution_count": 23,
   "id": "095ff587",
   "metadata": {
    "cell_id": "ffa22b28-a99e-4ead-8e21-91a72561d778",
    "deepnote_cell_height": 171,
    "deepnote_cell_type": "code",
    "deepnote_to_be_reexecuted": false,
    "execution_millis": 1184380,
    "execution_start": 1647111138040,
    "source_hash": "36b10d2a",
    "tags": []
   },
   "outputs": [],
   "source": [
    "mse_thresh = 50\n",
    "batch_sizes = [1, 2, 4, 8, 12, 16, 20, 24, 28, 32, 36, 40, 44, 48, 50]\n",
    "number_of_epochs = [\n",
    "    train_until_mse_threshold(\n",
    "        create_net(size), mse_thresh) for size in batch_sizes\n",
    "]"
   ]
  },
  {
   "cell_type": "code",
   "execution_count": 25,
   "id": "a4e0b93f",
   "metadata": {
    "cell_id": "c82f0fe0-f6da-4c0a-acee-886b93d29061",
    "deepnote_cell_height": 449,
    "deepnote_cell_type": "code",
    "deepnote_output_heights": [
     280
    ],
    "deepnote_to_be_reexecuted": false,
    "execution_millis": 261,
    "execution_start": 1647112403447,
    "source_hash": "25cd5c9e",
    "tags": []
   },
   "outputs": [
    {
     "data": {
      "image/png": "[encoded data removed]",
      "text/plain": [
       "<Figure size 432x288 with 1 Axes>"
      ]
     },
     "metadata": {
      "image/png": {
       "height": 278,
       "width": 401
      },
      "needs_background": "light"
     },
     "output_type": "display_data"
    }
   ],
   "source": [
    "plt.scatter(batch_sizes, number_of_epochs)\n",
    "plt.title(f\"Number of train epochs vs batch size to achive mse < {mse_thresh}\")\n",
    "plt.xlabel(\"Batch size\")\n",
    "plt.ylabel(\"Number of epochs\")\n",
    "plt.show()"
   ]
  },
  {
   "cell_type": "markdown",
   "id": "5df8b8b2-67be-47a0-b353-7851983edbd7",
   "metadata": {
    "cell_id": "59ad0623-5aca-4ebe-8701-dbff2b803804",
    "deepnote_cell_height": 66,
    "deepnote_cell_type": "code",
    "deepnote_to_be_reexecuted": false,
    "execution_millis": 0,
    "execution_start": 1647112484748,
    "source_hash": "88388890",
    "tags": []
   },
   "source": [
    "Jak widać na wykresie powyżej, sieć uczyła się szybciej dla batchy o mniejszym rozmiarze.\n",
    "\n",
    "Zauważmy, że rozmiar zbioru treningowego to 50, a zatem dla batcha rozmiaru 50 aktualizaujemy wagi po prezentacji całego zbioru treningowego.\n",
    "\n",
    "Została również zaimplementowana metoda, która aktualizauje wagi po prezentacji całego zbioru (bez wskazywania rozmiaru batchy). Jest to optimizer o nazwie `GradientDescent` w pliku `NeuralNetwork/Optimizers.py` (do treningu z batchami używany jest optimizer `GradientDescentBatch`, natomiast optimizer `SGD` aktualizuje wagi po każdym wierszu danych)."
   ]
  },
  {
   "cell_type": "code",
   "execution_count": null,
   "id": "3756c611",
   "metadata": {
    "cell_id": "eaad4f17-1f3a-4f91-bc73-51e0655eb056",
    "deepnote_cell_height": 66,
    "deepnote_cell_type": "code",
    "tags": []
   },
   "outputs": [],
   "source": []
  },
  {
   "cell_type": "markdown",
   "id": "2cf319aa-a75d-46cd-a2bd-13e59a4f74ca",
   "metadata": {},
   "source": [
    "### Metoda Xavier inicjowania wag - zbiór square-simple"
   ]
  },
  {
   "cell_type": "code",
   "execution_count": 1,
   "id": "eb11e1a2-7946-4335-9708-881f6e7e46c7",
   "metadata": {},
   "outputs": [],
   "source": [
    "import pandas as pd\n",
    "import numpy as np\n",
    "import matplotlib.pyplot as plt"
   ]
  },
  {
   "cell_type": "code",
   "execution_count": 2,
   "id": "0c941fcc-cd0d-4cf3-96d1-367c40f2471b",
   "metadata": {},
   "outputs": [],
   "source": [
    "from NeuralNetwork.NeuralNetwork import Net, mse\n",
    "from NeuralNetwork.Layers import DenseNetLayer\n",
    "from NeuralNetwork.ActivationFunctions import SigmoidFunction, LinearFunction\n",
    "from NeuralNetwork.Initializers import XavierInitializer\n",
    "from NeuralNetwork.Optimizers import SGD"
   ]
  },
  {
   "cell_type": "code",
   "execution_count": 3,
   "id": "e7f9cabb-bcdd-4f0c-9c52-f0b80a235515",
   "metadata": {},
   "outputs": [],
   "source": [
    "from NeuralNetwork.Initializers import XavierInitializer"
   ]
  },
  {
   "cell_type": "code",
   "execution_count": 4,
   "id": "fb0dc70b-62f2-488b-843d-28b30a4f4168",
   "metadata": {},
   "outputs": [],
   "source": [
    "df = pd.read_csv(\"./data/regression/square-simple-training.csv\", index_col=0)\n",
    "\n",
    "X = df.x.to_numpy()\n",
    "X = np.transpose(np.array([X]))\n",
    "Y = df.y.to_numpy()\n",
    "Y = np.transpose(np.array([Y]))\n",
    "\n",
    "df1 = pd.read_csv(\"./data/regression/square-simple-test.csv\", index_col=0)\n",
    "\n",
    "X1 = df1.x.to_numpy()\n",
    "X1 = np.transpose(np.array([X1]))\n",
    "Y1 = df1.y.to_numpy()\n",
    "Y1 = np.transpose(np.array([Y1]))"
   ]
  },
  {
   "cell_type": "code",
   "execution_count": 5,
   "id": "0c16397a-119a-4014-923e-bbb41eeb354c",
   "metadata": {},
   "outputs": [],
   "source": [
    "np.random.seed(0)"
   ]
  },
  {
   "cell_type": "code",
   "execution_count": 6,
   "id": "8b411c27-1d5c-4871-b83c-dbb4de7c0c67",
   "metadata": {},
   "outputs": [
    {
     "name": "stdout",
     "output_type": "stream",
     "text": [
      "Epoch: 0, mse train: 10033.937334234655, mse eval: 8603.76926738219\n",
      "Epoch: 100, mse train: 3737.8967171042223, mse eval: 2690.159089404986\n",
      "Epoch: 200, mse train: 2408.447255060134, mse eval: 1847.71731780186\n",
      "Epoch: 300, mse train: 208.4313535029018, mse eval: 116.73212303534815\n",
      "Epoch: 400, mse train: 78.31901736839198, mse eval: 52.284877758207266\n",
      "Epoch: 500, mse train: 37.03138222169463, mse eval: 31.131757437472114\n",
      "Epoch: 600, mse train: 19.86754216653673, mse eval: 20.784648705094774\n",
      "Epoch: 700, mse train: 11.772575546160983, mse eval: 15.23792077480138\n",
      "Epoch: 800, mse train: 7.508095578481467, mse eval: 12.164018591096967\n",
      "Epoch: 900, mse train: 4.974036858959858, mse eval: 10.193827887376637\n",
      "Training result:\n",
      "    mse train: 3.5426726111448357\n",
      "    mse eval: 8.838681372230244\n"
     ]
    }
   ],
   "source": [
    "n = Net(optimizer = SGD(learning_rate=0.0001))\n",
    "n.add_layer(DenseNetLayer(1, 5, SigmoidFunction(), XavierInitializer(1, 5)))\n",
    "n.add_layer(DenseNetLayer(5, 5, SigmoidFunction(), XavierInitializer(5, 5)))\n",
    "n.add_layer(DenseNetLayer(5, 1, LinearFunction(), XavierInitializer(5, 1)))\n",
    "n.train(X, Y, X1, Y1, n_epochs=1000, eval_frequency=100)"
   ]
  },
  {
   "cell_type": "code",
   "execution_count": null,
   "id": "b46f19bb-9a7b-45f5-82a2-a9eea9dfaf9d",
   "metadata": {},
   "outputs": [],
   "source": []
  }
 ],
 "metadata": {
  "deepnote": {
   "is_reactive": false
  },
  "deepnote_execution_queue": [],
  "deepnote_notebook_id": "09c396de-4d73-48da-9caa-bd767914bb60",
  "kernelspec": {
   "display_name": "Python 3 (ipykernel)",
   "language": "python",
   "name": "python3"
  },
  "language_info": {
   "codemirror_mode": {
    "name": "ipython",
    "version": 3
   },
   "file_extension": ".py",
   "mimetype": "text/x-python",
   "name": "python",
   "nbconvert_exporter": "python",
   "pygments_lexer": "ipython3",
   "version": "3.7.11"
  }
 },
 "nbformat": 4,
 "nbformat_minor": 5
}
