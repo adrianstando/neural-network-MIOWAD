{
 "cells": [
  {
   "cell_type": "markdown",
   "id": "eead1736-2411-4dbc-8b4f-eafb06590a06",
   "metadata": {},
   "source": [
    "## Zbiór steps-small"
   ]
  },
  {
   "cell_type": "code",
   "execution_count": 1,
   "id": "ff765297-a46a-4d20-b779-eac18895d7d4",
   "metadata": {},
   "outputs": [],
   "source": [
    "import pandas as pd\n",
    "import numpy as np\n",
    "import matplotlib.pyplot as plt"
   ]
  },
  {
   "cell_type": "code",
   "execution_count": 2,
   "id": "79522efc-eea8-4a69-93bc-bfc2dfb44770",
   "metadata": {},
   "outputs": [],
   "source": [
    "from NeuralNetwork.NeuralNetwork import Net, mse\n",
    "from NeuralNetwork.Layers import DenseNetLayer\n",
    "from NeuralNetwork.ActivationFunctions import SigmoidFunction, LinearFunction\n",
    "from NeuralNetwork.Initializers import RandomNormalInitializer\n",
    "from NeuralNetwork.Optimizers import SGD"
   ]
  },
  {
   "cell_type": "code",
   "execution_count": 3,
   "id": "0f46b3a0-86a4-4505-98b5-c78de04d2da4",
   "metadata": {},
   "outputs": [],
   "source": [
    "df = pd.read_csv(\"./data/regression/steps-small-training.csv\", index_col=0)\n",
    "X = df.x.to_numpy()\n",
    "X = np.transpose(np.array([X]))\n",
    "Y = df.y.to_numpy()\n",
    "Y = np.transpose(np.array([Y]))\n",
    "\n",
    "df1 = pd.read_csv(\"./data/regression/steps-small-test.csv\", index_col=0)\n",
    "X1 = df1.x.to_numpy()\n",
    "X1 = np.transpose(np.array([X1]))\n",
    "Y1 = df1.y.to_numpy()\n",
    "Y1 = np.transpose(np.array([Y1]))"
   ]
  },
  {
   "cell_type": "code",
   "execution_count": 4,
   "id": "9525f92a-d73a-441d-8150-e50a24c65de3",
   "metadata": {},
   "outputs": [
    {
     "name": "stdout",
     "output_type": "stream",
     "text": [
      "Epoch: 0, mse train: 6515.533602995065, mse eval: 8053.125672712368\n",
      "Epoch: 100, mse train: 1538.7604098342313, mse eval: 1914.647777381985\n",
      "Epoch: 200, mse train: 606.8779985155907, mse eval: 644.5641712357464\n",
      "Epoch: 300, mse train: 421.6435268467643, mse eval: 368.978739812147\n",
      "Epoch: 400, mse train: 316.8858852501856, mse eval: 235.1017368749482\n",
      "Epoch: 500, mse train: 272.4642825853228, mse eval: 184.07125167899733\n",
      "Epoch: 600, mse train: 243.8071273798516, mse eval: 155.78377842667823\n",
      "Epoch: 700, mse train: 219.414146527321, mse eval: 134.68656780821158\n",
      "Epoch: 800, mse train: 197.4366567348755, mse eval: 117.81544648373462\n",
      "Epoch: 900, mse train: 177.7105053415648, mse eval: 105.25980502911898\n",
      "Epoch: 1000, mse train: 160.20991334387762, mse eval: 96.9390610880054\n",
      "Epoch: 1100, mse train: 144.78193516148676, mse eval: 90.87219537127214\n",
      "Epoch: 1200, mse train: 131.2041166187351, mse eval: 84.55637202355092\n",
      "Epoch: 1300, mse train: 119.26793027939674, mse eval: 77.3052740630756\n",
      "Epoch: 1400, mse train: 108.79175844179152, mse eval: 69.78495882454973\n",
      "Epoch: 1500, mse train: 99.58850601242463, mse eval: 62.710114299967444\n",
      "Epoch: 1600, mse train: 91.4623070539993, mse eval: 56.40704709614174\n",
      "Epoch: 1700, mse train: 84.22914087563814, mse eval: 50.91409290944764\n",
      "Epoch: 1800, mse train: 77.72981041039829, mse eval: 46.14685750972239\n",
      "Epoch: 1900, mse train: 71.8318987942819, mse eval: 41.99330771445022\n",
      "Epoch: 2000, mse train: 66.42677679559417, mse eval: 38.35093857271908\n",
      "Epoch: 2100, mse train: 61.42543601664682, mse eval: 35.13597987908241\n",
      "Epoch: 2200, mse train: 56.75468488548585, mse eval: 32.28245728407083\n",
      "Epoch: 2300, mse train: 52.354446398446726, mse eval: 29.738703937643503\n",
      "Epoch: 2400, mse train: 48.176788416265985, mse eval: 27.463894837393372\n",
      "Epoch: 2500, mse train: 44.187415605580284, mse eval: 25.425177424748764\n",
      "Epoch: 2600, mse train: 40.37011392042799, mse eval: 23.595252587538848\n",
      "Epoch: 2700, mse train: 36.73287697691224, mse eval: 21.95005884562878\n",
      "Epoch: 2800, mse train: 33.31009469150095, mse eval: 20.466475849677046\n",
      "Epoch: 2900, mse train: 30.15200100474342, mse eval: 19.12080144392991\n",
      "Epoch: 3000, mse train: 27.300943458690764, mse eval: 17.88923813692307\n",
      "Epoch: 3100, mse train: 24.77079225071038, mse eval: 16.750176482850733\n",
      "Epoch: 3200, mse train: 22.544772526576228, mse eval: 15.686175184041678\n",
      "Epoch: 3300, mse train: 20.587400532578805, mse eval: 14.684230358874858\n",
      "Epoch: 3400, mse train: 18.85760709295329, mse eval: 13.734829254530068\n",
      "Epoch: 3500, mse train: 17.31672490043157, mse eval: 12.830813148930726\n",
      "Epoch: 3600, mse train: 15.931705172807849, mse eval: 11.966574482438002\n",
      "Epoch: 3700, mse train: 14.675699348591488, mse eval: 11.137669048857292\n",
      "Epoch: 3800, mse train: 13.527592310608096, mse eval: 10.340775292139288\n",
      "Epoch: 3900, mse train: 12.471293126684461, mse eval: 9.573930556710929\n",
      "Epoch: 4000, mse train: 11.495101104735097, mse eval: 8.836990378836397\n",
      "Epoch: 4100, mse train: 10.591213545521994, mse eval: 8.132224626218047\n",
      "Epoch: 4200, mse train: 9.755306017913481, mse eval: 7.464842537957486\n",
      "Epoch: 4300, mse train: 8.986030502222228, mse eval: 6.843028289876068\n",
      "Epoch: 4400, mse train: 8.284239863963013, mse eval: 6.276905388393521\n",
      "Epoch: 4500, mse train: 7.651802534763498, mse eval: 5.776083380905892\n",
      "Epoch: 4600, mse train: 7.0900594809811075, mse eval: 5.3463752654462295\n",
      "Epoch: 4700, mse train: 6.598272010330622, mse eval: 4.987385925197211\n",
      "Epoch: 4800, mse train: 6.172658537402329, mse eval: 4.6925425698247265\n",
      "Epoch: 4900, mse train: 5.806516867616117, mse eval: 4.451407098700518\n",
      "Training result:\n",
      "    mse train: 5.494279415873681\n",
      "    mse eval: 4.254427647944733\n"
     ]
    }
   ],
   "source": [
    "n = Net(optimizer = SGD(learning_rate=0.0001))\n",
    "n.add_layer(DenseNetLayer(1, 5, SigmoidFunction(), RandomNormalInitializer()))\n",
    "n.add_layer(DenseNetLayer(5, 5, SigmoidFunction(), RandomNormalInitializer()))\n",
    "n.add_layer(DenseNetLayer(5, 1, LinearFunction(), RandomNormalInitializer()))\n",
    "n.train(X, Y, X1, Y1, 5000, 100)"
   ]
  },
  {
   "cell_type": "code",
   "execution_count": 5,
   "id": "fcde96c6-26a9-4fbd-a425-de743f5f52ab",
   "metadata": {},
   "outputs": [
    {
     "name": "stdout",
     "output_type": "stream",
     "text": [
      "Epoch: 0, mse train: 5.491350728601356, mse eval: 4.252614255863252\n",
      "Epoch: 100, mse train: 5.218338270173448, mse eval: 4.0859710568387655\n",
      "Training result:\n",
      "    mse train: 4.981705201326585\n",
      "    mse eval: 3.944671395479531\n"
     ]
    }
   ],
   "source": [
    "n.train(X, Y, X1, Y1, 200, 100)"
   ]
  },
  {
   "cell_type": "code",
   "execution_count": 7,
   "id": "1658059d-d287-48a8-9fff-7de2d4fe927c",
   "metadata": {},
   "outputs": [
    {
     "data": {
      "image/png": "[encoded data removed]",
      "text/plain": [
       "<Figure size 432x288 with 1 Axes>"
      ]
     },
     "metadata": {
      "needs_background": "light"
     },
     "output_type": "display_data"
    }
   ],
   "source": [
    "plt.scatter(X, n.forward(X))\n",
    "plt.scatter(X, Y, color='red')\n",
    "plt.show()"
   ]
  },
  {
   "cell_type": "markdown",
   "id": "80b512c5-45a9-4671-9652-628615de7ffc",
   "metadata": {},
   "source": [
    "### Wizualizacja zbioru testowego i predykcji na zbiorze testowym"
   ]
  },
  {
   "cell_type": "code",
   "execution_count": 8,
   "id": "ad8d662d-4f9e-44f8-ae1e-3f6beb3ece88",
   "metadata": {},
   "outputs": [
    {
     "data": {
      "image/png": "[encoded data removed]",
      "text/plain": [
       "<Figure size 432x288 with 1 Axes>"
      ]
     },
     "metadata": {
      "needs_background": "light"
     },
     "output_type": "display_data"
    }
   ],
   "source": [
    "plt.scatter(X1, n.forward(X1))\n",
    "plt.scatter(X1, Y1, color='red')\n",
    "plt.show()"
   ]
  },
  {
   "cell_type": "code",
   "execution_count": 9,
   "id": "a05ebffc-8cd2-4e37-ab88-5838efd73953",
   "metadata": {},
   "outputs": [
    {
     "name": "stdout",
     "output_type": "stream",
     "text": [
      "MSE na zbiorze testowym wynosi: 3.944671395479531\n"
     ]
    }
   ],
   "source": [
    "print(f\"MSE na zbiorze testowym wynosi: {mse(Y1, n.forward(X1))}\")"
   ]
  },
  {
   "cell_type": "code",
   "execution_count": null,
   "id": "944a9b3f-6cb6-476d-a3d8-7c274f854bb8",
   "metadata": {},
   "outputs": [],
   "source": []
  }
 ],
 "metadata": {
  "kernelspec": {
   "display_name": "Python 3 (ipykernel)",
   "language": "python",
   "name": "python3"
  },
  "language_info": {
   "codemirror_mode": {
    "name": "ipython",
    "version": 3
   },
   "file_extension": ".py",
   "mimetype": "text/x-python",
   "name": "python",
   "nbconvert_exporter": "python",
   "pygments_lexer": "ipython3",
   "version": "3.7.11"
  }
 },
 "nbformat": 4,
 "nbformat_minor": 5
}
